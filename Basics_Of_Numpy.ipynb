{
  "nbformat": 4,
  "nbformat_minor": 0,
  "metadata": {
    "colab": {
      "name": "Basics_Of_Numpy.ipynb",
      "provenance": [],
      "authorship_tag": "ABX9TyMpmMjHKrJla+t02x6+5Tvy",
      "include_colab_link": true
    },
    "kernelspec": {
      "name": "python3",
      "display_name": "Python 3"
    }
  },
  "cells": [
    {
      "cell_type": "markdown",
      "metadata": {
        "id": "view-in-github",
        "colab_type": "text"
      },
      "source": [
        "<a href=\"https://colab.research.google.com/github/ShrayankM/FoundationsOFDataScience/blob/master/Basics_Of_Numpy.ipynb\" target=\"_parent\"><img src=\"https://colab.research.google.com/assets/colab-badge.svg\" alt=\"Open In Colab\"/></a>"
      ]
    },
    {
      "cell_type": "markdown",
      "metadata": {
        "id": "AK54gXz5BvbX",
        "colab_type": "text"
      },
      "source": [
        "#Checking Performance of Lists"
      ]
    },
    {
      "cell_type": "code",
      "metadata": {
        "id": "JgJvIq_SAig2",
        "colab_type": "code",
        "colab": {}
      },
      "source": [
        "N = 100000000"
      ],
      "execution_count": 0,
      "outputs": []
    },
    {
      "cell_type": "code",
      "metadata": {
        "id": "3QG6lzD5B0el",
        "colab_type": "code",
        "outputId": "0a000668-94bb-4510-a345-a4cfbfb526d5",
        "colab": {
          "base_uri": "https://localhost:8080/",
          "height": 54
        }
      },
      "source": [
        "%%time\n",
        "list_ = list(range(N))\n",
        "for i in range(N):\n",
        "    list_[i] = list_[i] * list_[i]"
      ],
      "execution_count": 2,
      "outputs": [
        {
          "output_type": "stream",
          "text": [
            "CPU times: user 19.2 s, sys: 2.47 s, total: 21.7 s\n",
            "Wall time: 21.7 s\n"
          ],
          "name": "stdout"
        }
      ]
    },
    {
      "cell_type": "code",
      "metadata": {
        "id": "lFsFNRCdB-m0",
        "colab_type": "code",
        "outputId": "427814c5-170e-44aa-d69f-98b352564d1e",
        "colab": {
          "base_uri": "https://localhost:8080/",
          "height": 54
        }
      },
      "source": [
        "%%time\n",
        "list_ = list(range(N))\n",
        "list_ = [item * item for item in list_]"
      ],
      "execution_count": 3,
      "outputs": [
        {
          "output_type": "stream",
          "text": [
            "CPU times: user 9.2 s, sys: 5.67 s, total: 14.9 s\n",
            "Wall time: 14.9 s\n"
          ],
          "name": "stdout"
        }
      ]
    },
    {
      "cell_type": "code",
      "metadata": {
        "id": "m518NI9lCG7x",
        "colab_type": "code",
        "outputId": "7f21330b-e9ab-4c3d-d642-1b0d6b9cbd7e",
        "colab": {
          "base_uri": "https://localhost:8080/",
          "height": 54
        }
      },
      "source": [
        "%%time\n",
        "list_ = list(range(N))\n",
        "list_ = map(lambda x: x * x,list_)"
      ],
      "execution_count": 4,
      "outputs": [
        {
          "output_type": "stream",
          "text": [
            "CPU times: user 2.35 s, sys: 1.95 s, total: 4.3 s\n",
            "Wall time: 4.29 s\n"
          ],
          "name": "stdout"
        }
      ]
    },
    {
      "cell_type": "code",
      "metadata": {
        "id": "-CoCjmSqCYl8",
        "colab_type": "code",
        "outputId": "0cf1888d-08a2-4a80-c24d-62a6d325a12f",
        "colab": {
          "base_uri": "https://localhost:8080/",
          "height": 54
        }
      },
      "source": [
        "%%time\n",
        "list_ = list(range(N))\n",
        "list_sum = 0\n",
        "for i in range(N):\n",
        "    list_sum = list_sum + list_[i]"
      ],
      "execution_count": 5,
      "outputs": [
        {
          "output_type": "stream",
          "text": [
            "CPU times: user 15.7 s, sys: 1.53 s, total: 17.2 s\n",
            "Wall time: 17.3 s\n"
          ],
          "name": "stdout"
        }
      ]
    },
    {
      "cell_type": "code",
      "metadata": {
        "id": "ihK5pll6C1jZ",
        "colab_type": "code",
        "outputId": "14120862-9c83-4082-83a4-dc8d9b36c394",
        "colab": {
          "base_uri": "https://localhost:8080/",
          "height": 54
        }
      },
      "source": [
        "%%time\n",
        "list_ = list(range(N))\n",
        "list_sum = sum(list_)"
      ],
      "execution_count": 6,
      "outputs": [
        {
          "output_type": "stream",
          "text": [
            "CPU times: user 5.39 s, sys: 1.95 s, total: 7.34 s\n",
            "Wall time: 7.32 s\n"
          ],
          "name": "stdout"
        }
      ]
    },
    {
      "cell_type": "code",
      "metadata": {
        "id": "w9tToDDEC_JR",
        "colab_type": "code",
        "colab": {}
      },
      "source": [
        "import numpy as np"
      ],
      "execution_count": 0,
      "outputs": []
    },
    {
      "cell_type": "code",
      "metadata": {
        "id": "9UoysSZHDEV1",
        "colab_type": "code",
        "outputId": "b53b4bfd-dc81-41f8-e1fc-4c524d4abd08",
        "colab": {
          "base_uri": "https://localhost:8080/",
          "height": 54
        }
      },
      "source": [
        "%%time\n",
        "arr = np.arange(N)\n",
        "arr = arr * arr"
      ],
      "execution_count": 8,
      "outputs": [
        {
          "output_type": "stream",
          "text": [
            "CPU times: user 441 ms, sys: 7.86 ms, total: 449 ms\n",
            "Wall time: 452 ms\n"
          ],
          "name": "stdout"
        }
      ]
    },
    {
      "cell_type": "code",
      "metadata": {
        "id": "jXM6VLVREBHO",
        "colab_type": "code",
        "outputId": "666508ba-5b3b-4a23-dfd4-bfb735e28760",
        "colab": {
          "base_uri": "https://localhost:8080/",
          "height": 54
        }
      },
      "source": [
        "%%time\n",
        "arr = np.arange(N)\n",
        "arr_sum = np.sum(arr)"
      ],
      "execution_count": 9,
      "outputs": [
        {
          "output_type": "stream",
          "text": [
            "CPU times: user 317 ms, sys: 9.1 ms, total: 326 ms\n",
            "Wall time: 326 ms\n"
          ],
          "name": "stdout"
        }
      ]
    },
    {
      "cell_type": "markdown",
      "metadata": {
        "id": "fQdoLSG3Gw13",
        "colab_type": "text"
      },
      "source": [
        "#Creating Numpy Arrays"
      ]
    },
    {
      "cell_type": "code",
      "metadata": {
        "id": "0XmYO8MqGvkR",
        "colab_type": "code",
        "outputId": "86454cc2-0715-4215-f752-496534c2fdb4",
        "colab": {
          "base_uri": "https://localhost:8080/",
          "height": 35
        }
      },
      "source": [
        "arr = np.arange(5)\n",
        "print(arr,type(arr))"
      ],
      "execution_count": 10,
      "outputs": [
        {
          "output_type": "stream",
          "text": [
            "[0 1 2 3 4] <class 'numpy.ndarray'>\n"
          ],
          "name": "stdout"
        }
      ]
    },
    {
      "cell_type": "code",
      "metadata": {
        "id": "dxqqYrWvG-jb",
        "colab_type": "code",
        "colab": {}
      },
      "source": [
        "arr = np.array([0,2,4,6,8])"
      ],
      "execution_count": 0,
      "outputs": []
    },
    {
      "cell_type": "code",
      "metadata": {
        "id": "VRj1zQLmHWpC",
        "colab_type": "code",
        "outputId": "8eae9d71-3f71-4b54-b44f-11f2b45e808c",
        "colab": {
          "base_uri": "https://localhost:8080/",
          "height": 35
        }
      },
      "source": [
        "arr.dtype #tells the type of data items stored by arr"
      ],
      "execution_count": 12,
      "outputs": [
        {
          "output_type": "execute_result",
          "data": {
            "text/plain": [
              "dtype('int64')"
            ]
          },
          "metadata": {
            "tags": []
          },
          "execution_count": 12
        }
      ]
    },
    {
      "cell_type": "code",
      "metadata": {
        "id": "OLvlEA_vHxEm",
        "colab_type": "code",
        "outputId": "a6f1b452-2804-4c62-d961-3a094582efef",
        "colab": {
          "base_uri": "https://localhost:8080/",
          "height": 35
        }
      },
      "source": [
        "arr.ndim #show number of dimensions"
      ],
      "execution_count": 13,
      "outputs": [
        {
          "output_type": "execute_result",
          "data": {
            "text/plain": [
              "1"
            ]
          },
          "metadata": {
            "tags": []
          },
          "execution_count": 13
        }
      ]
    },
    {
      "cell_type": "code",
      "metadata": {
        "id": "nEtf_rIyIFFg",
        "colab_type": "code",
        "outputId": "5a4f898f-4ef9-4dca-e111-5c49a473ec2d",
        "colab": {
          "base_uri": "https://localhost:8080/",
          "height": 35
        }
      },
      "source": [
        "arr.shape"
      ],
      "execution_count": 14,
      "outputs": [
        {
          "output_type": "execute_result",
          "data": {
            "text/plain": [
              "(5,)"
            ]
          },
          "metadata": {
            "tags": []
          },
          "execution_count": 14
        }
      ]
    },
    {
      "cell_type": "code",
      "metadata": {
        "id": "_HWBB3TgIIy_",
        "colab_type": "code",
        "outputId": "db203ab4-2206-4030-aa66-e698c064b25c",
        "colab": {
          "base_uri": "https://localhost:8080/",
          "height": 35
        }
      },
      "source": [
        "arr.size #total no of elements in array"
      ],
      "execution_count": 15,
      "outputs": [
        {
          "output_type": "execute_result",
          "data": {
            "text/plain": [
              "5"
            ]
          },
          "metadata": {
            "tags": []
          },
          "execution_count": 15
        }
      ]
    },
    {
      "cell_type": "code",
      "metadata": {
        "id": "nZq3cI7_IWdC",
        "colab_type": "code",
        "outputId": "2d6337ff-3ecb-4ace-8bfa-04d9dfd5665a",
        "colab": {
          "base_uri": "https://localhost:8080/",
          "height": 35
        }
      },
      "source": [
        "arr.itemsize #no. of bytes required to store one data item in array(8-Bytes for integer)"
      ],
      "execution_count": 16,
      "outputs": [
        {
          "output_type": "execute_result",
          "data": {
            "text/plain": [
              "8"
            ]
          },
          "metadata": {
            "tags": []
          },
          "execution_count": 16
        }
      ]
    },
    {
      "cell_type": "code",
      "metadata": {
        "id": "f2nOEK95IaJs",
        "colab_type": "code",
        "colab": {}
      },
      "source": [
        "arr = np.array([0.0,2,4,6,8])"
      ],
      "execution_count": 0,
      "outputs": []
    },
    {
      "cell_type": "code",
      "metadata": {
        "id": "GkVKM1vqIuRh",
        "colab_type": "code",
        "outputId": "53ffe164-a28e-47e4-aaef-770133b2fb98",
        "colab": {
          "base_uri": "https://localhost:8080/",
          "height": 35
        }
      },
      "source": [
        "arr.dtype"
      ],
      "execution_count": 18,
      "outputs": [
        {
          "output_type": "execute_result",
          "data": {
            "text/plain": [
              "dtype('float64')"
            ]
          },
          "metadata": {
            "tags": []
          },
          "execution_count": 18
        }
      ]
    },
    {
      "cell_type": "code",
      "metadata": {
        "id": "gYv-l5w3Ivju",
        "colab_type": "code",
        "colab": {}
      },
      "source": [
        "arr2d = np.array([\n",
        "                  [1,2,3],\n",
        "                  [4,5,6],\n",
        "])"
      ],
      "execution_count": 0,
      "outputs": []
    },
    {
      "cell_type": "code",
      "metadata": {
        "id": "TdFUJBt-JGeA",
        "colab_type": "code",
        "outputId": "5b3e60a3-55ba-4975-9315-86f55b800525",
        "colab": {
          "base_uri": "https://localhost:8080/",
          "height": 35
        }
      },
      "source": [
        "arr2d.shape #newly added dimension comes first"
      ],
      "execution_count": 20,
      "outputs": [
        {
          "output_type": "execute_result",
          "data": {
            "text/plain": [
              "(2, 3)"
            ]
          },
          "metadata": {
            "tags": []
          },
          "execution_count": 20
        }
      ]
    },
    {
      "cell_type": "code",
      "metadata": {
        "id": "0mJtWCcHJLIM",
        "colab_type": "code",
        "colab": {}
      },
      "source": [
        "arr3d = np.array([\n",
        "                  [\n",
        "                   [1,2,3],\n",
        "                   [4,5,6],\n",
        "                   [7,8,9]\n",
        "                  ],\n",
        "                  [\n",
        "                   [10,11,12],\n",
        "                   [13,14,15],\n",
        "                   [16,17,18]\n",
        "                  ],\n",
        "])"
      ],
      "execution_count": 0,
      "outputs": []
    },
    {
      "cell_type": "code",
      "metadata": {
        "id": "BeFwBHS7Ju9O",
        "colab_type": "code",
        "outputId": "e3edebf0-72af-41f7-880e-5444a67637e7",
        "colab": {
          "base_uri": "https://localhost:8080/",
          "height": 35
        }
      },
      "source": [
        "arr3d.ndim"
      ],
      "execution_count": 22,
      "outputs": [
        {
          "output_type": "execute_result",
          "data": {
            "text/plain": [
              "3"
            ]
          },
          "metadata": {
            "tags": []
          },
          "execution_count": 22
        }
      ]
    },
    {
      "cell_type": "code",
      "metadata": {
        "id": "J5tbtBKXJwns",
        "colab_type": "code",
        "outputId": "1d25610d-b845-4ecd-9b0c-059a4d5ee169",
        "colab": {
          "base_uri": "https://localhost:8080/",
          "height": 35
        }
      },
      "source": [
        "arr3d.shape"
      ],
      "execution_count": 23,
      "outputs": [
        {
          "output_type": "execute_result",
          "data": {
            "text/plain": [
              "(2, 3, 3)"
            ]
          },
          "metadata": {
            "tags": []
          },
          "execution_count": 23
        }
      ]
    },
    {
      "cell_type": "code",
      "metadata": {
        "id": "Qsa7fWzYKLDh",
        "colab_type": "code",
        "outputId": "8e7fbe9d-076a-4c1c-c382-34391c4bc859",
        "colab": {
          "base_uri": "https://localhost:8080/",
          "height": 72
        }
      },
      "source": [
        "np.ones((3,4)) #takes argument as shape of ndArray"
      ],
      "execution_count": 24,
      "outputs": [
        {
          "output_type": "execute_result",
          "data": {
            "text/plain": [
              "array([[1., 1., 1., 1.],\n",
              "       [1., 1., 1., 1.],\n",
              "       [1., 1., 1., 1.]])"
            ]
          },
          "metadata": {
            "tags": []
          },
          "execution_count": 24
        }
      ]
    },
    {
      "cell_type": "code",
      "metadata": {
        "id": "yHev8yqJKqE-",
        "colab_type": "code",
        "outputId": "ac0677a2-e3f0-4d3c-f42e-421705efe925",
        "colab": {
          "base_uri": "https://localhost:8080/",
          "height": 72
        }
      },
      "source": [
        "5 * np.ones((3,4))"
      ],
      "execution_count": 25,
      "outputs": [
        {
          "output_type": "execute_result",
          "data": {
            "text/plain": [
              "array([[5., 5., 5., 5.],\n",
              "       [5., 5., 5., 5.],\n",
              "       [5., 5., 5., 5.]])"
            ]
          },
          "metadata": {
            "tags": []
          },
          "execution_count": 25
        }
      ]
    },
    {
      "cell_type": "code",
      "metadata": {
        "id": "xAvvAVl5K_II",
        "colab_type": "code",
        "outputId": "2dfb6798-25dc-40c1-da52-36ea7765669d",
        "colab": {
          "base_uri": "https://localhost:8080/",
          "height": 145
        }
      },
      "source": [
        "np.zeros((2,3,4))"
      ],
      "execution_count": 26,
      "outputs": [
        {
          "output_type": "execute_result",
          "data": {
            "text/plain": [
              "array([[[0., 0., 0., 0.],\n",
              "        [0., 0., 0., 0.],\n",
              "        [0., 0., 0., 0.]],\n",
              "\n",
              "       [[0., 0., 0., 0.],\n",
              "        [0., 0., 0., 0.],\n",
              "        [0., 0., 0., 0.]]])"
            ]
          },
          "metadata": {
            "tags": []
          },
          "execution_count": 26
        }
      ]
    },
    {
      "cell_type": "code",
      "metadata": {
        "id": "qNobSWavLE4s",
        "colab_type": "code",
        "outputId": "36362bd1-e3ca-4afa-8a5d-97d4f9a904a5",
        "colab": {
          "base_uri": "https://localhost:8080/",
          "height": 54
        }
      },
      "source": [
        "np.random.randn(2,3) #distributes the number in a normal distribution with data having (mean 0) and (variance 1)"
      ],
      "execution_count": 27,
      "outputs": [
        {
          "output_type": "execute_result",
          "data": {
            "text/plain": [
              "array([[0.65000345, 1.07354119, 0.32595546],\n",
              "       [0.83079233, 0.76939418, 0.43627447]])"
            ]
          },
          "metadata": {
            "tags": []
          },
          "execution_count": 27
        }
      ]
    },
    {
      "cell_type": "code",
      "metadata": {
        "id": "Os0x0kCeL2E-",
        "colab_type": "code",
        "outputId": "d464f79c-19bb-4e96-e14a-ae4edbd091de",
        "colab": {
          "base_uri": "https://localhost:8080/",
          "height": 145
        }
      },
      "source": [
        "np.random.randn(2,3,3)"
      ],
      "execution_count": 28,
      "outputs": [
        {
          "output_type": "execute_result",
          "data": {
            "text/plain": [
              "array([[[-0.20626434,  2.3783404 , -0.78217718],\n",
              "        [ 0.45170659,  0.72052917,  0.96273599],\n",
              "        [-1.38561825,  1.2365634 , -0.02206643]],\n",
              "\n",
              "       [[-2.07432975,  0.46584219, -0.63790725],\n",
              "        [ 1.61813608, -1.01648763, -1.11075665],\n",
              "        [-0.79504323,  0.40092815, -0.35112612]]])"
            ]
          },
          "metadata": {
            "tags": []
          },
          "execution_count": 28
        }
      ]
    },
    {
      "cell_type": "code",
      "metadata": {
        "id": "6dsManpiMCq_",
        "colab_type": "code",
        "outputId": "7d97fc3f-0f56-4d39-8b11-941d6c4fc071",
        "colab": {
          "base_uri": "https://localhost:8080/",
          "height": 54
        }
      },
      "source": [
        "np.random.rand(2,3) #random numbers between 0 and 1 in the given shape"
      ],
      "execution_count": 29,
      "outputs": [
        {
          "output_type": "execute_result",
          "data": {
            "text/plain": [
              "array([[0.61487746, 0.53063183, 0.4176896 ],\n",
              "       [0.01449897, 0.48313605, 0.12226064]])"
            ]
          },
          "metadata": {
            "tags": []
          },
          "execution_count": 29
        }
      ]
    },
    {
      "cell_type": "code",
      "metadata": {
        "id": "8W3O4iLIOmjn",
        "colab_type": "code",
        "outputId": "b6778709-25c4-4561-977a-e37eb4bb5db5",
        "colab": {
          "base_uri": "https://localhost:8080/",
          "height": 54
        }
      },
      "source": [
        "np.random.rand(1,10)"
      ],
      "execution_count": 30,
      "outputs": [
        {
          "output_type": "execute_result",
          "data": {
            "text/plain": [
              "array([[0.86829645, 0.04221497, 0.67812302, 0.60691486, 0.38649618,\n",
              "        0.54718015, 0.98166122, 0.91107395, 0.88588833, 0.26958557]])"
            ]
          },
          "metadata": {
            "tags": []
          },
          "execution_count": 30
        }
      ]
    },
    {
      "cell_type": "code",
      "metadata": {
        "id": "w4PPTeNtOx4s",
        "colab_type": "code",
        "outputId": "f1ed2f5c-7016-4b85-cf51-39c36d66b81d",
        "colab": {
          "base_uri": "https://localhost:8080/",
          "height": 54
        }
      },
      "source": [
        "np.random.randint(0,100,(2,3)) #random integers between 0 and 100 in the given shape (2,3)"
      ],
      "execution_count": 31,
      "outputs": [
        {
          "output_type": "execute_result",
          "data": {
            "text/plain": [
              "array([[ 4, 88, 11],\n",
              "       [60, 56,  5]])"
            ]
          },
          "metadata": {
            "tags": []
          },
          "execution_count": 31
        }
      ]
    },
    {
      "cell_type": "code",
      "metadata": {
        "id": "Sc_vgZbKPGVJ",
        "colab_type": "code",
        "outputId": "fe9671d4-5be8-4ca1-8a71-e67e7f501700",
        "colab": {
          "base_uri": "https://localhost:8080/",
          "height": 35
        }
      },
      "source": [
        "np.arange(7,71,7) #arg1 - smallNumber , arg2 - biggerNumber, arg3 - stepSize"
      ],
      "execution_count": 32,
      "outputs": [
        {
          "output_type": "execute_result",
          "data": {
            "text/plain": [
              "array([ 7, 14, 21, 28, 35, 42, 49, 56, 63, 70])"
            ]
          },
          "metadata": {
            "tags": []
          },
          "execution_count": 32
        }
      ]
    },
    {
      "cell_type": "code",
      "metadata": {
        "id": "crmjmCzPPquq",
        "colab_type": "code",
        "outputId": "39a53b01-3d98-4591-a091-32db9974fb9f",
        "colab": {
          "base_uri": "https://localhost:8080/",
          "height": 35
        }
      },
      "source": [
        "np.linspace(7,70,10) #linearaly separated 5 numbers between 0 and 10"
      ],
      "execution_count": 33,
      "outputs": [
        {
          "output_type": "execute_result",
          "data": {
            "text/plain": [
              "array([ 7., 14., 21., 28., 35., 42., 49., 56., 63., 70.])"
            ]
          },
          "metadata": {
            "tags": []
          },
          "execution_count": 33
        }
      ]
    },
    {
      "cell_type": "code",
      "metadata": {
        "id": "hzPi1qvEP3UT",
        "colab_type": "code",
        "outputId": "a7b43fbd-41f4-4676-a13c-a2ecf124d468",
        "colab": {
          "base_uri": "https://localhost:8080/",
          "height": 35
        }
      },
      "source": [
        "str_arr = np.array(['1.2','2.4','4.5','6.6','9.5'])\n",
        "float_arr = np.array(str_arr,dtype=float)\n",
        "float_arr.dtype"
      ],
      "execution_count": 34,
      "outputs": [
        {
          "output_type": "execute_result",
          "data": {
            "text/plain": [
              "dtype('float64')"
            ]
          },
          "metadata": {
            "tags": []
          },
          "execution_count": 34
        }
      ]
    },
    {
      "cell_type": "markdown",
      "metadata": {
        "id": "EH26YeL9paiN",
        "colab_type": "text"
      },
      "source": [
        "#Indexing"
      ]
    },
    {
      "cell_type": "code",
      "metadata": {
        "id": "gtaPeCZGQbuL",
        "colab_type": "code",
        "colab": {}
      },
      "source": [
        "arr3d = np.array([\n",
        "                  [\n",
        "                   [1,2,3],\n",
        "                   [4,5,6],\n",
        "                   [7,8,9]\n",
        "                  ],\n",
        "                  [\n",
        "                   [10,11,12],\n",
        "                   [13,14,15],\n",
        "                   [16,17,18]\n",
        "                  ],\n",
        "])"
      ],
      "execution_count": 0,
      "outputs": []
    },
    {
      "cell_type": "code",
      "metadata": {
        "id": "I8MkwGR_pcV3",
        "colab_type": "code",
        "colab": {
          "base_uri": "https://localhost:8080/",
          "height": 35
        },
        "outputId": "14c1134c-eacd-4ad9-aea1-e274cf1fa123"
      },
      "source": [
        "arr3d[0,0,0]"
      ],
      "execution_count": 45,
      "outputs": [
        {
          "output_type": "execute_result",
          "data": {
            "text/plain": [
              "1"
            ]
          },
          "metadata": {
            "tags": []
          },
          "execution_count": 45
        }
      ]
    },
    {
      "cell_type": "code",
      "metadata": {
        "id": "nYSVp1HMpejN",
        "colab_type": "code",
        "colab": {
          "base_uri": "https://localhost:8080/",
          "height": 72
        },
        "outputId": "74659b76-40a3-41f8-9771-a1812d7bb8cf"
      },
      "source": [
        "arr3d[0,:,:]"
      ],
      "execution_count": 46,
      "outputs": [
        {
          "output_type": "execute_result",
          "data": {
            "text/plain": [
              "array([[1, 2, 3],\n",
              "       [4, 5, 6],\n",
              "       [7, 8, 9]])"
            ]
          },
          "metadata": {
            "tags": []
          },
          "execution_count": 46
        }
      ]
    },
    {
      "cell_type": "code",
      "metadata": {
        "id": "XqEWvG3Hpv20",
        "colab_type": "code",
        "colab": {
          "base_uri": "https://localhost:8080/",
          "height": 145
        },
        "outputId": "bcb92586-1aad-4ebc-d90a-e25a97d21729"
      },
      "source": [
        "arr3d[:,:,0:2] #maintains shape"
      ],
      "execution_count": 47,
      "outputs": [
        {
          "output_type": "execute_result",
          "data": {
            "text/plain": [
              "array([[[ 1,  2],\n",
              "        [ 4,  5],\n",
              "        [ 7,  8]],\n",
              "\n",
              "       [[10, 11],\n",
              "        [13, 14],\n",
              "        [16, 17]]])"
            ]
          },
          "metadata": {
            "tags": []
          },
          "execution_count": 47
        }
      ]
    },
    {
      "cell_type": "code",
      "metadata": {
        "id": "VTAYYM4fqD0H",
        "colab_type": "code",
        "colab": {
          "base_uri": "https://localhost:8080/",
          "height": 145
        },
        "outputId": "c8be162d-4c1d-4f86-ac42-7b1fbced37c6"
      },
      "source": [
        "arr3d % 2 == 0 #creates a boolean array with True values for even numbers"
      ],
      "execution_count": 49,
      "outputs": [
        {
          "output_type": "execute_result",
          "data": {
            "text/plain": [
              "array([[[False,  True, False],\n",
              "        [ True, False,  True],\n",
              "        [False,  True, False]],\n",
              "\n",
              "       [[ True, False,  True],\n",
              "        [False,  True, False],\n",
              "        [ True, False,  True]]])"
            ]
          },
          "metadata": {
            "tags": []
          },
          "execution_count": 49
        }
      ]
    },
    {
      "cell_type": "code",
      "metadata": {
        "id": "awM9DUxHqyXm",
        "colab_type": "code",
        "colab": {
          "base_uri": "https://localhost:8080/",
          "height": 35
        },
        "outputId": "933ffc2a-ac37-4582-ad8a-1fa2d4d1c40c"
      },
      "source": [
        "arr3d[arr3d % 2 == 0] #shows all thoes values where given condition is True"
      ],
      "execution_count": 50,
      "outputs": [
        {
          "output_type": "execute_result",
          "data": {
            "text/plain": [
              "array([ 2,  4,  6,  8, 10, 12, 14, 16, 18])"
            ]
          },
          "metadata": {
            "tags": []
          },
          "execution_count": 50
        }
      ]
    },
    {
      "cell_type": "code",
      "metadata": {
        "id": "P1L-yTtArOy4",
        "colab_type": "code",
        "colab": {
          "base_uri": "https://localhost:8080/",
          "height": 35
        },
        "outputId": "6ea26e79-cc21-4df1-ba86-dbeafe457064"
      },
      "source": [
        "arr3d[(arr3d % 2 == 1) & (arr3d > 3)]"
      ],
      "execution_count": 52,
      "outputs": [
        {
          "output_type": "execute_result",
          "data": {
            "text/plain": [
              "array([ 5,  7,  9, 11, 13, 15, 17])"
            ]
          },
          "metadata": {
            "tags": []
          },
          "execution_count": 52
        }
      ]
    },
    {
      "cell_type": "code",
      "metadata": {
        "id": "KhkjqlUarnGz",
        "colab_type": "code",
        "colab": {}
      },
      "source": [
        "arr_slice = arr3d[:,:,0:2]"
      ],
      "execution_count": 0,
      "outputs": []
    },
    {
      "cell_type": "code",
      "metadata": {
        "id": "wcDb79q7sOhl",
        "colab_type": "code",
        "colab": {
          "base_uri": "https://localhost:8080/",
          "height": 145
        },
        "outputId": "54085532-56f5-4d8f-b1f6-b633226124a6"
      },
      "source": [
        "arr_slice"
      ],
      "execution_count": 56,
      "outputs": [
        {
          "output_type": "execute_result",
          "data": {
            "text/plain": [
              "array([[[ 1,  2],\n",
              "        [ 4,  5],\n",
              "        [ 7,  8]],\n",
              "\n",
              "       [[10, 11],\n",
              "        [13, 14],\n",
              "        [16, 17]]])"
            ]
          },
          "metadata": {
            "tags": []
          },
          "execution_count": 56
        }
      ]
    },
    {
      "cell_type": "code",
      "metadata": {
        "id": "PBFjX5jXsIEN",
        "colab_type": "code",
        "colab": {
          "base_uri": "https://localhost:8080/",
          "height": 35
        },
        "outputId": "342d7854-02df-4b2e-8674-e96b2d8945b6"
      },
      "source": [
        "arr_slice.shape"
      ],
      "execution_count": 55,
      "outputs": [
        {
          "output_type": "execute_result",
          "data": {
            "text/plain": [
              "(2, 3, 2)"
            ]
          },
          "metadata": {
            "tags": []
          },
          "execution_count": 55
        }
      ]
    },
    {
      "cell_type": "code",
      "metadata": {
        "id": "txHTdhDMsKP1",
        "colab_type": "code",
        "colab": {}
      },
      "source": [
        "arr_slice[0,0,0] = 1729 #updates the slice and the main ndArray as well"
      ],
      "execution_count": 0,
      "outputs": []
    },
    {
      "cell_type": "code",
      "metadata": {
        "id": "h-FfCbRpsYCD",
        "colab_type": "code",
        "colab": {
          "base_uri": "https://localhost:8080/",
          "height": 145
        },
        "outputId": "24dd4584-ef0d-41a7-b64c-398019387dba"
      },
      "source": [
        "arr_slice"
      ],
      "execution_count": 58,
      "outputs": [
        {
          "output_type": "execute_result",
          "data": {
            "text/plain": [
              "array([[[1729,    2],\n",
              "        [   4,    5],\n",
              "        [   7,    8]],\n",
              "\n",
              "       [[  10,   11],\n",
              "        [  13,   14],\n",
              "        [  16,   17]]])"
            ]
          },
          "metadata": {
            "tags": []
          },
          "execution_count": 58
        }
      ]
    },
    {
      "cell_type": "code",
      "metadata": {
        "id": "a3bVYW3RsZK1",
        "colab_type": "code",
        "colab": {
          "base_uri": "https://localhost:8080/",
          "height": 145
        },
        "outputId": "64384963-c17d-478f-cd74-806baa150c6f"
      },
      "source": [
        "arr3d"
      ],
      "execution_count": 59,
      "outputs": [
        {
          "output_type": "execute_result",
          "data": {
            "text/plain": [
              "array([[[1729,    2,    3],\n",
              "        [   4,    5,    6],\n",
              "        [   7,    8,    9]],\n",
              "\n",
              "       [[  10,   11,   12],\n",
              "        [  13,   14,   15],\n",
              "        [  16,   17,   18]]])"
            ]
          },
          "metadata": {
            "tags": []
          },
          "execution_count": 59
        }
      ]
    },
    {
      "cell_type": "code",
      "metadata": {
        "id": "ddVNKct_saeV",
        "colab_type": "code",
        "colab": {}
      },
      "source": [
        "arr_slice = np.copy(arr3d[:,:,0:2]) #creates a new reference copy"
      ],
      "execution_count": 0,
      "outputs": []
    },
    {
      "cell_type": "code",
      "metadata": {
        "id": "v-sbUQhds3SH",
        "colab_type": "code",
        "colab": {
          "base_uri": "https://localhost:8080/",
          "height": 145
        },
        "outputId": "ef80f367-d380-44e2-9373-c76738c581c0"
      },
      "source": [
        "arr_slice"
      ],
      "execution_count": 61,
      "outputs": [
        {
          "output_type": "execute_result",
          "data": {
            "text/plain": [
              "array([[[1729,    2],\n",
              "        [   4,    5],\n",
              "        [   7,    8]],\n",
              "\n",
              "       [[  10,   11],\n",
              "        [  13,   14],\n",
              "        [  16,   17]]])"
            ]
          },
          "metadata": {
            "tags": []
          },
          "execution_count": 61
        }
      ]
    },
    {
      "cell_type": "code",
      "metadata": {
        "id": "kbr0-tS3s4cx",
        "colab_type": "code",
        "colab": {}
      },
      "source": [
        "arr_slice[0,0,0] = 1"
      ],
      "execution_count": 0,
      "outputs": []
    },
    {
      "cell_type": "code",
      "metadata": {
        "id": "ZSjeaTyQs7xf",
        "colab_type": "code",
        "colab": {
          "base_uri": "https://localhost:8080/",
          "height": 145
        },
        "outputId": "c5d572e8-578b-4e46-f1b9-d56da9d87ddd"
      },
      "source": [
        "arr_slice"
      ],
      "execution_count": 63,
      "outputs": [
        {
          "output_type": "execute_result",
          "data": {
            "text/plain": [
              "array([[[ 1,  2],\n",
              "        [ 4,  5],\n",
              "        [ 7,  8]],\n",
              "\n",
              "       [[10, 11],\n",
              "        [13, 14],\n",
              "        [16, 17]]])"
            ]
          },
          "metadata": {
            "tags": []
          },
          "execution_count": 63
        }
      ]
    },
    {
      "cell_type": "code",
      "metadata": {
        "id": "hg_04o_As9JW",
        "colab_type": "code",
        "colab": {
          "base_uri": "https://localhost:8080/",
          "height": 145
        },
        "outputId": "b6e330a5-40e3-47b0-8f48-52d1451b347e"
      },
      "source": [
        "arr3d"
      ],
      "execution_count": 64,
      "outputs": [
        {
          "output_type": "execute_result",
          "data": {
            "text/plain": [
              "array([[[1729,    2,    3],\n",
              "        [   4,    5,    6],\n",
              "        [   7,    8,    9]],\n",
              "\n",
              "       [[  10,   11,   12],\n",
              "        [  13,   14,   15],\n",
              "        [  16,   17,   18]]])"
            ]
          },
          "metadata": {
            "tags": []
          },
          "execution_count": 64
        }
      ]
    },
    {
      "cell_type": "code",
      "metadata": {
        "id": "CRw4EDL_s-yE",
        "colab_type": "code",
        "colab": {}
      },
      "source": [
        "arr = np.random.randint(0,10,5)"
      ],
      "execution_count": 0,
      "outputs": []
    },
    {
      "cell_type": "code",
      "metadata": {
        "id": "dSreDdvbtyU0",
        "colab_type": "code",
        "colab": {
          "base_uri": "https://localhost:8080/",
          "height": 35
        },
        "outputId": "ea9c189a-4cc5-4cb7-ed17-28f7bec185e6"
      },
      "source": [
        "arr"
      ],
      "execution_count": 66,
      "outputs": [
        {
          "output_type": "execute_result",
          "data": {
            "text/plain": [
              "array([7, 0, 9, 4, 9])"
            ]
          },
          "metadata": {
            "tags": []
          },
          "execution_count": 66
        }
      ]
    },
    {
      "cell_type": "code",
      "metadata": {
        "id": "Ypn5TFoatzIM",
        "colab_type": "code",
        "colab": {
          "base_uri": "https://localhost:8080/",
          "height": 35
        },
        "outputId": "6fb21fa2-9212-4a43-fbe3-8bf142b1867f"
      },
      "source": [
        "my_indices = [1,3,4]\n",
        "arr[my_indices] #gives the values specified by the list my_indices"
      ],
      "execution_count": 69,
      "outputs": [
        {
          "output_type": "execute_result",
          "data": {
            "text/plain": [
              "array([0, 4, 9])"
            ]
          },
          "metadata": {
            "tags": []
          },
          "execution_count": 69
        }
      ]
    },
    {
      "cell_type": "markdown",
      "metadata": {
        "id": "5pa2tcdGux6q",
        "colab_type": "text"
      },
      "source": [
        "#Numpy Operations"
      ]
    },
    {
      "cell_type": "code",
      "metadata": {
        "id": "58ThqJMGt6Xp",
        "colab_type": "code",
        "colab": {}
      },
      "source": [
        "arr1 = np.random.rand(3,4)\n",
        "arr2 = np.random.rand(3,4)"
      ],
      "execution_count": 0,
      "outputs": []
    },
    {
      "cell_type": "code",
      "metadata": {
        "id": "uZEOIknXvh4L",
        "colab_type": "code",
        "colab": {
          "base_uri": "https://localhost:8080/",
          "height": 72
        },
        "outputId": "5b3bcb1d-210d-47ba-dd70-01796ff27a65"
      },
      "source": [
        "arr1"
      ],
      "execution_count": 81,
      "outputs": [
        {
          "output_type": "execute_result",
          "data": {
            "text/plain": [
              "array([[0.0745992 , 0.35941613, 0.70714935, 0.76173848],\n",
              "       [0.72361971, 0.88962655, 0.53011508, 0.47121318],\n",
              "       [0.18346117, 0.21283983, 0.86691934, 0.30748805]])"
            ]
          },
          "metadata": {
            "tags": []
          },
          "execution_count": 81
        }
      ]
    },
    {
      "cell_type": "code",
      "metadata": {
        "id": "n2ZZNE5Svrbj",
        "colab_type": "code",
        "colab": {
          "base_uri": "https://localhost:8080/",
          "height": 72
        },
        "outputId": "15595eb5-4483-416e-ac34-0531e4738db0"
      },
      "source": [
        "arr2"
      ],
      "execution_count": 82,
      "outputs": [
        {
          "output_type": "execute_result",
          "data": {
            "text/plain": [
              "array([[0.04988512, 0.7169955 , 0.45764222, 0.76527525],\n",
              "       [0.97428146, 0.69145651, 0.53274996, 0.99231593],\n",
              "       [0.22582877, 0.52921956, 0.1932074 , 0.22912611]])"
            ]
          },
          "metadata": {
            "tags": []
          },
          "execution_count": 82
        }
      ]
    },
    {
      "cell_type": "code",
      "metadata": {
        "id": "nu0-xIiTvsh5",
        "colab_type": "code",
        "colab": {
          "base_uri": "https://localhost:8080/",
          "height": 72
        },
        "outputId": "5cf812c2-7e71-4ca4-fa6b-483a44f263cc"
      },
      "source": [
        "arr1 + arr2"
      ],
      "execution_count": 83,
      "outputs": [
        {
          "output_type": "execute_result",
          "data": {
            "text/plain": [
              "array([[0.12448432, 1.07641163, 1.16479157, 1.52701372],\n",
              "       [1.69790117, 1.58108305, 1.06286504, 1.46352911],\n",
              "       [0.40928994, 0.74205939, 1.06012675, 0.53661416]])"
            ]
          },
          "metadata": {
            "tags": []
          },
          "execution_count": 83
        }
      ]
    },
    {
      "cell_type": "code",
      "metadata": {
        "id": "qMN0fPldvuJ2",
        "colab_type": "code",
        "colab": {
          "base_uri": "https://localhost:8080/",
          "height": 72
        },
        "outputId": "98082093-f506-4181-87e5-8404f990c75a"
      },
      "source": [
        "arr1 - arr2"
      ],
      "execution_count": 84,
      "outputs": [
        {
          "output_type": "execute_result",
          "data": {
            "text/plain": [
              "array([[ 0.02471408, -0.35757937,  0.24950713, -0.00353677],\n",
              "       [-0.25066175,  0.19817004, -0.00263488, -0.52110275],\n",
              "       [-0.04236759, -0.31637973,  0.67371194,  0.07836194]])"
            ]
          },
          "metadata": {
            "tags": []
          },
          "execution_count": 84
        }
      ]
    },
    {
      "cell_type": "code",
      "metadata": {
        "id": "_O72naoOvwRz",
        "colab_type": "code",
        "colab": {
          "base_uri": "https://localhost:8080/",
          "height": 72
        },
        "outputId": "e33f082b-c052-4d19-c99e-209a8e7c950b"
      },
      "source": [
        "arr1 * arr2"
      ],
      "execution_count": 85,
      "outputs": [
        {
          "output_type": "execute_result",
          "data": {
            "text/plain": [
              "array([[0.00372139, 0.25769975, 0.3236214 , 0.5829396 ],\n",
              "       [0.70500927, 0.61513806, 0.28241879, 0.46759234],\n",
              "       [0.04143081, 0.112639  , 0.16749524, 0.07045354]])"
            ]
          },
          "metadata": {
            "tags": []
          },
          "execution_count": 85
        }
      ]
    },
    {
      "cell_type": "code",
      "metadata": {
        "id": "dXvUgmURvxyf",
        "colab_type": "code",
        "colab": {
          "base_uri": "https://localhost:8080/",
          "height": 72
        },
        "outputId": "cf132ce8-4476-4523-d502-51fa861ee196"
      },
      "source": [
        "np.exp(arr1) #exponent every value in numpy array"
      ],
      "execution_count": 86,
      "outputs": [
        {
          "output_type": "execute_result",
          "data": {
            "text/plain": [
              "array([[1.07745222, 1.43249278, 2.02820132, 2.1419968 ],\n",
              "       [2.06188314, 2.43422041, 1.69912783, 1.60193645],\n",
              "       [1.20136832, 1.23718648, 2.37956891, 1.36000456]])"
            ]
          },
          "metadata": {
            "tags": []
          },
          "execution_count": 86
        }
      ]
    },
    {
      "cell_type": "code",
      "metadata": {
        "id": "Mwgqwsf0v7sY",
        "colab_type": "code",
        "colab": {
          "base_uri": "https://localhost:8080/",
          "height": 72
        },
        "outputId": "ef6f1aba-b997-4e4b-aead-69268a401e6a"
      },
      "source": [
        "np.log(arr1) #take logarithm of each value"
      ],
      "execution_count": 87,
      "outputs": [
        {
          "output_type": "execute_result",
          "data": {
            "text/plain": [
              "array([[-2.5956255 , -1.02327442, -0.34651339, -0.27215199],\n",
              "       [-0.32348929, -0.11695351, -0.63466116, -0.75244468],\n",
              "       [-1.69575221, -1.54721536, -0.14280934, -1.17931905]])"
            ]
          },
          "metadata": {
            "tags": []
          },
          "execution_count": 87
        }
      ]
    },
    {
      "cell_type": "code",
      "metadata": {
        "id": "6eAVXOkbwGe4",
        "colab_type": "code",
        "colab": {}
      },
      "source": [
        "arr_inv = 1 / arr1"
      ],
      "execution_count": 0,
      "outputs": []
    },
    {
      "cell_type": "code",
      "metadata": {
        "id": "YNRNnA-rwe2q",
        "colab_type": "code",
        "colab": {
          "base_uri": "https://localhost:8080/",
          "height": 72
        },
        "outputId": "cd52e59b-248b-4448-d26b-f96e8f4bac66"
      },
      "source": [
        "arr_inv"
      ],
      "execution_count": 89,
      "outputs": [
        {
          "output_type": "execute_result",
          "data": {
            "text/plain": [
              "array([[13.4049695 ,  2.78229025,  1.41412843,  1.31278651],\n",
              "       [ 1.38194135,  1.12406718,  1.88638286,  2.12218173],\n",
              "       [ 5.45074455,  4.69836867,  1.15350985,  3.2521589 ]])"
            ]
          },
          "metadata": {
            "tags": []
          },
          "execution_count": 89
        }
      ]
    },
    {
      "cell_type": "code",
      "metadata": {
        "id": "oU1Xt4iRwf8o",
        "colab_type": "code",
        "colab": {}
      },
      "source": [
        "arr1 = np.zeros((3,4))"
      ],
      "execution_count": 0,
      "outputs": []
    },
    {
      "cell_type": "code",
      "metadata": {
        "id": "SUkDWzJEwvWt",
        "colab_type": "code",
        "colab": {
          "base_uri": "https://localhost:8080/",
          "height": 54
        },
        "outputId": "15109895-70cb-48be-e3b3-6db28550c584"
      },
      "source": [
        "arr_inv = 1 / arr1"
      ],
      "execution_count": 91,
      "outputs": [
        {
          "output_type": "stream",
          "text": [
            "/usr/local/lib/python3.6/dist-packages/ipykernel_launcher.py:1: RuntimeWarning: divide by zero encountered in true_divide\n",
            "  \"\"\"Entry point for launching an IPython kernel.\n"
          ],
          "name": "stderr"
        }
      ]
    },
    {
      "cell_type": "code",
      "metadata": {
        "id": "zlsCMYXKwxJt",
        "colab_type": "code",
        "colab": {
          "base_uri": "https://localhost:8080/",
          "height": 72
        },
        "outputId": "149be97d-4c83-4087-cad1-5d01d9c592ad"
      },
      "source": [
        "arr_inv #keyword inf denotes infinite value (divide by zero)"
      ],
      "execution_count": 92,
      "outputs": [
        {
          "output_type": "execute_result",
          "data": {
            "text/plain": [
              "array([[inf, inf, inf, inf],\n",
              "       [inf, inf, inf, inf],\n",
              "       [inf, inf, inf, inf]])"
            ]
          },
          "metadata": {
            "tags": []
          },
          "execution_count": 92
        }
      ]
    },
    {
      "cell_type": "code",
      "metadata": {
        "id": "0xXel6C-wzBS",
        "colab_type": "code",
        "colab": {
          "base_uri": "https://localhost:8080/",
          "height": 35
        },
        "outputId": "921895b6-aa94-409e-c5ee-edd14b4345ef"
      },
      "source": [
        "np.isinf(arr_inv[0,0]) #returns true if given element is infinite."
      ],
      "execution_count": 93,
      "outputs": [
        {
          "output_type": "execute_result",
          "data": {
            "text/plain": [
              "True"
            ]
          },
          "metadata": {
            "tags": []
          },
          "execution_count": 93
        }
      ]
    },
    {
      "cell_type": "markdown",
      "metadata": {
        "id": "8PhJmeLs_bCd",
        "colab_type": "text"
      },
      "source": [
        "#Broadcasting"
      ]
    },
    {
      "cell_type": "code",
      "metadata": {
        "id": "CdaUm0akxBbu",
        "colab_type": "code",
        "colab": {}
      },
      "source": [
        "arr1 = np.arange(6)"
      ],
      "execution_count": 0,
      "outputs": []
    },
    {
      "cell_type": "code",
      "metadata": {
        "id": "8EqIi4FL_fna",
        "colab_type": "code",
        "colab": {
          "base_uri": "https://localhost:8080/",
          "height": 35
        },
        "outputId": "f42d1984-bb6c-4881-f3cf-60b3301a7615"
      },
      "source": [
        "arr1.shape"
      ],
      "execution_count": 97,
      "outputs": [
        {
          "output_type": "execute_result",
          "data": {
            "text/plain": [
              "(6,)"
            ]
          },
          "metadata": {
            "tags": []
          },
          "execution_count": 97
        }
      ]
    },
    {
      "cell_type": "code",
      "metadata": {
        "id": "DmhZFjIw_md_",
        "colab_type": "code",
        "colab": {}
      },
      "source": [
        "arr1 = arr1.reshape((3,2))"
      ],
      "execution_count": 0,
      "outputs": []
    },
    {
      "cell_type": "code",
      "metadata": {
        "id": "2A04PDDY_x2D",
        "colab_type": "code",
        "colab": {
          "base_uri": "https://localhost:8080/",
          "height": 72
        },
        "outputId": "e6ad4bc6-d2ba-498d-bada-3d4a72f5f923"
      },
      "source": [
        "arr1"
      ],
      "execution_count": 101,
      "outputs": [
        {
          "output_type": "execute_result",
          "data": {
            "text/plain": [
              "array([[0, 1],\n",
              "       [2, 3],\n",
              "       [4, 5]])"
            ]
          },
          "metadata": {
            "tags": []
          },
          "execution_count": 101
        }
      ]
    },
    {
      "cell_type": "code",
      "metadata": {
        "id": "Nj_T9vMd_y4V",
        "colab_type": "code",
        "colab": {}
      },
      "source": [
        "arr2 = np.arange(6).reshape((3,2))"
      ],
      "execution_count": 0,
      "outputs": []
    },
    {
      "cell_type": "code",
      "metadata": {
        "id": "IpPQfsrYAHEu",
        "colab_type": "code",
        "colab": {
          "base_uri": "https://localhost:8080/",
          "height": 72
        },
        "outputId": "71da326a-6a03-442e-be46-5b915a8ab891"
      },
      "source": [
        "arr1 + arr2"
      ],
      "execution_count": 103,
      "outputs": [
        {
          "output_type": "execute_result",
          "data": {
            "text/plain": [
              "array([[ 0,  2],\n",
              "       [ 4,  6],\n",
              "       [ 8, 10]])"
            ]
          },
          "metadata": {
            "tags": []
          },
          "execution_count": 103
        }
      ]
    },
    {
      "cell_type": "code",
      "metadata": {
        "id": "qZfO-4ULAKsR",
        "colab_type": "code",
        "colab": {
          "base_uri": "https://localhost:8080/",
          "height": 54
        },
        "outputId": "76d09199-59b0-422f-b56a-c8751e208675"
      },
      "source": [
        "print(arr1.shape)\n",
        "print(arr2[0].reshape((1,2)).shape)"
      ],
      "execution_count": 109,
      "outputs": [
        {
          "output_type": "stream",
          "text": [
            "(3, 2)\n",
            "(1, 2)\n"
          ],
          "name": "stdout"
        }
      ]
    },
    {
      "cell_type": "code",
      "metadata": {
        "id": "3LGqbswlAWnr",
        "colab_type": "code",
        "colab": {
          "base_uri": "https://localhost:8080/",
          "height": 72
        },
        "outputId": "8fa52fcf-f879-446e-8d7f-14823867eac6"
      },
      "source": [
        "arr1 + arr2[0].reshape((1,2))"
      ],
      "execution_count": 110,
      "outputs": [
        {
          "output_type": "execute_result",
          "data": {
            "text/plain": [
              "array([[0, 2],\n",
              "       [2, 4],\n",
              "       [4, 6]])"
            ]
          },
          "metadata": {
            "tags": []
          },
          "execution_count": 110
        }
      ]
    },
    {
      "cell_type": "code",
      "metadata": {
        "id": "nsTiyBItAz_-",
        "colab_type": "code",
        "colab": {
          "base_uri": "https://localhost:8080/",
          "height": 72
        },
        "outputId": "43580720-d48e-4c45-acb0-151267c713f5"
      },
      "source": [
        "arr2"
      ],
      "execution_count": 111,
      "outputs": [
        {
          "output_type": "execute_result",
          "data": {
            "text/plain": [
              "array([[0, 1],\n",
              "       [2, 3],\n",
              "       [4, 5]])"
            ]
          },
          "metadata": {
            "tags": []
          },
          "execution_count": 111
        }
      ]
    },
    {
      "cell_type": "code",
      "metadata": {
        "id": "9cWJy_buBS7s",
        "colab_type": "code",
        "colab": {
          "base_uri": "https://localhost:8080/",
          "height": 35
        },
        "outputId": "49e94029-cb34-4c13-8aa7-fda20fcd9639"
      },
      "source": [
        "arr2[:,0].shape"
      ],
      "execution_count": 113,
      "outputs": [
        {
          "output_type": "execute_result",
          "data": {
            "text/plain": [
              "(3,)"
            ]
          },
          "metadata": {
            "tags": []
          },
          "execution_count": 113
        }
      ]
    },
    {
      "cell_type": "code",
      "metadata": {
        "id": "iR5sbHd8BX6S",
        "colab_type": "code",
        "colab": {
          "base_uri": "https://localhost:8080/",
          "height": 72
        },
        "outputId": "826ff4fc-6d12-44e6-acc5-42f01d248ce6"
      },
      "source": [
        "arr2[:,0].reshape((3,1))"
      ],
      "execution_count": 114,
      "outputs": [
        {
          "output_type": "execute_result",
          "data": {
            "text/plain": [
              "array([[0],\n",
              "       [2],\n",
              "       [4]])"
            ]
          },
          "metadata": {
            "tags": []
          },
          "execution_count": 114
        }
      ]
    },
    {
      "cell_type": "code",
      "metadata": {
        "id": "xAghQDduBfUm",
        "colab_type": "code",
        "colab": {
          "base_uri": "https://localhost:8080/",
          "height": 72
        },
        "outputId": "8de5e939-c035-4eac-f350-fe9afd435d62"
      },
      "source": [
        "arr1 + arr2[:,0].reshape((3,1)) #(3,2) + (3,1)"
      ],
      "execution_count": 116,
      "outputs": [
        {
          "output_type": "execute_result",
          "data": {
            "text/plain": [
              "array([[0, 1],\n",
              "       [4, 5],\n",
              "       [8, 9]])"
            ]
          },
          "metadata": {
            "tags": []
          },
          "execution_count": 116
        }
      ]
    },
    {
      "cell_type": "code",
      "metadata": {
        "id": "_M4PGKVABn9f",
        "colab_type": "code",
        "colab": {}
      },
      "source": [
        "arr1 = np.arange(24).reshape((2,3,4))"
      ],
      "execution_count": 0,
      "outputs": []
    },
    {
      "cell_type": "code",
      "metadata": {
        "id": "06vcSQMPB7CB",
        "colab_type": "code",
        "colab": {
          "base_uri": "https://localhost:8080/",
          "height": 145
        },
        "outputId": "eb35b95d-34d7-44fc-8fff-01bf2404260f"
      },
      "source": [
        "arr1"
      ],
      "execution_count": 118,
      "outputs": [
        {
          "output_type": "execute_result",
          "data": {
            "text/plain": [
              "array([[[ 0,  1,  2,  3],\n",
              "        [ 4,  5,  6,  7],\n",
              "        [ 8,  9, 10, 11]],\n",
              "\n",
              "       [[12, 13, 14, 15],\n",
              "        [16, 17, 18, 19],\n",
              "        [20, 21, 22, 23]]])"
            ]
          },
          "metadata": {
            "tags": []
          },
          "execution_count": 118
        }
      ]
    },
    {
      "cell_type": "code",
      "metadata": {
        "id": "iaeRPCNvB7zp",
        "colab_type": "code",
        "colab": {}
      },
      "source": [
        "arr2 = np.ones((1,4))"
      ],
      "execution_count": 0,
      "outputs": []
    },
    {
      "cell_type": "code",
      "metadata": {
        "id": "z_A3QZCQCG-t",
        "colab_type": "code",
        "colab": {
          "base_uri": "https://localhost:8080/",
          "height": 35
        },
        "outputId": "2a91d697-720f-4aa4-fe0c-48724bf9b2fd"
      },
      "source": [
        "arr2.shape"
      ],
      "execution_count": 121,
      "outputs": [
        {
          "output_type": "execute_result",
          "data": {
            "text/plain": [
              "(1, 4)"
            ]
          },
          "metadata": {
            "tags": []
          },
          "execution_count": 121
        }
      ]
    },
    {
      "cell_type": "code",
      "metadata": {
        "id": "ZEhnIXxuCQms",
        "colab_type": "code",
        "colab": {
          "base_uri": "https://localhost:8080/",
          "height": 35
        },
        "outputId": "c5033cf7-55f4-4b2e-e214-e6e2570f7ea6"
      },
      "source": [
        "arr2"
      ],
      "execution_count": 123,
      "outputs": [
        {
          "output_type": "execute_result",
          "data": {
            "text/plain": [
              "array([[1., 1., 1., 1.]])"
            ]
          },
          "metadata": {
            "tags": []
          },
          "execution_count": 123
        }
      ]
    },
    {
      "cell_type": "code",
      "metadata": {
        "id": "YDIDKfvGCITH",
        "colab_type": "code",
        "colab": {
          "base_uri": "https://localhost:8080/",
          "height": 145
        },
        "outputId": "75928335-bc43-4a60-f7fa-5d03f726e349"
      },
      "source": [
        "arr1 + arr2 #(2,3,4) + (1,4)"
      ],
      "execution_count": 122,
      "outputs": [
        {
          "output_type": "execute_result",
          "data": {
            "text/plain": [
              "array([[[ 1.,  2.,  3.,  4.],\n",
              "        [ 5.,  6.,  7.,  8.],\n",
              "        [ 9., 10., 11., 12.]],\n",
              "\n",
              "       [[13., 14., 15., 16.],\n",
              "        [17., 18., 19., 20.],\n",
              "        [21., 22., 23., 24.]]])"
            ]
          },
          "metadata": {
            "tags": []
          },
          "execution_count": 122
        }
      ]
    },
    {
      "cell_type": "code",
      "metadata": {
        "id": "OxJVLPcZCOsD",
        "colab_type": "code",
        "colab": {}
      },
      "source": [
        "arr1 = np.arange(4)\n",
        "arr2 = np.arange(5)"
      ],
      "execution_count": 0,
      "outputs": []
    },
    {
      "cell_type": "code",
      "metadata": {
        "id": "HA7UItcsCmh8",
        "colab_type": "code",
        "colab": {
          "base_uri": "https://localhost:8080/",
          "height": 35
        },
        "outputId": "ec3febea-8354-4a2b-fa62-0168147fca01"
      },
      "source": [
        "print(arr1.shape,arr2.shape)"
      ],
      "execution_count": 125,
      "outputs": [
        {
          "output_type": "stream",
          "text": [
            "(4,) (5,)\n"
          ],
          "name": "stdout"
        }
      ]
    },
    {
      "cell_type": "code",
      "metadata": {
        "id": "mFuTxqTICoxB",
        "colab_type": "code",
        "colab": {
          "base_uri": "https://localhost:8080/",
          "height": 90
        },
        "outputId": "142fab9c-62d7-4a66-bf70-324b80e594af"
      },
      "source": [
        "arr1.reshape((4,1)) + arr2.reshape((1,5)) #(4,1) + (1,5)"
      ],
      "execution_count": 126,
      "outputs": [
        {
          "output_type": "execute_result",
          "data": {
            "text/plain": [
              "array([[0, 1, 2, 3, 4],\n",
              "       [1, 2, 3, 4, 5],\n",
              "       [2, 3, 4, 5, 6],\n",
              "       [3, 4, 5, 6, 7]])"
            ]
          },
          "metadata": {
            "tags": []
          },
          "execution_count": 126
        }
      ]
    },
    {
      "cell_type": "code",
      "metadata": {
        "id": "Gjk9tP7DCzRm",
        "colab_type": "code",
        "colab": {}
      },
      "source": [
        "arr1 = np.arange(9).reshape((3,3))"
      ],
      "execution_count": 0,
      "outputs": []
    },
    {
      "cell_type": "code",
      "metadata": {
        "id": "OCcloQoZDNSd",
        "colab_type": "code",
        "colab": {
          "base_uri": "https://localhost:8080/",
          "height": 72
        },
        "outputId": "6eb3ca3b-e784-401a-abf3-c1405f9908aa"
      },
      "source": [
        "arr1"
      ],
      "execution_count": 128,
      "outputs": [
        {
          "output_type": "execute_result",
          "data": {
            "text/plain": [
              "array([[0, 1, 2],\n",
              "       [3, 4, 5],\n",
              "       [6, 7, 8]])"
            ]
          },
          "metadata": {
            "tags": []
          },
          "execution_count": 128
        }
      ]
    },
    {
      "cell_type": "code",
      "metadata": {
        "id": "39A8_Kt-DObC",
        "colab_type": "code",
        "colab": {
          "base_uri": "https://localhost:8080/",
          "height": 72
        },
        "outputId": "786f13b8-e7cf-4aff-8809-77e2bf9aac19"
      },
      "source": [
        "arr1.T #for transpose"
      ],
      "execution_count": 129,
      "outputs": [
        {
          "output_type": "execute_result",
          "data": {
            "text/plain": [
              "array([[0, 3, 6],\n",
              "       [1, 4, 7],\n",
              "       [2, 5, 8]])"
            ]
          },
          "metadata": {
            "tags": []
          },
          "execution_count": 129
        }
      ]
    },
    {
      "cell_type": "markdown",
      "metadata": {
        "id": "t_LXO4yqJUmq",
        "colab_type": "text"
      },
      "source": [
        "#File Handling"
      ]
    },
    {
      "cell_type": "code",
      "metadata": {
        "id": "cG68CRjYDPtL",
        "colab_type": "code",
        "colab": {}
      },
      "source": [
        "planets_small = np.loadtxt(\"planets_small.txt\",skiprows=1,usecols=(1,2,3,4,5,6,7,8,9))"
      ],
      "execution_count": 0,
      "outputs": []
    },
    {
      "cell_type": "code",
      "metadata": {
        "id": "Btq55xJgJkdd",
        "colab_type": "code",
        "colab": {
          "base_uri": "https://localhost:8080/",
          "height": 35
        },
        "outputId": "fccff1e2-9b61-4ddf-d809-927501ac1fc0"
      },
      "source": [
        "planets_small.shape"
      ],
      "execution_count": 142,
      "outputs": [
        {
          "output_type": "execute_result",
          "data": {
            "text/plain": [
              "(3, 9)"
            ]
          },
          "metadata": {
            "tags": []
          },
          "execution_count": 142
        }
      ]
    },
    {
      "cell_type": "code",
      "metadata": {
        "id": "nxVTxq5mKGNW",
        "colab_type": "code",
        "colab": {}
      },
      "source": [
        "planets = np.genfromtxt(\"planets.txt\",skip_header=1,usecols=(1,2,3,4,5,6,7,8,9))"
      ],
      "execution_count": 0,
      "outputs": []
    },
    {
      "cell_type": "code",
      "metadata": {
        "id": "gnH5W3r3KsUU",
        "colab_type": "code",
        "colab": {
          "base_uri": "https://localhost:8080/",
          "height": 35
        },
        "outputId": "7ef4f4a4-c313-4bd6-c0ac-e26971733b25"
      },
      "source": [
        "planets.shape"
      ],
      "execution_count": 144,
      "outputs": [
        {
          "output_type": "execute_result",
          "data": {
            "text/plain": [
              "(20, 9)"
            ]
          },
          "metadata": {
            "tags": []
          },
          "execution_count": 144
        }
      ]
    },
    {
      "cell_type": "code",
      "metadata": {
        "id": "mkc4ZKJkKxW8",
        "colab_type": "code",
        "colab": {}
      },
      "source": [
        "planets_new = np.nan_to_num(planets,nan=-1)"
      ],
      "execution_count": 0,
      "outputs": []
    },
    {
      "cell_type": "code",
      "metadata": {
        "id": "rw_0RV8aLfVj",
        "colab_type": "code",
        "colab": {}
      },
      "source": [
        "np.savetxt(\"planets_new.txt\",planets_new,delimiter=\",\")"
      ],
      "execution_count": 0,
      "outputs": []
    },
    {
      "cell_type": "code",
      "metadata": {
        "id": "ImYJ7yq1Lu88",
        "colab_type": "code",
        "colab": {}
      },
      "source": [
        "np.save(\"planets_new\",planets_new)"
      ],
      "execution_count": 0,
      "outputs": []
    },
    {
      "cell_type": "code",
      "metadata": {
        "id": "me1ao4snMM6B",
        "colab_type": "code",
        "colab": {
          "base_uri": "https://localhost:8080/",
          "height": 35
        },
        "outputId": "b4c459fb-7f8b-422f-982f-c52be6176a68"
      },
      "source": [
        "!ls"
      ],
      "execution_count": 149,
      "outputs": [
        {
          "output_type": "stream",
          "text": [
            "planets_new.npy  planets_new.txt  planets_small.txt  planets.txt  sample_data\n"
          ],
          "name": "stdout"
        }
      ]
    },
    {
      "cell_type": "code",
      "metadata": {
        "id": "89F2OoQeMaJg",
        "colab_type": "code",
        "colab": {
          "base_uri": "https://localhost:8080/",
          "height": 126
        },
        "outputId": "8a651ecf-59b7-45f9-a8aa-ca57c4acbebb"
      },
      "source": [
        "!ls -lh"
      ],
      "execution_count": 152,
      "outputs": [
        {
          "output_type": "stream",
          "text": [
            "total 24K\n",
            "-rw-r--r-- 1 root root 1.6K Apr  5 07:14 planets_new.npy\n",
            "-rw-r--r-- 1 root root 4.5K Apr  5 07:14 planets_new.txt\n",
            "-rw-r--r-- 1 root root  254 Apr  5 07:02 planets_small.txt\n",
            "-rw-r--r-- 1 root root 1.5K Apr  5 07:02 planets.txt\n",
            "drwxr-xr-x 1 root root 4.0K Mar 18 16:23 sample_data\n"
          ],
          "name": "stdout"
        }
      ]
    },
    {
      "cell_type": "code",
      "metadata": {
        "id": "sRMImKCMMcc_",
        "colab_type": "code",
        "colab": {}
      },
      "source": [
        "arr1 = np.random.rand(2000,20)\n",
        "arr2 = np.random.rand(1000,5)\n",
        "arr3 = np.random.rand(10,10000)"
      ],
      "execution_count": 0,
      "outputs": []
    },
    {
      "cell_type": "code",
      "metadata": {
        "id": "iNp8y1yrM9yZ",
        "colab_type": "code",
        "colab": {}
      },
      "source": [
        "np.savez(\"many_arrs\",arr1,arr2,arr3)"
      ],
      "execution_count": 0,
      "outputs": []
    },
    {
      "cell_type": "code",
      "metadata": {
        "id": "-LisQ0b1NFkD",
        "colab_type": "code",
        "colab": {
          "base_uri": "https://localhost:8080/",
          "height": 145
        },
        "outputId": "350ae313-d52b-4cb6-eeb6-b27772e67afa"
      },
      "source": [
        "!ls -lh"
      ],
      "execution_count": 155,
      "outputs": [
        {
          "output_type": "stream",
          "text": [
            "total 1.2M\n",
            "-rw-r--r-- 1 root root 1.2M Apr  5 07:18 many_arrs.npz\n",
            "-rw-r--r-- 1 root root 1.6K Apr  5 07:14 planets_new.npy\n",
            "-rw-r--r-- 1 root root 4.5K Apr  5 07:14 planets_new.txt\n",
            "-rw-r--r-- 1 root root  254 Apr  5 07:02 planets_small.txt\n",
            "-rw-r--r-- 1 root root 1.5K Apr  5 07:02 planets.txt\n",
            "drwxr-xr-x 1 root root 4.0K Mar 18 16:23 sample_data\n"
          ],
          "name": "stdout"
        }
      ]
    },
    {
      "cell_type": "code",
      "metadata": {
        "id": "Vj-K7QG5NJlM",
        "colab_type": "code",
        "colab": {}
      },
      "source": [
        "arrs = np.load(\"many_arrs.npz\")"
      ],
      "execution_count": 0,
      "outputs": []
    },
    {
      "cell_type": "code",
      "metadata": {
        "id": "As73K6_QNRIL",
        "colab_type": "code",
        "colab": {
          "base_uri": "https://localhost:8080/",
          "height": 35
        },
        "outputId": "14cf31e4-a965-4d66-eeae-de0e0cebc4b5"
      },
      "source": [
        "arrs"
      ],
      "execution_count": 158,
      "outputs": [
        {
          "output_type": "execute_result",
          "data": {
            "text/plain": [
              "<numpy.lib.npyio.NpzFile at 0x7ff6f9588080>"
            ]
          },
          "metadata": {
            "tags": []
          },
          "execution_count": 158
        }
      ]
    },
    {
      "cell_type": "code",
      "metadata": {
        "id": "hBER-5hXNUzm",
        "colab_type": "code",
        "colab": {
          "base_uri": "https://localhost:8080/",
          "height": 35
        },
        "outputId": "2f2a2156-ec67-451c-b27a-09691707f052"
      },
      "source": [
        "arrs.files"
      ],
      "execution_count": 159,
      "outputs": [
        {
          "output_type": "execute_result",
          "data": {
            "text/plain": [
              "['arr_0', 'arr_1', 'arr_2']"
            ]
          },
          "metadata": {
            "tags": []
          },
          "execution_count": 159
        }
      ]
    },
    {
      "cell_type": "code",
      "metadata": {
        "id": "fcWOMgYGNaiq",
        "colab_type": "code",
        "colab": {
          "base_uri": "https://localhost:8080/",
          "height": 254
        },
        "outputId": "4a638fb4-f57c-47f8-8110-f5db4b4a38dc"
      },
      "source": [
        "arrs['arr_0']"
      ],
      "execution_count": 162,
      "outputs": [
        {
          "output_type": "execute_result",
          "data": {
            "text/plain": [
              "array([[0.70660949, 0.90241183, 0.92979088, ..., 0.99741381, 0.16920417,\n",
              "        0.51681912],\n",
              "       [0.32226614, 0.26392682, 0.60138739, ..., 0.36539679, 0.12765413,\n",
              "        0.44895079],\n",
              "       [0.51766846, 0.95596637, 0.1447412 , ..., 0.40454188, 0.8455033 ,\n",
              "        0.78941568],\n",
              "       ...,\n",
              "       [0.01075722, 0.53678034, 0.28350702, ..., 0.08123428, 0.55805795,\n",
              "        0.83580178],\n",
              "       [0.06218883, 0.08511806, 0.32910235, ..., 0.11425039, 0.23128563,\n",
              "        0.65501837],\n",
              "       [0.38954899, 0.05456362, 0.40859121, ..., 0.8253658 , 0.40189093,\n",
              "        0.83937827]])"
            ]
          },
          "metadata": {
            "tags": []
          },
          "execution_count": 162
        }
      ]
    },
    {
      "cell_type": "code",
      "metadata": {
        "id": "F51PTOSUN-pj",
        "colab_type": "code",
        "colab": {}
      },
      "source": [
        "import numpy as np"
      ],
      "execution_count": 0,
      "outputs": []
    },
    {
      "cell_type": "code",
      "metadata": {
        "id": "hVmO_oaWNiM-",
        "colab_type": "code",
        "colab": {}
      },
      "source": [
        "arr1 = np.zeros((10000,10000))"
      ],
      "execution_count": 0,
      "outputs": []
    },
    {
      "cell_type": "code",
      "metadata": {
        "id": "OCT3NqWiNwzR",
        "colab_type": "code",
        "colab": {}
      },
      "source": [
        "np.savez(\"zeros\",arr1)"
      ],
      "execution_count": 0,
      "outputs": []
    },
    {
      "cell_type": "code",
      "metadata": {
        "id": "WN8WG7-gOD1A",
        "colab_type": "code",
        "colab": {}
      },
      "source": [
        "np.savez_compressed(\"zeros_compressed\",arr1)"
      ],
      "execution_count": 0,
      "outputs": []
    },
    {
      "cell_type": "code",
      "metadata": {
        "id": "1XvSs0q6OItH",
        "colab_type": "code",
        "colab": {
          "base_uri": "https://localhost:8080/",
          "height": 181
        },
        "outputId": "4bec28d7-4b25-422e-e2a0-4271dda7c0f8"
      },
      "source": [
        "!ls -lh"
      ],
      "execution_count": 6,
      "outputs": [
        {
          "output_type": "stream",
          "text": [
            "total 765M\n",
            "-rw-r--r-- 1 root root 1.2M Apr  5 07:18 many_arrs.npz\n",
            "-rw-r--r-- 1 root root 1.6K Apr  5 07:14 planets_new.npy\n",
            "-rw-r--r-- 1 root root 4.5K Apr  5 07:14 planets_new.txt\n",
            "-rw-r--r-- 1 root root  254 Apr  5 07:02 planets_small.txt\n",
            "-rw-r--r-- 1 root root 1.5K Apr  5 07:02 planets.txt\n",
            "drwxr-xr-x 1 root root 4.0K Mar 18 16:23 sample_data\n",
            "-rw-r--r-- 1 root root 760K Apr  5 07:23 zeros_compressed.npz\n",
            "-rw-r--r-- 1 root root 763M Apr  5 07:22 zeros.npz\n"
          ],
          "name": "stdout"
        }
      ]
    },
    {
      "cell_type": "code",
      "metadata": {
        "id": "LhvlZ-pzOLhD",
        "colab_type": "code",
        "colab": {}
      },
      "source": [
        ""
      ],
      "execution_count": 0,
      "outputs": []
    }
  ]
}
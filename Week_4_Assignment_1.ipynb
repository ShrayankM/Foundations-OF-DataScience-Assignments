{
  "nbformat": 4,
  "nbformat_minor": 0,
  "metadata": {
    "colab": {
      "name": "Week_4_Assignment_1.ipynb",
      "provenance": [],
      "collapsed_sections": [],
      "authorship_tag": "ABX9TyOLE8cP+GbhUaprZ/AZq/jl",
      "include_colab_link": true
    },
    "kernelspec": {
      "name": "python3",
      "display_name": "Python 3"
    }
  },
  "cells": [
    {
      "cell_type": "markdown",
      "metadata": {
        "id": "view-in-github",
        "colab_type": "text"
      },
      "source": [
        "<a href=\"https://colab.research.google.com/github/ShrayankM/FoundationsOFDataScience/blob/master/Week_4_Assignment_1.ipynb\" target=\"_parent\"><img src=\"https://colab.research.google.com/assets/colab-badge.svg\" alt=\"Open In Colab\"/></a>"
      ]
    },
    {
      "cell_type": "markdown",
      "metadata": {
        "id": "GEi2Q2yqIIlN",
        "colab_type": "text"
      },
      "source": [
        "#Problem - 1"
      ]
    },
    {
      "cell_type": "code",
      "metadata": {
        "id": "b2Z3MmeeDDse",
        "colab_type": "code",
        "outputId": "bc00bdf5-6b57-4aaa-9a0b-cba0209ce348",
        "colab": {
          "base_uri": "https://localhost:8080/",
          "height": 108
        }
      },
      "source": [
        "weight_str = input(\"Enter your weight (in Kgs)\")\n",
        "weight_int = int(weight_str)\n",
        "height_type_str = input('What is your preferred unit of height? Type \"F\" for feet and \"M\" for meters and record the preference')\n",
        "if height_type_str == \"F\":\n",
        "    print(\"You will enter your height given as feet and inches\")\n",
        "    height_str_feet = input(\"Enter feet\")\n",
        "    height_str_inches = input(\"Enter inches\")\n",
        "    height_inches_int = int(height_str_feet) * 12\n",
        "    height_inches_int += float(height_str_inches)\n",
        "    height_meters = float(height_inches_int * 0.0254)\n",
        "else:\n",
        "    print(\"What is your height in meters\")\n",
        "    height_str = input(\"Enter meters\")\n",
        "    height_meters = float(height_str)\n",
        "\n",
        "print(height_meters)\n"
      ],
      "execution_count": 0,
      "outputs": [
        {
          "output_type": "stream",
          "text": [
            "Enter your weight (in Kgs)50\n",
            "What is your preferred unit of height? Type \"F\" for feet and \"M\" for meters and record the preferenceM\n",
            "What is your height in meters\n",
            "Enter meters1.524\n",
            "1.524\n"
          ],
          "name": "stdout"
        }
      ]
    },
    {
      "cell_type": "code",
      "metadata": {
        "id": "KmgHsG5rFrRH",
        "colab_type": "code",
        "outputId": "55e4b7ff-8ea8-4f9b-f4ef-02833986109c",
        "colab": {
          "base_uri": "https://localhost:8080/",
          "height": 35
        }
      },
      "source": [
        "bmi = weight_int / height_meters ** 2\n",
        "if bmi < 18.5:\n",
        "    print(\"UNDERWEIGHT\")\n",
        "elif bmi >= 18.5 and bmi < 25:\n",
        "    print(\"NORMAL\")\n",
        "elif bmi >= 25 and bmi < 30:\n",
        "    print(\"OVERWEIGHT\")\n",
        "else:\n",
        "    print(\"VERY-OVERWEIGHT\")"
      ],
      "execution_count": 0,
      "outputs": [
        {
          "output_type": "stream",
          "text": [
            "VERY-OVERWEIGHT\n"
          ],
          "name": "stdout"
        }
      ]
    },
    {
      "cell_type": "markdown",
      "metadata": {
        "id": "tUkmoDoNILqd",
        "colab_type": "text"
      },
      "source": [
        "#Problem - 2"
      ]
    },
    {
      "cell_type": "markdown",
      "metadata": {
        "id": "gG92z2R6K8nW",
        "colab_type": "text"
      },
      "source": [
        "#Iterative Factorial"
      ]
    },
    {
      "cell_type": "code",
      "metadata": {
        "id": "mNMuZny6IO9A",
        "colab_type": "code",
        "outputId": "56979de1-fc51-4ea7-faa4-cb8d9835fc8a",
        "colab": {
          "base_uri": "https://localhost:8080/",
          "height": 54
        }
      },
      "source": [
        "number = input(\"Enter a no \")\n",
        "number = int(number)\n",
        "factorial = 1\n",
        "while number > 0:\n",
        "    factorial = factorial * number\n",
        "    number = number - 1\n",
        "print(factorial)"
      ],
      "execution_count": 0,
      "outputs": [
        {
          "output_type": "stream",
          "text": [
            "Enter a no5\n",
            "120\n"
          ],
          "name": "stdout"
        }
      ]
    },
    {
      "cell_type": "markdown",
      "metadata": {
        "id": "FpIu1vTEK__3",
        "colab_type": "text"
      },
      "source": [
        "#Recursive Factorial"
      ]
    },
    {
      "cell_type": "code",
      "metadata": {
        "id": "Dnckpmr1Kk0H",
        "colab_type": "code",
        "colab": {}
      },
      "source": [
        "def factorial_func(n):\n",
        "   if n == 1:\n",
        "      return 1;\n",
        "   else:\n",
        "      return n * factorial_func(n - 1)"
      ],
      "execution_count": 0,
      "outputs": []
    },
    {
      "cell_type": "code",
      "metadata": {
        "id": "OtrxzDXnKydC",
        "colab_type": "code",
        "outputId": "19433dc7-7123-4185-80b4-304497516f3f",
        "colab": {
          "base_uri": "https://localhost:8080/",
          "height": 35
        }
      },
      "source": [
        "print(factorial_func(5))"
      ],
      "execution_count": 0,
      "outputs": [
        {
          "output_type": "stream",
          "text": [
            "120\n"
          ],
          "name": "stdout"
        }
      ]
    },
    {
      "cell_type": "markdown",
      "metadata": {
        "id": "I60ZhimKLLJB",
        "colab_type": "text"
      },
      "source": [
        "#Statement 3"
      ]
    },
    {
      "cell_type": "code",
      "metadata": {
        "id": "6oXzToHaLKrC",
        "colab_type": "code",
        "colab": {}
      },
      "source": [
        "def power_factorial(x,n):\n",
        "    output = (x ** n) / factorial_func(n)\n",
        "    print(output)"
      ],
      "execution_count": 0,
      "outputs": []
    },
    {
      "cell_type": "code",
      "metadata": {
        "id": "223xsBcDLdrI",
        "colab_type": "code",
        "outputId": "ac182687-6f57-45f7-bd2a-c0114d12daef",
        "colab": {
          "base_uri": "https://localhost:8080/",
          "height": 35
        }
      },
      "source": [
        "power_factorial(2.3,3)"
      ],
      "execution_count": 0,
      "outputs": [
        {
          "output_type": "stream",
          "text": [
            "2.027833333333333\n"
          ],
          "name": "stdout"
        }
      ]
    },
    {
      "cell_type": "markdown",
      "metadata": {
        "id": "ZAOE66deLtpg",
        "colab_type": "text"
      },
      "source": [
        "#Statement 4"
      ]
    },
    {
      "cell_type": "code",
      "metadata": {
        "id": "jCYIeq4VLvWe",
        "colab_type": "code",
        "colab": {}
      },
      "source": [
        "def power_factorial_sum(x,N):\n",
        "    output = 0\n",
        "    for i in range(1,N+1):\n",
        "        output = output + (x ** i) / factorial_func(i)\n",
        "    return output\n"
      ],
      "execution_count": 0,
      "outputs": []
    },
    {
      "cell_type": "code",
      "metadata": {
        "id": "1nUd5QSnMLcJ",
        "colab_type": "code",
        "outputId": "722f28c5-2fcf-4928-cfd6-727039d8b599",
        "colab": {
          "base_uri": "https://localhost:8080/",
          "height": 35
        }
      },
      "source": [
        "power_factorial_sum(2,3)"
      ],
      "execution_count": 0,
      "outputs": [
        {
          "output_type": "execute_result",
          "data": {
            "text/plain": [
              "5.333333333333333"
            ]
          },
          "metadata": {
            "tags": []
          },
          "execution_count": 27
        }
      ]
    },
    {
      "cell_type": "markdown",
      "metadata": {
        "id": "NgnxdzY3Mmce",
        "colab_type": "text"
      },
      "source": [
        "#Statement 5"
      ]
    },
    {
      "cell_type": "code",
      "metadata": {
        "id": "AGAWhX_sNIbv",
        "colab_type": "code",
        "colab": {}
      },
      "source": [
        "def power_factorial_check(x,N):\n",
        "    output = 0\n",
        "    for i in range(1,N+1):\n",
        "        output = output + (x ** i) / factorial_func(i)\n",
        "    return output"
      ],
      "execution_count": 0,
      "outputs": []
    },
    {
      "cell_type": "code",
      "metadata": {
        "id": "fog3u_g_Mlyk",
        "colab_type": "code",
        "colab": {}
      },
      "source": [
        "def check_function(x,epsilon):\n",
        "    i = 1;\n",
        "    while True:\n",
        "        diff = power_factorial_check(x,i) - power_factorial_check(x,i-1)\n",
        "        if diff > epsilon:\n",
        "            i = i + 1\n",
        "            continue\n",
        "        else:\n",
        "            break\n",
        "    return i"
      ],
      "execution_count": 0,
      "outputs": []
    },
    {
      "cell_type": "code",
      "metadata": {
        "id": "saEASNvANs8d",
        "colab_type": "code",
        "outputId": "2201c59f-e752-4473-9a12-ae5501580ed0",
        "colab": {
          "base_uri": "https://localhost:8080/",
          "height": 35
        }
      },
      "source": [
        "print(check_function(2,0.05))"
      ],
      "execution_count": 0,
      "outputs": [
        {
          "output_type": "stream",
          "text": [
            "7\n"
          ],
          "name": "stdout"
        }
      ]
    },
    {
      "cell_type": "markdown",
      "metadata": {
        "id": "1T1uhqjrOoF-",
        "colab_type": "text"
      },
      "source": [
        "#Statment 6"
      ]
    },
    {
      "cell_type": "code",
      "metadata": {
        "id": "iN0R8YBVOkEu",
        "colab_type": "code",
        "outputId": "268a2e17-3a8f-40f1-eb12-59e47e1e88ec",
        "colab": {
          "base_uri": "https://localhost:8080/",
          "height": 35
        }
      },
      "source": [
        "p = 2\n",
        "q = 6\n",
        "v1 = power_factorial_sum(p,100) * power_factorial_sum(q,100)\n",
        "v2 = power_factorial_sum(p+q,100)\n",
        "print(v1,v2)"
      ],
      "execution_count": 0,
      "outputs": [
        {
          "output_type": "stream",
          "text": [
            "2571.140137450062 2979.957987041728\n"
          ],
          "name": "stdout"
        }
      ]
    },
    {
      "cell_type": "markdown",
      "metadata": {
        "id": "2FvZ_ImwPDde",
        "colab_type": "text"
      },
      "source": [
        "#V2 > V1"
      ]
    }
  ]
}
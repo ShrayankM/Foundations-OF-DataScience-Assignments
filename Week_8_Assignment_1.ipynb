{
  "nbformat": 4,
  "nbformat_minor": 0,
  "metadata": {
    "colab": {
      "name": "Week_8_Assignment_1.ipynb",
      "provenance": [],
      "authorship_tag": "ABX9TyPY91WOvqG3Is/oFRiGG5Ux",
      "include_colab_link": true
    },
    "kernelspec": {
      "name": "python3",
      "display_name": "Python 3"
    }
  },
  "cells": [
    {
      "cell_type": "markdown",
      "metadata": {
        "id": "view-in-github",
        "colab_type": "text"
      },
      "source": [
        "<a href=\"https://colab.research.google.com/github/ShrayankM/FoundationsOFDataScience/blob/master/Week_8_Assignment_1.ipynb\" target=\"_parent\"><img src=\"https://colab.research.google.com/assets/colab-badge.svg\" alt=\"Open In Colab\"/></a>"
      ]
    },
    {
      "cell_type": "code",
      "metadata": {
        "id": "EJQA7jVXz39U",
        "colab_type": "code",
        "colab": {}
      },
      "source": [
        "import numpy as np"
      ],
      "execution_count": 0,
      "outputs": []
    },
    {
      "cell_type": "code",
      "metadata": {
        "id": "yqCeWPVgxzJ8",
        "colab_type": "code",
        "colab": {
          "base_uri": "https://localhost:8080/",
          "height": 35
        },
        "outputId": "8d7ac288-8407-4ea4-9d10-4b1137111345"
      },
      "source": [
        "side = 1\n",
        "radius = 1\n",
        "area_square = side * side\n",
        "area_circle = 3.14 * radius * radius\n",
        "one_fourth_circle = area_circle /4\n",
        "print(area_square - one_fourth_circle)"
      ],
      "execution_count": 5,
      "outputs": [
        {
          "output_type": "stream",
          "text": [
            "0.21499999999999997\n"
          ],
          "name": "stdout"
        }
      ]
    },
    {
      "cell_type": "code",
      "metadata": {
        "id": "bRUJEcPPyTUr",
        "colab_type": "code",
        "colab": {}
      },
      "source": [
        "ndim = 2\n",
        "npoints = 1000000"
      ],
      "execution_count": 0,
      "outputs": []
    },
    {
      "cell_type": "code",
      "metadata": {
        "id": "PhTTs79lzypp",
        "colab_type": "code",
        "colab": {}
      },
      "source": [
        "points = np.random.rand(npoints,ndim)"
      ],
      "execution_count": 0,
      "outputs": []
    },
    {
      "cell_type": "code",
      "metadata": {
        "id": "IOwN-RoNz8Nb",
        "colab_type": "code",
        "colab": {
          "base_uri": "https://localhost:8080/",
          "height": 145
        },
        "outputId": "848e56f7-2e00-4362-a8b0-145eceab2a69"
      },
      "source": [
        "points"
      ],
      "execution_count": 17,
      "outputs": [
        {
          "output_type": "execute_result",
          "data": {
            "text/plain": [
              "array([[0.97204748, 0.34317902],\n",
              "       [0.60486243, 0.64964153],\n",
              "       [0.5228629 , 0.12936597],\n",
              "       ...,\n",
              "       [0.68398483, 0.77568016],\n",
              "       [0.21537945, 0.85735485],\n",
              "       [0.15376048, 0.50173346]])"
            ]
          },
          "metadata": {
            "tags": []
          },
          "execution_count": 17
        }
      ]
    },
    {
      "cell_type": "code",
      "metadata": {
        "id": "JRmjNNc40AcE",
        "colab_type": "code",
        "colab": {}
      },
      "source": [
        "dfo = np.zeros((npoints,1))"
      ],
      "execution_count": 0,
      "outputs": []
    },
    {
      "cell_type": "code",
      "metadata": {
        "id": "M6vmdLgQ0gRJ",
        "colab_type": "code",
        "colab": {
          "base_uri": "https://localhost:8080/",
          "height": 54
        },
        "outputId": "f5af1946-158a-4e8e-d316-6b31294334a2"
      },
      "source": [
        "%%time\n",
        "outside_points = 0;\n",
        "for i in range(npoints):\n",
        "    for j in range(ndim):\n",
        "        dfo[i] = dfo[i] + points[i,j] ** 2\n",
        "    dfo[i] = np.sqrt(dfo[i])\n",
        "    if dfo[i] > 1:\n",
        "        outside_points = outside_points + 1"
      ],
      "execution_count": 19,
      "outputs": [
        {
          "output_type": "stream",
          "text": [
            "CPU times: user 8.97 s, sys: 4.03 ms, total: 8.98 s\n",
            "Wall time: 9 s\n"
          ],
          "name": "stdout"
        }
      ]
    },
    {
      "cell_type": "code",
      "metadata": {
        "id": "nfBIUwp61jFR",
        "colab_type": "code",
        "colab": {
          "base_uri": "https://localhost:8080/",
          "height": 35
        },
        "outputId": "0447c2d8-49c7-4ba8-ec38-c6f4bad7c4e3"
      },
      "source": [
        "print(\"Fraction of outside points\",outside_points/npoints)"
      ],
      "execution_count": 20,
      "outputs": [
        {
          "output_type": "stream",
          "text": [
            "Fraction of outside points 0.215266\n"
          ],
          "name": "stdout"
        }
      ]
    },
    {
      "cell_type": "code",
      "metadata": {
        "id": "dhOx3Aq51v5S",
        "colab_type": "code",
        "colab": {
          "base_uri": "https://localhost:8080/",
          "height": 54
        },
        "outputId": "e2a1e35d-6aeb-4368-c6a4-6b3cbae316a8"
      },
      "source": [
        "%%time \n",
        "sq_points = points * points\n",
        "dfo = np.sqrt(np.sum(sq_points,axis = 1))\n",
        "outside_points = np.sum(dfo > 1)"
      ],
      "execution_count": 26,
      "outputs": [
        {
          "output_type": "stream",
          "text": [
            "CPU times: user 23.4 ms, sys: 11 ms, total: 34.5 ms\n",
            "Wall time: 44.6 ms\n"
          ],
          "name": "stdout"
        }
      ]
    },
    {
      "cell_type": "code",
      "metadata": {
        "id": "6F6q6MKv26ku",
        "colab_type": "code",
        "colab": {
          "base_uri": "https://localhost:8080/",
          "height": 35
        },
        "outputId": "3f9c01d0-bd47-4af9-b304-af7da48cd0e6"
      },
      "source": [
        "print(\"Fraction of outside points\",outside_points/npoints)"
      ],
      "execution_count": 27,
      "outputs": [
        {
          "output_type": "stream",
          "text": [
            "Fraction of outside points 0.215266\n"
          ],
          "name": "stdout"
        }
      ]
    },
    {
      "cell_type": "code",
      "metadata": {
        "id": "b1hbz4WE3bVc",
        "colab_type": "code",
        "colab": {
          "base_uri": "https://localhost:8080/",
          "height": 54
        },
        "outputId": "06eea732-8fbe-4ac4-cfc5-9f25082b1f70"
      },
      "source": [
        "%%time\n",
        "outside_points = np.sum(np.sqrt(np.sum(points * points,axis = 1)) > 1)/npoints"
      ],
      "execution_count": 38,
      "outputs": [
        {
          "output_type": "stream",
          "text": [
            "CPU times: user 27.2 ms, sys: 1.92 ms, total: 29.1 ms\n",
            "Wall time: 30.9 ms\n"
          ],
          "name": "stdout"
        }
      ]
    },
    {
      "cell_type": "code",
      "metadata": {
        "id": "yktn0Do35zfO",
        "colab_type": "code",
        "colab": {
          "base_uri": "https://localhost:8080/",
          "height": 35
        },
        "outputId": "b5d821da-e55b-4bb5-80b3-85a52151be05"
      },
      "source": [
        "outside_points"
      ],
      "execution_count": 39,
      "outputs": [
        {
          "output_type": "execute_result",
          "data": {
            "text/plain": [
              "0.215266"
            ]
          },
          "metadata": {
            "tags": []
          },
          "execution_count": 39
        }
      ]
    },
    {
      "cell_type": "code",
      "metadata": {
        "id": "FZSNZH7H4ire",
        "colab_type": "code",
        "colab": {}
      },
      "source": [
        "def area_outside_square(npoints,ndim):\n",
        "    points = np.random.rand(npoints,ndim)\n",
        "    return np.sum(np.sqrt(np.sum(points * points,axis = 1)) > 1)/npoints"
      ],
      "execution_count": 0,
      "outputs": []
    },
    {
      "cell_type": "code",
      "metadata": {
        "id": "hCb0a1dZ5Evw",
        "colab_type": "code",
        "colab": {
          "base_uri": "https://localhost:8080/",
          "height": 35
        },
        "outputId": "0108e1f8-ed65-4764-d809-a27b0a719cf1"
      },
      "source": [
        "area_outside_square(1000000,2)"
      ],
      "execution_count": 41,
      "outputs": [
        {
          "output_type": "execute_result",
          "data": {
            "text/plain": [
              "0.214908"
            ]
          },
          "metadata": {
            "tags": []
          },
          "execution_count": 41
        }
      ]
    },
    {
      "cell_type": "code",
      "metadata": {
        "id": "v6TQbAOB5R0i",
        "colab_type": "code",
        "colab": {
          "base_uri": "https://localhost:8080/",
          "height": 181
        },
        "outputId": "600b47e5-7565-4453-a398-8a6358038aaa"
      },
      "source": [
        "for i in range(2,11):\n",
        "    print(i,area_outside_square(100000,i))"
      ],
      "execution_count": 43,
      "outputs": [
        {
          "output_type": "stream",
          "text": [
            "2 0.21557\n",
            "3 0.47553\n",
            "4 0.69267\n",
            "5 0.83334\n",
            "6 0.91937\n",
            "7 0.96369\n",
            "8 0.98458\n",
            "9 0.99319\n",
            "10 0.9979\n"
          ],
          "name": "stdout"
        }
      ]
    },
    {
      "cell_type": "code",
      "metadata": {
        "id": "rJxCiYrv6HsY",
        "colab_type": "code",
        "colab": {}
      },
      "source": [
        ""
      ],
      "execution_count": 0,
      "outputs": []
    }
  ]
}
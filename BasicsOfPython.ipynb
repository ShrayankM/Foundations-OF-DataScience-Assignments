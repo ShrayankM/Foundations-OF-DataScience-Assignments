{
  "nbformat": 4,
  "nbformat_minor": 0,
  "metadata": {
    "colab": {
      "name": "BasicsOfPython.ipynb",
      "provenance": [],
      "collapsed_sections": [
        "lrIB9Nvf8Xqx",
        "UZ9_ck3l9S3L",
        "zyf28toHBKyn",
        "dNvSIfI7L7Bd",
        "Jt8gm-qwPdbA",
        "y23hROcnSumL",
        "dOZQBbhoeHpD",
        "0Olwp6OuhBf8"
      ],
      "authorship_tag": "ABX9TyPXRLNtgjB6qKvrxgSds5iG",
      "include_colab_link": true
    },
    "kernelspec": {
      "name": "python3",
      "display_name": "Python 3"
    }
  },
  "cells": [
    {
      "cell_type": "markdown",
      "metadata": {
        "id": "view-in-github",
        "colab_type": "text"
      },
      "source": [
        "<a href=\"https://colab.research.google.com/github/ShrayankM/FoundationsOFDataScience/blob/master/BasicsOfPython.ipynb\" target=\"_parent\"><img src=\"https://colab.research.google.com/assets/colab-badge.svg\" alt=\"Open In Colab\"/></a>"
      ]
    },
    {
      "cell_type": "markdown",
      "metadata": {
        "id": "lrIB9Nvf8Xqx",
        "colab_type": "text"
      },
      "source": [
        "#Variables\n",
        "\n",
        "Variable names are labels to store values.\n",
        "Same values are stored at same location and variable are used as address holders.\n",
        "\n"
      ]
    },
    {
      "cell_type": "code",
      "metadata": {
        "id": "1lepijaw8RhH",
        "colab_type": "code",
        "outputId": "664c4a77-aea6-48bc-c63c-ba604f33e4b8",
        "colab": {
          "base_uri": "https://localhost:8080/",
          "height": 54
        }
      },
      "source": [
        "message_one = \"Welcome_to_Python\"\n",
        "message_two = \"Welcome_to_Python\"\n",
        "\n",
        "print(id(message_one),type(message_one),message_one)\n",
        "print(id(message_two),type(message_two),message_two)"
      ],
      "execution_count": 0,
      "outputs": [
        {
          "output_type": "stream",
          "text": [
            "139909027638200 <class 'str'> Welcome_to_Python\n",
            "139909027638200 <class 'str'> Welcome_to_Python\n"
          ],
          "name": "stdout"
        }
      ]
    },
    {
      "cell_type": "code",
      "metadata": {
        "id": "pfPlUE3ZAyWm",
        "colab_type": "code",
        "outputId": "23c28b8b-df59-46cc-9b2e-c0fd6f3d2b31",
        "colab": {
          "base_uri": "https://localhost:8080/",
          "height": 35
        }
      },
      "source": [
        "x,y,z = 2,3,4 #multiple varible assignment\n",
        "print(x,y,z)"
      ],
      "execution_count": 0,
      "outputs": [
        {
          "output_type": "stream",
          "text": [
            "2 3 4\n"
          ],
          "name": "stdout"
        }
      ]
    },
    {
      "cell_type": "markdown",
      "metadata": {
        "id": "UZ9_ck3l9S3L",
        "colab_type": "text"
      },
      "source": [
        "#Strings and String Functions"
      ]
    },
    {
      "cell_type": "code",
      "metadata": {
        "id": "sR68x7V99Rxq",
        "colab_type": "code",
        "outputId": "c49bb2fd-9519-4621-ee7c-83c98e18588f",
        "colab": {
          "base_uri": "https://localhost:8080/",
          "height": 35
        }
      },
      "source": [
        "message = \"Python for data science\"\n",
        "print(message.title()) #capitalizes the first alphabet of every word"
      ],
      "execution_count": 0,
      "outputs": [
        {
          "output_type": "stream",
          "text": [
            "Python For Data Science\n"
          ],
          "name": "stdout"
        }
      ]
    },
    {
      "cell_type": "code",
      "metadata": {
        "id": "qV-wHjA08zC6",
        "colab_type": "code",
        "outputId": "977f8f15-4eb2-4116-fb27-dea99dd4fd5b",
        "colab": {
          "base_uri": "https://localhost:8080/",
          "height": 54
        }
      },
      "source": [
        "print(message.upper()) #print uppercase form of string\n",
        "print(message.lower()) #print lowercase form of string"
      ],
      "execution_count": 0,
      "outputs": [
        {
          "output_type": "stream",
          "text": [
            "PYTHON FOR DATA SCIENCE\n",
            "python for data science\n"
          ],
          "name": "stdout"
        }
      ]
    },
    {
      "cell_type": "code",
      "metadata": {
        "id": "NYAVmAAC9sWH",
        "colab_type": "code",
        "outputId": "c561a571-883e-4451-de39-74c5663de856",
        "colab": {
          "base_uri": "https://localhost:8080/",
          "height": 35
        }
      },
      "source": [
        "f_name = \"shrayank\"\n",
        "l_name = \"mistry\"\n",
        "full_name = f\"{f_name} {l_name}\" #f - format creating f-strings Python 3.6 and Above\n",
        "print(full_name)"
      ],
      "execution_count": 0,
      "outputs": [
        {
          "output_type": "stream",
          "text": [
            "shrayank mistry\n"
          ],
          "name": "stdout"
        }
      ]
    },
    {
      "cell_type": "code",
      "metadata": {
        "id": "Cym5rWfy9uuR",
        "colab_type": "code",
        "outputId": "e48e4594-2dcb-45e3-fc2e-c381e7f0fb62",
        "colab": {
          "base_uri": "https://localhost:8080/",
          "height": 54
        }
      },
      "source": [
        "print(f\"Hello {full_name.title()}\") #OR\n",
        "print(\"Hello \"+ full_name.title())"
      ],
      "execution_count": 0,
      "outputs": [
        {
          "output_type": "stream",
          "text": [
            "Hello Shrayank Mistry\n",
            "Hello Shrayank Mistry\n"
          ],
          "name": "stdout"
        }
      ]
    },
    {
      "cell_type": "code",
      "metadata": {
        "id": "9QxZ4fxM-qtC",
        "colab_type": "code",
        "outputId": "8c026c96-6c28-4cef-80b9-86a4b94241b2",
        "colab": {
          "base_uri": "https://localhost:8080/",
          "height": 35
        }
      },
      "source": [
        "full_name = \"{} {}\".format(f_name, l_name) #Python 3.5 and Below format()\n",
        "print(full_name.title())"
      ],
      "execution_count": 0,
      "outputs": [
        {
          "output_type": "stream",
          "text": [
            "Shrayank Mistry\n"
          ],
          "name": "stdout"
        }
      ]
    },
    {
      "cell_type": "code",
      "metadata": {
        "id": "po7xr-0o_Q_t",
        "colab_type": "code",
        "outputId": "4fedfdd3-a872-4f2e-f0f6-aac27e1fef06",
        "colab": {
          "base_uri": "https://localhost:8080/",
          "height": 72
        }
      },
      "source": [
        "favourite_language = ' Python '\n",
        "print(favourite_language.rstrip()) #remove blank spaces from right side of string\n",
        "print(favourite_language.lstrip()) #remove blank spaces from left side of string\n",
        "print(favourite_language.strip()) #remove blank spaces from left and right side of string"
      ],
      "execution_count": 0,
      "outputs": [
        {
          "output_type": "stream",
          "text": [
            " Python\n",
            "Python \n",
            "Python\n"
          ],
          "name": "stdout"
        }
      ]
    },
    {
      "cell_type": "markdown",
      "metadata": {
        "id": "zyf28toHBKyn",
        "colab_type": "text"
      },
      "source": [
        "#Lists\n",
        "Lists are declared using [ ] brackets. Indexing starts at 0.\n",
        "Index of last element starts from -1.\n",
        "\n",
        "Lists can be modified at any time and can hold different data items in the same list."
      ]
    },
    {
      "cell_type": "code",
      "metadata": {
        "id": "-iT7l7JIAoc6",
        "colab_type": "code",
        "outputId": "6ede2186-74e3-4e3e-9e02-8f63c873f4d4",
        "colab": {
          "base_uri": "https://localhost:8080/",
          "height": 54
        }
      },
      "source": [
        "fruits = ['apple','orange','banana','mangoes'] #all data items in list are string\n",
        "print(type(fruits))\n",
        "multiple_data_types = [2,'cars',False,'True',3,67,'fruits'] #data items are different\n",
        "print(type(multiple_data_types))"
      ],
      "execution_count": 0,
      "outputs": [
        {
          "output_type": "stream",
          "text": [
            "<class 'list'>\n",
            "<class 'list'>\n"
          ],
          "name": "stdout"
        }
      ]
    },
    {
      "cell_type": "code",
      "metadata": {
        "id": "61IhxYmgBXOn",
        "colab_type": "code",
        "outputId": "c5b39196-9091-4aa5-ffbd-938baf72428a",
        "colab": {
          "base_uri": "https://localhost:8080/",
          "height": 35
        }
      },
      "source": [
        "empty_list = list() #syntax for empty list OR\n",
        "empty_list_2 = []\n",
        "print(type(empty_list))"
      ],
      "execution_count": 0,
      "outputs": [
        {
          "output_type": "stream",
          "text": [
            "<class 'list'>\n"
          ],
          "name": "stdout"
        }
      ]
    },
    {
      "cell_type": "code",
      "metadata": {
        "id": "C33js6HFCIlp",
        "colab_type": "code",
        "outputId": "83c4ae5d-d21e-478e-b552-2ed1205e2620",
        "colab": {
          "base_uri": "https://localhost:8080/",
          "height": 72
        }
      },
      "source": [
        "print(fruits[0]) #accessing first element of fruits list\n",
        "print(fruits[-1]) #accessing last element of fruits list\n",
        "print(fruits[-2]) #accessing second last element of fruits list"
      ],
      "execution_count": 0,
      "outputs": [
        {
          "output_type": "stream",
          "text": [
            "apple\n",
            "mangoes\n",
            "banana\n"
          ],
          "name": "stdout"
        }
      ]
    },
    {
      "cell_type": "code",
      "metadata": {
        "id": "xqlx5m7sCTVY",
        "colab_type": "code",
        "outputId": "e7146dc0-b2af-459e-fb65-88257f5f10fb",
        "colab": {
          "base_uri": "https://localhost:8080/",
          "height": 35
        }
      },
      "source": [
        "fruits[0] = 'coconut' #modifying list fruits\n",
        "fruits"
      ],
      "execution_count": 0,
      "outputs": [
        {
          "output_type": "execute_result",
          "data": {
            "text/plain": [
              "['coconut', 'orange', 'banana', 'mangoes']"
            ]
          },
          "metadata": {
            "tags": []
          },
          "execution_count": 46
        }
      ]
    },
    {
      "cell_type": "code",
      "metadata": {
        "id": "Z5niOP4AC9aY",
        "colab_type": "code",
        "outputId": "6968ce70-2e04-40d4-fcda-f6b33b41f71e",
        "colab": {
          "base_uri": "https://localhost:8080/",
          "height": 35
        }
      },
      "source": [
        "fruits.append('kiwi') #appending at the end of list\n",
        "fruits"
      ],
      "execution_count": 0,
      "outputs": [
        {
          "output_type": "execute_result",
          "data": {
            "text/plain": [
              "['coconut', 'orange', 'banana', 'mangoes', 'kiwi', 'kiwi']"
            ]
          },
          "metadata": {
            "tags": []
          },
          "execution_count": 48
        }
      ]
    },
    {
      "cell_type": "code",
      "metadata": {
        "id": "162wAmbpDLe6",
        "colab_type": "code",
        "outputId": "cc1ad351-aaf6-4ede-f776-5ed5e3839f1c",
        "colab": {
          "base_uri": "https://localhost:8080/",
          "height": 35
        }
      },
      "source": [
        "fruits.insert(0,'strawberries') #insert at first location 0. Give index and value\n",
        "fruits"
      ],
      "execution_count": 0,
      "outputs": [
        {
          "output_type": "execute_result",
          "data": {
            "text/plain": [
              "['strawberries', 'coconut', 'orange', 'banana', 'mangoes', 'kiwi', 'kiwi']"
            ]
          },
          "metadata": {
            "tags": []
          },
          "execution_count": 51
        }
      ]
    },
    {
      "cell_type": "code",
      "metadata": {
        "id": "8eE4tcBsDjcf",
        "colab_type": "code",
        "outputId": "53573e1e-01dc-42df-9f1c-00b23d727f00",
        "colab": {
          "base_uri": "https://localhost:8080/",
          "height": 35
        }
      },
      "source": [
        "del fruits[-1] #delete -1 elememt from list\n",
        "fruits"
      ],
      "execution_count": 0,
      "outputs": [
        {
          "output_type": "execute_result",
          "data": {
            "text/plain": [
              "['strawberries', 'coconut', 'orange', 'banana', 'mangoes']"
            ]
          },
          "metadata": {
            "tags": []
          },
          "execution_count": 53
        }
      ]
    },
    {
      "cell_type": "code",
      "metadata": {
        "id": "IZvkC-FAD3EU",
        "colab_type": "code",
        "outputId": "74a29269-f4af-4583-ab87-474def9f7edb",
        "colab": {
          "base_uri": "https://localhost:8080/",
          "height": 54
        }
      },
      "source": [
        "print(fruits.pop()) #pops the last element from list when no index given\n",
        "fruits"
      ],
      "execution_count": 0,
      "outputs": [
        {
          "output_type": "stream",
          "text": [
            "mangoes\n"
          ],
          "name": "stdout"
        },
        {
          "output_type": "execute_result",
          "data": {
            "text/plain": [
              "['strawberries', 'coconut', 'orange', 'banana']"
            ]
          },
          "metadata": {
            "tags": []
          },
          "execution_count": 54
        }
      ]
    },
    {
      "cell_type": "code",
      "metadata": {
        "id": "Cyz0KkqpEJhL",
        "colab_type": "code",
        "outputId": "a8e76331-d885-499a-f1eb-13a1b39fb23b",
        "colab": {
          "base_uri": "https://localhost:8080/",
          "height": 54
        }
      },
      "source": [
        "print(fruits.pop(1)) #pops element at given index\n",
        "fruits"
      ],
      "execution_count": 0,
      "outputs": [
        {
          "output_type": "stream",
          "text": [
            "coconut\n"
          ],
          "name": "stdout"
        },
        {
          "output_type": "execute_result",
          "data": {
            "text/plain": [
              "['strawberries', 'orange', 'banana']"
            ]
          },
          "metadata": {
            "tags": []
          },
          "execution_count": 55
        }
      ]
    },
    {
      "cell_type": "code",
      "metadata": {
        "id": "tIolKE1EEX5Q",
        "colab_type": "code",
        "outputId": "c0f1dba9-47a8-4654-fc55-aa12971542b4",
        "colab": {
          "base_uri": "https://localhost:8080/",
          "height": 35
        }
      },
      "source": [
        "fruits.remove('banana') #removes values from list according to value\n",
        "fruits"
      ],
      "execution_count": 0,
      "outputs": [
        {
          "output_type": "execute_result",
          "data": {
            "text/plain": [
              "['strawberries', 'orange']"
            ]
          },
          "metadata": {
            "tags": []
          },
          "execution_count": 56
        }
      ]
    },
    {
      "cell_type": "code",
      "metadata": {
        "id": "82LZXrcTEfjP",
        "colab_type": "code",
        "colab": {}
      },
      "source": [
        "fruits = ['apple','orange','banana','mangoes','kiwi','coconut'] "
      ],
      "execution_count": 0,
      "outputs": []
    },
    {
      "cell_type": "code",
      "metadata": {
        "id": "CDcv6vG8E0Td",
        "colab_type": "code",
        "outputId": "29f1aecc-cdfb-4699-b2da-0f7fa8d7fa6f",
        "colab": {
          "base_uri": "https://localhost:8080/",
          "height": 35
        }
      },
      "source": [
        "fruits.sort() #sorts in alphabetical ascending order permanently\n",
        "fruits"
      ],
      "execution_count": 0,
      "outputs": [
        {
          "output_type": "execute_result",
          "data": {
            "text/plain": [
              "['apple', 'banana', 'coconut', 'kiwi', 'mangoes', 'orange']"
            ]
          },
          "metadata": {
            "tags": []
          },
          "execution_count": 61
        }
      ]
    },
    {
      "cell_type": "code",
      "metadata": {
        "id": "TppBW_YoE9GH",
        "colab_type": "code",
        "outputId": "6286130d-bd35-4a3f-ea92-d49e822a9010",
        "colab": {
          "base_uri": "https://localhost:8080/",
          "height": 35
        }
      },
      "source": [
        "fruits.sort(reverse=True)\n",
        "fruits"
      ],
      "execution_count": 0,
      "outputs": [
        {
          "output_type": "execute_result",
          "data": {
            "text/plain": [
              "['orange', 'mangoes', 'kiwi', 'coconut', 'banana', 'apple']"
            ]
          },
          "metadata": {
            "tags": []
          },
          "execution_count": 62
        }
      ]
    },
    {
      "cell_type": "code",
      "metadata": {
        "id": "BiWarcCFFNDN",
        "colab_type": "code",
        "outputId": "180cc3a6-9e23-4c14-d9db-83274d58a1c6",
        "colab": {
          "base_uri": "https://localhost:8080/",
          "height": 35
        }
      },
      "source": [
        "print(sorted(fruits)) #temporary sorting ascending"
      ],
      "execution_count": 0,
      "outputs": [
        {
          "output_type": "stream",
          "text": [
            "['apple', 'banana', 'coconut', 'kiwi', 'mangoes', 'orange']\n"
          ],
          "name": "stdout"
        }
      ]
    },
    {
      "cell_type": "code",
      "metadata": {
        "id": "ESKDOQUkFVzT",
        "colab_type": "code",
        "outputId": "b2509d01-bbd9-4a08-c031-8691b78748b8",
        "colab": {
          "base_uri": "https://localhost:8080/",
          "height": 35
        }
      },
      "source": [
        "print(sorted(fruits,reverse=True))"
      ],
      "execution_count": 0,
      "outputs": [
        {
          "output_type": "stream",
          "text": [
            "['orange', 'mangoes', 'kiwi', 'coconut', 'banana', 'apple']\n"
          ],
          "name": "stdout"
        }
      ]
    },
    {
      "cell_type": "code",
      "metadata": {
        "id": "7mFw0EEEFmvu",
        "colab_type": "code",
        "outputId": "17f664aa-ca0a-44e9-bf68-211b8a7ca1de",
        "colab": {
          "base_uri": "https://localhost:8080/",
          "height": 54
        }
      },
      "source": [
        "fruits = ['apple','orange','banana','mangoes','kiwi','coconut'] \n",
        "print(fruits.reverse()) #only reverses the list does not sort\n",
        "fruits"
      ],
      "execution_count": 0,
      "outputs": [
        {
          "output_type": "stream",
          "text": [
            "None\n"
          ],
          "name": "stdout"
        },
        {
          "output_type": "execute_result",
          "data": {
            "text/plain": [
              "['coconut', 'kiwi', 'mangoes', 'banana', 'orange', 'apple']"
            ]
          },
          "metadata": {
            "tags": []
          },
          "execution_count": 77
        }
      ]
    },
    {
      "cell_type": "code",
      "metadata": {
        "id": "dwSSPvgOF20T",
        "colab_type": "code",
        "outputId": "d2b4bb43-a672-4eaf-d0b4-2a01cfd10f37",
        "colab": {
          "base_uri": "https://localhost:8080/",
          "height": 35
        }
      },
      "source": [
        "len(fruits) #find length of list"
      ],
      "execution_count": 0,
      "outputs": [
        {
          "output_type": "execute_result",
          "data": {
            "text/plain": [
              "6"
            ]
          },
          "metadata": {
            "tags": []
          },
          "execution_count": 79
        }
      ]
    },
    {
      "cell_type": "code",
      "metadata": {
        "id": "IKGb-u3FGiMJ",
        "colab_type": "code",
        "outputId": "68629033-5f85-4e53-cee5-4ac6d67ad12d",
        "colab": {
          "base_uri": "https://localhost:8080/",
          "height": 126
        }
      },
      "source": [
        "fruits = ['apple','orange','banana','mangoes','kiwi','coconut'] \n",
        "for fruit in fruits:\n",
        "    print(fruit)"
      ],
      "execution_count": 0,
      "outputs": [
        {
          "output_type": "stream",
          "text": [
            "apple\n",
            "orange\n",
            "banana\n",
            "mangoes\n",
            "kiwi\n",
            "coconut\n"
          ],
          "name": "stdout"
        }
      ]
    },
    {
      "cell_type": "code",
      "metadata": {
        "id": "FvHdJkvqHQLB",
        "colab_type": "code",
        "outputId": "3158a0f1-c4f6-4cfd-c0f8-309feb31f670",
        "colab": {
          "base_uri": "https://localhost:8080/",
          "height": 108
        }
      },
      "source": [
        "for i in range(0,5): #0 inclusive 5 exclusive starts at zero goes upto 4\n",
        "    print(i)"
      ],
      "execution_count": 0,
      "outputs": [
        {
          "output_type": "stream",
          "text": [
            "0\n",
            "1\n",
            "2\n",
            "3\n",
            "4\n"
          ],
          "name": "stdout"
        }
      ]
    },
    {
      "cell_type": "code",
      "metadata": {
        "id": "ERIzyD59Hods",
        "colab_type": "code",
        "outputId": "12400257-dd3c-438b-977c-56062d426ef9",
        "colab": {
          "base_uri": "https://localhost:8080/",
          "height": 108
        }
      },
      "source": [
        "for i in range(5): #if first index not specified starts at zero goes to 5\n",
        "    print(i)"
      ],
      "execution_count": 0,
      "outputs": [
        {
          "output_type": "stream",
          "text": [
            "0\n",
            "1\n",
            "2\n",
            "3\n",
            "4\n"
          ],
          "name": "stdout"
        }
      ]
    },
    {
      "cell_type": "code",
      "metadata": {
        "id": "ne8MlGcwIRm7",
        "colab_type": "code",
        "outputId": "f3c0c748-61b1-4de4-c76d-c1ab9bcb8c19",
        "colab": {
          "base_uri": "https://localhost:8080/",
          "height": 35
        }
      },
      "source": [
        "range_of_numbers = list(range(0,6)) #arguments 1-startValue 2-endValue Exclusive\n",
        "range_of_numbers"
      ],
      "execution_count": 0,
      "outputs": [
        {
          "output_type": "execute_result",
          "data": {
            "text/plain": [
              "[0, 1, 2, 3, 4, 5]"
            ]
          },
          "metadata": {
            "tags": []
          },
          "execution_count": 92
        }
      ]
    },
    {
      "cell_type": "code",
      "metadata": {
        "id": "99uU3vpLIeqn",
        "colab_type": "code",
        "outputId": "b67e2fde-4377-4dbc-ec1d-401df221fbb0",
        "colab": {
          "base_uri": "https://localhost:8080/",
          "height": 35
        }
      },
      "source": [
        "range_of_numbers = list(range(2,11,2)) #arguments 1-startValue 2-endValue Exclusive 3-jumpOfValues \n",
        "range_of_numbers"
      ],
      "execution_count": 0,
      "outputs": [
        {
          "output_type": "execute_result",
          "data": {
            "text/plain": [
              "[2, 4, 6, 8, 10]"
            ]
          },
          "metadata": {
            "tags": []
          },
          "execution_count": 93
        }
      ]
    },
    {
      "cell_type": "code",
      "metadata": {
        "id": "cNPEk6eOI4XX",
        "colab_type": "code",
        "outputId": "c0493498-0c0e-4a24-f9e5-3d806eedac92",
        "colab": {
          "base_uri": "https://localhost:8080/",
          "height": 72
        }
      },
      "source": [
        "print(min(range_of_numbers))\n",
        "print(max(range_of_numbers))\n",
        "print(sum(range_of_numbers))"
      ],
      "execution_count": 0,
      "outputs": [
        {
          "output_type": "stream",
          "text": [
            "2\n",
            "10\n",
            "30\n"
          ],
          "name": "stdout"
        }
      ]
    },
    {
      "cell_type": "code",
      "metadata": {
        "id": "tFcBcCTuJEsS",
        "colab_type": "code",
        "outputId": "d7aff0f8-9aa8-4c1d-b4a0-d72a90db87f1",
        "colab": {
          "base_uri": "https://localhost:8080/",
          "height": 35
        }
      },
      "source": [
        "squares = [value ** 2 for value in range(1,11)] #List Comprehensions\n",
        "squares"
      ],
      "execution_count": 0,
      "outputs": [
        {
          "output_type": "execute_result",
          "data": {
            "text/plain": [
              "[1, 4, 9, 16, 25, 36, 49, 64, 81, 100]"
            ]
          },
          "metadata": {
            "tags": []
          },
          "execution_count": 99
        }
      ]
    },
    {
      "cell_type": "code",
      "metadata": {
        "id": "0H5yjNVqJvc6",
        "colab_type": "code",
        "outputId": "4fb37f1e-22e5-4603-94b4-40c31cf408c6",
        "colab": {
          "base_uri": "https://localhost:8080/",
          "height": 54
        }
      },
      "source": [
        "%%time\n",
        "millon_numbers = []\n",
        "for i in range(1,1000000):\n",
        "    millon_numbers.append(i)\n",
        "millon_numbers"
      ],
      "execution_count": 0,
      "outputs": [
        {
          "output_type": "stream",
          "text": [
            "CPU times: user 129 ms, sys: 20.2 ms, total: 149 ms\n",
            "Wall time: 155 ms\n"
          ],
          "name": "stdout"
        }
      ]
    },
    {
      "cell_type": "code",
      "metadata": {
        "id": "fo7K6UGBJVaU",
        "colab_type": "code",
        "outputId": "04cc94f1-755e-430d-c688-1d39c4ec06c2",
        "colab": {
          "base_uri": "https://localhost:8080/",
          "height": 54
        }
      },
      "source": [
        "%%time\n",
        "millon_numbers = [value for value in range(1,1000000)]"
      ],
      "execution_count": 0,
      "outputs": [
        {
          "output_type": "stream",
          "text": [
            "CPU times: user 41.5 ms, sys: 21.1 ms, total: 62.5 ms\n",
            "Wall time: 63.8 ms\n"
          ],
          "name": "stdout"
        }
      ]
    },
    {
      "cell_type": "code",
      "metadata": {
        "id": "1le6EVffJsGw",
        "colab_type": "code",
        "outputId": "dc672556-2637-4ab2-bd93-347d69cb4643",
        "colab": {
          "base_uri": "https://localhost:8080/",
          "height": 35
        }
      },
      "source": [
        "players = ['charles', 'martina', 'michael', 'florence', 'eli']\n",
        "print(players[0:3]) #slicing a list starting at 0 ending at 2"
      ],
      "execution_count": 0,
      "outputs": [
        {
          "output_type": "stream",
          "text": [
            "['charles', 'martina', 'michael']\n"
          ],
          "name": "stdout"
        }
      ]
    },
    {
      "cell_type": "code",
      "metadata": {
        "id": "NoL7w0kwKJNM",
        "colab_type": "code",
        "outputId": "3939923f-6b68-4948-8c90-1c4c7117868c",
        "colab": {
          "base_uri": "https://localhost:8080/",
          "height": 35
        }
      },
      "source": [
        "print(players[:3]) #if no starting index starts at beginning of list to end index"
      ],
      "execution_count": 0,
      "outputs": [
        {
          "output_type": "stream",
          "text": [
            "['charles', 'martina', 'michael']\n"
          ],
          "name": "stdout"
        }
      ]
    },
    {
      "cell_type": "code",
      "metadata": {
        "id": "1sGQiYp0KQsW",
        "colab_type": "code",
        "outputId": "30c1279e-02ac-4bde-b09f-4f232c19255a",
        "colab": {
          "base_uri": "https://localhost:8080/",
          "height": 35
        }
      },
      "source": [
        "print(players[2:]) #if no ending index starts at index given to end of list"
      ],
      "execution_count": 0,
      "outputs": [
        {
          "output_type": "stream",
          "text": [
            "['michael', 'florence', 'eli']\n"
          ],
          "name": "stdout"
        }
      ]
    },
    {
      "cell_type": "code",
      "metadata": {
        "id": "KitMZYlOKeBe",
        "colab_type": "code",
        "outputId": "6180a3ff-6acd-4335-8008-f4d48e118b41",
        "colab": {
          "base_uri": "https://localhost:8080/",
          "height": 35
        }
      },
      "source": [
        "print(players[-2:]) #start the end prints values equal to absolute value of index"
      ],
      "execution_count": 0,
      "outputs": [
        {
          "output_type": "stream",
          "text": [
            "['florence', 'eli']\n"
          ],
          "name": "stdout"
        }
      ]
    },
    {
      "cell_type": "code",
      "metadata": {
        "id": "43kMhFvUKvZ7",
        "colab_type": "code",
        "outputId": "ed7b1455-e683-4ba1-8ff7-1a82139b0298",
        "colab": {
          "base_uri": "https://localhost:8080/",
          "height": 35
        }
      },
      "source": [
        "fruits = ['apple','orange','banana','mangoes','kiwi','coconut']\n",
        "fruits_copy = fruits #both fruits and fruits_copy point at same list\n",
        "fruits_copy[0] = 'fig'\n",
        "print(fruits)"
      ],
      "execution_count": 0,
      "outputs": [
        {
          "output_type": "stream",
          "text": [
            "['fig', 'orange', 'banana', 'mangoes', 'kiwi', 'coconut']\n"
          ],
          "name": "stdout"
        }
      ]
    },
    {
      "cell_type": "code",
      "metadata": {
        "id": "iOfPxtguLWlk",
        "colab_type": "code",
        "outputId": "1d3336d7-5a27-43e2-d13d-784c749640a6",
        "colab": {
          "base_uri": "https://localhost:8080/",
          "height": 54
        }
      },
      "source": [
        "fruits = ['apple','orange','banana','mangoes','kiwi','coconut']\n",
        "fruits_copy = fruits[:] #deep copy create entire new list\n",
        "fruits_copy[0] = 'fig'\n",
        "print(fruits)\n",
        "print(fruits_copy)"
      ],
      "execution_count": 0,
      "outputs": [
        {
          "output_type": "stream",
          "text": [
            "['apple', 'orange', 'banana', 'mangoes', 'kiwi', 'coconut']\n",
            "['fig', 'orange', 'banana', 'mangoes', 'kiwi', 'coconut']\n"
          ],
          "name": "stdout"
        }
      ]
    },
    {
      "cell_type": "markdown",
      "metadata": {
        "id": "dNvSIfI7L7Bd",
        "colab_type": "text"
      },
      "source": [
        "#Tuples\n",
        "\n",
        "Tuples are declared using ( ). Tuples are immutable , that is they cannot be modified. Indexing starts at 0."
      ]
    },
    {
      "cell_type": "code",
      "metadata": {
        "id": "MEV230eCLqrR",
        "colab_type": "code",
        "outputId": "a1ef62bf-c705-4727-86e7-cc246c618e99",
        "colab": {
          "base_uri": "https://localhost:8080/",
          "height": 35
        }
      },
      "source": [
        "empty_tuple  = (1366,768)\n",
        "print(type(empty_tuple),empty_tuple)"
      ],
      "execution_count": 0,
      "outputs": [
        {
          "output_type": "stream",
          "text": [
            "<class 'tuple'> (1366, 768)\n"
          ],
          "name": "stdout"
        }
      ]
    },
    {
      "cell_type": "code",
      "metadata": {
        "id": "wjQbG2jbOX6B",
        "colab_type": "code",
        "outputId": "1ae2bb1e-df75-4de9-a3d7-11f296dcb6f1",
        "colab": {
          "base_uri": "https://localhost:8080/",
          "height": 35
        }
      },
      "source": [
        "tuple_numbers = tuple(range(1,11))\n",
        "tuple_numbers"
      ],
      "execution_count": 0,
      "outputs": [
        {
          "output_type": "execute_result",
          "data": {
            "text/plain": [
              "(1, 2, 3, 4, 5, 6, 7, 8, 9, 10)"
            ]
          },
          "metadata": {
            "tags": []
          },
          "execution_count": 124
        }
      ]
    },
    {
      "cell_type": "code",
      "metadata": {
        "id": "cwGYKP3LOePV",
        "colab_type": "code",
        "colab": {}
      },
      "source": [
        "for i in tuple_numbers:\n",
        "    print(i)"
      ],
      "execution_count": 0,
      "outputs": []
    },
    {
      "cell_type": "markdown",
      "metadata": {
        "id": "Jt8gm-qwPdbA",
        "colab_type": "text"
      },
      "source": [
        "#Conditional Statements IF , ElIF , ELSE\n",
        "\n",
        "\n",
        "\n"
      ]
    },
    {
      "cell_type": "code",
      "metadata": {
        "id": "sR848BV2PcrY",
        "colab_type": "code",
        "colab": {}
      },
      "source": [
        "numbers = list(range(2,21,2))\n",
        "even_numbers , odd_numbers = [] , []\n",
        "for i in numbers:\n",
        "    if i%2 == 0:\n",
        "        even_numbers.append(i)\n",
        "    else:\n",
        "        odd_numbers.append(i)"
      ],
      "execution_count": 0,
      "outputs": []
    },
    {
      "cell_type": "code",
      "metadata": {
        "id": "7xugkJALQBUj",
        "colab_type": "code",
        "outputId": "23979ff6-be0c-4ba3-b3fd-e45c62560364",
        "colab": {
          "base_uri": "https://localhost:8080/",
          "height": 35
        }
      },
      "source": [
        "even_numbers"
      ],
      "execution_count": 0,
      "outputs": [
        {
          "output_type": "execute_result",
          "data": {
            "text/plain": [
              "[2, 4, 6, 8, 10, 12, 14, 16, 18, 20]"
            ]
          },
          "metadata": {
            "tags": []
          },
          "execution_count": 127
        }
      ]
    },
    {
      "cell_type": "code",
      "metadata": {
        "id": "3tpISCGrQDrW",
        "colab_type": "code",
        "outputId": "4c8b53a2-cde4-4705-98a6-478442dff435",
        "colab": {
          "base_uri": "https://localhost:8080/",
          "height": 54
        }
      },
      "source": [
        "print(2 not in even_numbers) \n",
        "print(2 in even_numbers) #check if value 2 in list or not returns boolean"
      ],
      "execution_count": 0,
      "outputs": [
        {
          "output_type": "stream",
          "text": [
            "False\n",
            "True\n"
          ],
          "name": "stdout"
        }
      ]
    },
    {
      "cell_type": "code",
      "metadata": {
        "id": "oF_OLtMGQVWd",
        "colab_type": "code",
        "outputId": "d540acf1-374b-403f-a93d-23d5822b7768",
        "colab": {
          "base_uri": "https://localhost:8080/",
          "height": 90
        }
      },
      "source": [
        "age_list = [5,12,18,22]\n",
        "for age in age_list:\n",
        "    if age <= 5 and age > 3:\n",
        "        print(\"Junior KG\")\n",
        "    elif age <= 13 and age > 5:\n",
        "        print(\"Middle School\")\n",
        "    elif age <= 18 and age > 13:\n",
        "        print(\"High School\")\n",
        "    else:\n",
        "        print(\"Collge Student\")"
      ],
      "execution_count": 0,
      "outputs": [
        {
          "output_type": "stream",
          "text": [
            "Junior KG\n",
            "Middle School\n",
            "High School\n",
            "Collge Student\n"
          ],
          "name": "stdout"
        }
      ]
    },
    {
      "cell_type": "code",
      "metadata": {
        "id": "kLxSAt3dR4Wy",
        "colab_type": "code",
        "outputId": "0bc88eb2-9c2b-4677-fbf3-f7034cf86d18",
        "colab": {
          "base_uri": "https://localhost:8080/",
          "height": 72
        }
      },
      "source": [
        "available_toppings = ['mushrooms', 'olives', 'green peppers','pepperoni', 'pineapple', 'extra cheese']\n",
        "requested_toppings = ['mushrooms', 'french fries', 'extra cheese']\n",
        "\n",
        "for topping in requested_toppings:\n",
        "    if topping in available_toppings:\n",
        "        print(\"Topping \" + topping + \" Avaliable\")\n",
        "    else:\n",
        "        print(\"Topping \" + topping + \" Not Avaliable\")"
      ],
      "execution_count": 0,
      "outputs": [
        {
          "output_type": "stream",
          "text": [
            "Topping mushrooms Avaliable\n",
            "Topping french fries Not Avaliable\n",
            "Topping extra cheese Avaliable\n"
          ],
          "name": "stdout"
        }
      ]
    },
    {
      "cell_type": "markdown",
      "metadata": {
        "id": "y23hROcnSumL",
        "colab_type": "text"
      },
      "source": [
        "#Dictionaries\n",
        "\n",
        "Dictionaries are declared using { }. Every value in dictionary is a KEY - VALUE Pair. Key and Value are separated by Colan : ."
      ]
    },
    {
      "cell_type": "code",
      "metadata": {
        "id": "i5GpNztDSbeW",
        "colab_type": "code",
        "outputId": "6c64d969-b5da-4139-f532-58175f7af7f9",
        "colab": {
          "base_uri": "https://localhost:8080/",
          "height": 35
        }
      },
      "source": [
        "student = {'Name':'Mark Z','Age':30,'Major':'CS'}\n",
        "print(type(student))"
      ],
      "execution_count": 0,
      "outputs": [
        {
          "output_type": "stream",
          "text": [
            "<class 'dict'>\n"
          ],
          "name": "stdout"
        }
      ]
    },
    {
      "cell_type": "code",
      "metadata": {
        "id": "EvjGIGjjUDuW",
        "colab_type": "code",
        "outputId": "08612639-f37f-4b09-8134-ea43bf668504",
        "colab": {
          "base_uri": "https://localhost:8080/",
          "height": 72
        }
      },
      "source": [
        "print(student['Name'])\n",
        "print(student['Age'])\n",
        "print(student['Major'])"
      ],
      "execution_count": 0,
      "outputs": [
        {
          "output_type": "stream",
          "text": [
            "Mark Z\n",
            "30\n",
            "CS\n"
          ],
          "name": "stdout"
        }
      ]
    },
    {
      "cell_type": "code",
      "metadata": {
        "id": "AgzBACuDUVN2",
        "colab_type": "code",
        "colab": {}
      },
      "source": [
        "student['House'] = 'Kirkland' #Adding more key-value pairs 'House' is Key 'Kirkland' is Value\n",
        "student['College'] = 'Harvard University'"
      ],
      "execution_count": 0,
      "outputs": []
    },
    {
      "cell_type": "code",
      "metadata": {
        "id": "Q23afVf4U1GF",
        "colab_type": "code",
        "outputId": "cd3a2616-8c00-4348-df15-56dad0e4c8e9",
        "colab": {
          "base_uri": "https://localhost:8080/",
          "height": 35
        }
      },
      "source": [
        "print(student)"
      ],
      "execution_count": 0,
      "outputs": [
        {
          "output_type": "stream",
          "text": [
            "{'Name': 'Mark Z', 'Age': 30, 'Major': 'CS', 'House': 'Kirkland', 'College': 'Harvard University'}\n"
          ],
          "name": "stdout"
        }
      ]
    },
    {
      "cell_type": "code",
      "metadata": {
        "id": "GaQStBI8U5at",
        "colab_type": "code",
        "colab": {}
      },
      "source": [
        "student['Age'] = 19 # Updating value related to any Key like Age"
      ],
      "execution_count": 0,
      "outputs": []
    },
    {
      "cell_type": "code",
      "metadata": {
        "id": "QxBCvLj2VWN-",
        "colab_type": "code",
        "outputId": "87713fa1-14f0-4908-d44f-5780c17b7a94",
        "colab": {
          "base_uri": "https://localhost:8080/",
          "height": 35
        }
      },
      "source": [
        "print(student)"
      ],
      "execution_count": 0,
      "outputs": [
        {
          "output_type": "stream",
          "text": [
            "{'Name': 'Mark Z', 'Age': 19, 'Major': 'CS', 'House': 'Kirkland', 'College': 'Harvard University'}\n"
          ],
          "name": "stdout"
        }
      ]
    },
    {
      "cell_type": "code",
      "metadata": {
        "id": "G9kgen6KVXk6",
        "colab_type": "code",
        "outputId": "480001dd-99fb-4e8c-bed7-ec9067836e47",
        "colab": {
          "base_uri": "https://localhost:8080/",
          "height": 35
        }
      },
      "source": [
        "del student['College'] #Permanently remove key-value pair from dictionary\n",
        "print(student)"
      ],
      "execution_count": 0,
      "outputs": [
        {
          "output_type": "stream",
          "text": [
            "{'Name': 'Mark Z', 'Age': 19, 'Major': 'CS', 'House': 'Kirkland'}\n"
          ],
          "name": "stdout"
        }
      ]
    },
    {
      "cell_type": "code",
      "metadata": {
        "id": "AJFyl06OVsCn",
        "colab_type": "code",
        "outputId": "cbb05950-35f4-44a2-f0b6-9cd7a6a33234",
        "colab": {
          "base_uri": "https://localhost:8080/",
          "height": 35
        }
      },
      "source": [
        "name_of_student = student.get('Name','No name assigned') #returns value associated with given key if present\n",
        "print(name_of_student) # else return given string that is \"No name assigned\""
      ],
      "execution_count": 0,
      "outputs": [
        {
          "output_type": "stream",
          "text": [
            "Mark Z\n"
          ],
          "name": "stdout"
        }
      ]
    },
    {
      "cell_type": "code",
      "metadata": {
        "id": "aDApNZPEWTKG",
        "colab_type": "code",
        "colab": {}
      },
      "source": [
        "student = {'Name':'Mark Z','Age':30,'Major':'CS','House':'Kirkland','College':'Harvard University'}"
      ],
      "execution_count": 0,
      "outputs": []
    },
    {
      "cell_type": "code",
      "metadata": {
        "id": "-2BJTZmkW1OT",
        "colab_type": "code",
        "outputId": "7a808318-2442-462b-b00d-9fe545c5926a",
        "colab": {
          "base_uri": "https://localhost:8080/",
          "height": 108
        }
      },
      "source": [
        "for key,value in student.items():  #looping through key and values of dictionary\n",
        "    print(\"Key is \",key,\"->Value is \",value)"
      ],
      "execution_count": 0,
      "outputs": [
        {
          "output_type": "stream",
          "text": [
            "Key is  Name ->Value is  Mark Z\n",
            "Key is  Age ->Value is  30\n",
            "Key is  Major ->Value is  CS\n",
            "Key is  House ->Value is  Kirkland\n",
            "Key is  College ->Value is  Harvard University\n"
          ],
          "name": "stdout"
        }
      ]
    },
    {
      "cell_type": "code",
      "metadata": {
        "id": "RMIkMFgQXAEG",
        "colab_type": "code",
        "outputId": "2540c0b5-50a6-4ea0-c9e6-f76c08be4259",
        "colab": {
          "base_uri": "https://localhost:8080/",
          "height": 108
        }
      },
      "source": [
        "for key in student.keys(): #looping only through keys OR default is always keys\n",
        "    print(\"Key is: \",key)"
      ],
      "execution_count": 0,
      "outputs": [
        {
          "output_type": "stream",
          "text": [
            "Key is:  Name\n",
            "Key is:  Age\n",
            "Key is:  Major\n",
            "Key is:  House\n",
            "Key is:  College\n"
          ],
          "name": "stdout"
        }
      ]
    },
    {
      "cell_type": "code",
      "metadata": {
        "id": "Qz6aS2nbXW4m",
        "colab_type": "code",
        "outputId": "f61dbaa8-a1e9-4a92-8178-0d8d8363b351",
        "colab": {
          "base_uri": "https://localhost:8080/",
          "height": 108
        }
      },
      "source": [
        "for key in student:\n",
        "    print(\"Key is \",key)"
      ],
      "execution_count": 0,
      "outputs": [
        {
          "output_type": "stream",
          "text": [
            "Key is  Name\n",
            "Key is  Age\n",
            "Key is  Major\n",
            "Key is  House\n",
            "Key is  College\n"
          ],
          "name": "stdout"
        }
      ]
    },
    {
      "cell_type": "code",
      "metadata": {
        "id": "TRDxc6hmXxhK",
        "colab_type": "code",
        "outputId": "4017f827-13ad-4504-cd3a-15411046dba0",
        "colab": {
          "base_uri": "https://localhost:8080/",
          "height": 35
        }
      },
      "source": [
        "student = {'Name':'Mark Z','Age':30,'Major':'CS','House':'Kirkland','College':'Harvard University'}\n",
        "print('Name' in student.keys())"
      ],
      "execution_count": 0,
      "outputs": [
        {
          "output_type": "stream",
          "text": [
            "True\n"
          ],
          "name": "stdout"
        }
      ]
    },
    {
      "cell_type": "code",
      "metadata": {
        "id": "AtOwH89pX6jx",
        "colab_type": "code",
        "outputId": "ea063d33-9d93-49cc-ebd1-b957aede05e6",
        "colab": {
          "base_uri": "https://localhost:8080/",
          "height": 108
        }
      },
      "source": [
        "for value in student.values(): #looping through all values in dictionary\n",
        "    print(\"Value is \" , value)"
      ],
      "execution_count": 0,
      "outputs": [
        {
          "output_type": "stream",
          "text": [
            "Value is  Mark Z\n",
            "Value is  30\n",
            "Value is  CS\n",
            "Value is  Kirkland\n",
            "Value is  Harvard University\n"
          ],
          "name": "stdout"
        }
      ]
    },
    {
      "cell_type": "code",
      "metadata": {
        "id": "9uLU_uoCYgX3",
        "colab_type": "code",
        "colab": {}
      },
      "source": [
        "languages = {1:'Python',2:'Java',3:'C++',4:'C',5:'Ruby',6:'Python'}"
      ],
      "execution_count": 0,
      "outputs": []
    },
    {
      "cell_type": "code",
      "metadata": {
        "id": "2iJm5NxKZYNL",
        "colab_type": "code",
        "outputId": "9d98bf22-5797-4568-9f37-ad8511604283",
        "colab": {
          "base_uri": "https://localhost:8080/",
          "height": 35
        }
      },
      "source": [
        "print(set(languages.values())) #Creates unique list of values in dictionary sets have only unique values"
      ],
      "execution_count": 0,
      "outputs": [
        {
          "output_type": "stream",
          "text": [
            "{'Python', 'Ruby', 'C++', 'C', 'Java'}\n"
          ],
          "name": "stdout"
        }
      ]
    },
    {
      "cell_type": "code",
      "metadata": {
        "id": "GRf9a1NnZfdH",
        "colab_type": "code",
        "outputId": "96965c83-8aff-46df-91c3-dde253a01f63",
        "colab": {
          "base_uri": "https://localhost:8080/",
          "height": 35
        }
      },
      "source": [
        "fruits_set = {'mangoes','apple','orange','fig','apple'} #duplicates in set are considered only once\n",
        "fruits_set"
      ],
      "execution_count": 0,
      "outputs": [
        {
          "output_type": "execute_result",
          "data": {
            "text/plain": [
              "{'apple', 'fig', 'mangoes', 'orange'}"
            ]
          },
          "metadata": {
            "tags": []
          },
          "execution_count": 187
        }
      ]
    },
    {
      "cell_type": "code",
      "metadata": {
        "id": "UPCgLCpeZ8VS",
        "colab_type": "code",
        "outputId": "1f1317e2-fd9e-4fae-fa7c-ce709616cf3e",
        "colab": {
          "base_uri": "https://localhost:8080/",
          "height": 55
        }
      },
      "source": [
        "fruits_list = []\n",
        "i = 1\n",
        "for fruit in fruits_set:\n",
        "    new_fruit = {'Name':fruit,'Number':i}\n",
        "    i = i + 1\n",
        "    fruits_list.append(new_fruit)\n",
        "print(fruits_list) #Creating and printing a list of dictionaries"
      ],
      "execution_count": 0,
      "outputs": [
        {
          "output_type": "stream",
          "text": [
            "[{'Name': 'orange', 'Number': 1}, {'Name': 'apple', 'Number': 2}, {'Name': 'mangoes', 'Number': 3}, {'Name': 'fig', 'Number': 4}]\n"
          ],
          "name": "stdout"
        }
      ]
    },
    {
      "cell_type": "code",
      "metadata": {
        "id": "jg5IwBO6awoU",
        "colab_type": "code",
        "colab": {}
      },
      "source": [
        "pizza = {'Crust':'Thick',\n",
        "         'Toppings' : ['cheese','paneer','olives'],\n",
        "         'Price':250} #Values of toppings Key is a list of items"
      ],
      "execution_count": 0,
      "outputs": []
    },
    {
      "cell_type": "code",
      "metadata": {
        "id": "zCkQ2rn-bWHY",
        "colab_type": "code",
        "outputId": "47bde913-5b73-4634-eb45-ce8c68292620",
        "colab": {
          "base_uri": "https://localhost:8080/",
          "height": 90
        }
      },
      "source": [
        "for pizza_value in pizza.values():\n",
        "    print(pizza_value)\n",
        "\n",
        "print(pizza['Toppings'])"
      ],
      "execution_count": 0,
      "outputs": [
        {
          "output_type": "stream",
          "text": [
            "Thick\n",
            "['cheese', 'paneer', 'olives']\n",
            "250\n",
            "['cheese', 'paneer', 'olives']\n"
          ],
          "name": "stdout"
        }
      ]
    },
    {
      "cell_type": "code",
      "metadata": {
        "id": "7n5oQBMCbcpR",
        "colab_type": "code",
        "colab": {}
      },
      "source": [
        "users = {\n",
        "    'markz':{\n",
        "        'f_name':'Mark',\n",
        "        'l_name':'Zukerberg',\n",
        "        'location':'Harvard'\n",
        "    },\n",
        "    'robertc':{\n",
        "        'f_name':'Robert',\n",
        "        'l_name':'Curie',\n",
        "        'location':'Yale'\n",
        "    },\n",
        "    'stanl':{\n",
        "        'f_name':'Stan',\n",
        "        'l_name':'Lee',\n",
        "        'location':'Stanford'\n",
        "    }\n",
        "} #nested Dictionaries every key is associated with another dictionary"
      ],
      "execution_count": 0,
      "outputs": []
    },
    {
      "cell_type": "code",
      "metadata": {
        "id": "JkdhIbf_cWq6",
        "colab_type": "code",
        "outputId": "ffcfc174-6d07-466a-82ac-658afa5e8a16",
        "colab": {
          "base_uri": "https://localhost:8080/",
          "height": 181
        }
      },
      "source": [
        "for user_name,details in users.items():\n",
        "    print(\"Username: \",user_name)\n",
        "    full_name = f\"{details['f_name']} {details['l_name']}\"\n",
        "    loc = details['location']\n",
        "    print(\"\\tFullName \",full_name)\n",
        "    print(\"\\tLocation \",loc)"
      ],
      "execution_count": 0,
      "outputs": [
        {
          "output_type": "stream",
          "text": [
            "Username:  markz\n",
            "\tFullName  Mark Zukerberg\n",
            "\tLocation  Harvard\n",
            "Username:  robertc\n",
            "\tFullName  Robert Curie\n",
            "\tLocation  Yale\n",
            "Username:  stanl\n",
            "\tFullName  Stan Lee\n",
            "\tLocation  Stanford\n"
          ],
          "name": "stdout"
        }
      ]
    },
    {
      "cell_type": "code",
      "metadata": {
        "id": "bz6pzQESdEKW",
        "colab_type": "code",
        "colab": {}
      },
      "source": [
        ""
      ],
      "execution_count": 0,
      "outputs": []
    },
    {
      "cell_type": "markdown",
      "metadata": {
        "id": "dOZQBbhoeHpD",
        "colab_type": "text"
      },
      "source": [
        "#User Inputs and While Loops"
      ]
    },
    {
      "cell_type": "code",
      "metadata": {
        "id": "Wt8Sf1h3eMHn",
        "colab_type": "code",
        "outputId": "61691916-6247-45bd-e72c-5f454af6e005",
        "colab": {
          "base_uri": "https://localhost:8080/",
          "height": 54
        }
      },
      "source": [
        "name = input(\"Please Enter your name \") #all input taken datatype is string\n",
        "print(\"Your name is \",name , type(name))"
      ],
      "execution_count": 0,
      "outputs": [
        {
          "output_type": "stream",
          "text": [
            "Please Enter your name Mark\n",
            "Your name is  Mark <class 'str'>\n"
          ],
          "name": "stdout"
        }
      ]
    },
    {
      "cell_type": "code",
      "metadata": {
        "id": "ftUhpAaseS7i",
        "colab_type": "code",
        "outputId": "70a38c28-0ce7-4397-c90c-b9fa96f3edf1",
        "colab": {
          "base_uri": "https://localhost:8080/",
          "height": 54
        }
      },
      "source": [
        "age = input(\"Enter your age\")\n",
        "print(\"Your age is \",age, type(age))"
      ],
      "execution_count": 0,
      "outputs": [
        {
          "output_type": "stream",
          "text": [
            "Enter your age22\n",
            "Your age is  22 <class 'str'>\n"
          ],
          "name": "stdout"
        }
      ]
    },
    {
      "cell_type": "code",
      "metadata": {
        "id": "DHCYOCMxey4d",
        "colab_type": "code",
        "outputId": "a5c49ef4-cefc-4c8c-fc0e-9fc951b3f3e0",
        "colab": {
          "base_uri": "https://localhost:8080/",
          "height": 35
        }
      },
      "source": [
        "age_int = int(age) #casting a string(str) to integer(int)\n",
        "print(age_int,type(age_int))"
      ],
      "execution_count": 0,
      "outputs": [
        {
          "output_type": "stream",
          "text": [
            "22 <class 'int'>\n"
          ],
          "name": "stdout"
        }
      ]
    },
    {
      "cell_type": "code",
      "metadata": {
        "id": "GipPJQG2e5Ua",
        "colab_type": "code",
        "outputId": "20974da9-a693-4796-d012-6bedce5631bd",
        "colab": {
          "base_uri": "https://localhost:8080/",
          "height": 72
        }
      },
      "source": [
        "while True:\n",
        "    city = input(\"Enter your city OR q to Quit\")\n",
        "    if city != 'q':\n",
        "        print(\"Your city is \",city)\n",
        "    else:\n",
        "        break"
      ],
      "execution_count": 0,
      "outputs": [
        {
          "output_type": "stream",
          "text": [
            "Enter your city OR q to QuitPunr\n",
            "Your city is  Punr\n",
            "Enter your city OR q to Quitq\n"
          ],
          "name": "stdout"
        }
      ]
    },
    {
      "cell_type": "code",
      "metadata": {
        "id": "rhHHlrU0gBln",
        "colab_type": "code",
        "colab": {}
      },
      "source": [
        "print(\"Printing odd numbers upto 100\")\n",
        "number = 0\n",
        "while number < 100:\n",
        "    number = number + 1\n",
        "    if number%2 == 0:\n",
        "        continue\n",
        "    else:\n",
        "        print(number)"
      ],
      "execution_count": 0,
      "outputs": []
    },
    {
      "cell_type": "code",
      "metadata": {
        "id": "I2WnSUcqgWj_",
        "colab_type": "code",
        "outputId": "f103e10d-4e0c-4ada-ed5e-cfec1c486424",
        "colab": {
          "base_uri": "https://localhost:8080/",
          "height": 126
        }
      },
      "source": [
        "numbers = list(range(6))\n",
        "while numbers:\n",
        "    print(numbers.pop(0))"
      ],
      "execution_count": 0,
      "outputs": [
        {
          "output_type": "stream",
          "text": [
            "0\n",
            "1\n",
            "2\n",
            "3\n",
            "4\n",
            "5\n"
          ],
          "name": "stdout"
        }
      ]
    },
    {
      "cell_type": "code",
      "metadata": {
        "id": "_g2M76OgguxU",
        "colab_type": "code",
        "colab": {}
      },
      "source": [
        ""
      ],
      "execution_count": 0,
      "outputs": []
    },
    {
      "cell_type": "markdown",
      "metadata": {
        "id": "0Olwp6OuhBf8",
        "colab_type": "text"
      },
      "source": [
        "#Functions"
      ]
    },
    {
      "cell_type": "code",
      "metadata": {
        "id": "EuJ5PR3ihDal",
        "colab_type": "code",
        "colab": {}
      },
      "source": [
        "def greetings(username): #parameter is passed by Value not reference\n",
        "    print(\"Welcome to Python\",username) "
      ],
      "execution_count": 0,
      "outputs": []
    },
    {
      "cell_type": "code",
      "metadata": {
        "id": "-OElhLish6KU",
        "colab_type": "code",
        "outputId": "e29684b8-9f60-4cb9-d019-d73a0cee1696",
        "colab": {
          "base_uri": "https://localhost:8080/",
          "height": 54
        }
      },
      "source": [
        "username = 'Shrayank'\n",
        "greetings(username)\n",
        "print(username)\n"
      ],
      "execution_count": 0,
      "outputs": [
        {
          "output_type": "stream",
          "text": [
            "Welcome to Python Shrayank\n",
            "Shrayank\n"
          ],
          "name": "stdout"
        }
      ]
    },
    {
      "cell_type": "code",
      "metadata": {
        "id": "XmeGDDZih81a",
        "colab_type": "code",
        "colab": {}
      },
      "source": [
        "def check_even_odd(numbers_list):\n",
        "    even_nos ,odd_nos = [] , []\n",
        "    for number in numbers_list:\n",
        "        if number%2 == 0:\n",
        "            even_nos.append(number)\n",
        "        else:\n",
        "            odd_nos.append(number)\n",
        "    print(\"Even nos are: \",len(even_nos))\n",
        "    print(\"Odd nos are: \",len(odd_nos))"
      ],
      "execution_count": 0,
      "outputs": []
    },
    {
      "cell_type": "code",
      "metadata": {
        "id": "hmXX-8S7izri",
        "colab_type": "code",
        "outputId": "6dbaa773-a916-4da0-fee4-fc0957ff61e6",
        "colab": {
          "base_uri": "https://localhost:8080/",
          "height": 54
        }
      },
      "source": [
        "check_even_odd(list(range(1,101)))"
      ],
      "execution_count": 0,
      "outputs": [
        {
          "output_type": "stream",
          "text": [
            "Even nos are:  50\n",
            "Odd nos are:  50\n"
          ],
          "name": "stdout"
        }
      ]
    },
    {
      "cell_type": "code",
      "metadata": {
        "id": "n-NjCIa1i7Ge",
        "colab_type": "code",
        "colab": {}
      },
      "source": [
        "def default_parameters(name =''):\n",
        "    if name:\n",
        "        print(\"Your name is \", name)\n",
        "    else:\n",
        "        print(\"No name given\")"
      ],
      "execution_count": 0,
      "outputs": []
    },
    {
      "cell_type": "code",
      "metadata": {
        "id": "_piCg1ZBjVuo",
        "colab_type": "code",
        "outputId": "23215ed3-d8df-4c14-f734-0de08e2a5aa0",
        "colab": {
          "base_uri": "https://localhost:8080/",
          "height": 54
        }
      },
      "source": [
        "default_parameters()\n",
        "default_parameters('Shrayank') #OverWrites the default value in function definition"
      ],
      "execution_count": 0,
      "outputs": [
        {
          "output_type": "stream",
          "text": [
            "No name given\n",
            "Your name is  Shrayank\n"
          ],
          "name": "stdout"
        }
      ]
    },
    {
      "cell_type": "code",
      "metadata": {
        "id": "3IjA2o7fkeY6",
        "colab_type": "code",
        "colab": {}
      },
      "source": [
        "def modify_list(original,reverse): \n",
        "    while original:\n",
        "        reverse.append(original.pop())"
      ],
      "execution_count": 0,
      "outputs": []
    },
    {
      "cell_type": "code",
      "metadata": {
        "id": "ZVk6Ol8ojX3j",
        "colab_type": "code",
        "outputId": "54483bf8-13d0-40c2-a4ab-43152177b786",
        "colab": {
          "base_uri": "https://localhost:8080/",
          "height": 54
        }
      },
      "source": [
        "numbers_list = list(range(11))\n",
        "new_list = []\n",
        "modify_list(numbers_list,new_list) #List is passed by reference not Value\n",
        "print(new_list)\n",
        "print(numbers_list)"
      ],
      "execution_count": 0,
      "outputs": [
        {
          "output_type": "stream",
          "text": [
            "[10, 9, 8, 7, 6, 5, 4, 3, 2, 1, 0]\n",
            "[]\n"
          ],
          "name": "stdout"
        }
      ]
    },
    {
      "cell_type": "code",
      "metadata": {
        "id": "1WXapv-xk2M2",
        "colab_type": "code",
        "outputId": "89df6e8c-d48e-4e50-aae0-a97e3046d7bb",
        "colab": {
          "base_uri": "https://localhost:8080/",
          "height": 54
        }
      },
      "source": [
        "numbers_list = list(range(11))\n",
        "new_list = []\n",
        "modify_list(numbers_list[:],new_list) #Copy of the list is passed to the function\n",
        "print(new_list)\n",
        "print(numbers_list)"
      ],
      "execution_count": 0,
      "outputs": [
        {
          "output_type": "stream",
          "text": [
            "[10, 9, 8, 7, 6, 5, 4, 3, 2, 1, 0]\n",
            "[0, 1, 2, 3, 4, 5, 6, 7, 8, 9, 10]\n"
          ],
          "name": "stdout"
        }
      ]
    },
    {
      "cell_type": "code",
      "metadata": {
        "id": "p7RpNFqKlQ3P",
        "colab_type": "code",
        "colab": {}
      },
      "source": [
        "def pizza_toppings(*toppings): #Function can take arbitary no of arguments(one or many) toppings is tuple\n",
        "    print(type(toppings))\n",
        "    if toppings:\n",
        "        print(\"Avaliable toppings \", toppings)\n",
        "    else:\n",
        "        print(\"No toppings avaliable\")"
      ],
      "execution_count": 0,
      "outputs": []
    },
    {
      "cell_type": "code",
      "metadata": {
        "id": "CrKWoRJhl80o",
        "colab_type": "code",
        "outputId": "aa50cee6-3457-4a4c-8bc9-77cbf1e951d8",
        "colab": {
          "base_uri": "https://localhost:8080/",
          "height": 126
        }
      },
      "source": [
        "pizza_toppings()\n",
        "pizza_toppings('cheese')\n",
        "pizza_toppings('cheese','olives','onion','macharoni')"
      ],
      "execution_count": 0,
      "outputs": [
        {
          "output_type": "stream",
          "text": [
            "<class 'tuple'>\n",
            "No toppings avaliable\n",
            "<class 'tuple'>\n",
            "Avaliable toppings  ('cheese',)\n",
            "<class 'tuple'>\n",
            "Avaliable toppings  ('cheese', 'olives', 'onion', 'macharoni')\n"
          ],
          "name": "stdout"
        }
      ]
    },
    {
      "cell_type": "code",
      "metadata": {
        "id": "YG77UuIAl_5p",
        "colab_type": "code",
        "colab": {}
      },
      "source": [
        "def pizza_toppings_modified(size,*toppings): #Arbitary arguments are always last in parameter list\n",
        "    print(size,toppings)"
      ],
      "execution_count": 0,
      "outputs": []
    },
    {
      "cell_type": "code",
      "metadata": {
        "id": "JfP2H4xTmjfM",
        "colab_type": "code",
        "outputId": "d8186ee3-1791-47e7-d154-c85173952b53",
        "colab": {
          "base_uri": "https://localhost:8080/",
          "height": 54
        }
      },
      "source": [
        "pizza_toppings_modified(16,'cheese')\n",
        "pizza_toppings_modified(12,'cheese','olives','onion')"
      ],
      "execution_count": 0,
      "outputs": [
        {
          "output_type": "stream",
          "text": [
            "16 ('cheese',)\n",
            "12 ('cheese', 'olives', 'onion')\n"
          ],
          "name": "stdout"
        }
      ]
    },
    {
      "cell_type": "markdown",
      "metadata": {
        "id": "23Bh-diVnefG",
        "colab_type": "text"
      },
      "source": [
        "#Classes"
      ]
    },
    {
      "cell_type": "code",
      "metadata": {
        "id": "2oBxNT0MmnaX",
        "colab_type": "code",
        "colab": {}
      },
      "source": [
        "class Car:\n",
        "    def __init__(self,price,mileage,top_speed):\n",
        "        #Defines all the instance variables of the class Car\n",
        "        self.price = price\n",
        "        self.mileage = mileage\n",
        "        self.top_speed = top_speed\n",
        "    \n",
        "    def display_features(self):\n",
        "        print(\"Price: \", self.price)\n",
        "        print(\"Mileage: \",self.mileage, \"miles per gallon\")\n",
        "        print(\"Top Speed: \",self.top_speed, \" miles per hour\")"
      ],
      "execution_count": 0,
      "outputs": []
    },
    {
      "cell_type": "code",
      "metadata": {
        "id": "iTDXB4gitHW2",
        "colab_type": "code",
        "outputId": "1cb66f34-0091-4c1d-92c2-f82b6f5f9824",
        "colab": {
          "base_uri": "https://localhost:8080/",
          "height": 72
        }
      },
      "source": [
        "a = Car('$1000',45,200)\n",
        "a.price = '$2000'\n",
        "a.display_features()"
      ],
      "execution_count": 0,
      "outputs": [
        {
          "output_type": "stream",
          "text": [
            "Price:  $2000\n",
            "Mileage:  45 miles per gallon\n",
            "Top Speed:  200  miles per hour\n"
          ],
          "name": "stdout"
        }
      ]
    },
    {
      "cell_type": "code",
      "metadata": {
        "id": "xpfg-fcSuq9z",
        "colab_type": "code",
        "outputId": "9ce82e58-f078-4ba4-e661-fa9baa014ab3",
        "colab": {
          "base_uri": "https://localhost:8080/",
          "height": 72
        }
      },
      "source": [
        "b = Car('$3000',50,150)\n",
        "b.display_features()"
      ],
      "execution_count": 0,
      "outputs": [
        {
          "output_type": "stream",
          "text": [
            "Price:  $3000\n",
            "Mileage:  50 miles per gallon\n",
            "Top Speed:  150  miles per hour\n"
          ],
          "name": "stdout"
        }
      ]
    },
    {
      "cell_type": "code",
      "metadata": {
        "id": "slvfzTDotLx-",
        "colab_type": "code",
        "colab": {}
      },
      "source": [
        "class no_variables:\n",
        "    def __init__(self):\n",
        "        #No instance variables associated with this class\n",
        "        print(\"Creating instance\")\n",
        "    \n",
        "    def display_greeting(self,name):\n",
        "        print(\"Welcome to Python,\",name)"
      ],
      "execution_count": 0,
      "outputs": []
    },
    {
      "cell_type": "code",
      "metadata": {
        "id": "SV5EO8zot_Jc",
        "colab_type": "code",
        "outputId": "caa04b1d-3781-4ec8-a642-aaf3a02c89f8",
        "colab": {
          "base_uri": "https://localhost:8080/",
          "height": 54
        }
      },
      "source": [
        "b = no_variables()\n",
        "b.display_greeting('Mark')"
      ],
      "execution_count": 0,
      "outputs": [
        {
          "output_type": "stream",
          "text": [
            "Creating instance\n",
            "Welcome to Python, Mark\n"
          ],
          "name": "stdout"
        }
      ]
    },
    {
      "cell_type": "code",
      "metadata": {
        "id": "XBa3Fn5IuFpw",
        "colab_type": "code",
        "colab": {}
      },
      "source": [
        "class Car_default:\n",
        "    def __init__(self,price,mileage,top_speed):\n",
        "        #Defines all the instance variables of the class Car\n",
        "        self.price = price\n",
        "        self.mileage = mileage\n",
        "        self.top_speed = top_speed\n",
        "        self.total_miles = 0\n",
        "    \n",
        "    def display_features(self):\n",
        "        print(\"Price: \", self.price)\n",
        "        print(\"Mileage: \",self.mileage, \"miles per gallon\")\n",
        "        print(\"Top Speed: \",self.top_speed, \" miles per hour\")\n",
        "        if self.total_miles == 0:\n",
        "            print(\"The Car is New\")\n",
        "        else:\n",
        "            print(\"The Car has \",self.total_miles,\" on it\")"
      ],
      "execution_count": 0,
      "outputs": []
    },
    {
      "cell_type": "code",
      "metadata": {
        "id": "80N1CuV2vNi_",
        "colab_type": "code",
        "outputId": "585e7fbf-b21d-4da8-bf85-ffed1e29e395",
        "colab": {
          "base_uri": "https://localhost:8080/",
          "height": 90
        }
      },
      "source": [
        "c = Car_default('$2600',60,130)\n",
        "c.display_features()"
      ],
      "execution_count": 0,
      "outputs": [
        {
          "output_type": "stream",
          "text": [
            "Price:  $2600\n",
            "Mileage:  60 miles per gallon\n",
            "Top Speed:  130  miles per hour\n",
            "The Car is New\n"
          ],
          "name": "stdout"
        }
      ]
    },
    {
      "cell_type": "code",
      "metadata": {
        "id": "sKwdfG6YvekX",
        "colab_type": "code",
        "colab": {}
      },
      "source": [
        "#Inheritance\n",
        "class Car:\n",
        "    def __init__(self,price,mileage,top_speed):\n",
        "        #Defines all the instance variables of the class Car\n",
        "        self.price = price\n",
        "        self.mileage = mileage\n",
        "        self.top_speed = top_speed\n",
        "    \n",
        "    def display_features(self):\n",
        "        print(\"Price: \", self.price)\n",
        "        print(\"Mileage: \",self.mileage, \"miles per gallon\")\n",
        "        print(\"Top Speed: \",self.top_speed, \" miles per hour\")\n",
        "    "
      ],
      "execution_count": 0,
      "outputs": []
    },
    {
      "cell_type": "code",
      "metadata": {
        "id": "QJdXycwpv5gQ",
        "colab_type": "code",
        "colab": {}
      },
      "source": [
        "class ElectricCar(Car):\n",
        "    def __init__(self,price,mileage,top_speed,range):\n",
        "        super().__init__(price,mileage,top_speed)\n",
        "        self.range = range\n",
        "    \n",
        "    def display_features_electric(self):\n",
        "        self.display_features()\n",
        "        print(\"Range is: \",self.range)"
      ],
      "execution_count": 0,
      "outputs": []
    },
    {
      "cell_type": "code",
      "metadata": {
        "id": "lpgHfGJOwSP_",
        "colab_type": "code",
        "outputId": "b976f8c5-74f4-49da-98da-6a7c290ed12a",
        "colab": {
          "base_uri": "https://localhost:8080/",
          "height": 90
        }
      },
      "source": [
        "e_car = ElectricCar('$5000',300,130,350)\n",
        "e_car.display_features_electric()"
      ],
      "execution_count": 0,
      "outputs": [
        {
          "output_type": "stream",
          "text": [
            "Price:  $5000\n",
            "Mileage:  300 miles per gallon\n",
            "Top Speed:  130  miles per hour\n",
            "Range is:  350\n"
          ],
          "name": "stdout"
        }
      ]
    },
    {
      "cell_type": "markdown",
      "metadata": {
        "id": "2SkM15S1xtNt",
        "colab_type": "text"
      },
      "source": [
        "#9-6. Ice Cream Stand: \n",
        "An ice cream stand is a specific kind of restaurant. Write\n",
        "a class called IceCreamStand that inherits from the Restaurant class you wrote\n",
        "in Exercise 9-1 (page 162) or Exercise 9-4 (page 167). Either version of\n",
        "the class will work; just pick the one you like better. Add an attribute called\n",
        "flavors that stores a list of ice cream flavors. Write a method that displays\n",
        "these flavors. Create an instance of IceCreamStand , and call this method."
      ]
    },
    {
      "cell_type": "code",
      "metadata": {
        "id": "JKarGUmiwl7B",
        "colab_type": "code",
        "colab": {}
      },
      "source": [
        "class Restaurant:\n",
        "    def __init__(self,name,ctype,openR = False,num_served = 0):\n",
        "        self.restaurant_name = name\n",
        "        self.cuisine_type = ctype\n",
        "        self.openR = openR\n",
        "        self.number_served = num_served\n",
        "    \n",
        "    def describe_restaurant(self):\n",
        "        print(\"Restaurant Information:\")\n",
        "        print(\"\\tRestaurant Name: \",self.restaurant_name)\n",
        "        print(\"\\tCuisine Type: \",self.cuisine_type)\n",
        "    \n",
        "    def open_restaurant(self):\n",
        "        if self.openR:\n",
        "            print(\"The Restaurant is Open\")\n",
        "        else:\n",
        "            print(\"The Restaurant is Closed\")\n",
        "\n",
        "    def display_served(self):\n",
        "        print(\"Total people served are: \",self.number_served)\n",
        "    \n",
        "    def set_number_served(self,served):\n",
        "        self.number_served = served\n",
        "    \n",
        "    def increment_number_served(self,increment):\n",
        "        self.number_served = self.number_served + increment"
      ],
      "execution_count": 0,
      "outputs": []
    },
    {
      "cell_type": "code",
      "metadata": {
        "id": "Mw_fOqOKyqEw",
        "colab_type": "code",
        "outputId": "87706ba9-1b17-424a-b535-854eccd7367d",
        "colab": {
          "base_uri": "https://localhost:8080/",
          "height": 108
        }
      },
      "source": [
        "restaurant_one = Restaurant('ABC','Chinese',True,10)\n",
        "restaurant_one.describe_restaurant()\n",
        "restaurant_one.open_restaurant()\n",
        "restaurant_one.display_served()"
      ],
      "execution_count": 0,
      "outputs": [
        {
          "output_type": "stream",
          "text": [
            "Restaurant Information:\n",
            "\tRestaurant Name:  ABC\n",
            "\tCuisine Type:  Chinese\n",
            "The Restaurant is Open\n",
            "Total people served are:  10\n"
          ],
          "name": "stdout"
        }
      ]
    },
    {
      "cell_type": "code",
      "metadata": {
        "id": "i--6jYpIzOS_",
        "colab_type": "code",
        "colab": {}
      },
      "source": [
        "class IceCreamRestaurant(Restaurant):\n",
        "    def __init__(self,name,ctype,flavours,openR = False,num_served = 0):\n",
        "        super().__init__(name,ctype,openR,num_served)\n",
        "        self.flavours = flavours\n",
        "\n",
        "    def display_flavours(self):\n",
        "        print(\"Flavours Avaliable Are: \",self.flavours)"
      ],
      "execution_count": 0,
      "outputs": []
    },
    {
      "cell_type": "code",
      "metadata": {
        "id": "O_olQDKc02V-",
        "colab_type": "code",
        "outputId": "0f2157f5-2d21-43ca-82c5-7af95a8eb00e",
        "colab": {
          "base_uri": "https://localhost:8080/",
          "height": 54
        }
      },
      "source": [
        "flavour_list =  ['chocolate','vanilla','mango','black current','cream','pista']\n",
        "ice_r = IceCreamRestaurant('Amul','IceCream',flavour_list,True,10)\n",
        "ice_r.display_flavours()\n",
        "ice_r.open_restaurant()"
      ],
      "execution_count": 0,
      "outputs": [
        {
          "output_type": "stream",
          "text": [
            "Flavours Avaliable Are:  ['chocolate', 'vanilla', 'mango', 'black current', 'cream', 'pista']\n",
            "The Restaurant is Open\n"
          ],
          "name": "stdout"
        }
      ]
    },
    {
      "cell_type": "code",
      "metadata": {
        "id": "Gz72HFQ81VXa",
        "colab_type": "code",
        "outputId": "0ddb3349-c4cd-4d3d-e63f-fcb5f0876a2d",
        "colab": {
          "base_uri": "https://localhost:8080/",
          "height": 35
        }
      },
      "source": [
        "ice_r.display_served()"
      ],
      "execution_count": 0,
      "outputs": [
        {
          "output_type": "stream",
          "text": [
            "Total people served are:  10\n"
          ],
          "name": "stdout"
        }
      ]
    },
    {
      "cell_type": "markdown",
      "metadata": {
        "id": "Fi29PHSPU3Jh",
        "colab_type": "text"
      },
      "source": [
        "#Files And ExceptionHandling"
      ]
    },
    {
      "cell_type": "code",
      "metadata": {
        "id": "3Cc6I_BNU6Gv",
        "colab_type": "code",
        "colab": {}
      },
      "source": [
        "with open(\"grub.back\") as file_object: #no need to explicitly call close on file object\n",
        "    file_data = file_object.read()\n",
        "print(file_data)"
      ],
      "execution_count": 0,
      "outputs": []
    },
    {
      "cell_type": "code",
      "metadata": {
        "id": "T8UeIc8RWHQU",
        "colab_type": "code",
        "colab": {}
      },
      "source": [
        "with open(\"grub.back\") as file_object: #read line by line\n",
        "    for line in file_object:\n",
        "        print(line.rstrip())"
      ],
      "execution_count": 0,
      "outputs": []
    },
    {
      "cell_type": "code",
      "metadata": {
        "id": "TuG9JgoQVcia",
        "colab_type": "code",
        "colab": {}
      },
      "source": [
        "file_object = open(\"grub.back\")\n",
        "file_data = file_object.read()\n",
        "print(file_data)\n",
        "file_object.close()"
      ],
      "execution_count": 0,
      "outputs": []
    },
    {
      "cell_type": "code",
      "metadata": {
        "id": "GkA0MRgsVxAp",
        "colab_type": "code",
        "colab": {
          "base_uri": "https://localhost:8080/",
          "height": 35
        },
        "outputId": "8d2d1809-dfb1-4aa7-87bc-142c01787e93"
      },
      "source": [
        "with open(\"grub.back\") as file_object: #returns list where every item is a line\n",
        "    list_of_data = file_object.readlines()\n",
        "print(type(list_of_data))"
      ],
      "execution_count": 6,
      "outputs": [
        {
          "output_type": "stream",
          "text": [
            "<class 'list'>\n"
          ],
          "name": "stdout"
        }
      ]
    },
    {
      "cell_type": "code",
      "metadata": {
        "id": "Ez30cc7zWe3k",
        "colab_type": "code",
        "colab": {}
      },
      "source": [
        "list_of_data"
      ],
      "execution_count": 0,
      "outputs": []
    },
    {
      "cell_type": "code",
      "metadata": {
        "id": "dCKx8i49Whn9",
        "colab_type": "code",
        "colab": {}
      },
      "source": [
        "with open(\"writing_data.txt\",'w') as file_object: #readMode(r), writeMode(w), appendMode(a)\n",
        "    file_object.write(\"Single Line written\")"
      ],
      "execution_count": 0,
      "outputs": []
    },
    {
      "cell_type": "code",
      "metadata": {
        "id": "zy868KiLXFQZ",
        "colab_type": "code",
        "colab": {}
      },
      "source": [
        "with open(\"writing_data.txt\",'w') as file_object: #readMode(r), writeMode(w), appendMode(a)\n",
        "    file_object.write(\"OriginalData is Gone\")"
      ],
      "execution_count": 0,
      "outputs": []
    },
    {
      "cell_type": "code",
      "metadata": {
        "id": "V_-c-1zCXcv0",
        "colab_type": "code",
        "colab": {}
      },
      "source": [
        "with open(\"writing_data.txt\",'a') as file_object:\n",
        "    file_object.write(\"\\nAppending to File Again\")"
      ],
      "execution_count": 0,
      "outputs": []
    },
    {
      "cell_type": "code",
      "metadata": {
        "id": "o2G7xG6CXpSg",
        "colab_type": "code",
        "colab": {}
      },
      "source": [
        ""
      ],
      "execution_count": 0,
      "outputs": []
    }
  ]
}
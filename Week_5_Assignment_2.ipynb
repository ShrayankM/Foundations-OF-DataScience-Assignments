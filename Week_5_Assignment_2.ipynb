{
  "nbformat": 4,
  "nbformat_minor": 0,
  "metadata": {
    "colab": {
      "name": "Week_5_Assignment_2.ipynb",
      "provenance": [],
      "authorship_tag": "ABX9TyPDoALvGsKMt5W3bqzKtdbs",
      "include_colab_link": true
    },
    "kernelspec": {
      "name": "python3",
      "display_name": "Python 3"
    }
  },
  "cells": [
    {
      "cell_type": "markdown",
      "metadata": {
        "id": "view-in-github",
        "colab_type": "text"
      },
      "source": [
        "<a href=\"https://colab.research.google.com/github/ShrayankM/FoundationsOFDataScience/blob/master/Week_5_Assignment_2.ipynb\" target=\"_parent\"><img src=\"https://colab.research.google.com/assets/colab-badge.svg\" alt=\"Open In Colab\"/></a>"
      ]
    },
    {
      "cell_type": "markdown",
      "metadata": {
        "id": "6bCcTNPlP6vd",
        "colab_type": "text"
      },
      "source": [
        "#Problem Statement 1-2"
      ]
    },
    {
      "cell_type": "code",
      "metadata": {
        "id": "ePwC2kznKXWY",
        "colab_type": "code",
        "colab": {}
      },
      "source": [
        "with open(\"poem.txt\",\"r\") as f_read:\n",
        "    list_of_lines = f_read.readlines()   "
      ],
      "execution_count": 0,
      "outputs": []
    },
    {
      "cell_type": "code",
      "metadata": {
        "id": "0qARpdZ5K3fx",
        "colab_type": "code",
        "colab": {
          "base_uri": "https://localhost:8080/",
          "height": 54
        },
        "outputId": "077a2886-c95e-46b5-c3bf-4918ef8ef5a4"
      },
      "source": [
        "print(list_of_lines)"
      ],
      "execution_count": 34,
      "outputs": [
        {
          "output_type": "stream",
          "text": [
            "['Unending Love by Rabindranath Tagore\\n', '\\n', 'I seem to have loved you in numberless forms, numberless times\\n', 'In life after life, in age after age, forever.\\n', 'My spellbound heart has made and remade the necklace of songs,\\n', 'That you take as a gift, wear round your neck in your many forms,\\n', 'In life after life, in age after age, forever.\\n', '\\n', 'Whenever I hear old chronicles of love, its age-old pain,\\n', 'Its ancient tale of being apart or together.\\n', 'As I stare on and on into the past, in the end you emerge,\\n', 'Clad in the light of a pole-star piercing the darkness of time:\\n', 'You become an image of what is remembered forever.\\n', '\\n', 'You and I have floated here on the stream that brings from the fount.\\n', 'At the heart of time, love of one for another.\\n', 'We have played along side millions of lovers, shared in the same\\n', 'Shy sweetness of meeting, the same distressful tears of farewell-\\n', 'Old love but in shapes that renew and renew forever.\\n', '\\n', 'Today it is heaped at your feet, it has found its end in you\\n', 'The love of all man’s days both past and forever:\\n', 'Universal joy, universal sorrow, universal life.\\n', 'The memories of all loves merging with this one love of ours –\\n', 'And the songs of every poet past and forever.']\n"
          ],
          "name": "stdout"
        }
      ]
    },
    {
      "cell_type": "code",
      "metadata": {
        "id": "GoDE_MRJK69w",
        "colab_type": "code",
        "colab": {}
      },
      "source": [
        "words = dict()"
      ],
      "execution_count": 0,
      "outputs": []
    },
    {
      "cell_type": "code",
      "metadata": {
        "id": "wT2849y7LbAj",
        "colab_type": "code",
        "colab": {}
      },
      "source": [
        "for line in list_of_lines:\n",
        "    line = line.lower()\n",
        "    line = line.replace(\".\",\" \")\n",
        "    word_list = line.split()\n",
        "    for word in word_list:\n",
        "        if word in words:\n",
        "            words[word] += 1\n",
        "        else:\n",
        "            words.update({word:1})"
      ],
      "execution_count": 0,
      "outputs": []
    },
    {
      "cell_type": "code",
      "metadata": {
        "id": "gLgM7k4vMLKL",
        "colab_type": "code",
        "colab": {
          "base_uri": "https://localhost:8080/",
          "height": 54
        },
        "outputId": "cc410f76-4280-481a-d340-f2d47bf0b661"
      },
      "source": [
        "print(words)"
      ],
      "execution_count": 37,
      "outputs": [
        {
          "output_type": "stream",
          "text": [
            "{'unending': 1, 'love': 5, 'by': 1, 'rabindranath': 1, 'tagore': 1, 'i': 4, 'seem': 1, 'to': 1, 'have': 3, 'loved': 1, 'you': 6, 'in': 11, 'numberless': 2, 'forms,': 2, 'times': 1, 'life': 3, 'after': 4, 'life,': 2, 'age': 2, 'age,': 2, 'forever': 5, 'my': 1, 'spellbound': 1, 'heart': 2, 'has': 2, 'made': 1, 'and': 7, 'remade': 1, 'the': 13, 'necklace': 1, 'of': 15, 'songs,': 1, 'that': 3, 'take': 1, 'as': 2, 'a': 2, 'gift,': 1, 'wear': 1, 'round': 1, 'your': 3, 'neck': 1, 'many': 1, 'whenever': 1, 'hear': 1, 'old': 2, 'chronicles': 1, 'love,': 1, 'its': 3, 'age-old': 1, 'pain,': 1, 'ancient': 1, 'tale': 1, 'being': 1, 'apart': 1, 'or': 1, 'together': 1, 'stare': 1, 'on': 3, 'into': 1, 'past,': 1, 'end': 2, 'emerge,': 1, 'clad': 1, 'light': 1, 'pole-star': 1, 'piercing': 1, 'darkness': 1, 'time:': 1, 'become': 1, 'an': 1, 'image': 1, 'what': 1, 'is': 2, 'remembered': 1, 'floated': 1, 'here': 1, 'stream': 1, 'brings': 1, 'from': 1, 'fount': 1, 'at': 2, 'time,': 1, 'one': 2, 'for': 1, 'another': 1, 'we': 1, 'played': 1, 'along': 1, 'side': 1, 'millions': 1, 'lovers,': 1, 'shared': 1, 'same': 2, 'shy': 1, 'sweetness': 1, 'meeting,': 1, 'distressful': 1, 'tears': 1, 'farewell-': 1, 'but': 1, 'shapes': 1, 'renew': 2, 'today': 1, 'it': 2, 'heaped': 1, 'feet,': 1, 'found': 1, 'all': 2, 'man’s': 1, 'days': 1, 'both': 1, 'past': 2, 'forever:': 1, 'universal': 3, 'joy,': 1, 'sorrow,': 1, 'memories': 1, 'loves': 1, 'merging': 1, 'with': 1, 'this': 1, 'ours': 1, '–': 1, 'songs': 1, 'every': 1, 'poet': 1}\n"
          ],
          "name": "stdout"
        }
      ]
    },
    {
      "cell_type": "code",
      "metadata": {
        "id": "jzXBh13rMxoi",
        "colab_type": "code",
        "colab": {}
      },
      "source": [
        "frequent_words = []\n",
        "i = 0\n",
        "while i < 10:\n",
        "    max_key = max(words, key=words.get)\n",
        "    frequent_words.append(max_key)\n",
        "    del words[max_key]\n",
        "    i = i + 1\n",
        "    "
      ],
      "execution_count": 0,
      "outputs": []
    },
    {
      "cell_type": "code",
      "metadata": {
        "id": "2O_hiMZGNl5e",
        "colab_type": "code",
        "colab": {
          "base_uri": "https://localhost:8080/",
          "height": 34
        },
        "outputId": "709cf49c-b414-4d20-ab94-3e29961704bd"
      },
      "source": [
        "print(frequent_words)"
      ],
      "execution_count": 39,
      "outputs": [
        {
          "output_type": "stream",
          "text": [
            "['of', 'the', 'in', 'and', 'you', 'love', 'forever', 'i', 'after', 'have']\n"
          ],
          "name": "stdout"
        }
      ]
    },
    {
      "cell_type": "code",
      "metadata": {
        "id": "085yqHlcPN1v",
        "colab_type": "code",
        "colab": {}
      },
      "source": [
        "with open(\"frequent.txt\",\"w\") as f_write:\n",
        "    for word in frequent_words:\n",
        "        f_write.write(word+\"\\n\")"
      ],
      "execution_count": 0,
      "outputs": []
    },
    {
      "cell_type": "markdown",
      "metadata": {
        "id": "w3rSybaxP_QE",
        "colab_type": "text"
      },
      "source": [
        "#Problem Statement 3(2_grams)"
      ]
    },
    {
      "cell_type": "code",
      "metadata": {
        "id": "mUssO9T7Pi8r",
        "colab_type": "code",
        "colab": {}
      },
      "source": [
        "d = [[1,2,3],\n",
        "     [4,5,6]]"
      ],
      "execution_count": 0,
      "outputs": []
    },
    {
      "cell_type": "code",
      "metadata": {
        "id": "kApY9hfEcLyC",
        "colab_type": "code",
        "colab": {
          "base_uri": "https://localhost:8080/",
          "height": 34
        },
        "outputId": "b943eaef-ee33-4d67-f7eb-d103a6fc25c4"
      },
      "source": [
        "print(d[1])"
      ],
      "execution_count": 43,
      "outputs": [
        {
          "output_type": "stream",
          "text": [
            "[4, 5, 6]\n"
          ],
          "name": "stdout"
        }
      ]
    },
    {
      "cell_type": "code",
      "metadata": {
        "id": "2j1nqzS_cNu4",
        "colab_type": "code",
        "colab": {
          "base_uri": "https://localhost:8080/",
          "height": 34
        },
        "outputId": "9ef773f0-0f72-4684-e298-f4bf8f28a7a7"
      },
      "source": [
        "a = \"ameoba\"\n",
        "try:\n",
        "    print(a+1)\n",
        "except:\n",
        "    print(\"f\")"
      ],
      "execution_count": 44,
      "outputs": [
        {
          "output_type": "stream",
          "text": [
            "f\n"
          ],
          "name": "stdout"
        }
      ]
    },
    {
      "cell_type": "code",
      "metadata": {
        "id": "UgxTXsAVcYfE",
        "colab_type": "code",
        "colab": {
          "base_uri": "https://localhost:8080/",
          "height": 34
        },
        "outputId": "a49ab5ff-acd5-45e1-8265-56301b4a43fb"
      },
      "source": [
        "k = (8,9,0)\n",
        "print(k.index(9))"
      ],
      "execution_count": 45,
      "outputs": [
        {
          "output_type": "stream",
          "text": [
            "1\n"
          ],
          "name": "stdout"
        }
      ]
    },
    {
      "cell_type": "code",
      "metadata": {
        "id": "XSx1jotdciwK",
        "colab_type": "code",
        "colab": {
          "base_uri": "https://localhost:8080/",
          "height": 162
        },
        "outputId": "6cc203d6-5cdd-451e-8254-108a53cff60d"
      },
      "source": [
        "s = {1,2}+{3,4}"
      ],
      "execution_count": 46,
      "outputs": [
        {
          "output_type": "error",
          "ename": "TypeError",
          "evalue": "ignored",
          "traceback": [
            "\u001b[0;31m---------------------------------------------------------------------------\u001b[0m",
            "\u001b[0;31mTypeError\u001b[0m                                 Traceback (most recent call last)",
            "\u001b[0;32m<ipython-input-46-7396f8fc410e>\u001b[0m in \u001b[0;36m<module>\u001b[0;34m()\u001b[0m\n\u001b[0;32m----> 1\u001b[0;31m \u001b[0ms\u001b[0m \u001b[0;34m=\u001b[0m \u001b[0;34m{\u001b[0m\u001b[0;36m1\u001b[0m\u001b[0;34m,\u001b[0m\u001b[0;36m2\u001b[0m\u001b[0;34m}\u001b[0m\u001b[0;34m+\u001b[0m\u001b[0;34m{\u001b[0m\u001b[0;36m3\u001b[0m\u001b[0;34m,\u001b[0m\u001b[0;36m4\u001b[0m\u001b[0;34m}\u001b[0m\u001b[0;34m\u001b[0m\u001b[0;34m\u001b[0m\u001b[0m\n\u001b[0m",
            "\u001b[0;31mTypeError\u001b[0m: unsupported operand type(s) for +: 'set' and 'set'"
          ]
        }
      ]
    },
    {
      "cell_type": "code",
      "metadata": {
        "id": "xWXn8S3wcrtj",
        "colab_type": "code",
        "colab": {}
      },
      "source": [
        ""
      ],
      "execution_count": 0,
      "outputs": []
    }
  ]
}
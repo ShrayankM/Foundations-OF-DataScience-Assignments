{
  "nbformat": 4,
  "nbformat_minor": 0,
  "metadata": {
    "colab": {
      "name": "Week_5_Assignment_2.ipynb",
      "provenance": [],
      "authorship_tag": "ABX9TyP4hwyV4mk5CWi+eAGGIWJg",
      "include_colab_link": true
    },
    "kernelspec": {
      "name": "python3",
      "display_name": "Python 3"
    }
  },
  "cells": [
    {
      "cell_type": "markdown",
      "metadata": {
        "id": "view-in-github",
        "colab_type": "text"
      },
      "source": [
        "<a href=\"https://colab.research.google.com/github/ShrayankM/FoundationsOFDataScience/blob/master/Week_5_Assignment_2.ipynb\" target=\"_parent\"><img src=\"https://colab.research.google.com/assets/colab-badge.svg\" alt=\"Open In Colab\"/></a>"
      ]
    },
    {
      "cell_type": "markdown",
      "metadata": {
        "id": "-gLtFCi4EywW",
        "colab_type": "text"
      },
      "source": [
        "#Statement 1-Most frequent Words"
      ]
    },
    {
      "cell_type": "code",
      "metadata": {
        "id": "AULOMmc7Bo8E",
        "colab_type": "code",
        "colab": {}
      },
      "source": [
        "with open(\"poem.txt\",\"r\") as f:\n",
        "    lines = f.readlines()"
      ],
      "execution_count": 0,
      "outputs": []
    },
    {
      "cell_type": "code",
      "metadata": {
        "id": "_w6wqNq9EVWt",
        "colab_type": "code",
        "colab": {
          "base_uri": "https://localhost:8080/",
          "height": 55
        },
        "outputId": "e93b1141-e003-4b97-97cc-4fffc7e64091"
      },
      "source": [
        "print(lines)"
      ],
      "execution_count": 26,
      "outputs": [
        {
          "output_type": "stream",
          "text": [
            "['Unending Love by Rabindranath Tagore\\n', '\\n', 'I seem to have loved you in numberless forms, numberless times\\n', 'In life after life, in age after age, forever.\\n', 'My spellbound heart has made and remade the necklace of songs,\\n', 'That you take as a gift, wear round your neck in your many forms,\\n', 'In life after life, in age after age, forever.\\n', '\\n', 'Whenever I hear old chronicles of love, its age-old pain,\\n', 'Its ancient tale of being apart or together.\\n', 'As I stare on and on into the past, in the end you emerge,\\n', 'Clad in the light of a pole-star piercing the darkness of time:\\n', 'You become an image of what is remembered forever.\\n', '\\n', 'You and I have floated here on the stream that brings from the fount.\\n', 'At the heart of time, love of one for another.\\n', 'We have played along side millions of lovers, shared in the same\\n', 'Shy sweetness of meeting, the same distressful tears of farewell-\\n', 'Old love but in shapes that renew and renew forever.\\n', '\\n', 'Today it is heaped at your feet, it has found its end in you\\n', 'The love of all man’s days both past and forever:\\n', 'Universal joy, universal sorrow, universal life.\\n', 'The memories of all loves merging with this one love of ours –\\n', 'And the songs of every poet past and forever.']\n"
          ],
          "name": "stdout"
        }
      ]
    },
    {
      "cell_type": "code",
      "metadata": {
        "id": "xN4-6jQzB5vc",
        "colab_type": "code",
        "colab": {}
      },
      "source": [
        "dict_words = dict()\n",
        "char_sequence = ['\\n','.',',',':','-']"
      ],
      "execution_count": 0,
      "outputs": []
    },
    {
      "cell_type": "code",
      "metadata": {
        "id": "eaZBgyABCQ7i",
        "colab_type": "code",
        "colab": {}
      },
      "source": [
        "for i in range(len(lines)):\n",
        "    for c in char_sequence:\n",
        "        lines[i] = lines[i].replace(c,\"\")\n",
        "    lines[i] = lines[i].lower()"
      ],
      "execution_count": 0,
      "outputs": []
    },
    {
      "cell_type": "code",
      "metadata": {
        "id": "H-Hnpx3qEabt",
        "colab_type": "code",
        "colab": {
          "base_uri": "https://localhost:8080/",
          "height": 55
        },
        "outputId": "6c512a82-e8f7-42f5-d168-df1fad09fafa"
      },
      "source": [
        "print(lines)"
      ],
      "execution_count": 29,
      "outputs": [
        {
          "output_type": "stream",
          "text": [
            "['unending love by rabindranath tagore', '', 'i seem to have loved you in numberless forms numberless times', 'in life after life in age after age forever', 'my spellbound heart has made and remade the necklace of songs', 'that you take as a gift wear round your neck in your many forms', 'in life after life in age after age forever', '', 'whenever i hear old chronicles of love its ageold pain', 'its ancient tale of being apart or together', 'as i stare on and on into the past in the end you emerge', 'clad in the light of a polestar piercing the darkness of time', 'you become an image of what is remembered forever', '', 'you and i have floated here on the stream that brings from the fount', 'at the heart of time love of one for another', 'we have played along side millions of lovers shared in the same', 'shy sweetness of meeting the same distressful tears of farewell', 'old love but in shapes that renew and renew forever', '', 'today it is heaped at your feet it has found its end in you', 'the love of all man’s days both past and forever', 'universal joy universal sorrow universal life', 'the memories of all loves merging with this one love of ours –', 'and the songs of every poet past and forever']\n"
          ],
          "name": "stdout"
        }
      ]
    },
    {
      "cell_type": "code",
      "metadata": {
        "id": "T4vzVdaCB622",
        "colab_type": "code",
        "colab": {}
      },
      "source": [
        "for line in lines:\n",
        "    words = line.split()\n",
        "    for word in words:\n",
        "        if word in dict_words:\n",
        "            dict_words[word] += 1\n",
        "        else:\n",
        "            dict_words[word] = 1"
      ],
      "execution_count": 0,
      "outputs": []
    },
    {
      "cell_type": "code",
      "metadata": {
        "id": "bA43f5E7Ecrp",
        "colab_type": "code",
        "colab": {
          "base_uri": "https://localhost:8080/",
          "height": 55
        },
        "outputId": "8ce965bd-fcdb-4187-8264-da394b96a29a"
      },
      "source": [
        "print(dict_words)"
      ],
      "execution_count": 32,
      "outputs": [
        {
          "output_type": "stream",
          "text": [
            "{'unending': 1, 'love': 6, 'by': 1, 'rabindranath': 1, 'tagore': 1, 'i': 4, 'seem': 1, 'to': 1, 'have': 3, 'loved': 1, 'you': 6, 'in': 11, 'numberless': 2, 'forms': 2, 'times': 1, 'life': 5, 'after': 4, 'age': 4, 'forever': 6, 'my': 1, 'spellbound': 1, 'heart': 2, 'has': 2, 'made': 1, 'and': 7, 'remade': 1, 'the': 13, 'necklace': 1, 'of': 15, 'songs': 2, 'that': 3, 'take': 1, 'as': 2, 'a': 2, 'gift': 1, 'wear': 1, 'round': 1, 'your': 3, 'neck': 1, 'many': 1, 'whenever': 1, 'hear': 1, 'old': 2, 'chronicles': 1, 'its': 3, 'ageold': 1, 'pain': 1, 'ancient': 1, 'tale': 1, 'being': 1, 'apart': 1, 'or': 1, 'together': 1, 'stare': 1, 'on': 3, 'into': 1, 'past': 3, 'end': 2, 'emerge': 1, 'clad': 1, 'light': 1, 'polestar': 1, 'piercing': 1, 'darkness': 1, 'time': 2, 'become': 1, 'an': 1, 'image': 1, 'what': 1, 'is': 2, 'remembered': 1, 'floated': 1, 'here': 1, 'stream': 1, 'brings': 1, 'from': 1, 'fount': 1, 'at': 2, 'one': 2, 'for': 1, 'another': 1, 'we': 1, 'played': 1, 'along': 1, 'side': 1, 'millions': 1, 'lovers': 1, 'shared': 1, 'same': 2, 'shy': 1, 'sweetness': 1, 'meeting': 1, 'distressful': 1, 'tears': 1, 'farewell': 1, 'but': 1, 'shapes': 1, 'renew': 2, 'today': 1, 'it': 2, 'heaped': 1, 'feet': 1, 'found': 1, 'all': 2, 'man’s': 1, 'days': 1, 'both': 1, 'universal': 3, 'joy': 1, 'sorrow': 1, 'memories': 1, 'loves': 1, 'merging': 1, 'with': 1, 'this': 1, 'ours': 1, '–': 1, 'every': 1, 'poet': 1}\n"
          ],
          "name": "stdout"
        }
      ]
    },
    {
      "cell_type": "code",
      "metadata": {
        "id": "rLVWZxJlDis8",
        "colab_type": "code",
        "colab": {
          "base_uri": "https://localhost:8080/",
          "height": 55
        },
        "outputId": "7a401eae-cfec-47cf-837b-152aec7b41ee"
      },
      "source": [
        "print(dict_words.items())"
      ],
      "execution_count": 17,
      "outputs": [
        {
          "output_type": "stream",
          "text": [
            "dict_items([('unending', 1), ('love', 6), ('by', 1), ('rabindranath', 1), ('tagore', 1), ('i', 4), ('seem', 1), ('to', 1), ('have', 3), ('loved', 1), ('you', 6), ('in', 11), ('numberless', 2), ('forms', 2), ('times', 1), ('life', 5), ('after', 4), ('age', 4), ('forever', 6), ('my', 1), ('spellbound', 1), ('heart', 2), ('has', 2), ('made', 1), ('and', 7), ('remade', 1), ('the', 13), ('necklace', 1), ('of', 15), ('songs', 2), ('that', 3), ('take', 1), ('as', 2), ('a', 2), ('gift', 1), ('wear', 1), ('round', 1), ('your', 3), ('neck', 1), ('many', 1), ('whenever', 1), ('hear', 1), ('old', 2), ('chronicles', 1), ('its', 3), ('ageold', 1), ('pain', 1), ('ancient', 1), ('tale', 1), ('being', 1), ('apart', 1), ('or', 1), ('together', 1), ('stare', 1), ('on', 3), ('into', 1), ('past', 3), ('end', 2), ('emerge', 1), ('clad', 1), ('light', 1), ('polestar', 1), ('piercing', 1), ('darkness', 1), ('time', 2), ('become', 1), ('an', 1), ('image', 1), ('what', 1), ('is', 2), ('remembered', 1), ('floated', 1), ('here', 1), ('stream', 1), ('brings', 1), ('from', 1), ('fount', 1), ('at', 2), ('one', 2), ('for', 1), ('another', 1), ('we', 1), ('played', 1), ('along', 1), ('side', 1), ('millions', 1), ('lovers', 1), ('shared', 1), ('same', 2), ('shy', 1), ('sweetness', 1), ('meeting', 1), ('distressful', 1), ('tears', 1), ('farewell', 1), ('but', 1), ('shapes', 1), ('renew', 2), ('today', 1), ('it', 2), ('heaped', 1), ('feet', 1), ('found', 1), ('all', 2), ('man’s', 1), ('days', 1), ('both', 1), ('universal', 3), ('joy', 1), ('sorrow', 1), ('memories', 1), ('loves', 1), ('merging', 1), ('with', 1), ('this', 1), ('ours', 1), ('–', 1), ('every', 1), ('poet', 1)])\n"
          ],
          "name": "stdout"
        }
      ]
    },
    {
      "cell_type": "code",
      "metadata": {
        "id": "9JKJ-9OyCpG7",
        "colab_type": "code",
        "colab": {}
      },
      "source": [
        "sorted_words = sorted(dict_words.items(),key = lambda item:item[1],reverse=True)"
      ],
      "execution_count": 0,
      "outputs": []
    },
    {
      "cell_type": "code",
      "metadata": {
        "id": "T8Y4jihvEhGG",
        "colab_type": "code",
        "colab": {
          "base_uri": "https://localhost:8080/",
          "height": 55
        },
        "outputId": "d2b931ee-f99c-40d5-d6a4-0261f90e54fc"
      },
      "source": [
        "print(sorted_words)"
      ],
      "execution_count": 33,
      "outputs": [
        {
          "output_type": "stream",
          "text": [
            "[('of', 15), ('the', 13), ('in', 11), ('and', 7), ('love', 6), ('you', 6), ('forever', 6), ('life', 5), ('i', 4), ('after', 4), ('age', 4), ('have', 3), ('that', 3), ('your', 3), ('its', 3), ('on', 3), ('past', 3), ('universal', 3), ('numberless', 2), ('forms', 2), ('heart', 2), ('has', 2), ('songs', 2), ('as', 2), ('a', 2), ('old', 2), ('end', 2), ('time', 2), ('is', 2), ('at', 2), ('one', 2), ('same', 2), ('renew', 2), ('it', 2), ('all', 2), ('unending', 1), ('by', 1), ('rabindranath', 1), ('tagore', 1), ('seem', 1), ('to', 1), ('loved', 1), ('times', 1), ('my', 1), ('spellbound', 1), ('made', 1), ('remade', 1), ('necklace', 1), ('take', 1), ('gift', 1), ('wear', 1), ('round', 1), ('neck', 1), ('many', 1), ('whenever', 1), ('hear', 1), ('chronicles', 1), ('ageold', 1), ('pain', 1), ('ancient', 1), ('tale', 1), ('being', 1), ('apart', 1), ('or', 1), ('together', 1), ('stare', 1), ('into', 1), ('emerge', 1), ('clad', 1), ('light', 1), ('polestar', 1), ('piercing', 1), ('darkness', 1), ('become', 1), ('an', 1), ('image', 1), ('what', 1), ('remembered', 1), ('floated', 1), ('here', 1), ('stream', 1), ('brings', 1), ('from', 1), ('fount', 1), ('for', 1), ('another', 1), ('we', 1), ('played', 1), ('along', 1), ('side', 1), ('millions', 1), ('lovers', 1), ('shared', 1), ('shy', 1), ('sweetness', 1), ('meeting', 1), ('distressful', 1), ('tears', 1), ('farewell', 1), ('but', 1), ('shapes', 1), ('today', 1), ('heaped', 1), ('feet', 1), ('found', 1), ('man’s', 1), ('days', 1), ('both', 1), ('joy', 1), ('sorrow', 1), ('memories', 1), ('loves', 1), ('merging', 1), ('with', 1), ('this', 1), ('ours', 1), ('–', 1), ('every', 1), ('poet', 1)]\n"
          ],
          "name": "stdout"
        }
      ]
    },
    {
      "cell_type": "code",
      "metadata": {
        "id": "LVayZTtQDL_v",
        "colab_type": "code",
        "colab": {
          "base_uri": "https://localhost:8080/",
          "height": 55
        },
        "outputId": "738814d4-90e3-4c4f-cc18-5153aa206e9c"
      },
      "source": [
        "freq_words = sorted_words[:10]\n",
        "print(freq_words)"
      ],
      "execution_count": 34,
      "outputs": [
        {
          "output_type": "stream",
          "text": [
            "[('of', 15), ('the', 13), ('in', 11), ('and', 7), ('love', 6), ('you', 6), ('forever', 6), ('life', 5), ('i', 4), ('after', 4)]\n"
          ],
          "name": "stdout"
        }
      ]
    },
    {
      "cell_type": "code",
      "metadata": {
        "id": "MFC_YOthDf5s",
        "colab_type": "code",
        "colab": {}
      },
      "source": [
        "with open(\"freq_words.txt\",\"w\") as f:\n",
        "    for word in freq_words:\n",
        "        f.write(word[0]+\"\\n\")"
      ],
      "execution_count": 0,
      "outputs": []
    },
    {
      "cell_type": "markdown",
      "metadata": {
        "id": "_O_Gc8QUE4zT",
        "colab_type": "text"
      },
      "source": [
        "#Statement2 - Most Frequent 2 Grams"
      ]
    },
    {
      "cell_type": "code",
      "metadata": {
        "id": "DPw25EJwD8r2",
        "colab_type": "code",
        "colab": {}
      },
      "source": [
        ""
      ],
      "execution_count": 0,
      "outputs": []
    }
  ]
}
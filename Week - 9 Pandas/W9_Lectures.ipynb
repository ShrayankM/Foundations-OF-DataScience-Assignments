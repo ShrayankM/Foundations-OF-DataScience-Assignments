{
  "nbformat": 4,
  "nbformat_minor": 0,
  "metadata": {
    "colab": {
      "name": "Week - 9.ipynb",
      "provenance": [],
      "collapsed_sections": []
    },
    "kernelspec": {
      "name": "python3",
      "display_name": "Python 3"
    }
  },
  "cells": [
    {
      "cell_type": "markdown",
      "metadata": {
        "id": "BKZeeCZogkJv",
        "colab_type": "text"
      },
      "source": [
        "#Task - 1"
      ]
    },
    {
      "cell_type": "code",
      "metadata": {
        "id": "jrgQiV-UZAX8",
        "colab_type": "code",
        "colab": {}
      },
      "source": [
        "import numpy as np\n",
        "import pandas as pd\n",
        "from math import pi\n",
        "from math import pow\n",
        "from math import ceil"
      ],
      "execution_count": null,
      "outputs": []
    },
    {
      "cell_type": "code",
      "metadata": {
        "id": "u3tyCl1fbOn1",
        "colab_type": "code",
        "colab": {}
      },
      "source": [
        "planets = np.array(['MERCURY', 'VENUS', 'EARTH', 'MOON', 'MARS', 'JUPITER', 'SATURN', 'URANUS', 'NEPTUNE', 'PLUTO'])"
      ],
      "execution_count": null,
      "outputs": []
    },
    {
      "cell_type": "code",
      "metadata": {
        "id": "afl2Kkg5ZSit",
        "colab_type": "code",
        "colab": {}
      },
      "source": [
        "mass = pd.Series([0.330, 4.87, 5.97,\t0.073, 0.642, 1898, 568, 86.8, 102,\t0.0146], index = planets)\n",
        "diameter = pd.Series([4879, 12104, 12756, 3475, 6792, 142984, 120536, 51118, 49528, 2370], index = planets)"
      ],
      "execution_count": null,
      "outputs": []
    },
    {
      "cell_type": "code",
      "metadata": {
        "id": "2q9pU5DBZ2Ev",
        "colab_type": "code",
        "colab": {}
      },
      "source": [
        "radius = diameter/2"
      ],
      "execution_count": null,
      "outputs": []
    },
    {
      "cell_type": "markdown",
      "metadata": {
        "id": "TyzlMFkCZ_1b",
        "colab_type": "text"
      },
      "source": [
        "**Formula for Density of Sphere\n",
        "= $ M / (4/3) * \\pi * R ^ 3$**"
      ]
    },
    {
      "cell_type": "code",
      "metadata": {
        "id": "oBQWEjOGZ628",
        "colab_type": "code",
        "colab": {}
      },
      "source": [
        "temp = []\n",
        "for r in radius:\n",
        "    temp.append((4/3) * pi * pow(r, 3))"
      ],
      "execution_count": null,
      "outputs": []
    },
    {
      "cell_type": "code",
      "metadata": {
        "id": "XyPAB8nYcF7X",
        "colab_type": "code",
        "colab": {}
      },
      "source": [
        "tempSeries = pd.Series(temp, index = planets)"
      ],
      "execution_count": null,
      "outputs": []
    },
    {
      "cell_type": "code",
      "metadata": {
        "id": "3gLnmCwkcuFX",
        "colab_type": "code",
        "colab": {}
      },
      "source": [
        "density = mass / tempSeries"
      ],
      "execution_count": null,
      "outputs": []
    },
    {
      "cell_type": "code",
      "metadata": {
        "id": "WiEgioK3dAZP",
        "colab_type": "code",
        "colab": {
          "base_uri": "https://localhost:8080/",
          "height": 217
        },
        "outputId": "ab2ab093-f471-426c-e564-0c2d678dece3"
      },
      "source": [
        "print(density)"
      ],
      "execution_count": null,
      "outputs": [
        {
          "output_type": "stream",
          "text": [
            "MERCURY    5.426538e-12\n",
            "VENUS      5.244977e-12\n",
            "EARTH      5.493286e-12\n",
            "MOON       3.322460e-12\n",
            "MARS       3.913302e-12\n",
            "JUPITER    1.240039e-12\n",
            "SATURN     6.194402e-13\n",
            "URANUS     1.241079e-12\n",
            "NEPTUNE    1.603427e-12\n",
            "PLUTO      2.094639e-12\n",
            "dtype: float64\n"
          ],
          "name": "stdout"
        }
      ]
    },
    {
      "cell_type": "code",
      "metadata": {
        "id": "tK6_s-OQhkr3",
        "colab_type": "code",
        "colab": {}
      },
      "source": [
        "density = mass / (4/3 * pi * np.power(radius, 3))"
      ],
      "execution_count": null,
      "outputs": []
    },
    {
      "cell_type": "code",
      "metadata": {
        "id": "FVNlcAHViF_9",
        "colab_type": "code",
        "colab": {}
      },
      "source": [
        "mass['Planetx'] = 3.67"
      ],
      "execution_count": null,
      "outputs": []
    },
    {
      "cell_type": "code",
      "metadata": {
        "id": "UopX8hhsiUtw",
        "colab_type": "code",
        "colab": {}
      },
      "source": [
        "density = mass / (4/3 * pi * np.power(radius, 3))"
      ],
      "execution_count": null,
      "outputs": []
    },
    {
      "cell_type": "code",
      "metadata": {
        "id": "fY4YheaEisah",
        "colab_type": "code",
        "colab": {
          "base_uri": "https://localhost:8080/",
          "height": 235
        },
        "outputId": "16fbc42d-efea-4f5b-cb47-27551c3fc5c2"
      },
      "source": [
        "print(density)"
      ],
      "execution_count": null,
      "outputs": [
        {
          "output_type": "stream",
          "text": [
            "EARTH      5.493286e-12\n",
            "JUPITER    1.240039e-12\n",
            "MARS       3.913302e-12\n",
            "MERCURY    5.426538e-12\n",
            "MOON       3.322460e-12\n",
            "NEPTUNE    1.603427e-12\n",
            "PLUTO      2.094639e-12\n",
            "Planetx             NaN\n",
            "SATURN     6.194402e-13\n",
            "URANUS     1.241079e-12\n",
            "VENUS      5.244977e-12\n",
            "dtype: float64\n"
          ],
          "name": "stdout"
        }
      ]
    },
    {
      "cell_type": "code",
      "metadata": {
        "id": "5lL-INL5jQDY",
        "colab_type": "code",
        "colab": {}
      },
      "source": [
        "density_mean = np.mean(density[pd.isnull(density)])"
      ],
      "execution_count": null,
      "outputs": []
    },
    {
      "cell_type": "code",
      "metadata": {
        "id": "31HNSWDYiXzY",
        "colab_type": "code",
        "colab": {}
      },
      "source": [
        "density[pd.isnull(density)] = density_mean"
      ],
      "execution_count": null,
      "outputs": []
    },
    {
      "cell_type": "code",
      "metadata": {
        "id": "1AHNUun8iZzC",
        "colab_type": "code",
        "colab": {
          "base_uri": "https://localhost:8080/",
          "height": 235
        },
        "outputId": "fbdd486f-857d-4c66-d210-dfd1962264bd"
      },
      "source": [
        "print(density)"
      ],
      "execution_count": null,
      "outputs": [
        {
          "output_type": "stream",
          "text": [
            "EARTH      5.493286e-12\n",
            "JUPITER    1.240039e-12\n",
            "MARS       3.913302e-12\n",
            "MERCURY    5.426538e-12\n",
            "MOON       3.322460e-12\n",
            "NEPTUNE    1.603427e-12\n",
            "PLUTO      2.094639e-12\n",
            "Planetx    3.019919e-12\n",
            "SATURN     6.194402e-13\n",
            "URANUS     1.241079e-12\n",
            "VENUS      5.244977e-12\n",
            "dtype: float64\n"
          ],
          "name": "stdout"
        }
      ]
    },
    {
      "cell_type": "code",
      "metadata": {
        "id": "gyziUlNujOON",
        "colab_type": "code",
        "colab": {}
      },
      "source": [
        ""
      ],
      "execution_count": null,
      "outputs": []
    }
  ]
}
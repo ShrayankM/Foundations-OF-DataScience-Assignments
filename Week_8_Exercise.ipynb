{
  "nbformat": 4,
  "nbformat_minor": 0,
  "metadata": {
    "colab": {
      "name": "Week_8_Exercise.ipynb",
      "provenance": [],
      "authorship_tag": "ABX9TyOODhIOTauqDy/XSptjjB2H",
      "include_colab_link": true
    },
    "kernelspec": {
      "name": "python3",
      "display_name": "Python 3"
    }
  },
  "cells": [
    {
      "cell_type": "markdown",
      "metadata": {
        "id": "view-in-github",
        "colab_type": "text"
      },
      "source": [
        "<a href=\"https://colab.research.google.com/github/ShrayankM/FoundationsOFDataScience/blob/master/Week_8_Exercise.ipynb\" target=\"_parent\"><img src=\"https://colab.research.google.com/assets/colab-badge.svg\" alt=\"Open In Colab\"/></a>"
      ]
    },
    {
      "cell_type": "markdown",
      "metadata": {
        "id": "V_O3Lvzk_56n",
        "colab_type": "text"
      },
      "source": [
        "**Statement 1**"
      ]
    },
    {
      "cell_type": "code",
      "metadata": {
        "id": "qjJBmnUa-7qW",
        "colab_type": "code",
        "colab": {}
      },
      "source": [
        "import numpy as np"
      ],
      "execution_count": 0,
      "outputs": []
    },
    {
      "cell_type": "code",
      "metadata": {
        "id": "SgxEw76l_gPA",
        "colab_type": "code",
        "colab": {}
      },
      "source": [
        "matrix1 = np.random.randint(1,100,(100,100))\n",
        "matrix2 = np.random.randint(1,100,(100,100))"
      ],
      "execution_count": 0,
      "outputs": []
    },
    {
      "cell_type": "code",
      "metadata": {
        "id": "2j4yiiXkAAup",
        "colab_type": "code",
        "colab": {}
      },
      "source": [
        "result_matrix = np.zeros((100,100))"
      ],
      "execution_count": 0,
      "outputs": []
    },
    {
      "cell_type": "code",
      "metadata": {
        "id": "KahGQfNpAL5f",
        "colab_type": "code",
        "colab": {
          "base_uri": "https://localhost:8080/",
          "height": 181
        },
        "outputId": "b2c87a0b-1694-46de-a3d9-00020d8f2333"
      },
      "source": [
        "%%time\n",
        "for i in range(100):\n",
        "    for j in range(100):\n",
        "        for k in range(100):\n",
        "            result_matrix[i][j] = result_matrix[i][j] + matrix1[i][k] * matrix2[k][j]\n",
        "print(result_matrix)"
      ],
      "execution_count": 10,
      "outputs": [
        {
          "output_type": "stream",
          "text": [
            "[[259881. 278524. 273987. ... 267196. 242877. 274640.]\n",
            " [251373. 249786. 264852. ... 263626. 238802. 249486.]\n",
            " [243742. 251440. 255435. ... 240414. 224126. 242231.]\n",
            " ...\n",
            " [223995. 230738. 229110. ... 232823. 224458. 255092.]\n",
            " [264807. 272094. 261129. ... 261083. 239231. 262932.]\n",
            " [248865. 268556. 264626. ... 266909. 243469. 262984.]]\n",
            "CPU times: user 1.7 s, sys: 1.02 ms, total: 1.7 s\n",
            "Wall time: 1.71 s\n"
          ],
          "name": "stdout"
        }
      ]
    },
    {
      "cell_type": "code",
      "metadata": {
        "id": "pQtWW8brANY5",
        "colab_type": "code",
        "colab": {
          "base_uri": "https://localhost:8080/",
          "height": 181
        },
        "outputId": "d7f919e7-9a53-4b41-9f48-1383cf5e323d"
      },
      "source": [
        "%%time\n",
        "result_matrix = np.dot(matrix1,matrix2)\n",
        "print(result_matrix)"
      ],
      "execution_count": 11,
      "outputs": [
        {
          "output_type": "stream",
          "text": [
            "[[259881 278524 273987 ... 267196 242877 274640]\n",
            " [251373 249786 264852 ... 263626 238802 249486]\n",
            " [243742 251440 255435 ... 240414 224126 242231]\n",
            " ...\n",
            " [223995 230738 229110 ... 232823 224458 255092]\n",
            " [264807 272094 261129 ... 261083 239231 262932]\n",
            " [248865 268556 264626 ... 266909 243469 262984]]\n",
            "CPU times: user 1.82 ms, sys: 1.08 ms, total: 2.9 ms\n",
            "Wall time: 2.79 ms\n"
          ],
          "name": "stdout"
        }
      ]
    },
    {
      "cell_type": "markdown",
      "metadata": {
        "id": "IMz4lNJ4BqkR",
        "colab_type": "text"
      },
      "source": [
        "**Statement 2**"
      ]
    },
    {
      "cell_type": "code",
      "metadata": {
        "id": "NSK0bsCpAuKJ",
        "colab_type": "code",
        "colab": {}
      },
      "source": [
        "w = np.random.rand(3,2)\n",
        "x = np.random.rand(2,4)"
      ],
      "execution_count": 0,
      "outputs": []
    },
    {
      "cell_type": "code",
      "metadata": {
        "id": "30Txmb0MB4WJ",
        "colab_type": "code",
        "colab": {}
      },
      "source": [
        "z = np.dot(w,x)"
      ],
      "execution_count": 0,
      "outputs": []
    },
    {
      "cell_type": "code",
      "metadata": {
        "id": "rM3D-7KIB766",
        "colab_type": "code",
        "colab": {}
      },
      "source": [
        "def sigma_operation(z):\n",
        "    sigma = 1/(1 + np.exp(-z))\n",
        "    return sigma"
      ],
      "execution_count": 0,
      "outputs": []
    },
    {
      "cell_type": "code",
      "metadata": {
        "id": "5IMriSQnCbEV",
        "colab_type": "code",
        "colab": {
          "base_uri": "https://localhost:8080/",
          "height": 108
        },
        "outputId": "1df674b8-f874-479e-add2-ba663b6d23d9"
      },
      "source": [
        "%%time\n",
        "sigma = sigma_operation(z)\n",
        "print(sigma)"
      ],
      "execution_count": 20,
      "outputs": [
        {
          "output_type": "stream",
          "text": [
            "[[0.53094755 0.58801796 0.5919927  0.57033136]\n",
            " [0.61438305 0.79804535 0.7208438  0.71234301]\n",
            " [0.57574982 0.70885117 0.68035653 0.65501778]]\n",
            "CPU times: user 788 µs, sys: 989 µs, total: 1.78 ms\n",
            "Wall time: 1.32 ms\n"
          ],
          "name": "stdout"
        }
      ]
    },
    {
      "cell_type": "markdown",
      "metadata": {
        "id": "aq8b2QA0Cv1_",
        "colab_type": "text"
      },
      "source": [
        "**Statement 3**"
      ]
    },
    {
      "cell_type": "code",
      "metadata": {
        "id": "4wc09Sb5ChTt",
        "colab_type": "code",
        "colab": {}
      },
      "source": [
        "n = 10\n",
        "M = np.random.randint(1,100,(n,n))"
      ],
      "execution_count": 0,
      "outputs": []
    },
    {
      "cell_type": "code",
      "metadata": {
        "id": "E3WHQWceDIBO",
        "colab_type": "code",
        "colab": {}
      },
      "source": [
        "M = M.reshape(n*n,)"
      ],
      "execution_count": 0,
      "outputs": []
    },
    {
      "cell_type": "code",
      "metadata": {
        "id": "-c3ZSjCPDJkw",
        "colab_type": "code",
        "colab": {
          "base_uri": "https://localhost:8080/",
          "height": 126
        },
        "outputId": "cdd27da0-22fb-4cca-9298-0edc3559ca46"
      },
      "source": [
        "M"
      ],
      "execution_count": 71,
      "outputs": [
        {
          "output_type": "execute_result",
          "data": {
            "text/plain": [
              "array([80, 18, 98, 86, 36, 45, 29, 85, 55, 49, 25, 49, 57, 29, 19, 78, 64,\n",
              "       82, 12,  1,  1, 47, 98, 46, 26, 55, 41, 28, 14, 58, 53, 24, 16, 79,\n",
              "       83, 93, 61, 22,  3, 69, 24, 85, 54, 61, 71, 43, 55,  8, 66,  8, 62,\n",
              "       59, 38, 55, 48, 34,  8, 91, 49, 58, 44, 14, 53, 48, 80, 39, 59, 42,\n",
              "       24, 35,  2,  1, 99, 71, 74, 71, 58,  3, 57, 29, 87, 64,  5,  4, 48,\n",
              "       28, 95, 75, 44,  4, 40, 79, 57, 76, 23, 28, 96, 88, 17, 56])"
            ]
          },
          "metadata": {
            "tags": []
          },
          "execution_count": 71
        }
      ]
    },
    {
      "cell_type": "code",
      "metadata": {
        "id": "1nd76oOTDO5t",
        "colab_type": "code",
        "colab": {
          "base_uri": "https://localhost:8080/",
          "height": 72
        },
        "outputId": "72227de6-c690-41eb-ebf8-2ca6d0e8ca5d"
      },
      "source": [
        "%%time\n",
        "sum_M = 0\n",
        "for i in range(len(M)):\n",
        "    sum_M = sum_M + M[i]\n",
        "print(sum_M/len(M))"
      ],
      "execution_count": 72,
      "outputs": [
        {
          "output_type": "stream",
          "text": [
            "48.08\n",
            "CPU times: user 347 µs, sys: 0 ns, total: 347 µs\n",
            "Wall time: 531 µs\n"
          ],
          "name": "stdout"
        }
      ]
    },
    {
      "cell_type": "code",
      "metadata": {
        "id": "Y-sw6wu6DkTk",
        "colab_type": "code",
        "colab": {
          "base_uri": "https://localhost:8080/",
          "height": 72
        },
        "outputId": "0811191c-1037-463d-acbc-34523b48180f"
      },
      "source": [
        "%%time\n",
        "sum_M = np.sum(M)\n",
        "print(sum_M/len(M))"
      ],
      "execution_count": 73,
      "outputs": [
        {
          "output_type": "stream",
          "text": [
            "48.08\n",
            "CPU times: user 479 µs, sys: 34 µs, total: 513 µs\n",
            "Wall time: 412 µs\n"
          ],
          "name": "stdout"
        }
      ]
    },
    {
      "cell_type": "code",
      "metadata": {
        "id": "ojLbeLL7Dq7S",
        "colab_type": "code",
        "colab": {
          "base_uri": "https://localhost:8080/",
          "height": 72
        },
        "outputId": "1fd21de9-206a-456f-a49c-fc6631a8d307"
      },
      "source": [
        "%%time\n",
        "mean_of_M = np.mean(M)\n",
        "print(mean_of_M)"
      ],
      "execution_count": 32,
      "outputs": [
        {
          "output_type": "stream",
          "text": [
            "49.4\n",
            "CPU times: user 359 µs, sys: 0 ns, total: 359 µs\n",
            "Wall time: 288 µs\n"
          ],
          "name": "stdout"
        }
      ]
    },
    {
      "cell_type": "code",
      "metadata": {
        "id": "p4dPrtecDx-t",
        "colab_type": "code",
        "colab": {
          "base_uri": "https://localhost:8080/",
          "height": 72
        },
        "outputId": "4fe5c1dc-f107-4dbe-d412-fb4151dd0ae8"
      },
      "source": [
        "%%time\n",
        "std_of_M = np.sqrt((np.sum(M**2 - mean_of_M**2 ))/(len(M) - 1))\n",
        "print(std_of_M)"
      ],
      "execution_count": 45,
      "outputs": [
        {
          "output_type": "stream",
          "text": [
            "31.095161856936702\n",
            "CPU times: user 673 µs, sys: 976 µs, total: 1.65 ms\n",
            "Wall time: 1.54 ms\n"
          ],
          "name": "stdout"
        }
      ]
    },
    {
      "cell_type": "code",
      "metadata": {
        "id": "ye9AzGTVEueC",
        "colab_type": "code",
        "colab": {
          "base_uri": "https://localhost:8080/",
          "height": 72
        },
        "outputId": "b6ed023e-1954-4cee-b67e-9ed0b37f29c3"
      },
      "source": [
        "%%time\n",
        "std_of_M = np.std(M)\n",
        "print(std_of_M)"
      ],
      "execution_count": 46,
      "outputs": [
        {
          "output_type": "stream",
          "text": [
            "30.93929540244897\n",
            "CPU times: user 514 µs, sys: 0 ns, total: 514 µs\n",
            "Wall time: 416 µs\n"
          ],
          "name": "stdout"
        }
      ]
    },
    {
      "cell_type": "code",
      "metadata": {
        "id": "_t7Ntt9mFTfi",
        "colab_type": "code",
        "colab": {
          "base_uri": "https://localhost:8080/",
          "height": 363
        },
        "outputId": "bcd1d083-ab12-4ff1-fa6e-9d9175421ff7"
      },
      "source": [
        "%%time\n",
        "z_scores = (M - np.mean(M)) / np.std(M)\n",
        "print(z_scores)"
      ],
      "execution_count": 48,
      "outputs": [
        {
          "output_type": "stream",
          "text": [
            "[ 0.76278402  0.98903351 -1.5320323   0.73046266  1.02135487  0.27796367\n",
            "  0.21332095  0.73046266  1.11831894 -1.07953331 -1.56435366  1.53849657\n",
            "  1.18296165  0.01939281  0.63349859 -0.75631974 -1.27346145  0.37492774\n",
            " -0.7886411  -1.49971095  1.50617522  1.60313929 -1.07953331 -0.59471296\n",
            "  0.53653452 -0.62703432 -0.65935567 -0.69167703  1.4415325  -0.56239161\n",
            " -0.56239161 -0.14221397 -1.27346145 -0.85328381 -1.20881874 -0.82096246\n",
            "  1.02135487 -0.88560517  1.34456844  0.27796367  0.98903351 -0.82096246\n",
            "  1.02135487 -0.40078482 -0.56239161  1.1506403   1.18296165  0.11635688\n",
            " -0.20685668 -1.49971095 -1.40274688 -1.43506823  0.76278402  1.40921115\n",
            "  0.08403553 -0.69167703 -0.53007025 -0.17453533 -0.10989261 -1.30578281\n",
            " -1.56435366 -1.56435366  1.1506403   0.27796367  0.73046266  1.02135487\n",
            " -0.33614211  1.4415325  -0.75631974  0.01939281  1.27992572  0.89206944\n",
            "  1.11831894  1.21528301  0.73046266  0.76278402  0.98903351  1.60313929\n",
            " -1.56435366 -0.43310618 -0.49774889 -0.59471296 -1.56435366 -1.37042552\n",
            " -1.43506823 -0.07757126 -0.43310618  1.05367623 -1.37042552 -0.0452499\n",
            " -1.11185467  0.9243908   0.98903351  0.37492774 -0.98256924  1.60313929\n",
            "  1.50617522  0.40724909 -0.98256924  0.14867824]\n",
            "CPU times: user 2.87 ms, sys: 0 ns, total: 2.87 ms\n",
            "Wall time: 4.66 ms\n"
          ],
          "name": "stdout"
        }
      ]
    },
    {
      "cell_type": "code",
      "metadata": {
        "id": "xNejStQJFysW",
        "colab_type": "code",
        "colab": {
          "base_uri": "https://localhost:8080/",
          "height": 54
        },
        "outputId": "7fbc6462-fac7-4412-c84e-044786291795"
      },
      "source": [
        "print(\"Mean of Z_score_data\",np.mean(z_scores))\n",
        "print(\"Std of Z_score_data\",np.std(z_scores))"
      ],
      "execution_count": 49,
      "outputs": [
        {
          "output_type": "stream",
          "text": [
            "Mean of Z_score_data 6.827871601444713e-17\n",
            "Std of Z_score_data 1.0\n"
          ],
          "name": "stdout"
        }
      ]
    },
    {
      "cell_type": "code",
      "metadata": {
        "id": "P4NnNAEGGJkO",
        "colab_type": "code",
        "colab": {
          "base_uri": "https://localhost:8080/",
          "height": 54
        },
        "outputId": "c8127571-22e3-4f16-b1a7-1fce436e11b1"
      },
      "source": [
        "print(\"Mean of M data\",np.mean(M))\n",
        "print(\"Std of M data\",np.std(M))"
      ],
      "execution_count": 50,
      "outputs": [
        {
          "output_type": "stream",
          "text": [
            "Mean of M data 49.4\n",
            "Std of M data 30.93929540244897\n"
          ],
          "name": "stdout"
        }
      ]
    },
    {
      "cell_type": "markdown",
      "metadata": {
        "id": "RXO13Pn4GbbP",
        "colab_type": "text"
      },
      "source": [
        "**Statement 4**"
      ]
    },
    {
      "cell_type": "code",
      "metadata": {
        "id": "lqUg2IVyGYpx",
        "colab_type": "code",
        "colab": {}
      },
      "source": [
        "def make_vector(ndim):\n",
        "    return np.random.rand(2,ndim)"
      ],
      "execution_count": 0,
      "outputs": []
    },
    {
      "cell_type": "code",
      "metadata": {
        "id": "krzYYwybHGOM",
        "colab_type": "code",
        "colab": {}
      },
      "source": [
        "V = make_vector(3)"
      ],
      "execution_count": 0,
      "outputs": []
    },
    {
      "cell_type": "code",
      "metadata": {
        "id": "L8Olozy9HIqK",
        "colab_type": "code",
        "colab": {}
      },
      "source": [
        "def find_magnitude(vector):\n",
        "    return np.sqrt(np.sum((vector[0] - vector[1])**2))"
      ],
      "execution_count": 0,
      "outputs": []
    },
    {
      "cell_type": "code",
      "metadata": {
        "id": "cQ0s9OqHHJhv",
        "colab_type": "code",
        "colab": {
          "base_uri": "https://localhost:8080/",
          "height": 35
        },
        "outputId": "9845fd9f-70b1-47b4-d91e-3d752ab8a559"
      },
      "source": [
        "print(\"Magnitude of V,\",find_magnitude(V))"
      ],
      "execution_count": 57,
      "outputs": [
        {
          "output_type": "stream",
          "text": [
            "Magnitude of V, 0.6735832130758842\n"
          ],
          "name": "stdout"
        }
      ]
    },
    {
      "cell_type": "code",
      "metadata": {
        "id": "q-6__AN0H_kr",
        "colab_type": "code",
        "colab": {}
      },
      "source": [
        "V_custom = np.array([\n",
        "    [1,1],\n",
        "    [5,3]\n",
        "]\n",
        ")"
      ],
      "execution_count": 0,
      "outputs": []
    },
    {
      "cell_type": "code",
      "metadata": {
        "id": "GnMnE92AIQn9",
        "colab_type": "code",
        "colab": {
          "base_uri": "https://localhost:8080/",
          "height": 35
        },
        "outputId": "fc535460-b942-44ac-a2c6-2fd0fe1651de"
      },
      "source": [
        "V_custom.shape"
      ],
      "execution_count": 60,
      "outputs": [
        {
          "output_type": "execute_result",
          "data": {
            "text/plain": [
              "(2, 2)"
            ]
          },
          "metadata": {
            "tags": []
          },
          "execution_count": 60
        }
      ]
    },
    {
      "cell_type": "code",
      "metadata": {
        "id": "KQQ2GhYeIV9H",
        "colab_type": "code",
        "colab": {
          "base_uri": "https://localhost:8080/",
          "height": 35
        },
        "outputId": "7bb31fe0-085a-412c-c37c-811fdda13c4d"
      },
      "source": [
        "print(\"Magnitude of V_custom,\",find_magnitude(V_custom))"
      ],
      "execution_count": 61,
      "outputs": [
        {
          "output_type": "stream",
          "text": [
            "Magnitude of V_custom, 4.47213595499958\n"
          ],
          "name": "stdout"
        }
      ]
    },
    {
      "cell_type": "markdown",
      "metadata": {
        "id": "_gAfz5IHIitY",
        "colab_type": "text"
      },
      "source": [
        "**Statement 5**"
      ]
    },
    {
      "cell_type": "code",
      "metadata": {
        "id": "0hKJJfO5Ia-N",
        "colab_type": "code",
        "colab": {}
      },
      "source": [
        "y_bar = np.random.rand(10)\n",
        "y = np.random.randint(0,2,10)"
      ],
      "execution_count": 0,
      "outputs": []
    },
    {
      "cell_type": "code",
      "metadata": {
        "id": "-JHz2xXDI8VX",
        "colab_type": "code",
        "colab": {}
      },
      "source": [
        "O = -np.sum(y * np.log(y_bar) + (1 -y) * np.log(1 - y_bar))/10"
      ],
      "execution_count": 0,
      "outputs": []
    },
    {
      "cell_type": "code",
      "metadata": {
        "id": "UiBju4lGJhhd",
        "colab_type": "code",
        "colab": {
          "base_uri": "https://localhost:8080/",
          "height": 35
        },
        "outputId": "bf8cb9e2-6f47-40c5-a1a3-b2ec18ce27f0"
      },
      "source": [
        "O"
      ],
      "execution_count": 68,
      "outputs": [
        {
          "output_type": "execute_result",
          "data": {
            "text/plain": [
              "1.2821901438491774"
            ]
          },
          "metadata": {
            "tags": []
          },
          "execution_count": 68
        }
      ]
    },
    {
      "cell_type": "code",
      "metadata": {
        "id": "WI2rk3UiJiv5",
        "colab_type": "code",
        "colab": {}
      },
      "source": [
        ""
      ],
      "execution_count": 0,
      "outputs": []
    }
  ]
}
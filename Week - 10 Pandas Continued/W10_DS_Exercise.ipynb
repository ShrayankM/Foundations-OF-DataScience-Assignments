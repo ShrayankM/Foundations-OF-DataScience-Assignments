{
  "nbformat": 4,
  "nbformat_minor": 0,
  "metadata": {
    "colab": {
      "name": "W10_DS_Exercise.ipynb",
      "provenance": [],
      "collapsed_sections": []
    },
    "kernelspec": {
      "name": "python3",
      "display_name": "Python 3"
    }
  },
  "cells": [
    {
      "cell_type": "code",
      "metadata": {
        "id": "I4cDutZsQCcD",
        "colab_type": "code",
        "colab": {}
      },
      "source": [
        "import numpy as np\n",
        "import pandas as pd\n",
        "from statistics import variance"
      ],
      "execution_count": 403,
      "outputs": []
    },
    {
      "cell_type": "code",
      "metadata": {
        "id": "eideT8LYLghX",
        "colab_type": "code",
        "colab": {}
      },
      "source": [
        "nifty50_2019 = pd.read_csv(\"NIFTY50_2019.csv\", index_col = 0)"
      ],
      "execution_count": 404,
      "outputs": []
    },
    {
      "cell_type": "code",
      "metadata": {
        "id": "xBiwT_j0LsBA",
        "colab_type": "code",
        "colab": {
          "base_uri": "https://localhost:8080/",
          "height": 228
        },
        "outputId": "64e6ec24-7523-4575-d638-5e093ce848aa"
      },
      "source": [
        "nifty50_2019.head()"
      ],
      "execution_count": 405,
      "outputs": [
        {
          "output_type": "execute_result",
          "data": {
            "text/html": [
              "<div>\n",
              "<style scoped>\n",
              "    .dataframe tbody tr th:only-of-type {\n",
              "        vertical-align: middle;\n",
              "    }\n",
              "\n",
              "    .dataframe tbody tr th {\n",
              "        vertical-align: top;\n",
              "    }\n",
              "\n",
              "    .dataframe thead th {\n",
              "        text-align: right;\n",
              "    }\n",
              "</style>\n",
              "<table border=\"1\" class=\"dataframe\">\n",
              "  <thead>\n",
              "    <tr style=\"text-align: right;\">\n",
              "      <th></th>\n",
              "      <th>Open</th>\n",
              "      <th>High</th>\n",
              "      <th>Low</th>\n",
              "      <th>Close</th>\n",
              "    </tr>\n",
              "    <tr>\n",
              "      <th>Date</th>\n",
              "      <th></th>\n",
              "      <th></th>\n",
              "      <th></th>\n",
              "      <th></th>\n",
              "    </tr>\n",
              "  </thead>\n",
              "  <tbody>\n",
              "    <tr>\n",
              "      <th>31 Dec 2019</th>\n",
              "      <td>12247.10</td>\n",
              "      <td>12247.10</td>\n",
              "      <td>12151.80</td>\n",
              "      <td>12168.45</td>\n",
              "    </tr>\n",
              "    <tr>\n",
              "      <th>30 Dec 2019</th>\n",
              "      <td>12274.90</td>\n",
              "      <td>12286.45</td>\n",
              "      <td>12213.80</td>\n",
              "      <td>12255.85</td>\n",
              "    </tr>\n",
              "    <tr>\n",
              "      <th>27 Dec 2019</th>\n",
              "      <td>12172.90</td>\n",
              "      <td>12258.45</td>\n",
              "      <td>12157.90</td>\n",
              "      <td>12245.80</td>\n",
              "    </tr>\n",
              "    <tr>\n",
              "      <th>26 Dec 2019</th>\n",
              "      <td>12211.85</td>\n",
              "      <td>12221.55</td>\n",
              "      <td>12118.85</td>\n",
              "      <td>12126.55</td>\n",
              "    </tr>\n",
              "    <tr>\n",
              "      <th>24 Dec 2019</th>\n",
              "      <td>12269.25</td>\n",
              "      <td>12283.70</td>\n",
              "      <td>12202.10</td>\n",
              "      <td>12214.55</td>\n",
              "    </tr>\n",
              "  </tbody>\n",
              "</table>\n",
              "</div>"
            ],
            "text/plain": [
              "                 Open      High       Low     Close\n",
              "Date                                               \n",
              "31 Dec 2019  12247.10  12247.10  12151.80  12168.45\n",
              "30 Dec 2019  12274.90  12286.45  12213.80  12255.85\n",
              "27 Dec 2019  12172.90  12258.45  12157.90  12245.80\n",
              "26 Dec 2019  12211.85  12221.55  12118.85  12126.55\n",
              "24 Dec 2019  12269.25  12283.70  12202.10  12214.55"
            ]
          },
          "metadata": {
            "tags": []
          },
          "execution_count": 405
        }
      ]
    },
    {
      "cell_type": "code",
      "metadata": {
        "id": "Zjt4taZnf3y2",
        "colab_type": "code",
        "colab": {
          "base_uri": "https://localhost:8080/",
          "height": 288
        },
        "outputId": "a6fff6fe-251d-4b94-9109-013843563381"
      },
      "source": [
        "nifty50_2019.describe()"
      ],
      "execution_count": 406,
      "outputs": [
        {
          "output_type": "execute_result",
          "data": {
            "text/html": [
              "<div>\n",
              "<style scoped>\n",
              "    .dataframe tbody tr th:only-of-type {\n",
              "        vertical-align: middle;\n",
              "    }\n",
              "\n",
              "    .dataframe tbody tr th {\n",
              "        vertical-align: top;\n",
              "    }\n",
              "\n",
              "    .dataframe thead th {\n",
              "        text-align: right;\n",
              "    }\n",
              "</style>\n",
              "<table border=\"1\" class=\"dataframe\">\n",
              "  <thead>\n",
              "    <tr style=\"text-align: right;\">\n",
              "      <th></th>\n",
              "      <th>Open</th>\n",
              "      <th>High</th>\n",
              "      <th>Low</th>\n",
              "      <th>Close</th>\n",
              "    </tr>\n",
              "  </thead>\n",
              "  <tbody>\n",
              "    <tr>\n",
              "      <th>count</th>\n",
              "      <td>245.000000</td>\n",
              "      <td>245.000000</td>\n",
              "      <td>245.000000</td>\n",
              "      <td>245.000000</td>\n",
              "    </tr>\n",
              "    <tr>\n",
              "      <th>mean</th>\n",
              "      <td>11444.261837</td>\n",
              "      <td>11494.463061</td>\n",
              "      <td>11370.888367</td>\n",
              "      <td>11432.632245</td>\n",
              "    </tr>\n",
              "    <tr>\n",
              "      <th>std</th>\n",
              "      <td>456.299881</td>\n",
              "      <td>450.958644</td>\n",
              "      <td>460.381310</td>\n",
              "      <td>454.214611</td>\n",
              "    </tr>\n",
              "    <tr>\n",
              "      <th>min</th>\n",
              "      <td>10636.700000</td>\n",
              "      <td>10690.350000</td>\n",
              "      <td>10583.650000</td>\n",
              "      <td>10604.350000</td>\n",
              "    </tr>\n",
              "    <tr>\n",
              "      <th>25%</th>\n",
              "      <td>10996.050000</td>\n",
              "      <td>11054.800000</td>\n",
              "      <td>10901.600000</td>\n",
              "      <td>11003.050000</td>\n",
              "    </tr>\n",
              "    <tr>\n",
              "      <th>50%</th>\n",
              "      <td>11536.150000</td>\n",
              "      <td>11588.500000</td>\n",
              "      <td>11452.450000</td>\n",
              "      <td>11512.400000</td>\n",
              "    </tr>\n",
              "    <tr>\n",
              "      <th>75%</th>\n",
              "      <td>11861.150000</td>\n",
              "      <td>11895.650000</td>\n",
              "      <td>11784.450000</td>\n",
              "      <td>11841.550000</td>\n",
              "    </tr>\n",
              "    <tr>\n",
              "      <th>max</th>\n",
              "      <td>12274.900000</td>\n",
              "      <td>12293.900000</td>\n",
              "      <td>12252.750000</td>\n",
              "      <td>12271.800000</td>\n",
              "    </tr>\n",
              "  </tbody>\n",
              "</table>\n",
              "</div>"
            ],
            "text/plain": [
              "               Open          High           Low         Close\n",
              "count    245.000000    245.000000    245.000000    245.000000\n",
              "mean   11444.261837  11494.463061  11370.888367  11432.632245\n",
              "std      456.299881    450.958644    460.381310    454.214611\n",
              "min    10636.700000  10690.350000  10583.650000  10604.350000\n",
              "25%    10996.050000  11054.800000  10901.600000  11003.050000\n",
              "50%    11536.150000  11588.500000  11452.450000  11512.400000\n",
              "75%    11861.150000  11895.650000  11784.450000  11841.550000\n",
              "max    12274.900000  12293.900000  12252.750000  12271.800000"
            ]
          },
          "metadata": {
            "tags": []
          },
          "execution_count": 406
        }
      ]
    },
    {
      "cell_type": "markdown",
      "metadata": {
        "id": "sp1RmIjqL76l",
        "colab_type": "text"
      },
      "source": [
        "#Statement 1\n",
        "**How many days was nifty50 volatile i.e. (high > 105% of low)**"
      ]
    },
    {
      "cell_type": "code",
      "metadata": {
        "id": "SYyadDbSLwiU",
        "colab_type": "code",
        "colab": {
          "base_uri": "https://localhost:8080/",
          "height": 72
        },
        "outputId": "a063ce9c-3590-4e10-ae88-d20d4967908f"
      },
      "source": [
        "%%time\n",
        "count = 0\n",
        "df_ = nifty50_2019.copy()\n",
        "for i, r in df_.iterrows():\n",
        "    if r['High'] > (r['Low'] * 1.05):\n",
        "        count = count + 1\n",
        "        df_.loc[i, 'volatile'] = True\n",
        "    else:\n",
        "        df_.loc[i, 'volatile'] = False\n",
        "print(count)"
      ],
      "execution_count": 407,
      "outputs": [
        {
          "output_type": "stream",
          "text": [
            "1\n",
            "CPU times: user 118 ms, sys: 917 µs, total: 119 ms\n",
            "Wall time: 120 ms\n"
          ],
          "name": "stdout"
        }
      ]
    },
    {
      "cell_type": "code",
      "metadata": {
        "id": "DkZOOxzUNBjJ",
        "colab_type": "code",
        "colab": {
          "base_uri": "https://localhost:8080/",
          "height": 72
        },
        "outputId": "cea1df16-613d-4e85-a764-5d17695fd115"
      },
      "source": [
        "%%time\n",
        "df_ = nifty50_2019.copy()\n",
        "print(df_[df_['High'] > (df_['Low'] * 1.05)]['High'].count())\n",
        "nifty50_2019['volatile'] = df_['High'] > (df_['Low'] * 1.05)"
      ],
      "execution_count": 408,
      "outputs": [
        {
          "output_type": "stream",
          "text": [
            "1\n",
            "CPU times: user 3.28 ms, sys: 968 µs, total: 4.25 ms\n",
            "Wall time: 4.66 ms\n"
          ],
          "name": "stdout"
        }
      ]
    },
    {
      "cell_type": "code",
      "metadata": {
        "id": "w7v-81-USXrW",
        "colab_type": "code",
        "colab": {
          "base_uri": "https://localhost:8080/",
          "height": 228
        },
        "outputId": "3269a172-ea33-4d18-ab22-c57f2d83f893"
      },
      "source": [
        "nifty50_2019.head()"
      ],
      "execution_count": 409,
      "outputs": [
        {
          "output_type": "execute_result",
          "data": {
            "text/html": [
              "<div>\n",
              "<style scoped>\n",
              "    .dataframe tbody tr th:only-of-type {\n",
              "        vertical-align: middle;\n",
              "    }\n",
              "\n",
              "    .dataframe tbody tr th {\n",
              "        vertical-align: top;\n",
              "    }\n",
              "\n",
              "    .dataframe thead th {\n",
              "        text-align: right;\n",
              "    }\n",
              "</style>\n",
              "<table border=\"1\" class=\"dataframe\">\n",
              "  <thead>\n",
              "    <tr style=\"text-align: right;\">\n",
              "      <th></th>\n",
              "      <th>Open</th>\n",
              "      <th>High</th>\n",
              "      <th>Low</th>\n",
              "      <th>Close</th>\n",
              "      <th>volatile</th>\n",
              "    </tr>\n",
              "    <tr>\n",
              "      <th>Date</th>\n",
              "      <th></th>\n",
              "      <th></th>\n",
              "      <th></th>\n",
              "      <th></th>\n",
              "      <th></th>\n",
              "    </tr>\n",
              "  </thead>\n",
              "  <tbody>\n",
              "    <tr>\n",
              "      <th>31 Dec 2019</th>\n",
              "      <td>12247.10</td>\n",
              "      <td>12247.10</td>\n",
              "      <td>12151.80</td>\n",
              "      <td>12168.45</td>\n",
              "      <td>False</td>\n",
              "    </tr>\n",
              "    <tr>\n",
              "      <th>30 Dec 2019</th>\n",
              "      <td>12274.90</td>\n",
              "      <td>12286.45</td>\n",
              "      <td>12213.80</td>\n",
              "      <td>12255.85</td>\n",
              "      <td>False</td>\n",
              "    </tr>\n",
              "    <tr>\n",
              "      <th>27 Dec 2019</th>\n",
              "      <td>12172.90</td>\n",
              "      <td>12258.45</td>\n",
              "      <td>12157.90</td>\n",
              "      <td>12245.80</td>\n",
              "      <td>False</td>\n",
              "    </tr>\n",
              "    <tr>\n",
              "      <th>26 Dec 2019</th>\n",
              "      <td>12211.85</td>\n",
              "      <td>12221.55</td>\n",
              "      <td>12118.85</td>\n",
              "      <td>12126.55</td>\n",
              "      <td>False</td>\n",
              "    </tr>\n",
              "    <tr>\n",
              "      <th>24 Dec 2019</th>\n",
              "      <td>12269.25</td>\n",
              "      <td>12283.70</td>\n",
              "      <td>12202.10</td>\n",
              "      <td>12214.55</td>\n",
              "      <td>False</td>\n",
              "    </tr>\n",
              "  </tbody>\n",
              "</table>\n",
              "</div>"
            ],
            "text/plain": [
              "                 Open      High       Low     Close  volatile\n",
              "Date                                                         \n",
              "31 Dec 2019  12247.10  12247.10  12151.80  12168.45     False\n",
              "30 Dec 2019  12274.90  12286.45  12213.80  12255.85     False\n",
              "27 Dec 2019  12172.90  12258.45  12157.90  12245.80     False\n",
              "26 Dec 2019  12211.85  12221.55  12118.85  12126.55     False\n",
              "24 Dec 2019  12269.25  12283.70  12202.10  12214.55     False"
            ]
          },
          "metadata": {
            "tags": []
          },
          "execution_count": 409
        }
      ]
    },
    {
      "cell_type": "markdown",
      "metadata": {
        "id": "8vDjEedMO1nK",
        "colab_type": "text"
      },
      "source": [
        "#Statement 2\n",
        "**How many days was nifty50 volatile i.e. (high > 105% of low)**"
      ]
    },
    {
      "cell_type": "code",
      "metadata": {
        "id": "3M8xYigQNM-7",
        "colab_type": "code",
        "colab": {}
      },
      "source": [
        "nifty50Next = pd.read_csv(\"NIFTYNext50_2019.csv\", index_col = 0)"
      ],
      "execution_count": 410,
      "outputs": []
    },
    {
      "cell_type": "code",
      "metadata": {
        "id": "OqS5rIxGO-RV",
        "colab_type": "code",
        "colab": {
          "base_uri": "https://localhost:8080/",
          "height": 72
        },
        "outputId": "b1723362-0e98-4534-f50e-36a63242fd14"
      },
      "source": [
        "%%time\n",
        "count = 0\n",
        "df_ = nifty50Next.copy()\n",
        "for i, r in df_.iterrows():\n",
        "    if r['High'] > (r['Low'] * 1.05):\n",
        "        count = count + 1\n",
        "        df_.loc[i, 'volatile'] = True\n",
        "    else:\n",
        "        df_.loc[i, 'volatile'] = False\n",
        "print(count)"
      ],
      "execution_count": 411,
      "outputs": [
        {
          "output_type": "stream",
          "text": [
            "1\n",
            "CPU times: user 140 ms, sys: 3.86 ms, total: 144 ms\n",
            "Wall time: 152 ms\n"
          ],
          "name": "stdout"
        }
      ]
    },
    {
      "cell_type": "code",
      "metadata": {
        "id": "gdZE0-8PPEfG",
        "colab_type": "code",
        "colab": {
          "base_uri": "https://localhost:8080/",
          "height": 72
        },
        "outputId": "f564f20e-d0f0-46cf-d9da-d9188ebd372d"
      },
      "source": [
        "%%time\n",
        "df_ = nifty50Next.copy()\n",
        "print(df_[df_['High'] > (df_['Low'] * 1.05)]['High'].count())\n",
        "nifty50Next['volatile'] = df_['High'] > (df_['Low'] * 1.05)"
      ],
      "execution_count": 412,
      "outputs": [
        {
          "output_type": "stream",
          "text": [
            "1\n",
            "CPU times: user 1.96 ms, sys: 950 µs, total: 2.91 ms\n",
            "Wall time: 2.68 ms\n"
          ],
          "name": "stdout"
        }
      ]
    },
    {
      "cell_type": "code",
      "metadata": {
        "id": "PD1-GI1BPJVZ",
        "colab_type": "code",
        "colab": {
          "base_uri": "https://localhost:8080/",
          "height": 228
        },
        "outputId": "9cba3ca4-9f10-4a79-8290-a1135b05898b"
      },
      "source": [
        "nifty50Next.head()"
      ],
      "execution_count": 413,
      "outputs": [
        {
          "output_type": "execute_result",
          "data": {
            "text/html": [
              "<div>\n",
              "<style scoped>\n",
              "    .dataframe tbody tr th:only-of-type {\n",
              "        vertical-align: middle;\n",
              "    }\n",
              "\n",
              "    .dataframe tbody tr th {\n",
              "        vertical-align: top;\n",
              "    }\n",
              "\n",
              "    .dataframe thead th {\n",
              "        text-align: right;\n",
              "    }\n",
              "</style>\n",
              "<table border=\"1\" class=\"dataframe\">\n",
              "  <thead>\n",
              "    <tr style=\"text-align: right;\">\n",
              "      <th></th>\n",
              "      <th>Open</th>\n",
              "      <th>High</th>\n",
              "      <th>Low</th>\n",
              "      <th>Close</th>\n",
              "      <th>volatile</th>\n",
              "    </tr>\n",
              "    <tr>\n",
              "      <th>Date</th>\n",
              "      <th></th>\n",
              "      <th></th>\n",
              "      <th></th>\n",
              "      <th></th>\n",
              "      <th></th>\n",
              "    </tr>\n",
              "  </thead>\n",
              "  <tbody>\n",
              "    <tr>\n",
              "      <th>31 Dec 2019</th>\n",
              "      <td>28495.00</td>\n",
              "      <td>28549.50</td>\n",
              "      <td>28270.25</td>\n",
              "      <td>28307.55</td>\n",
              "      <td>False</td>\n",
              "    </tr>\n",
              "    <tr>\n",
              "      <th>30 Dec 2019</th>\n",
              "      <td>28528.95</td>\n",
              "      <td>28612.95</td>\n",
              "      <td>28406.70</td>\n",
              "      <td>28484.85</td>\n",
              "      <td>False</td>\n",
              "    </tr>\n",
              "    <tr>\n",
              "      <th>27 Dec 2019</th>\n",
              "      <td>28354.50</td>\n",
              "      <td>28500.25</td>\n",
              "      <td>28319.90</td>\n",
              "      <td>28476.80</td>\n",
              "      <td>False</td>\n",
              "    </tr>\n",
              "    <tr>\n",
              "      <th>26 Dec 2019</th>\n",
              "      <td>28409.10</td>\n",
              "      <td>28435.25</td>\n",
              "      <td>28259.75</td>\n",
              "      <td>28280.25</td>\n",
              "      <td>False</td>\n",
              "    </tr>\n",
              "    <tr>\n",
              "      <th>24 Dec 2019</th>\n",
              "      <td>28423.70</td>\n",
              "      <td>28430.40</td>\n",
              "      <td>28318.75</td>\n",
              "      <td>28382.85</td>\n",
              "      <td>False</td>\n",
              "    </tr>\n",
              "  </tbody>\n",
              "</table>\n",
              "</div>"
            ],
            "text/plain": [
              "                 Open      High       Low     Close  volatile\n",
              "Date                                                         \n",
              "31 Dec 2019  28495.00  28549.50  28270.25  28307.55     False\n",
              "30 Dec 2019  28528.95  28612.95  28406.70  28484.85     False\n",
              "27 Dec 2019  28354.50  28500.25  28319.90  28476.80     False\n",
              "26 Dec 2019  28409.10  28435.25  28259.75  28280.25     False\n",
              "24 Dec 2019  28423.70  28430.40  28318.75  28382.85     False"
            ]
          },
          "metadata": {
            "tags": []
          },
          "execution_count": 413
        }
      ]
    },
    {
      "cell_type": "markdown",
      "metadata": {
        "id": "7n7QDkeBVa6-",
        "colab_type": "text"
      },
      "source": [
        "#Statement 3\n",
        "\n",
        "\n",
        "*   Find days where both Nifty50 and Nifty50Next are volatile\n",
        "*   Find days where both Nifty50 and Nifty50Next are non_volatile\n",
        "*   Find days where Nifty50 is volatile and Nifty50Next is non_volatile\n",
        "*   Find days where Nifty50 is non_volatile and Nifty50Next is volatile\n",
        "\n",
        "\n",
        "\n",
        "\n"
      ]
    },
    {
      "cell_type": "code",
      "metadata": {
        "id": "TJxD9GdmTCgz",
        "colab_type": "code",
        "colab": {
          "base_uri": "https://localhost:8080/",
          "height": 72
        },
        "outputId": "f1963e2f-1862-4d09-88bf-2c23598a6f39"
      },
      "source": [
        "%%time\n",
        "df_ = nifty50_2019.copy()\n",
        "dfN = nifty50Next.copy()\n",
        "\n",
        "count = [0, 0, 0, 0] \n",
        "#0 - volatile/volatile\n",
        "#1 - non_volatile/non_volatile\n",
        "#2 - volatile/non_volatile\n",
        "#3 - non_volatile/volatile\n",
        "for i, r in df_.iterrows():\n",
        "    if df_.loc[i, 'volatile'] & dfN.loc[i, 'volatile']:\n",
        "        count[0] = count[0] + 1\n",
        "    if ~df_.loc[i, 'volatile'] and ~dfN.loc[i, 'volatile']:\n",
        "        count[1] = count[1] + 1\n",
        "    if df_.loc[i, 'volatile'] and ~dfN.loc[i, 'volatile']:\n",
        "        count[2] = count[2] + 1\n",
        "    if ~df_.loc[i, 'volatile'] and dfN.loc[i, 'volatile']:\n",
        "        count[3] = count[3] + 1\n",
        "print(count)"
      ],
      "execution_count": 414,
      "outputs": [
        {
          "output_type": "stream",
          "text": [
            "[1, 244, 0, 0]\n",
            "CPU times: user 41.1 ms, sys: 0 ns, total: 41.1 ms\n",
            "Wall time: 41.5 ms\n"
          ],
          "name": "stdout"
        }
      ]
    },
    {
      "cell_type": "code",
      "metadata": {
        "id": "Bna5ja4XWfd6",
        "colab_type": "code",
        "colab": {
          "base_uri": "https://localhost:8080/",
          "height": 126
        },
        "outputId": "6f9e121d-f72b-4cc7-8a38-96ece0d5a558"
      },
      "source": [
        "%%time\n",
        "df_ = nifty50_2019.copy()\n",
        "dfN = nifty50Next.copy()\n",
        "\n",
        "series = df_['volatile'] & dfN['volatile']\n",
        "print(series[series == True].count())\n",
        "\n",
        "series = ~df_['volatile'] & ~dfN['volatile']\n",
        "print(series[series == True].count())\n",
        "\n",
        "series = df_['volatile'] & ~dfN['volatile']\n",
        "print(series[series == True].count())\n",
        "\n",
        "series = ~df_['volatile'] & dfN['volatile']\n",
        "print(series[series == True].count())"
      ],
      "execution_count": 415,
      "outputs": [
        {
          "output_type": "stream",
          "text": [
            "1\n",
            "244\n",
            "0\n",
            "0\n",
            "CPU times: user 6.11 ms, sys: 955 µs, total: 7.06 ms\n",
            "Wall time: 7.09 ms\n"
          ],
          "name": "stdout"
        }
      ]
    },
    {
      "cell_type": "markdown",
      "metadata": {
        "id": "7VCkumPtjl_u",
        "colab_type": "text"
      },
      "source": [
        "#Statement 5\n",
        "**Compute the mean, median, std, var of closing values for each month in NIFTY50 for 2019**"
      ]
    },
    {
      "cell_type": "code",
      "metadata": {
        "id": "qxbvITlLh7_w",
        "colab_type": "code",
        "colab": {}
      },
      "source": [
        "nifty50_close = nifty50_2019['Close']\n",
        "new_index = map(pd.Timestamp, nifty50_close.index)\n",
        "nifty50_close = pd.Series(nifty50_close, index = new_index)"
      ],
      "execution_count": 416,
      "outputs": []
    },
    {
      "cell_type": "code",
      "metadata": {
        "id": "WwYuTIqnjzKP",
        "colab_type": "code",
        "colab": {
          "base_uri": "https://localhost:8080/",
          "height": 163
        },
        "outputId": "b2946da4-ce32-47c1-fa89-8f231ca68f9d"
      },
      "source": [
        "nifty50_close.index"
      ],
      "execution_count": 417,
      "outputs": [
        {
          "output_type": "execute_result",
          "data": {
            "text/plain": [
              "DatetimeIndex(['2019-12-31', '2019-12-30', '2019-12-27', '2019-12-26',\n",
              "               '2019-12-24', '2019-12-23', '2019-12-20', '2019-12-19',\n",
              "               '2019-12-18', '2019-12-17',\n",
              "               ...\n",
              "               '2019-01-14', '2019-01-11', '2019-01-10', '2019-01-09',\n",
              "               '2019-01-08', '2019-01-07', '2019-01-04', '2019-01-03',\n",
              "               '2019-01-02', '2019-01-01'],\n",
              "              dtype='datetime64[ns]', length=245, freq=None)"
            ]
          },
          "metadata": {
            "tags": []
          },
          "execution_count": 417
        }
      ]
    },
    {
      "cell_type": "code",
      "metadata": {
        "id": "NRLRqKx9j2YZ",
        "colab_type": "code",
        "colab": {
          "base_uri": "https://localhost:8080/",
          "height": 146
        },
        "outputId": "8e68565e-8db2-4afe-e9fe-19d9c84e0d73"
      },
      "source": [
        "%%time\n",
        "mean = list([0 for i in range(13)])\n",
        "median = list([0 for i in range(13)])\n",
        "std = list([0 for i in range(13)])\n",
        "var = list([0 for i in range(13)])\n",
        "for i in range(1, 13):\n",
        "    mean[i] = nifty50_close[nifty50_close.index.month == i].mean()\n",
        "    median[i] = nifty50_close[nifty50_close.index.month == i].median()\n",
        "    std[i] = nifty50_close[nifty50_close.index.month == i].std()\n",
        "    var[i] = variance(nifty50_close[nifty50_close.index.month == i])\n",
        "print(\"Mean\", mean[1:])\n",
        "print(\"Median\", median[1:])\n",
        "print(\"Std\", std[1:])\n",
        "print(\"Variance\", var[1:])"
      ],
      "execution_count": 418,
      "outputs": [
        {
          "output_type": "stream",
          "text": [
            "Mean [10809.463043478261, 10833.84, 11317.242105263158, 11666.45263157895, 11592.022727272726, 11839.023684210526, 11523.110869565216, 10976.500000000002, 11124.289473684208, 11490.204999999998, 11964.1325, 12096.880952380954]\n",
            "Median [10821.6, 10819.025, 11354.25, 11665.95, 11683.075, 11841.55, 11555.9, 11007.175, 11003.5, 11523.3, 11940.7, 12086.7]\n",
            "Std [92.24117501197038, 119.60686655169836, 223.40134615079708, 65.82451728667185, 279.1559210699251, 115.11657903623536, 260.0853884944335, 97.09780608936744, 310.8913858117173, 217.41853943367806, 84.21605715595283, 134.22692769726802]\n",
            "Variance [8508.434367588949, 14305.802526315783, 49908.161461988246, 4332.867076023362, 77928.02826839825, 13251.826769005822, 67644.40930830041, 9427.983947368399, 96653.45377193006, 47270.82128947383, 7092.344282894713, 18016.86811904762]\n",
            "CPU times: user 25.2 ms, sys: 0 ns, total: 25.2 ms\n",
            "Wall time: 25.1 ms\n"
          ],
          "name": "stdout"
        }
      ]
    },
    {
      "cell_type": "markdown",
      "metadata": {
        "id": "A6zcgIqmpFHy",
        "colab_type": "text"
      },
      "source": [
        "#Statement 6\n",
        "**On the days in which NIFTY50 closed higher than the open, what was the mean of (close - open) for NIFTYNext50**"
      ]
    },
    {
      "cell_type": "code",
      "metadata": {
        "id": "rQvZaPZUnx6o",
        "colab_type": "code",
        "colab": {}
      },
      "source": [
        "df_ = nifty50_2019\n",
        "dfN = nifty50Next"
      ],
      "execution_count": 419,
      "outputs": []
    },
    {
      "cell_type": "code",
      "metadata": {
        "id": "FhS0Bp8cqxdU",
        "colab_type": "code",
        "colab": {
          "base_uri": "https://localhost:8080/",
          "height": 72
        },
        "outputId": "81801f94-227e-4eee-9c41-ef98a8863406"
      },
      "source": [
        "%%time\n",
        "count = 0 \n",
        "sum = 0\n",
        "for i, r in df_.iterrows():\n",
        "    if r['Close'] > r['Open']:\n",
        "        sum = sum + (dfN.loc[i, 'Close'] - dfN.loc[i, 'Open'])\n",
        "        count = count + 1\n",
        "print(sum/count)"
      ],
      "execution_count": 420,
      "outputs": [
        {
          "output_type": "stream",
          "text": [
            "118.70188679245271\n",
            "CPU times: user 40.1 ms, sys: 96 µs, total: 40.2 ms\n",
            "Wall time: 42.2 ms\n"
          ],
          "name": "stdout"
        }
      ]
    },
    {
      "cell_type": "code",
      "metadata": {
        "id": "EBLaS1g6qEGY",
        "colab_type": "code",
        "colab": {
          "base_uri": "https://localhost:8080/",
          "height": 72
        },
        "outputId": "1b15297d-043e-436b-e78a-b8ef9b8a49f1"
      },
      "source": [
        "%%time\n",
        "print((dfN[df_['Close'] > df_['Open']]['Close'] - dfN[df_['Close'] > df_['Open']]['Open']).mean())"
      ],
      "execution_count": 421,
      "outputs": [
        {
          "output_type": "stream",
          "text": [
            "118.70188679245271\n",
            "CPU times: user 2.85 ms, sys: 0 ns, total: 2.85 ms\n",
            "Wall time: 2.71 ms\n"
          ],
          "name": "stdout"
        }
      ]
    },
    {
      "cell_type": "markdown",
      "metadata": {
        "id": "2wCAEj_suPPn",
        "colab_type": "text"
      },
      "source": [
        "#Statement 7\n",
        "**In 2019, how many days had the day's high lower than the previous day's low in NIFTY50**"
      ]
    },
    {
      "cell_type": "code",
      "metadata": {
        "id": "1aht51qJw96a",
        "colab_type": "code",
        "colab": {
          "base_uri": "https://localhost:8080/",
          "height": 54
        },
        "outputId": "610bf2c2-07d6-410d-f2c1-f04546aa4efb"
      },
      "source": [
        "%%time\n",
        "_df = nifty50_2019\n",
        "np.sum(df_['Low'][::-1][:df_['Low'].size - 1].values > df_['High'][::-1][1:].values)"
      ],
      "execution_count": 422,
      "outputs": [
        {
          "output_type": "stream",
          "text": [
            "CPU times: user 1.56 ms, sys: 0 ns, total: 1.56 ms\n",
            "Wall time: 1.54 ms\n"
          ],
          "name": "stdout"
        }
      ]
    },
    {
      "cell_type": "markdown",
      "metadata": {
        "id": "FtXWY1mMySS0",
        "colab_type": "text"
      },
      "source": [
        "#Statement 8\n",
        "**In 2019, on how many days did the day's close exceed the 30 day moving average in NIFTY50 (exclude first month)**"
      ]
    },
    {
      "cell_type": "code",
      "metadata": {
        "id": "ktgwppDtyT3v",
        "colab_type": "code",
        "colab": {}
      },
      "source": [
        "df = nifty50_2019"
      ],
      "execution_count": 423,
      "outputs": []
    },
    {
      "cell_type": "code",
      "metadata": {
        "id": "KTVgt9HNzSMs",
        "colab_type": "code",
        "colab": {}
      },
      "source": [
        "series = df_['Close']"
      ],
      "execution_count": 424,
      "outputs": []
    },
    {
      "cell_type": "code",
      "metadata": {
        "id": "2RKx-YhJzfqH",
        "colab_type": "code",
        "colab": {}
      },
      "source": [
        "series_30 = series[::-1]\n",
        "new_index = map(pd.Timestamp, series.index)\n",
        "series_30 = pd.Series(series, index = new_index)"
      ],
      "execution_count": 425,
      "outputs": []
    },
    {
      "cell_type": "code",
      "metadata": {
        "id": "xkKX6bvJzhU4",
        "colab_type": "code",
        "colab": {
          "base_uri": "https://localhost:8080/",
          "height": 235
        },
        "outputId": "6f31e62b-9c49-42ed-d62a-14decd7ce09b"
      },
      "source": [
        "series_30[series_30.rolling('30d').mean().index.month != 1]"
      ],
      "execution_count": 426,
      "outputs": [
        {
          "output_type": "execute_result",
          "data": {
            "text/plain": [
              "2019-12-31    12168.45\n",
              "2019-12-30    12255.85\n",
              "2019-12-27    12245.80\n",
              "2019-12-26    12126.55\n",
              "2019-12-24    12214.55\n",
              "                ...   \n",
              "2019-02-07    11069.40\n",
              "2019-02-06    11062.45\n",
              "2019-02-05    10934.35\n",
              "2019-02-04    10912.25\n",
              "2019-02-01    10893.65\n",
              "Name: Close, Length: 222, dtype: float64"
            ]
          },
          "metadata": {
            "tags": []
          },
          "execution_count": 426
        }
      ]
    },
    {
      "cell_type": "code",
      "metadata": {
        "id": "Hb5GvP36AEUN",
        "colab_type": "code",
        "colab": {}
      },
      "source": [
        "series = series[::-1]\n",
        "new_index = map(pd.Timestamp, series.index)\n",
        "series = pd.Series(series, index = new_index)"
      ],
      "execution_count": 427,
      "outputs": []
    },
    {
      "cell_type": "code",
      "metadata": {
        "id": "Oa5m2n0mzujK",
        "colab_type": "code",
        "colab": {
          "base_uri": "https://localhost:8080/",
          "height": 72
        },
        "outputId": "3e306f0d-c66e-415e-91ec-649ac2c5b18c"
      },
      "source": [
        "%%time\n",
        "np.sum(series[series.index.month != 1].values > series_30[series_30.rolling('30d').mean().index.month != 1].values)"
      ],
      "execution_count": 428,
      "outputs": [
        {
          "output_type": "stream",
          "text": [
            "CPU times: user 1.26 ms, sys: 1.98 ms, total: 3.24 ms\n",
            "Wall time: 4.56 ms\n"
          ],
          "name": "stdout"
        },
        {
          "output_type": "execute_result",
          "data": {
            "text/plain": [
              "111"
            ]
          },
          "metadata": {
            "tags": []
          },
          "execution_count": 428
        }
      ]
    },
    {
      "cell_type": "code",
      "metadata": {
        "id": "dRumTHY-_LP_",
        "colab_type": "code",
        "colab": {}
      },
      "source": [
        ""
      ],
      "execution_count": 428,
      "outputs": []
    }
  ]
}
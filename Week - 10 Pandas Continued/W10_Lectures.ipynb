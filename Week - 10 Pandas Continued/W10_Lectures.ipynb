{
 "cells": [
  {
   "cell_type": "code",
   "execution_count": 2,
   "metadata": {},
   "outputs": [],
   "source": [
    "import numpy as np\n",
    "import pandas as pd"
   ]
  },
  {
   "cell_type": "code",
   "execution_count": 3,
   "metadata": {},
   "outputs": [],
   "source": [
    "def create_dataFrame(n, m):\n",
    "    arr = np.random.randint(0, 10, (n, m))\n",
    "    row_index = ['R' + str(i) for i in range(1, n + 1)]\n",
    "    col_index = ['C' + str(i) for i in range(1, m + 1)]\n",
    "    df = pd.DataFrame(arr)\n",
    "    df.index = row_index\n",
    "    df.columns = col_index\n",
    "    return df"
   ]
  },
  {
   "cell_type": "code",
   "execution_count": 4,
   "metadata": {},
   "outputs": [],
   "source": [
    "df = create_dataFrame(6,3)"
   ]
  },
  {
   "cell_type": "code",
   "execution_count": 5,
   "metadata": {},
   "outputs": [
    {
     "output_type": "execute_result",
     "data": {
      "text/plain": "    C1  C2  C3\nR1   1   3   5\nR2   5   1   6\nR3   5   8   1\nR4   9   0   6\nR5   1   1   2\nR6   6   6   4",
      "text/html": "<div>\n<style scoped>\n    .dataframe tbody tr th:only-of-type {\n        vertical-align: middle;\n    }\n\n    .dataframe tbody tr th {\n        vertical-align: top;\n    }\n\n    .dataframe thead th {\n        text-align: right;\n    }\n</style>\n<table border=\"1\" class=\"dataframe\">\n  <thead>\n    <tr style=\"text-align: right;\">\n      <th></th>\n      <th>C1</th>\n      <th>C2</th>\n      <th>C3</th>\n    </tr>\n  </thead>\n  <tbody>\n    <tr>\n      <th>R1</th>\n      <td>1</td>\n      <td>3</td>\n      <td>5</td>\n    </tr>\n    <tr>\n      <th>R2</th>\n      <td>5</td>\n      <td>1</td>\n      <td>6</td>\n    </tr>\n    <tr>\n      <th>R3</th>\n      <td>5</td>\n      <td>8</td>\n      <td>1</td>\n    </tr>\n    <tr>\n      <th>R4</th>\n      <td>9</td>\n      <td>0</td>\n      <td>6</td>\n    </tr>\n    <tr>\n      <th>R5</th>\n      <td>1</td>\n      <td>1</td>\n      <td>2</td>\n    </tr>\n    <tr>\n      <th>R6</th>\n      <td>6</td>\n      <td>6</td>\n      <td>4</td>\n    </tr>\n  </tbody>\n</table>\n</div>"
     },
     "metadata": {},
     "execution_count": 5
    }
   ],
   "source": [
    "df"
   ]
  },
  {
   "cell_type": "markdown",
   "metadata": {},
   "source": [
    "# Creating DataFrames using Series Objects"
   ]
  },
  {
   "cell_type": "code",
   "execution_count": 6,
   "metadata": {},
   "outputs": [],
   "source": [
    "planets = np.array(['MERCURY', 'VENUS', 'EARTH', 'MOON', 'MARS', 'JUPITER', 'SATURN', 'URANUS', 'NEPTUNE', 'PLUTO'])"
   ]
  },
  {
   "cell_type": "code",
   "execution_count": 7,
   "metadata": {},
   "outputs": [],
   "source": [
    "mass = pd.Series([0.330, 4.87, 5.97,\t0.073, 0.642, 1898, 568, 86.8, 102,\t0.0146], index = planets)\n",
    "diameter = pd.Series([4879, 12104, 12756, 3475, 6792, 142984, 120536, 51118, 49528, 2370], index = planets)"
   ]
  },
  {
   "cell_type": "code",
   "execution_count": 8,
   "metadata": {},
   "outputs": [],
   "source": [
    "df_planets = pd.DataFrame({'MASS' : mass, 'DIAMETER' : diameter})"
   ]
  },
  {
   "cell_type": "code",
   "execution_count": 9,
   "metadata": {},
   "outputs": [
    {
     "output_type": "execute_result",
     "data": {
      "text/plain": "              MASS  DIAMETER\nMERCURY     0.3300      4879\nVENUS       4.8700     12104\nEARTH       5.9700     12756\nMOON        0.0730      3475\nMARS        0.6420      6792\nJUPITER  1898.0000    142984\nSATURN    568.0000    120536\nURANUS     86.8000     51118\nNEPTUNE   102.0000     49528\nPLUTO       0.0146      2370",
      "text/html": "<div>\n<style scoped>\n    .dataframe tbody tr th:only-of-type {\n        vertical-align: middle;\n    }\n\n    .dataframe tbody tr th {\n        vertical-align: top;\n    }\n\n    .dataframe thead th {\n        text-align: right;\n    }\n</style>\n<table border=\"1\" class=\"dataframe\">\n  <thead>\n    <tr style=\"text-align: right;\">\n      <th></th>\n      <th>MASS</th>\n      <th>DIAMETER</th>\n    </tr>\n  </thead>\n  <tbody>\n    <tr>\n      <th>MERCURY</th>\n      <td>0.3300</td>\n      <td>4879</td>\n    </tr>\n    <tr>\n      <th>VENUS</th>\n      <td>4.8700</td>\n      <td>12104</td>\n    </tr>\n    <tr>\n      <th>EARTH</th>\n      <td>5.9700</td>\n      <td>12756</td>\n    </tr>\n    <tr>\n      <th>MOON</th>\n      <td>0.0730</td>\n      <td>3475</td>\n    </tr>\n    <tr>\n      <th>MARS</th>\n      <td>0.6420</td>\n      <td>6792</td>\n    </tr>\n    <tr>\n      <th>JUPITER</th>\n      <td>1898.0000</td>\n      <td>142984</td>\n    </tr>\n    <tr>\n      <th>SATURN</th>\n      <td>568.0000</td>\n      <td>120536</td>\n    </tr>\n    <tr>\n      <th>URANUS</th>\n      <td>86.8000</td>\n      <td>51118</td>\n    </tr>\n    <tr>\n      <th>NEPTUNE</th>\n      <td>102.0000</td>\n      <td>49528</td>\n    </tr>\n    <tr>\n      <th>PLUTO</th>\n      <td>0.0146</td>\n      <td>2370</td>\n    </tr>\n  </tbody>\n</table>\n</div>"
     },
     "metadata": {},
     "execution_count": 9
    }
   ],
   "source": [
    "df_planets"
   ]
  },
  {
   "cell_type": "code",
   "execution_count": 10,
   "metadata": {},
   "outputs": [],
   "source": [
    "def create_mean_row(df):\n",
    "    #df.loc['MEAN'] = [np.mean(df[col]) for col in df.columns] OR\n",
    "    df.loc['MEAN'] = df.mean()\n",
    "    return df"
   ]
  },
  {
   "cell_type": "code",
   "execution_count": 11,
   "metadata": {},
   "outputs": [],
   "source": [
    "df_planets = create_mean_row(df_planets)"
   ]
  },
  {
   "cell_type": "code",
   "execution_count": 12,
   "metadata": {},
   "outputs": [
    {
     "output_type": "execute_result",
     "data": {
      "text/plain": "               MASS  DIAMETER\nMERCURY     0.33000    4879.0\nVENUS       4.87000   12104.0\nEARTH       5.97000   12756.0\nMOON        0.07300    3475.0\nMARS        0.64200    6792.0\nJUPITER  1898.00000  142984.0\nSATURN    568.00000  120536.0\nURANUS     86.80000   51118.0\nNEPTUNE   102.00000   49528.0\nPLUTO       0.01460    2370.0\nMEAN      266.66996   40654.2",
      "text/html": "<div>\n<style scoped>\n    .dataframe tbody tr th:only-of-type {\n        vertical-align: middle;\n    }\n\n    .dataframe tbody tr th {\n        vertical-align: top;\n    }\n\n    .dataframe thead th {\n        text-align: right;\n    }\n</style>\n<table border=\"1\" class=\"dataframe\">\n  <thead>\n    <tr style=\"text-align: right;\">\n      <th></th>\n      <th>MASS</th>\n      <th>DIAMETER</th>\n    </tr>\n  </thead>\n  <tbody>\n    <tr>\n      <th>MERCURY</th>\n      <td>0.33000</td>\n      <td>4879.0</td>\n    </tr>\n    <tr>\n      <th>VENUS</th>\n      <td>4.87000</td>\n      <td>12104.0</td>\n    </tr>\n    <tr>\n      <th>EARTH</th>\n      <td>5.97000</td>\n      <td>12756.0</td>\n    </tr>\n    <tr>\n      <th>MOON</th>\n      <td>0.07300</td>\n      <td>3475.0</td>\n    </tr>\n    <tr>\n      <th>MARS</th>\n      <td>0.64200</td>\n      <td>6792.0</td>\n    </tr>\n    <tr>\n      <th>JUPITER</th>\n      <td>1898.00000</td>\n      <td>142984.0</td>\n    </tr>\n    <tr>\n      <th>SATURN</th>\n      <td>568.00000</td>\n      <td>120536.0</td>\n    </tr>\n    <tr>\n      <th>URANUS</th>\n      <td>86.80000</td>\n      <td>51118.0</td>\n    </tr>\n    <tr>\n      <th>NEPTUNE</th>\n      <td>102.00000</td>\n      <td>49528.0</td>\n    </tr>\n    <tr>\n      <th>PLUTO</th>\n      <td>0.01460</td>\n      <td>2370.0</td>\n    </tr>\n    <tr>\n      <th>MEAN</th>\n      <td>266.66996</td>\n      <td>40654.2</td>\n    </tr>\n  </tbody>\n</table>\n</div>"
     },
     "metadata": {},
     "execution_count": 12
    }
   ],
   "source": [
    "df_planets"
   ]
  },
  {
   "cell_type": "code",
   "execution_count": 13,
   "metadata": {},
   "outputs": [],
   "source": [
    "df = create_dataFrame(5, 6)"
   ]
  },
  {
   "cell_type": "code",
   "execution_count": 14,
   "metadata": {},
   "outputs": [
    {
     "output_type": "execute_result",
     "data": {
      "text/plain": "    C1  C2  C3  C4  C5  C6\nR1   0   2   6   2   5   3\nR2   6   0   0   6   2   1\nR3   4   5   9   1   1   9\nR4   6   1   8   1   6   4\nR5   1   9   0   1   5   3",
      "text/html": "<div>\n<style scoped>\n    .dataframe tbody tr th:only-of-type {\n        vertical-align: middle;\n    }\n\n    .dataframe tbody tr th {\n        vertical-align: top;\n    }\n\n    .dataframe thead th {\n        text-align: right;\n    }\n</style>\n<table border=\"1\" class=\"dataframe\">\n  <thead>\n    <tr style=\"text-align: right;\">\n      <th></th>\n      <th>C1</th>\n      <th>C2</th>\n      <th>C3</th>\n      <th>C4</th>\n      <th>C5</th>\n      <th>C6</th>\n    </tr>\n  </thead>\n  <tbody>\n    <tr>\n      <th>R1</th>\n      <td>0</td>\n      <td>2</td>\n      <td>6</td>\n      <td>2</td>\n      <td>5</td>\n      <td>3</td>\n    </tr>\n    <tr>\n      <th>R2</th>\n      <td>6</td>\n      <td>0</td>\n      <td>0</td>\n      <td>6</td>\n      <td>2</td>\n      <td>1</td>\n    </tr>\n    <tr>\n      <th>R3</th>\n      <td>4</td>\n      <td>5</td>\n      <td>9</td>\n      <td>1</td>\n      <td>1</td>\n      <td>9</td>\n    </tr>\n    <tr>\n      <th>R4</th>\n      <td>6</td>\n      <td>1</td>\n      <td>8</td>\n      <td>1</td>\n      <td>6</td>\n      <td>4</td>\n    </tr>\n    <tr>\n      <th>R5</th>\n      <td>1</td>\n      <td>9</td>\n      <td>0</td>\n      <td>1</td>\n      <td>5</td>\n      <td>3</td>\n    </tr>\n  </tbody>\n</table>\n</div>"
     },
     "metadata": {},
     "execution_count": 14
    }
   ],
   "source": [
    "df"
   ]
  },
  {
   "cell_type": "code",
   "execution_count": 15,
   "metadata": {},
   "outputs": [],
   "source": [
    "df['R_mean'] = df.mean(axis = 1)"
   ]
  },
  {
   "cell_type": "code",
   "execution_count": 16,
   "metadata": {},
   "outputs": [
    {
     "output_type": "execute_result",
     "data": {
      "text/plain": "    C1  C2  C3  C4  C5  C6    R_mean\nR1   0   2   6   2   5   3  3.000000\nR2   6   0   0   6   2   1  2.500000\nR3   4   5   9   1   1   9  4.833333\nR4   6   1   8   1   6   4  4.333333\nR5   1   9   0   1   5   3  3.166667",
      "text/html": "<div>\n<style scoped>\n    .dataframe tbody tr th:only-of-type {\n        vertical-align: middle;\n    }\n\n    .dataframe tbody tr th {\n        vertical-align: top;\n    }\n\n    .dataframe thead th {\n        text-align: right;\n    }\n</style>\n<table border=\"1\" class=\"dataframe\">\n  <thead>\n    <tr style=\"text-align: right;\">\n      <th></th>\n      <th>C1</th>\n      <th>C2</th>\n      <th>C3</th>\n      <th>C4</th>\n      <th>C5</th>\n      <th>C6</th>\n      <th>R_mean</th>\n    </tr>\n  </thead>\n  <tbody>\n    <tr>\n      <th>R1</th>\n      <td>0</td>\n      <td>2</td>\n      <td>6</td>\n      <td>2</td>\n      <td>5</td>\n      <td>3</td>\n      <td>3.000000</td>\n    </tr>\n    <tr>\n      <th>R2</th>\n      <td>6</td>\n      <td>0</td>\n      <td>0</td>\n      <td>6</td>\n      <td>2</td>\n      <td>1</td>\n      <td>2.500000</td>\n    </tr>\n    <tr>\n      <th>R3</th>\n      <td>4</td>\n      <td>5</td>\n      <td>9</td>\n      <td>1</td>\n      <td>1</td>\n      <td>9</td>\n      <td>4.833333</td>\n    </tr>\n    <tr>\n      <th>R4</th>\n      <td>6</td>\n      <td>1</td>\n      <td>8</td>\n      <td>1</td>\n      <td>6</td>\n      <td>4</td>\n      <td>4.333333</td>\n    </tr>\n    <tr>\n      <th>R5</th>\n      <td>1</td>\n      <td>9</td>\n      <td>0</td>\n      <td>1</td>\n      <td>5</td>\n      <td>3</td>\n      <td>3.166667</td>\n    </tr>\n  </tbody>\n</table>\n</div>"
     },
     "metadata": {},
     "execution_count": 16
    }
   ],
   "source": [
    "df"
   ]
  },
  {
   "cell_type": "code",
   "execution_count": 17,
   "metadata": {},
   "outputs": [],
   "source": [
    "df.loc['C_mean'] = df.mean()"
   ]
  },
  {
   "cell_type": "code",
   "execution_count": 18,
   "metadata": {},
   "outputs": [
    {
     "output_type": "execute_result",
     "data": {
      "text/plain": "         C1   C2   C3   C4   C5   C6    R_mean\nR1      0.0  2.0  6.0  2.0  5.0  3.0  3.000000\nR2      6.0  0.0  0.0  6.0  2.0  1.0  2.500000\nR3      4.0  5.0  9.0  1.0  1.0  9.0  4.833333\nR4      6.0  1.0  8.0  1.0  6.0  4.0  4.333333\nR5      1.0  9.0  0.0  1.0  5.0  3.0  3.166667\nC_mean  3.4  3.4  4.6  2.2  3.8  4.0  3.566667",
      "text/html": "<div>\n<style scoped>\n    .dataframe tbody tr th:only-of-type {\n        vertical-align: middle;\n    }\n\n    .dataframe tbody tr th {\n        vertical-align: top;\n    }\n\n    .dataframe thead th {\n        text-align: right;\n    }\n</style>\n<table border=\"1\" class=\"dataframe\">\n  <thead>\n    <tr style=\"text-align: right;\">\n      <th></th>\n      <th>C1</th>\n      <th>C2</th>\n      <th>C3</th>\n      <th>C4</th>\n      <th>C5</th>\n      <th>C6</th>\n      <th>R_mean</th>\n    </tr>\n  </thead>\n  <tbody>\n    <tr>\n      <th>R1</th>\n      <td>0.0</td>\n      <td>2.0</td>\n      <td>6.0</td>\n      <td>2.0</td>\n      <td>5.0</td>\n      <td>3.0</td>\n      <td>3.000000</td>\n    </tr>\n    <tr>\n      <th>R2</th>\n      <td>6.0</td>\n      <td>0.0</td>\n      <td>0.0</td>\n      <td>6.0</td>\n      <td>2.0</td>\n      <td>1.0</td>\n      <td>2.500000</td>\n    </tr>\n    <tr>\n      <th>R3</th>\n      <td>4.0</td>\n      <td>5.0</td>\n      <td>9.0</td>\n      <td>1.0</td>\n      <td>1.0</td>\n      <td>9.0</td>\n      <td>4.833333</td>\n    </tr>\n    <tr>\n      <th>R4</th>\n      <td>6.0</td>\n      <td>1.0</td>\n      <td>8.0</td>\n      <td>1.0</td>\n      <td>6.0</td>\n      <td>4.0</td>\n      <td>4.333333</td>\n    </tr>\n    <tr>\n      <th>R5</th>\n      <td>1.0</td>\n      <td>9.0</td>\n      <td>0.0</td>\n      <td>1.0</td>\n      <td>5.0</td>\n      <td>3.0</td>\n      <td>3.166667</td>\n    </tr>\n    <tr>\n      <th>C_mean</th>\n      <td>3.4</td>\n      <td>3.4</td>\n      <td>4.6</td>\n      <td>2.2</td>\n      <td>3.8</td>\n      <td>4.0</td>\n      <td>3.566667</td>\n    </tr>\n  </tbody>\n</table>\n</div>"
     },
     "metadata": {},
     "execution_count": 18
    }
   ],
   "source": [
    "df"
   ]
  },
  {
   "cell_type": "code",
   "execution_count": 19,
   "metadata": {},
   "outputs": [],
   "source": [
    "df.drop('C_mean', inplace = True)"
   ]
  },
  {
   "cell_type": "code",
   "execution_count": 20,
   "metadata": {},
   "outputs": [
    {
     "output_type": "execute_result",
     "data": {
      "text/plain": "     C1   C2   C3   C4   C5   C6    R_mean\nR1  0.0  2.0  6.0  2.0  5.0  3.0  3.000000\nR2  6.0  0.0  0.0  6.0  2.0  1.0  2.500000\nR3  4.0  5.0  9.0  1.0  1.0  9.0  4.833333\nR4  6.0  1.0  8.0  1.0  6.0  4.0  4.333333\nR5  1.0  9.0  0.0  1.0  5.0  3.0  3.166667",
      "text/html": "<div>\n<style scoped>\n    .dataframe tbody tr th:only-of-type {\n        vertical-align: middle;\n    }\n\n    .dataframe tbody tr th {\n        vertical-align: top;\n    }\n\n    .dataframe thead th {\n        text-align: right;\n    }\n</style>\n<table border=\"1\" class=\"dataframe\">\n  <thead>\n    <tr style=\"text-align: right;\">\n      <th></th>\n      <th>C1</th>\n      <th>C2</th>\n      <th>C3</th>\n      <th>C4</th>\n      <th>C5</th>\n      <th>C6</th>\n      <th>R_mean</th>\n    </tr>\n  </thead>\n  <tbody>\n    <tr>\n      <th>R1</th>\n      <td>0.0</td>\n      <td>2.0</td>\n      <td>6.0</td>\n      <td>2.0</td>\n      <td>5.0</td>\n      <td>3.0</td>\n      <td>3.000000</td>\n    </tr>\n    <tr>\n      <th>R2</th>\n      <td>6.0</td>\n      <td>0.0</td>\n      <td>0.0</td>\n      <td>6.0</td>\n      <td>2.0</td>\n      <td>1.0</td>\n      <td>2.500000</td>\n    </tr>\n    <tr>\n      <th>R3</th>\n      <td>4.0</td>\n      <td>5.0</td>\n      <td>9.0</td>\n      <td>1.0</td>\n      <td>1.0</td>\n      <td>9.0</td>\n      <td>4.833333</td>\n    </tr>\n    <tr>\n      <th>R4</th>\n      <td>6.0</td>\n      <td>1.0</td>\n      <td>8.0</td>\n      <td>1.0</td>\n      <td>6.0</td>\n      <td>4.0</td>\n      <td>4.333333</td>\n    </tr>\n    <tr>\n      <th>R5</th>\n      <td>1.0</td>\n      <td>9.0</td>\n      <td>0.0</td>\n      <td>1.0</td>\n      <td>5.0</td>\n      <td>3.0</td>\n      <td>3.166667</td>\n    </tr>\n  </tbody>\n</table>\n</div>"
     },
     "metadata": {},
     "execution_count": 20
    }
   ],
   "source": [
    "df"
   ]
  },
  {
   "cell_type": "code",
   "execution_count": 21,
   "metadata": {},
   "outputs": [],
   "source": [
    "df.drop('R_mean', axis = 1, inplace = True)"
   ]
  },
  {
   "cell_type": "code",
   "execution_count": 22,
   "metadata": {},
   "outputs": [
    {
     "output_type": "execute_result",
     "data": {
      "text/plain": "     C1   C2   C3   C4   C5   C6\nR1  0.0  2.0  6.0  2.0  5.0  3.0\nR2  6.0  0.0  0.0  6.0  2.0  1.0\nR3  4.0  5.0  9.0  1.0  1.0  9.0\nR4  6.0  1.0  8.0  1.0  6.0  4.0\nR5  1.0  9.0  0.0  1.0  5.0  3.0",
      "text/html": "<div>\n<style scoped>\n    .dataframe tbody tr th:only-of-type {\n        vertical-align: middle;\n    }\n\n    .dataframe tbody tr th {\n        vertical-align: top;\n    }\n\n    .dataframe thead th {\n        text-align: right;\n    }\n</style>\n<table border=\"1\" class=\"dataframe\">\n  <thead>\n    <tr style=\"text-align: right;\">\n      <th></th>\n      <th>C1</th>\n      <th>C2</th>\n      <th>C3</th>\n      <th>C4</th>\n      <th>C5</th>\n      <th>C6</th>\n    </tr>\n  </thead>\n  <tbody>\n    <tr>\n      <th>R1</th>\n      <td>0.0</td>\n      <td>2.0</td>\n      <td>6.0</td>\n      <td>2.0</td>\n      <td>5.0</td>\n      <td>3.0</td>\n    </tr>\n    <tr>\n      <th>R2</th>\n      <td>6.0</td>\n      <td>0.0</td>\n      <td>0.0</td>\n      <td>6.0</td>\n      <td>2.0</td>\n      <td>1.0</td>\n    </tr>\n    <tr>\n      <th>R3</th>\n      <td>4.0</td>\n      <td>5.0</td>\n      <td>9.0</td>\n      <td>1.0</td>\n      <td>1.0</td>\n      <td>9.0</td>\n    </tr>\n    <tr>\n      <th>R4</th>\n      <td>6.0</td>\n      <td>1.0</td>\n      <td>8.0</td>\n      <td>1.0</td>\n      <td>6.0</td>\n      <td>4.0</td>\n    </tr>\n    <tr>\n      <th>R5</th>\n      <td>1.0</td>\n      <td>9.0</td>\n      <td>0.0</td>\n      <td>1.0</td>\n      <td>5.0</td>\n      <td>3.0</td>\n    </tr>\n  </tbody>\n</table>\n</div>"
     },
     "metadata": {},
     "execution_count": 22
    }
   ],
   "source": [
    "df"
   ]
  },
  {
   "cell_type": "markdown",
   "metadata": {},
   "source": [
    "# Working with seaborn planetary DataSet"
   ]
  },
  {
   "cell_type": "code",
   "execution_count": 23,
   "metadata": {},
   "outputs": [],
   "source": [
    "import seaborn as sns"
   ]
  },
  {
   "cell_type": "code",
   "execution_count": 24,
   "metadata": {},
   "outputs": [],
   "source": [
    "new_planets = sns.load_dataset('planets')"
   ]
  },
  {
   "cell_type": "code",
   "execution_count": 25,
   "metadata": {
    "tags": []
   },
   "outputs": [
    {
     "output_type": "stream",
     "name": "stdout",
     "text": "<class 'pandas.core.frame.DataFrame'>\nRangeIndex: 1035 entries, 0 to 1034\nData columns (total 6 columns):\n #   Column          Non-Null Count  Dtype  \n---  ------          --------------  -----  \n 0   method          1035 non-null   object \n 1   number          1035 non-null   int64  \n 2   orbital_period  992 non-null    float64\n 3   mass            513 non-null    float64\n 4   distance        808 non-null    float64\n 5   year            1035 non-null   int64  \ndtypes: float64(3), int64(2), object(1)\nmemory usage: 48.6+ KB\n"
    }
   ],
   "source": [
    "new_planets.info()"
   ]
  },
  {
   "cell_type": "code",
   "execution_count": 26,
   "metadata": {},
   "outputs": [
    {
     "output_type": "execute_result",
     "data": {
      "text/plain": "            method  number  orbital_period   mass  distance  year\n0  Radial Velocity       1         269.300   7.10     77.40  2006\n1  Radial Velocity       1         874.774   2.21     56.95  2008\n2  Radial Velocity       1         763.000   2.60     19.84  2011\n3  Radial Velocity       1         326.030  19.40    110.62  2007\n4  Radial Velocity       1         516.220  10.50    119.47  2009",
      "text/html": "<div>\n<style scoped>\n    .dataframe tbody tr th:only-of-type {\n        vertical-align: middle;\n    }\n\n    .dataframe tbody tr th {\n        vertical-align: top;\n    }\n\n    .dataframe thead th {\n        text-align: right;\n    }\n</style>\n<table border=\"1\" class=\"dataframe\">\n  <thead>\n    <tr style=\"text-align: right;\">\n      <th></th>\n      <th>method</th>\n      <th>number</th>\n      <th>orbital_period</th>\n      <th>mass</th>\n      <th>distance</th>\n      <th>year</th>\n    </tr>\n  </thead>\n  <tbody>\n    <tr>\n      <th>0</th>\n      <td>Radial Velocity</td>\n      <td>1</td>\n      <td>269.300</td>\n      <td>7.10</td>\n      <td>77.40</td>\n      <td>2006</td>\n    </tr>\n    <tr>\n      <th>1</th>\n      <td>Radial Velocity</td>\n      <td>1</td>\n      <td>874.774</td>\n      <td>2.21</td>\n      <td>56.95</td>\n      <td>2008</td>\n    </tr>\n    <tr>\n      <th>2</th>\n      <td>Radial Velocity</td>\n      <td>1</td>\n      <td>763.000</td>\n      <td>2.60</td>\n      <td>19.84</td>\n      <td>2011</td>\n    </tr>\n    <tr>\n      <th>3</th>\n      <td>Radial Velocity</td>\n      <td>1</td>\n      <td>326.030</td>\n      <td>19.40</td>\n      <td>110.62</td>\n      <td>2007</td>\n    </tr>\n    <tr>\n      <th>4</th>\n      <td>Radial Velocity</td>\n      <td>1</td>\n      <td>516.220</td>\n      <td>10.50</td>\n      <td>119.47</td>\n      <td>2009</td>\n    </tr>\n  </tbody>\n</table>\n</div>"
     },
     "metadata": {},
     "execution_count": 26
    }
   ],
   "source": [
    "new_planets.head()"
   ]
  },
  {
   "cell_type": "code",
   "execution_count": 27,
   "metadata": {},
   "outputs": [
    {
     "output_type": "execute_result",
     "data": {
      "text/plain": "            number  orbital_period        mass     distance         year\ncount  1035.000000      992.000000  513.000000   808.000000  1035.000000\nmean      1.785507     2002.917596    2.638161   264.069282  2009.070531\nstd       1.240976    26014.728304    3.818617   733.116493     3.972567\nmin       1.000000        0.090706    0.003600     1.350000  1989.000000\n25%       1.000000        5.442540    0.229000    32.560000  2007.000000\n50%       1.000000       39.979500    1.260000    55.250000  2010.000000\n75%       2.000000      526.005000    3.040000   178.500000  2012.000000\nmax       7.000000   730000.000000   25.000000  8500.000000  2014.000000",
      "text/html": "<div>\n<style scoped>\n    .dataframe tbody tr th:only-of-type {\n        vertical-align: middle;\n    }\n\n    .dataframe tbody tr th {\n        vertical-align: top;\n    }\n\n    .dataframe thead th {\n        text-align: right;\n    }\n</style>\n<table border=\"1\" class=\"dataframe\">\n  <thead>\n    <tr style=\"text-align: right;\">\n      <th></th>\n      <th>number</th>\n      <th>orbital_period</th>\n      <th>mass</th>\n      <th>distance</th>\n      <th>year</th>\n    </tr>\n  </thead>\n  <tbody>\n    <tr>\n      <th>count</th>\n      <td>1035.000000</td>\n      <td>992.000000</td>\n      <td>513.000000</td>\n      <td>808.000000</td>\n      <td>1035.000000</td>\n    </tr>\n    <tr>\n      <th>mean</th>\n      <td>1.785507</td>\n      <td>2002.917596</td>\n      <td>2.638161</td>\n      <td>264.069282</td>\n      <td>2009.070531</td>\n    </tr>\n    <tr>\n      <th>std</th>\n      <td>1.240976</td>\n      <td>26014.728304</td>\n      <td>3.818617</td>\n      <td>733.116493</td>\n      <td>3.972567</td>\n    </tr>\n    <tr>\n      <th>min</th>\n      <td>1.000000</td>\n      <td>0.090706</td>\n      <td>0.003600</td>\n      <td>1.350000</td>\n      <td>1989.000000</td>\n    </tr>\n    <tr>\n      <th>25%</th>\n      <td>1.000000</td>\n      <td>5.442540</td>\n      <td>0.229000</td>\n      <td>32.560000</td>\n      <td>2007.000000</td>\n    </tr>\n    <tr>\n      <th>50%</th>\n      <td>1.000000</td>\n      <td>39.979500</td>\n      <td>1.260000</td>\n      <td>55.250000</td>\n      <td>2010.000000</td>\n    </tr>\n    <tr>\n      <th>75%</th>\n      <td>2.000000</td>\n      <td>526.005000</td>\n      <td>3.040000</td>\n      <td>178.500000</td>\n      <td>2012.000000</td>\n    </tr>\n    <tr>\n      <th>max</th>\n      <td>7.000000</td>\n      <td>730000.000000</td>\n      <td>25.000000</td>\n      <td>8500.000000</td>\n      <td>2014.000000</td>\n    </tr>\n  </tbody>\n</table>\n</div>"
     },
     "metadata": {},
     "execution_count": 27
    }
   ],
   "source": [
    "new_planets.describe()"
   ]
  },
  {
   "cell_type": "code",
   "execution_count": 28,
   "metadata": {},
   "outputs": [],
   "source": [
    "for i, r in new_planets.iterrows():\n",
    "    if pd.isnull(r).sum() > 0:\n",
    "        new_planets.drop(i, inplace = True)"
   ]
  },
  {
   "cell_type": "code",
   "execution_count": null,
   "metadata": {},
   "outputs": [],
   "source": []
  },
  {
   "cell_type": "code",
   "execution_count": 29,
   "metadata": {},
   "outputs": [
    {
     "output_type": "execute_result",
     "data": {
      "text/plain": "          number  orbital_period        mass    distance         year\ncount  498.00000      498.000000  498.000000  498.000000   498.000000\nmean     1.73494      835.778671    2.509320   52.068213  2007.377510\nstd      1.17572     1469.128259    3.636274   46.596041     4.167284\nmin      1.00000        1.328300    0.003600    1.350000  1989.000000\n25%      1.00000       38.272250    0.212500   24.497500  2005.000000\n50%      1.00000      357.000000    1.245000   39.940000  2009.000000\n75%      2.00000      999.600000    2.867500   59.332500  2011.000000\nmax      6.00000    17337.500000   25.000000  354.000000  2014.000000",
      "text/html": "<div>\n<style scoped>\n    .dataframe tbody tr th:only-of-type {\n        vertical-align: middle;\n    }\n\n    .dataframe tbody tr th {\n        vertical-align: top;\n    }\n\n    .dataframe thead th {\n        text-align: right;\n    }\n</style>\n<table border=\"1\" class=\"dataframe\">\n  <thead>\n    <tr style=\"text-align: right;\">\n      <th></th>\n      <th>number</th>\n      <th>orbital_period</th>\n      <th>mass</th>\n      <th>distance</th>\n      <th>year</th>\n    </tr>\n  </thead>\n  <tbody>\n    <tr>\n      <th>count</th>\n      <td>498.00000</td>\n      <td>498.000000</td>\n      <td>498.000000</td>\n      <td>498.000000</td>\n      <td>498.000000</td>\n    </tr>\n    <tr>\n      <th>mean</th>\n      <td>1.73494</td>\n      <td>835.778671</td>\n      <td>2.509320</td>\n      <td>52.068213</td>\n      <td>2007.377510</td>\n    </tr>\n    <tr>\n      <th>std</th>\n      <td>1.17572</td>\n      <td>1469.128259</td>\n      <td>3.636274</td>\n      <td>46.596041</td>\n      <td>4.167284</td>\n    </tr>\n    <tr>\n      <th>min</th>\n      <td>1.00000</td>\n      <td>1.328300</td>\n      <td>0.003600</td>\n      <td>1.350000</td>\n      <td>1989.000000</td>\n    </tr>\n    <tr>\n      <th>25%</th>\n      <td>1.00000</td>\n      <td>38.272250</td>\n      <td>0.212500</td>\n      <td>24.497500</td>\n      <td>2005.000000</td>\n    </tr>\n    <tr>\n      <th>50%</th>\n      <td>1.00000</td>\n      <td>357.000000</td>\n      <td>1.245000</td>\n      <td>39.940000</td>\n      <td>2009.000000</td>\n    </tr>\n    <tr>\n      <th>75%</th>\n      <td>2.00000</td>\n      <td>999.600000</td>\n      <td>2.867500</td>\n      <td>59.332500</td>\n      <td>2011.000000</td>\n    </tr>\n    <tr>\n      <th>max</th>\n      <td>6.00000</td>\n      <td>17337.500000</td>\n      <td>25.000000</td>\n      <td>354.000000</td>\n      <td>2014.000000</td>\n    </tr>\n  </tbody>\n</table>\n</div>"
     },
     "metadata": {},
     "execution_count": 29
    }
   ],
   "source": [
    "new_planets.describe()"
   ]
  },
  {
   "cell_type": "code",
   "execution_count": 30,
   "metadata": {},
   "outputs": [],
   "source": [
    "new_planets = sns.load_dataset('planets')"
   ]
  },
  {
   "cell_type": "code",
   "execution_count": 31,
   "metadata": {},
   "outputs": [],
   "source": [
    "new_planets.dropna(inplace = True)"
   ]
  },
  {
   "cell_type": "code",
   "execution_count": 32,
   "metadata": {
    "tags": []
   },
   "outputs": [
    {
     "output_type": "stream",
     "name": "stdout",
     "text": "<class 'pandas.core.frame.DataFrame'>\nInt64Index: 498 entries, 0 to 784\nData columns (total 6 columns):\n #   Column          Non-Null Count  Dtype  \n---  ------          --------------  -----  \n 0   method          498 non-null    object \n 1   number          498 non-null    int64  \n 2   orbital_period  498 non-null    float64\n 3   mass            498 non-null    float64\n 4   distance        498 non-null    float64\n 5   year            498 non-null    int64  \ndtypes: float64(3), int64(2), object(1)\nmemory usage: 27.2+ KB\n"
    }
   ],
   "source": [
    "new_planets.info()"
   ]
  },
  {
   "cell_type": "markdown",
   "metadata": {},
   "source": [
    "** Find All planets found after  2010 and method is 'Transit' and 'Radial Velocity' \n",
    "and distance is greater than 75 percentile **"
   ]
  },
  {
   "cell_type": "code",
   "execution_count": 33,
   "metadata": {},
   "outputs": [
    {
     "output_type": "execute_result",
     "data": {
      "text/plain": "            method  number  orbital_period   mass  distance  year\n0  Radial Velocity       1         269.300   7.10     77.40  2006\n1  Radial Velocity       1         874.774   2.21     56.95  2008\n2  Radial Velocity       1         763.000   2.60     19.84  2011\n3  Radial Velocity       1         326.030  19.40    110.62  2007\n4  Radial Velocity       1         516.220  10.50    119.47  2009",
      "text/html": "<div>\n<style scoped>\n    .dataframe tbody tr th:only-of-type {\n        vertical-align: middle;\n    }\n\n    .dataframe tbody tr th {\n        vertical-align: top;\n    }\n\n    .dataframe thead th {\n        text-align: right;\n    }\n</style>\n<table border=\"1\" class=\"dataframe\">\n  <thead>\n    <tr style=\"text-align: right;\">\n      <th></th>\n      <th>method</th>\n      <th>number</th>\n      <th>orbital_period</th>\n      <th>mass</th>\n      <th>distance</th>\n      <th>year</th>\n    </tr>\n  </thead>\n  <tbody>\n    <tr>\n      <th>0</th>\n      <td>Radial Velocity</td>\n      <td>1</td>\n      <td>269.300</td>\n      <td>7.10</td>\n      <td>77.40</td>\n      <td>2006</td>\n    </tr>\n    <tr>\n      <th>1</th>\n      <td>Radial Velocity</td>\n      <td>1</td>\n      <td>874.774</td>\n      <td>2.21</td>\n      <td>56.95</td>\n      <td>2008</td>\n    </tr>\n    <tr>\n      <th>2</th>\n      <td>Radial Velocity</td>\n      <td>1</td>\n      <td>763.000</td>\n      <td>2.60</td>\n      <td>19.84</td>\n      <td>2011</td>\n    </tr>\n    <tr>\n      <th>3</th>\n      <td>Radial Velocity</td>\n      <td>1</td>\n      <td>326.030</td>\n      <td>19.40</td>\n      <td>110.62</td>\n      <td>2007</td>\n    </tr>\n    <tr>\n      <th>4</th>\n      <td>Radial Velocity</td>\n      <td>1</td>\n      <td>516.220</td>\n      <td>10.50</td>\n      <td>119.47</td>\n      <td>2009</td>\n    </tr>\n  </tbody>\n</table>\n</div>"
     },
     "metadata": {},
     "execution_count": 33
    }
   ],
   "source": [
    "new_planets.head()"
   ]
  },
  {
   "cell_type": "code",
   "execution_count": 34,
   "metadata": {},
   "outputs": [
    {
     "output_type": "execute_result",
     "data": {
      "text/plain": "              method  number  orbital_period   mass  distance  year\n640  Radial Velocity       1       111.70000  2.100     14.90  2009\n641  Radial Velocity       1         5.05050  1.068     44.46  2013\n642  Radial Velocity       1       311.28800  1.940     17.24  1999\n649          Transit       1         2.70339  1.470    178.00  2013\n784  Radial Velocity       3       580.00000  0.947    135.00  2012",
      "text/html": "<div>\n<style scoped>\n    .dataframe tbody tr th:only-of-type {\n        vertical-align: middle;\n    }\n\n    .dataframe tbody tr th {\n        vertical-align: top;\n    }\n\n    .dataframe thead th {\n        text-align: right;\n    }\n</style>\n<table border=\"1\" class=\"dataframe\">\n  <thead>\n    <tr style=\"text-align: right;\">\n      <th></th>\n      <th>method</th>\n      <th>number</th>\n      <th>orbital_period</th>\n      <th>mass</th>\n      <th>distance</th>\n      <th>year</th>\n    </tr>\n  </thead>\n  <tbody>\n    <tr>\n      <th>640</th>\n      <td>Radial Velocity</td>\n      <td>1</td>\n      <td>111.70000</td>\n      <td>2.100</td>\n      <td>14.90</td>\n      <td>2009</td>\n    </tr>\n    <tr>\n      <th>641</th>\n      <td>Radial Velocity</td>\n      <td>1</td>\n      <td>5.05050</td>\n      <td>1.068</td>\n      <td>44.46</td>\n      <td>2013</td>\n    </tr>\n    <tr>\n      <th>642</th>\n      <td>Radial Velocity</td>\n      <td>1</td>\n      <td>311.28800</td>\n      <td>1.940</td>\n      <td>17.24</td>\n      <td>1999</td>\n    </tr>\n    <tr>\n      <th>649</th>\n      <td>Transit</td>\n      <td>1</td>\n      <td>2.70339</td>\n      <td>1.470</td>\n      <td>178.00</td>\n      <td>2013</td>\n    </tr>\n    <tr>\n      <th>784</th>\n      <td>Radial Velocity</td>\n      <td>3</td>\n      <td>580.00000</td>\n      <td>0.947</td>\n      <td>135.00</td>\n      <td>2012</td>\n    </tr>\n  </tbody>\n</table>\n</div>"
     },
     "metadata": {},
     "execution_count": 34
    }
   ],
   "source": [
    "new_planets.tail()"
   ]
  },
  {
   "cell_type": "code",
   "execution_count": 35,
   "metadata": {},
   "outputs": [
    {
     "output_type": "execute_result",
     "data": {
      "text/plain": "59.3325"
     },
     "metadata": {},
     "execution_count": 35
    }
   ],
   "source": [
    "_percentile_75 = np.percentile(new_planets['distance'], 75)\n",
    "_percentile_75"
   ]
  },
  {
   "cell_type": "code",
   "execution_count": 36,
   "metadata": {},
   "outputs": [],
   "source": [
    "df = pd.DataFrame()\n",
    "for i, r in new_planets.iterrows():\n",
    "    if (r['method'] == 'Radial Velocity' or r['method'] == 'Transit') and r['distance'] > _percentile_75 and r['year'] >= 2010:\n",
    "        df = df.append(r, ignore_index = False)"
   ]
  },
  {
   "cell_type": "code",
   "execution_count": 37,
   "metadata": {
    "tags": []
   },
   "outputs": [
    {
     "output_type": "stream",
     "name": "stdout",
     "text": "<class 'pandas.core.frame.DataFrame'>\nInt64Index: 50 entries, 9 to 784\nData columns (total 6 columns):\n #   Column          Non-Null Count  Dtype  \n---  ------          --------------  -----  \n 0   distance        50 non-null     float64\n 1   mass            50 non-null     float64\n 2   method          50 non-null     object \n 3   number          50 non-null     float64\n 4   orbital_period  50 non-null     float64\n 5   year            50 non-null     float64\ndtypes: float64(5), object(1)\nmemory usage: 2.7+ KB\n"
    }
   ],
   "source": [
    "df.info()"
   ]
  },
  {
   "cell_type": "code",
   "execution_count": 38,
   "metadata": {},
   "outputs": [
    {
     "output_type": "execute_result",
     "data": {
      "text/plain": "    distance   mass           method  number  orbital_period    year\n9      74.79   1.99  Radial Velocity     2.0          452.80  2010.0\n10     74.79   0.86  Radial Velocity     2.0          883.00  2010.0\n58     80.64   1.70  Radial Velocity     1.0          277.02  2013.0\n63     92.51  20.60  Radial Velocity     1.0          305.50  2013.0\n84    175.44   1.11  Radial Velocity     1.0          137.48  2013.0",
      "text/html": "<div>\n<style scoped>\n    .dataframe tbody tr th:only-of-type {\n        vertical-align: middle;\n    }\n\n    .dataframe tbody tr th {\n        vertical-align: top;\n    }\n\n    .dataframe thead th {\n        text-align: right;\n    }\n</style>\n<table border=\"1\" class=\"dataframe\">\n  <thead>\n    <tr style=\"text-align: right;\">\n      <th></th>\n      <th>distance</th>\n      <th>mass</th>\n      <th>method</th>\n      <th>number</th>\n      <th>orbital_period</th>\n      <th>year</th>\n    </tr>\n  </thead>\n  <tbody>\n    <tr>\n      <th>9</th>\n      <td>74.79</td>\n      <td>1.99</td>\n      <td>Radial Velocity</td>\n      <td>2.0</td>\n      <td>452.80</td>\n      <td>2010.0</td>\n    </tr>\n    <tr>\n      <th>10</th>\n      <td>74.79</td>\n      <td>0.86</td>\n      <td>Radial Velocity</td>\n      <td>2.0</td>\n      <td>883.00</td>\n      <td>2010.0</td>\n    </tr>\n    <tr>\n      <th>58</th>\n      <td>80.64</td>\n      <td>1.70</td>\n      <td>Radial Velocity</td>\n      <td>1.0</td>\n      <td>277.02</td>\n      <td>2013.0</td>\n    </tr>\n    <tr>\n      <th>63</th>\n      <td>92.51</td>\n      <td>20.60</td>\n      <td>Radial Velocity</td>\n      <td>1.0</td>\n      <td>305.50</td>\n      <td>2013.0</td>\n    </tr>\n    <tr>\n      <th>84</th>\n      <td>175.44</td>\n      <td>1.11</td>\n      <td>Radial Velocity</td>\n      <td>1.0</td>\n      <td>137.48</td>\n      <td>2013.0</td>\n    </tr>\n  </tbody>\n</table>\n</div>"
     },
     "metadata": {},
     "execution_count": 38
    }
   ],
   "source": [
    "df.head()"
   ]
  },
  {
   "cell_type": "code",
   "execution_count": 39,
   "metadata": {},
   "outputs": [
    {
     "output_type": "execute_result",
     "data": {
      "text/plain": "     distance   mass           method  number  orbital_period    year\n620    307.69  5.300  Radial Velocity     1.0       745.70000  2011.0\n627    223.21  1.250  Radial Velocity     1.0        16.20000  2010.0\n636    149.25  9.180  Radial Velocity     1.0       124.60000  2013.0\n649    178.00  1.470          Transit     1.0         2.70339  2013.0\n784    135.00  0.947  Radial Velocity     3.0       580.00000  2012.0",
      "text/html": "<div>\n<style scoped>\n    .dataframe tbody tr th:only-of-type {\n        vertical-align: middle;\n    }\n\n    .dataframe tbody tr th {\n        vertical-align: top;\n    }\n\n    .dataframe thead th {\n        text-align: right;\n    }\n</style>\n<table border=\"1\" class=\"dataframe\">\n  <thead>\n    <tr style=\"text-align: right;\">\n      <th></th>\n      <th>distance</th>\n      <th>mass</th>\n      <th>method</th>\n      <th>number</th>\n      <th>orbital_period</th>\n      <th>year</th>\n    </tr>\n  </thead>\n  <tbody>\n    <tr>\n      <th>620</th>\n      <td>307.69</td>\n      <td>5.300</td>\n      <td>Radial Velocity</td>\n      <td>1.0</td>\n      <td>745.70000</td>\n      <td>2011.0</td>\n    </tr>\n    <tr>\n      <th>627</th>\n      <td>223.21</td>\n      <td>1.250</td>\n      <td>Radial Velocity</td>\n      <td>1.0</td>\n      <td>16.20000</td>\n      <td>2010.0</td>\n    </tr>\n    <tr>\n      <th>636</th>\n      <td>149.25</td>\n      <td>9.180</td>\n      <td>Radial Velocity</td>\n      <td>1.0</td>\n      <td>124.60000</td>\n      <td>2013.0</td>\n    </tr>\n    <tr>\n      <th>649</th>\n      <td>178.00</td>\n      <td>1.470</td>\n      <td>Transit</td>\n      <td>1.0</td>\n      <td>2.70339</td>\n      <td>2013.0</td>\n    </tr>\n    <tr>\n      <th>784</th>\n      <td>135.00</td>\n      <td>0.947</td>\n      <td>Radial Velocity</td>\n      <td>3.0</td>\n      <td>580.00000</td>\n      <td>2012.0</td>\n    </tr>\n  </tbody>\n</table>\n</div>"
     },
     "metadata": {},
     "execution_count": 39
    }
   ],
   "source": [
    "df.tail()"
   ]
  },
  {
   "cell_type": "code",
   "execution_count": 40,
   "metadata": {},
   "outputs": [
    {
     "output_type": "execute_result",
     "data": {
      "text/plain": "     distance    mass           method  number  orbital_period    year\n9       74.79   1.990  Radial Velocity     2.0       452.80000  2010.0\n10      74.79   0.860  Radial Velocity     2.0       883.00000  2010.0\n58      80.64   1.700  Radial Velocity     1.0       277.02000  2013.0\n63      92.51  20.600  Radial Velocity     1.0       305.50000  2013.0\n84     175.44   1.110  Radial Velocity     1.0       137.48000  2013.0\n166     90.00   3.400  Radial Velocity     2.0      5584.00000  2010.0\n181    354.00   3.400  Radial Velocity     2.0      1022.00000  2011.0\n202    167.50   3.100  Radial Velocity     1.0       431.80000  2011.0\n206    115.21   1.600  Radial Velocity     1.0       311.60000  2013.0\n218    150.60   7.600  Radial Velocity     1.0       177.11000  2011.0\n248     66.89   0.865  Radial Velocity     2.0        19.38200  2013.0\n249     66.89   5.130  Radial Velocity     2.0       931.00000  2013.0\n257    127.88   2.700  Radial Velocity     1.0       772.00000  2011.0\n282    168.92   1.700  Radial Velocity     1.0       387.10000  2011.0\n285    121.07   1.800  Radial Velocity     1.0       912.00000  2011.0\n290    136.80   1.300  Radial Velocity     1.0       326.60000  2011.0\n349     80.06   6.000  Radial Velocity     1.0       480.50000  2012.0\n376    112.23   1.300  Radial Velocity     1.0       705.00000  2011.0\n394    132.80   0.900  Radial Velocity     1.0       361.10000  2011.0\n396    221.24   4.000  Radial Velocity     1.0       647.30000  2011.0\n400    150.38   1.800  Radial Velocity     1.0       436.90000  2011.0\n405    130.89   1.400  Radial Velocity     1.0       868.00000  2011.0\n406    140.85   1.700  Radial Velocity     1.0       157.57000  2011.0\n414    138.50   5.900  Radial Velocity     1.0       778.10000  2011.0\n415    121.07   0.960  Radial Velocity     1.0         6.49500  2010.0\n421     87.87  11.000  Radial Velocity     1.0      2890.00000  2011.0\n426    138.50   2.600  Radial Velocity     1.0       443.40000  2011.0\n429     65.62   0.770  Radial Velocity     1.0        68.27000  2010.0\n444    110.62   2.100  Radial Velocity     1.0       670.00000  2011.0\n448     97.66   4.500  Radial Velocity     1.0      2082.00000  2013.0\n461    121.36   2.200  Radial Velocity     1.0       883.00000  2011.0\n464     98.52   1.490  Radial Velocity     1.0      1544.00000  2011.0\n480    106.38   1.900  Radial Velocity     1.0      1299.00000  2011.0\n483    126.10   2.900  Radial Velocity     1.0       176.30000  2010.0\n495    182.82   1.500  Radial Velocity     1.0       689.00000  2011.0\n501     68.54   2.580  Radial Velocity     2.0      3452.00000  2014.0\n509    114.15   1.800  Radial Velocity     1.0       521.00000  2011.0\n510     68.59   1.130  Radial Velocity     2.0        12.62000  2013.0\n511     68.59   1.900  Radial Velocity     2.0       248.40000  2013.0\n519     69.44   0.770  Radial Velocity     2.0        75.29000  2010.0\n520     69.44   2.290  Radial Velocity     2.0      1314.00000  2010.0\n573     68.35   1.850  Radial Velocity     2.0       613.80000  2010.0\n574     68.35   0.895  Radial Velocity     2.0       825.00000  2010.0\n587    352.11   9.900  Radial Velocity     1.0       875.50000  2012.0\n610    289.02  11.100  Radial Velocity     1.0       672.10000  2012.0\n620    307.69   5.300  Radial Velocity     1.0       745.70000  2011.0\n627    223.21   1.250  Radial Velocity     1.0        16.20000  2010.0\n636    149.25   9.180  Radial Velocity     1.0       124.60000  2013.0\n649    178.00   1.470          Transit     1.0         2.70339  2013.0\n784    135.00   0.947  Radial Velocity     3.0       580.00000  2012.0",
      "text/html": "<div>\n<style scoped>\n    .dataframe tbody tr th:only-of-type {\n        vertical-align: middle;\n    }\n\n    .dataframe tbody tr th {\n        vertical-align: top;\n    }\n\n    .dataframe thead th {\n        text-align: right;\n    }\n</style>\n<table border=\"1\" class=\"dataframe\">\n  <thead>\n    <tr style=\"text-align: right;\">\n      <th></th>\n      <th>distance</th>\n      <th>mass</th>\n      <th>method</th>\n      <th>number</th>\n      <th>orbital_period</th>\n      <th>year</th>\n    </tr>\n  </thead>\n  <tbody>\n    <tr>\n      <th>9</th>\n      <td>74.79</td>\n      <td>1.990</td>\n      <td>Radial Velocity</td>\n      <td>2.0</td>\n      <td>452.80000</td>\n      <td>2010.0</td>\n    </tr>\n    <tr>\n      <th>10</th>\n      <td>74.79</td>\n      <td>0.860</td>\n      <td>Radial Velocity</td>\n      <td>2.0</td>\n      <td>883.00000</td>\n      <td>2010.0</td>\n    </tr>\n    <tr>\n      <th>58</th>\n      <td>80.64</td>\n      <td>1.700</td>\n      <td>Radial Velocity</td>\n      <td>1.0</td>\n      <td>277.02000</td>\n      <td>2013.0</td>\n    </tr>\n    <tr>\n      <th>63</th>\n      <td>92.51</td>\n      <td>20.600</td>\n      <td>Radial Velocity</td>\n      <td>1.0</td>\n      <td>305.50000</td>\n      <td>2013.0</td>\n    </tr>\n    <tr>\n      <th>84</th>\n      <td>175.44</td>\n      <td>1.110</td>\n      <td>Radial Velocity</td>\n      <td>1.0</td>\n      <td>137.48000</td>\n      <td>2013.0</td>\n    </tr>\n    <tr>\n      <th>166</th>\n      <td>90.00</td>\n      <td>3.400</td>\n      <td>Radial Velocity</td>\n      <td>2.0</td>\n      <td>5584.00000</td>\n      <td>2010.0</td>\n    </tr>\n    <tr>\n      <th>181</th>\n      <td>354.00</td>\n      <td>3.400</td>\n      <td>Radial Velocity</td>\n      <td>2.0</td>\n      <td>1022.00000</td>\n      <td>2011.0</td>\n    </tr>\n    <tr>\n      <th>202</th>\n      <td>167.50</td>\n      <td>3.100</td>\n      <td>Radial Velocity</td>\n      <td>1.0</td>\n      <td>431.80000</td>\n      <td>2011.0</td>\n    </tr>\n    <tr>\n      <th>206</th>\n      <td>115.21</td>\n      <td>1.600</td>\n      <td>Radial Velocity</td>\n      <td>1.0</td>\n      <td>311.60000</td>\n      <td>2013.0</td>\n    </tr>\n    <tr>\n      <th>218</th>\n      <td>150.60</td>\n      <td>7.600</td>\n      <td>Radial Velocity</td>\n      <td>1.0</td>\n      <td>177.11000</td>\n      <td>2011.0</td>\n    </tr>\n    <tr>\n      <th>248</th>\n      <td>66.89</td>\n      <td>0.865</td>\n      <td>Radial Velocity</td>\n      <td>2.0</td>\n      <td>19.38200</td>\n      <td>2013.0</td>\n    </tr>\n    <tr>\n      <th>249</th>\n      <td>66.89</td>\n      <td>5.130</td>\n      <td>Radial Velocity</td>\n      <td>2.0</td>\n      <td>931.00000</td>\n      <td>2013.0</td>\n    </tr>\n    <tr>\n      <th>257</th>\n      <td>127.88</td>\n      <td>2.700</td>\n      <td>Radial Velocity</td>\n      <td>1.0</td>\n      <td>772.00000</td>\n      <td>2011.0</td>\n    </tr>\n    <tr>\n      <th>282</th>\n      <td>168.92</td>\n      <td>1.700</td>\n      <td>Radial Velocity</td>\n      <td>1.0</td>\n      <td>387.10000</td>\n      <td>2011.0</td>\n    </tr>\n    <tr>\n      <th>285</th>\n      <td>121.07</td>\n      <td>1.800</td>\n      <td>Radial Velocity</td>\n      <td>1.0</td>\n      <td>912.00000</td>\n      <td>2011.0</td>\n    </tr>\n    <tr>\n      <th>290</th>\n      <td>136.80</td>\n      <td>1.300</td>\n      <td>Radial Velocity</td>\n      <td>1.0</td>\n      <td>326.60000</td>\n      <td>2011.0</td>\n    </tr>\n    <tr>\n      <th>349</th>\n      <td>80.06</td>\n      <td>6.000</td>\n      <td>Radial Velocity</td>\n      <td>1.0</td>\n      <td>480.50000</td>\n      <td>2012.0</td>\n    </tr>\n    <tr>\n      <th>376</th>\n      <td>112.23</td>\n      <td>1.300</td>\n      <td>Radial Velocity</td>\n      <td>1.0</td>\n      <td>705.00000</td>\n      <td>2011.0</td>\n    </tr>\n    <tr>\n      <th>394</th>\n      <td>132.80</td>\n      <td>0.900</td>\n      <td>Radial Velocity</td>\n      <td>1.0</td>\n      <td>361.10000</td>\n      <td>2011.0</td>\n    </tr>\n    <tr>\n      <th>396</th>\n      <td>221.24</td>\n      <td>4.000</td>\n      <td>Radial Velocity</td>\n      <td>1.0</td>\n      <td>647.30000</td>\n      <td>2011.0</td>\n    </tr>\n    <tr>\n      <th>400</th>\n      <td>150.38</td>\n      <td>1.800</td>\n      <td>Radial Velocity</td>\n      <td>1.0</td>\n      <td>436.90000</td>\n      <td>2011.0</td>\n    </tr>\n    <tr>\n      <th>405</th>\n      <td>130.89</td>\n      <td>1.400</td>\n      <td>Radial Velocity</td>\n      <td>1.0</td>\n      <td>868.00000</td>\n      <td>2011.0</td>\n    </tr>\n    <tr>\n      <th>406</th>\n      <td>140.85</td>\n      <td>1.700</td>\n      <td>Radial Velocity</td>\n      <td>1.0</td>\n      <td>157.57000</td>\n      <td>2011.0</td>\n    </tr>\n    <tr>\n      <th>414</th>\n      <td>138.50</td>\n      <td>5.900</td>\n      <td>Radial Velocity</td>\n      <td>1.0</td>\n      <td>778.10000</td>\n      <td>2011.0</td>\n    </tr>\n    <tr>\n      <th>415</th>\n      <td>121.07</td>\n      <td>0.960</td>\n      <td>Radial Velocity</td>\n      <td>1.0</td>\n      <td>6.49500</td>\n      <td>2010.0</td>\n    </tr>\n    <tr>\n      <th>421</th>\n      <td>87.87</td>\n      <td>11.000</td>\n      <td>Radial Velocity</td>\n      <td>1.0</td>\n      <td>2890.00000</td>\n      <td>2011.0</td>\n    </tr>\n    <tr>\n      <th>426</th>\n      <td>138.50</td>\n      <td>2.600</td>\n      <td>Radial Velocity</td>\n      <td>1.0</td>\n      <td>443.40000</td>\n      <td>2011.0</td>\n    </tr>\n    <tr>\n      <th>429</th>\n      <td>65.62</td>\n      <td>0.770</td>\n      <td>Radial Velocity</td>\n      <td>1.0</td>\n      <td>68.27000</td>\n      <td>2010.0</td>\n    </tr>\n    <tr>\n      <th>444</th>\n      <td>110.62</td>\n      <td>2.100</td>\n      <td>Radial Velocity</td>\n      <td>1.0</td>\n      <td>670.00000</td>\n      <td>2011.0</td>\n    </tr>\n    <tr>\n      <th>448</th>\n      <td>97.66</td>\n      <td>4.500</td>\n      <td>Radial Velocity</td>\n      <td>1.0</td>\n      <td>2082.00000</td>\n      <td>2013.0</td>\n    </tr>\n    <tr>\n      <th>461</th>\n      <td>121.36</td>\n      <td>2.200</td>\n      <td>Radial Velocity</td>\n      <td>1.0</td>\n      <td>883.00000</td>\n      <td>2011.0</td>\n    </tr>\n    <tr>\n      <th>464</th>\n      <td>98.52</td>\n      <td>1.490</td>\n      <td>Radial Velocity</td>\n      <td>1.0</td>\n      <td>1544.00000</td>\n      <td>2011.0</td>\n    </tr>\n    <tr>\n      <th>480</th>\n      <td>106.38</td>\n      <td>1.900</td>\n      <td>Radial Velocity</td>\n      <td>1.0</td>\n      <td>1299.00000</td>\n      <td>2011.0</td>\n    </tr>\n    <tr>\n      <th>483</th>\n      <td>126.10</td>\n      <td>2.900</td>\n      <td>Radial Velocity</td>\n      <td>1.0</td>\n      <td>176.30000</td>\n      <td>2010.0</td>\n    </tr>\n    <tr>\n      <th>495</th>\n      <td>182.82</td>\n      <td>1.500</td>\n      <td>Radial Velocity</td>\n      <td>1.0</td>\n      <td>689.00000</td>\n      <td>2011.0</td>\n    </tr>\n    <tr>\n      <th>501</th>\n      <td>68.54</td>\n      <td>2.580</td>\n      <td>Radial Velocity</td>\n      <td>2.0</td>\n      <td>3452.00000</td>\n      <td>2014.0</td>\n    </tr>\n    <tr>\n      <th>509</th>\n      <td>114.15</td>\n      <td>1.800</td>\n      <td>Radial Velocity</td>\n      <td>1.0</td>\n      <td>521.00000</td>\n      <td>2011.0</td>\n    </tr>\n    <tr>\n      <th>510</th>\n      <td>68.59</td>\n      <td>1.130</td>\n      <td>Radial Velocity</td>\n      <td>2.0</td>\n      <td>12.62000</td>\n      <td>2013.0</td>\n    </tr>\n    <tr>\n      <th>511</th>\n      <td>68.59</td>\n      <td>1.900</td>\n      <td>Radial Velocity</td>\n      <td>2.0</td>\n      <td>248.40000</td>\n      <td>2013.0</td>\n    </tr>\n    <tr>\n      <th>519</th>\n      <td>69.44</td>\n      <td>0.770</td>\n      <td>Radial Velocity</td>\n      <td>2.0</td>\n      <td>75.29000</td>\n      <td>2010.0</td>\n    </tr>\n    <tr>\n      <th>520</th>\n      <td>69.44</td>\n      <td>2.290</td>\n      <td>Radial Velocity</td>\n      <td>2.0</td>\n      <td>1314.00000</td>\n      <td>2010.0</td>\n    </tr>\n    <tr>\n      <th>573</th>\n      <td>68.35</td>\n      <td>1.850</td>\n      <td>Radial Velocity</td>\n      <td>2.0</td>\n      <td>613.80000</td>\n      <td>2010.0</td>\n    </tr>\n    <tr>\n      <th>574</th>\n      <td>68.35</td>\n      <td>0.895</td>\n      <td>Radial Velocity</td>\n      <td>2.0</td>\n      <td>825.00000</td>\n      <td>2010.0</td>\n    </tr>\n    <tr>\n      <th>587</th>\n      <td>352.11</td>\n      <td>9.900</td>\n      <td>Radial Velocity</td>\n      <td>1.0</td>\n      <td>875.50000</td>\n      <td>2012.0</td>\n    </tr>\n    <tr>\n      <th>610</th>\n      <td>289.02</td>\n      <td>11.100</td>\n      <td>Radial Velocity</td>\n      <td>1.0</td>\n      <td>672.10000</td>\n      <td>2012.0</td>\n    </tr>\n    <tr>\n      <th>620</th>\n      <td>307.69</td>\n      <td>5.300</td>\n      <td>Radial Velocity</td>\n      <td>1.0</td>\n      <td>745.70000</td>\n      <td>2011.0</td>\n    </tr>\n    <tr>\n      <th>627</th>\n      <td>223.21</td>\n      <td>1.250</td>\n      <td>Radial Velocity</td>\n      <td>1.0</td>\n      <td>16.20000</td>\n      <td>2010.0</td>\n    </tr>\n    <tr>\n      <th>636</th>\n      <td>149.25</td>\n      <td>9.180</td>\n      <td>Radial Velocity</td>\n      <td>1.0</td>\n      <td>124.60000</td>\n      <td>2013.0</td>\n    </tr>\n    <tr>\n      <th>649</th>\n      <td>178.00</td>\n      <td>1.470</td>\n      <td>Transit</td>\n      <td>1.0</td>\n      <td>2.70339</td>\n      <td>2013.0</td>\n    </tr>\n    <tr>\n      <th>784</th>\n      <td>135.00</td>\n      <td>0.947</td>\n      <td>Radial Velocity</td>\n      <td>3.0</td>\n      <td>580.00000</td>\n      <td>2012.0</td>\n    </tr>\n  </tbody>\n</table>\n</div>"
     },
     "metadata": {},
     "execution_count": 40
    }
   ],
   "source": [
    "df"
   ]
  },
  {
   "cell_type": "code",
   "execution_count": 41,
   "metadata": {},
   "outputs": [],
   "source": [
    "df_ = new_planets.copy()"
   ]
  },
  {
   "cell_type": "code",
   "execution_count": 42,
   "metadata": {},
   "outputs": [
    {
     "output_type": "execute_result",
     "data": {
      "text/plain": "          number  orbital_period        mass    distance         year\ncount  498.00000      498.000000  498.000000  498.000000   498.000000\nmean     1.73494      835.778671    2.509320   52.068213  2007.377510\nstd      1.17572     1469.128259    3.636274   46.596041     4.167284\nmin      1.00000        1.328300    0.003600    1.350000  1989.000000\n25%      1.00000       38.272250    0.212500   24.497500  2005.000000\n50%      1.00000      357.000000    1.245000   39.940000  2009.000000\n75%      2.00000      999.600000    2.867500   59.332500  2011.000000\nmax      6.00000    17337.500000   25.000000  354.000000  2014.000000",
      "text/html": "<div>\n<style scoped>\n    .dataframe tbody tr th:only-of-type {\n        vertical-align: middle;\n    }\n\n    .dataframe tbody tr th {\n        vertical-align: top;\n    }\n\n    .dataframe thead th {\n        text-align: right;\n    }\n</style>\n<table border=\"1\" class=\"dataframe\">\n  <thead>\n    <tr style=\"text-align: right;\">\n      <th></th>\n      <th>number</th>\n      <th>orbital_period</th>\n      <th>mass</th>\n      <th>distance</th>\n      <th>year</th>\n    </tr>\n  </thead>\n  <tbody>\n    <tr>\n      <th>count</th>\n      <td>498.00000</td>\n      <td>498.000000</td>\n      <td>498.000000</td>\n      <td>498.000000</td>\n      <td>498.000000</td>\n    </tr>\n    <tr>\n      <th>mean</th>\n      <td>1.73494</td>\n      <td>835.778671</td>\n      <td>2.509320</td>\n      <td>52.068213</td>\n      <td>2007.377510</td>\n    </tr>\n    <tr>\n      <th>std</th>\n      <td>1.17572</td>\n      <td>1469.128259</td>\n      <td>3.636274</td>\n      <td>46.596041</td>\n      <td>4.167284</td>\n    </tr>\n    <tr>\n      <th>min</th>\n      <td>1.00000</td>\n      <td>1.328300</td>\n      <td>0.003600</td>\n      <td>1.350000</td>\n      <td>1989.000000</td>\n    </tr>\n    <tr>\n      <th>25%</th>\n      <td>1.00000</td>\n      <td>38.272250</td>\n      <td>0.212500</td>\n      <td>24.497500</td>\n      <td>2005.000000</td>\n    </tr>\n    <tr>\n      <th>50%</th>\n      <td>1.00000</td>\n      <td>357.000000</td>\n      <td>1.245000</td>\n      <td>39.940000</td>\n      <td>2009.000000</td>\n    </tr>\n    <tr>\n      <th>75%</th>\n      <td>2.00000</td>\n      <td>999.600000</td>\n      <td>2.867500</td>\n      <td>59.332500</td>\n      <td>2011.000000</td>\n    </tr>\n    <tr>\n      <th>max</th>\n      <td>6.00000</td>\n      <td>17337.500000</td>\n      <td>25.000000</td>\n      <td>354.000000</td>\n      <td>2014.000000</td>\n    </tr>\n  </tbody>\n</table>\n</div>"
     },
     "metadata": {},
     "execution_count": 42
    }
   ],
   "source": [
    "df_.describe()"
   ]
  },
  {
   "cell_type": "markdown",
   "metadata": {},
   "source": [
    "** Faster way to Query DataFrames **"
   ]
  },
  {
   "cell_type": "code",
   "execution_count": 43,
   "metadata": {},
   "outputs": [],
   "source": [
    "df_ = new_planets.copy()\n",
    "df_ = df_[(df_['year'] >= 2010) & (df_['distance'] > _percentile_75) &\n",
    "          ((df_['method'] == 'Transit') | (df_['method'] == 'Radial Velocity'))]"
   ]
  },
  {
   "cell_type": "code",
   "execution_count": 44,
   "metadata": {},
   "outputs": [
    {
     "output_type": "execute_result",
     "data": {
      "text/plain": "          number  orbital_period       mass    distance         year\ncount  50.000000       50.000000  50.000000   50.000000    50.000000\nmean    1.300000      763.904808   3.322740  133.142600  2011.360000\nstd     0.505076      966.789870   3.648002   70.378699     1.120496\nmin     1.000000        2.703390   0.770000   65.620000  2010.000000\n25%     1.000000      255.555000   1.325000   80.205000  2011.000000\n50%     1.000000      550.500000   1.875000  121.070000  2011.000000\n75%     2.000000      873.625000   3.400000  150.097500  2012.000000\nmax     3.000000     5584.000000  20.600000  354.000000  2014.000000",
      "text/html": "<div>\n<style scoped>\n    .dataframe tbody tr th:only-of-type {\n        vertical-align: middle;\n    }\n\n    .dataframe tbody tr th {\n        vertical-align: top;\n    }\n\n    .dataframe thead th {\n        text-align: right;\n    }\n</style>\n<table border=\"1\" class=\"dataframe\">\n  <thead>\n    <tr style=\"text-align: right;\">\n      <th></th>\n      <th>number</th>\n      <th>orbital_period</th>\n      <th>mass</th>\n      <th>distance</th>\n      <th>year</th>\n    </tr>\n  </thead>\n  <tbody>\n    <tr>\n      <th>count</th>\n      <td>50.000000</td>\n      <td>50.000000</td>\n      <td>50.000000</td>\n      <td>50.000000</td>\n      <td>50.000000</td>\n    </tr>\n    <tr>\n      <th>mean</th>\n      <td>1.300000</td>\n      <td>763.904808</td>\n      <td>3.322740</td>\n      <td>133.142600</td>\n      <td>2011.360000</td>\n    </tr>\n    <tr>\n      <th>std</th>\n      <td>0.505076</td>\n      <td>966.789870</td>\n      <td>3.648002</td>\n      <td>70.378699</td>\n      <td>1.120496</td>\n    </tr>\n    <tr>\n      <th>min</th>\n      <td>1.000000</td>\n      <td>2.703390</td>\n      <td>0.770000</td>\n      <td>65.620000</td>\n      <td>2010.000000</td>\n    </tr>\n    <tr>\n      <th>25%</th>\n      <td>1.000000</td>\n      <td>255.555000</td>\n      <td>1.325000</td>\n      <td>80.205000</td>\n      <td>2011.000000</td>\n    </tr>\n    <tr>\n      <th>50%</th>\n      <td>1.000000</td>\n      <td>550.500000</td>\n      <td>1.875000</td>\n      <td>121.070000</td>\n      <td>2011.000000</td>\n    </tr>\n    <tr>\n      <th>75%</th>\n      <td>2.000000</td>\n      <td>873.625000</td>\n      <td>3.400000</td>\n      <td>150.097500</td>\n      <td>2012.000000</td>\n    </tr>\n    <tr>\n      <th>max</th>\n      <td>3.000000</td>\n      <td>5584.000000</td>\n      <td>20.600000</td>\n      <td>354.000000</td>\n      <td>2014.000000</td>\n    </tr>\n  </tbody>\n</table>\n</div>"
     },
     "metadata": {},
     "execution_count": 44
    }
   ],
   "source": [
    "df_.describe()"
   ]
  },
  {
   "cell_type": "markdown",
   "metadata": {},
   "source": [
    "** Make the names in the method column to abbreveations of the starting Letter of the words **"
   ]
  },
  {
   "cell_type": "code",
   "execution_count": 45,
   "metadata": {
    "tags": []
   },
   "outputs": [],
   "source": [
    "new_planets = sns.load_dataset('planets')\n",
    "df = new_planets.copy()"
   ]
  },
  {
   "cell_type": "code",
   "execution_count": 46,
   "metadata": {
    "tags": []
   },
   "outputs": [
    {
     "output_type": "execute_result",
     "data": {
      "text/plain": "array(['Radial Velocity', 'Imaging', 'Eclipse Timing Variations',\n       'Transit', 'Astrometry', 'Transit Timing Variations',\n       'Orbital Brightness Modulation', 'Microlensing', 'Pulsar Timing',\n       'Pulsation Timing Variations'], dtype=object)"
     },
     "metadata": {},
     "execution_count": 46
    }
   ],
   "source": [
    "df.method.unique()"
   ]
  },
  {
   "cell_type": "code",
   "execution_count": 47,
   "metadata": {},
   "outputs": [],
   "source": [
    "short_names = {}\n",
    "for s in df.method.unique():\n",
    "    short_names[s] = ''.join([x[0] for x in s.split(' ')])"
   ]
  },
  {
   "cell_type": "code",
   "execution_count": 48,
   "metadata": {},
   "outputs": [
    {
     "output_type": "execute_result",
     "data": {
      "text/plain": "{'Radial Velocity': 'RV',\n 'Imaging': 'I',\n 'Eclipse Timing Variations': 'ETV',\n 'Transit': 'T',\n 'Astrometry': 'A',\n 'Transit Timing Variations': 'TTV',\n 'Orbital Brightness Modulation': 'OBM',\n 'Microlensing': 'M',\n 'Pulsar Timing': 'PT',\n 'Pulsation Timing Variations': 'PTV'}"
     },
     "metadata": {},
     "execution_count": 48
    }
   ],
   "source": [
    "short_names"
   ]
  },
  {
   "cell_type": "code",
   "execution_count": 49,
   "metadata": {},
   "outputs": [],
   "source": [
    "for i, r in df.iterrows():\n",
    "    df.loc[i, 'short method'] = short_names.get(r['method'], r['method'])"
   ]
  },
  {
   "cell_type": "code",
   "execution_count": 50,
   "metadata": {},
   "outputs": [],
   "source": [
    "df = new_planets.copy()"
   ]
  },
  {
   "cell_type": "code",
   "execution_count": 51,
   "metadata": {},
   "outputs": [],
   "source": [
    "def short_function(s):\n",
    "    return short_names.get(s, s)"
   ]
  },
  {
   "cell_type": "code",
   "execution_count": 52,
   "metadata": {},
   "outputs": [],
   "source": [
    "df['short method'] = df['method'].apply(short_function)"
   ]
  },
  {
   "cell_type": "code",
   "execution_count": 53,
   "metadata": {},
   "outputs": [
    {
     "output_type": "execute_result",
     "data": {
      "text/plain": "array(['RV', 'I', 'ETV', 'T', 'A', 'TTV', 'OBM', 'M', 'PT', 'PTV'],\n      dtype=object)"
     },
     "metadata": {},
     "execution_count": 53
    }
   ],
   "source": [
    "df['short method'].unique()"
   ]
  },
  {
   "cell_type": "markdown",
   "metadata": {},
   "source": [
    "** Find count of planets discovered using various techniques **"
   ]
  },
  {
   "cell_type": "code",
   "execution_count": 83,
   "metadata": {},
   "outputs": [],
   "source": [
    "df = new_planets.copy()"
   ]
  },
  {
   "cell_type": "code",
   "execution_count": 84,
   "metadata": {},
   "outputs": [
    {
     "output_type": "execute_result",
     "data": {
      "text/plain": "397"
     },
     "metadata": {},
     "execution_count": 84
    }
   ],
   "source": [
    "df[df['method'] == 'Transit']['method'].count()"
   ]
  },
  {
   "cell_type": "code",
   "execution_count": 88,
   "metadata": {
    "tags": []
   },
   "outputs": [],
   "source": [
    "dict_method = {}\n",
    "for s in df.method.unique():\n",
    "    #print(s, \" \",df[df['method'] == s]['method'].count())\n",
    "    dict_method[s] = df[df['method'] == s]['method'].count()"
   ]
  },
  {
   "cell_type": "code",
   "execution_count": 90,
   "metadata": {
    "tags": []
   },
   "outputs": [
    {
     "output_type": "stream",
     "name": "stdout",
     "text": "{'Radial Velocity': 553, 'Imaging': 38, 'Eclipse Timing Variations': 9, 'Transit': 397, 'Astrometry': 2, 'Transit Timing Variations': 4, 'Orbital Brightness Modulation': 3, 'Microlensing': 23, 'Pulsar Timing': 5, 'Pulsation Timing Variations': 1}\n"
    }
   ],
   "source": [
    "print(dict_method)"
   ]
  },
  {
   "cell_type": "code",
   "execution_count": 91,
   "metadata": {},
   "outputs": [
    {
     "output_type": "execute_result",
     "data": {
      "text/plain": "method\nAstrometry                         2\nEclipse Timing Variations          9\nImaging                           38\nMicrolensing                      23\nOrbital Brightness Modulation      3\nPulsar Timing                      5\nPulsation Timing Variations        1\nRadial Velocity                  553\nTransit                          397\nTransit Timing Variations          4\nName: method, dtype: int64"
     },
     "metadata": {},
     "execution_count": 91
    }
   ],
   "source": [
    "df.groupby('method')['method'].count()"
   ]
  },
  {
   "cell_type": "code",
   "execution_count": 95,
   "metadata": {},
   "outputs": [],
   "source": [
    "df = new_planets.copy()"
   ]
  },
  {
   "cell_type": "markdown",
   "metadata": {},
   "source": [
    "** Find all planets discovered after 2010s and find the fraction of planets discovered using various techniques **"
   ]
  },
  {
   "cell_type": "code",
   "execution_count": 133,
   "metadata": {},
   "outputs": [],
   "source": [
    "time_2010 = df[df['year'] >= 2010].groupby('method')['method'].count()"
   ]
  },
  {
   "cell_type": "code",
   "execution_count": 134,
   "metadata": {},
   "outputs": [],
   "source": [
    "df = new_planets.copy()"
   ]
  },
  {
   "cell_type": "code",
   "execution_count": 135,
   "metadata": {},
   "outputs": [],
   "source": [
    "time_all = df.groupby('method')['method'].count()"
   ]
  },
  {
   "cell_type": "code",
   "execution_count": 136,
   "metadata": {},
   "outputs": [
    {
     "output_type": "execute_result",
     "data": {
      "text/plain": "method\nAstrometry                       1.000000\nEclipse Timing Variations        0.666667\nImaging                          0.473684\nMicrolensing                     0.565217\nOrbital Brightness Modulation    1.000000\nPulsar Timing                    0.200000\nPulsation Timing Variations           NaN\nRadial Velocity                  0.388788\nTransit                          0.843829\nTransit Timing Variations        1.000000\nName: method, dtype: float64"
     },
     "metadata": {},
     "execution_count": 136
    }
   ],
   "source": [
    "time_2010/time_all"
   ]
  },
  {
   "cell_type": "code",
   "execution_count": null,
   "metadata": {},
   "outputs": [],
   "source": []
  }
 ],
 "metadata": {
  "language_info": {
   "codemirror_mode": {
    "name": "ipython",
    "version": 3
   },
   "file_extension": ".py",
   "mimetype": "text/x-python",
   "name": "python",
   "nbconvert_exporter": "python",
   "pygments_lexer": "ipython3",
   "version": "3.8.2-final"
  },
  "orig_nbformat": 2,
  "kernelspec": {
   "name": "python38264bit0e93067f6239417ea3328f80015307c3",
   "display_name": "Python 3.8.2 64-bit"
  }
 },
 "nbformat": 4,
 "nbformat_minor": 2
}
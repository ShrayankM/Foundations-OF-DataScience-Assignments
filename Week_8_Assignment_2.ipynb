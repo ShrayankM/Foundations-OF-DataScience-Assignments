{
  "nbformat": 4,
  "nbformat_minor": 0,
  "metadata": {
    "colab": {
      "name": "Week_8_Assignment_2.ipynb",
      "provenance": [],
      "authorship_tag": "ABX9TyNArtkD0XzH7Zfsp3WQ+MfZ",
      "include_colab_link": true
    },
    "kernelspec": {
      "name": "python3",
      "display_name": "Python 3"
    }
  },
  "cells": [
    {
      "cell_type": "markdown",
      "metadata": {
        "id": "view-in-github",
        "colab_type": "text"
      },
      "source": [
        "<a href=\"https://colab.research.google.com/github/ShrayankM/FoundationsOFDataScience/blob/master/Week_8_Assignment_2.ipynb\" target=\"_parent\"><img src=\"https://colab.research.google.com/assets/colab-badge.svg\" alt=\"Open In Colab\"/></a>"
      ]
    },
    {
      "cell_type": "code",
      "metadata": {
        "id": "Gb8UZxpULplS",
        "colab_type": "code",
        "colab": {}
      },
      "source": [
        "import numpy as np"
      ],
      "execution_count": 0,
      "outputs": []
    },
    {
      "cell_type": "code",
      "metadata": {
        "id": "7f1hs1hJMN9g",
        "colab_type": "code",
        "colab": {}
      },
      "source": [
        "scores_data = np.genfromtxt(\"cric_data.tsv\",skip_header=1,usecols=(1,2,3))"
      ],
      "execution_count": 0,
      "outputs": []
    },
    {
      "cell_type": "code",
      "metadata": {
        "id": "OVkxf3LCMfYI",
        "colab_type": "code",
        "colab": {
          "base_uri": "https://localhost:8080/",
          "height": 35
        },
        "outputId": "8ca92139-6f9b-4a90-ddd5-1b27b027e1f6"
      },
      "source": [
        "scores_data.shape"
      ],
      "execution_count": 4,
      "outputs": [
        {
          "output_type": "execute_result",
          "data": {
            "text/plain": [
              "(225, 3)"
            ]
          },
          "metadata": {
            "tags": []
          },
          "execution_count": 4
        }
      ]
    },
    {
      "cell_type": "code",
      "metadata": {
        "id": "e2kahwnSMo78",
        "colab_type": "code",
        "colab": {}
      },
      "source": [
        "sachins_scores = scores_data[:,0]"
      ],
      "execution_count": 0,
      "outputs": []
    },
    {
      "cell_type": "code",
      "metadata": {
        "id": "7HR9NFMzM3ZW",
        "colab_type": "code",
        "colab": {}
      },
      "source": [
        "rahuls_score = scores_data[:,1]"
      ],
      "execution_count": 0,
      "outputs": []
    },
    {
      "cell_type": "code",
      "metadata": {
        "id": "neTKdLMiNC0S",
        "colab_type": "code",
        "colab": {}
      },
      "source": [
        "indias_score = scores_data[:,2]"
      ],
      "execution_count": 0,
      "outputs": []
    },
    {
      "cell_type": "markdown",
      "metadata": {
        "id": "Qgj95HQnN-jX",
        "colab_type": "text"
      },
      "source": [
        "#1) Mean, Median, IQR for Sachin , Rahul , India"
      ]
    },
    {
      "cell_type": "code",
      "metadata": {
        "id": "UB59g8ckNGU9",
        "colab_type": "code",
        "colab": {
          "base_uri": "https://localhost:8080/",
          "height": 54
        },
        "outputId": "ef5a840e-cbca-4438-da7f-bc05707608f4"
      },
      "source": [
        "print(\"Sachins Mean Score \",np.mean(sachins_scores))\n",
        "print(\"Sachins Scores Median \",np.median(sachins_scores))"
      ],
      "execution_count": 11,
      "outputs": [
        {
          "output_type": "stream",
          "text": [
            "Sachins Mean Score  39.87555555555556\n",
            "Sachins Scores Median  27.0\n"
          ],
          "name": "stdout"
        }
      ]
    },
    {
      "cell_type": "code",
      "metadata": {
        "id": "LMDCStTqNZ0N",
        "colab_type": "code",
        "colab": {}
      },
      "source": [
        "sachins_quartiles = np.percentile(sachins_scores,[25,50,75])"
      ],
      "execution_count": 0,
      "outputs": []
    },
    {
      "cell_type": "code",
      "metadata": {
        "id": "1UE1L7kPNlcu",
        "colab_type": "code",
        "colab": {
          "base_uri": "https://localhost:8080/",
          "height": 35
        },
        "outputId": "2bfaa871-1a47-41da-e79d-60c20c23efe6"
      },
      "source": [
        "print(\"Sachins Scores IQR \", sachins_quartiles[2] - sachins_quartiles[0])"
      ],
      "execution_count": 13,
      "outputs": [
        {
          "output_type": "stream",
          "text": [
            "Sachins Scores IQR  57.0\n"
          ],
          "name": "stdout"
        }
      ]
    },
    {
      "cell_type": "code",
      "metadata": {
        "id": "_Z7iGy_ON6m-",
        "colab_type": "code",
        "colab": {
          "base_uri": "https://localhost:8080/",
          "height": 54
        },
        "outputId": "9b63ac5b-97d1-4f89-9ee8-b3a773868d15"
      },
      "source": [
        "print(\"Rahuls Mean Score \",np.mean(rahuls_score))\n",
        "print(\"Rahuls Scores Median \",np.median(rahuls_score))"
      ],
      "execution_count": 15,
      "outputs": [
        {
          "output_type": "stream",
          "text": [
            "Rahuls Mean Score  32.062222222222225\n",
            "Rahuls Scores Median  22.0\n"
          ],
          "name": "stdout"
        }
      ]
    },
    {
      "cell_type": "code",
      "metadata": {
        "id": "XjriRjdKOVhK",
        "colab_type": "code",
        "colab": {}
      },
      "source": [
        "rahuls_quartiles = np.percentile(rahuls_score,[25,50,75])"
      ],
      "execution_count": 0,
      "outputs": []
    },
    {
      "cell_type": "code",
      "metadata": {
        "id": "QQzfmsNJObYh",
        "colab_type": "code",
        "colab": {
          "base_uri": "https://localhost:8080/",
          "height": 35
        },
        "outputId": "60f71ede-b963-4a9e-ea6f-af05b323a21f"
      },
      "source": [
        "print(\"Rahuls Scores IQR \", rahuls_quartiles[2] - rahuls_quartiles[0])"
      ],
      "execution_count": 18,
      "outputs": [
        {
          "output_type": "stream",
          "text": [
            "Rahuls Scores IQR  46.0\n"
          ],
          "name": "stdout"
        }
      ]
    },
    {
      "cell_type": "markdown",
      "metadata": {
        "id": "sel5x3AeO8WA",
        "colab_type": "text"
      },
      "source": [
        "#2) Histogram of Sachins Score with 10 bins"
      ]
    },
    {
      "cell_type": "code",
      "metadata": {
        "id": "zQ2IIFOKOlRx",
        "colab_type": "code",
        "colab": {}
      },
      "source": [
        "bins = [0,20,40,60,80,100,120,140,160,180,200]"
      ],
      "execution_count": 0,
      "outputs": []
    },
    {
      "cell_type": "code",
      "metadata": {
        "id": "US4Z6-xoPGk0",
        "colab_type": "code",
        "colab": {
          "base_uri": "https://localhost:8080/",
          "height": 54
        },
        "outputId": "cc8a34ec-2cd7-4dcf-b18f-342bbc801236"
      },
      "source": [
        "np.histogram(sachins_scores,bins)"
      ],
      "execution_count": 21,
      "outputs": [
        {
          "output_type": "execute_result",
          "data": {
            "text/plain": [
              "(array([100,  40,  24,  17,  18,  11,   7,   7,   0,   1]),\n",
              " array([  0,  20,  40,  60,  80, 100, 120, 140, 160, 180, 200]))"
            ]
          },
          "metadata": {
            "tags": []
          },
          "execution_count": 21
        }
      ]
    },
    {
      "cell_type": "markdown",
      "metadata": {
        "id": "zKlk8uUyP8k_",
        "colab_type": "text"
      },
      "source": [
        "#3) Mean of Sachin's Score grouped by 25 matches"
      ]
    },
    {
      "cell_type": "code",
      "metadata": {
        "id": "0eF3Ktq2PsbH",
        "colab_type": "code",
        "colab": {
          "base_uri": "https://localhost:8080/",
          "height": 217
        },
        "outputId": "ae31826f-20a9-44fa-af1c-c4ca4b4c176c"
      },
      "source": [
        "%%time\n",
        "i = 0\n",
        "while i < 225:\n",
        "    print(np.mean(sachins_scores[i:i+25]))\n",
        "    i = i + 25"
      ],
      "execution_count": 29,
      "outputs": [
        {
          "output_type": "stream",
          "text": [
            "33.96\n",
            "49.4\n",
            "38.48\n",
            "40.16\n",
            "39.36\n",
            "38.2\n",
            "44.6\n",
            "39.52\n",
            "35.2\n",
            "CPU times: user 2.34 ms, sys: 898 µs, total: 3.24 ms\n",
            "Wall time: 2.49 ms\n"
          ],
          "name": "stdout"
        }
      ]
    },
    {
      "cell_type": "markdown",
      "metadata": {
        "id": "425_v6_6RIsS",
        "colab_type": "text"
      },
      "source": [
        "#4) Mean of Sachin's Score when he scores a century"
      ]
    },
    {
      "cell_type": "code",
      "metadata": {
        "id": "F6IqrGqaQ1ax",
        "colab_type": "code",
        "colab": {
          "base_uri": "https://localhost:8080/",
          "height": 72
        },
        "outputId": "08a789f2-ee76-4a37-cd6d-572c923e4587"
      },
      "source": [
        "%%time\n",
        "century_plus_scores = sachins_scores[sachins_scores >= 100]\n",
        "print(\"Mean of Century Plus Score\",np.mean(century_plus_scores))"
      ],
      "execution_count": 32,
      "outputs": [
        {
          "output_type": "stream",
          "text": [
            "Mean of Century Plus Score 125.0\n",
            "CPU times: user 612 µs, sys: 67 µs, total: 679 µs\n",
            "Wall time: 517 µs\n"
          ],
          "name": "stdout"
        }
      ]
    },
    {
      "cell_type": "markdown",
      "metadata": {
        "id": "pBz364RjTtuC",
        "colab_type": "text"
      },
      "source": [
        "#5) Find the mean of Sachin's Score when rahul scores less than 10"
      ]
    },
    {
      "cell_type": "code",
      "metadata": {
        "id": "Hf6vi3YbRW_9",
        "colab_type": "code",
        "colab": {
          "base_uri": "https://localhost:8080/",
          "height": 72
        },
        "outputId": "2a142d79-21d7-4873-c9e6-47a89b2a2a24"
      },
      "source": [
        "%%time\n",
        "sachin_new_scores = sachins_scores[rahuls_score < 10]\n",
        "print(\"Mean of Less than 10 Score \", np.mean(sachin_new_scores))"
      ],
      "execution_count": 36,
      "outputs": [
        {
          "output_type": "stream",
          "text": [
            "Mean of Less than 10 Score  40.74285714285714\n",
            "CPU times: user 1.03 ms, sys: 845 µs, total: 1.87 ms\n",
            "Wall time: 1.74 ms\n"
          ],
          "name": "stdout"
        }
      ]
    },
    {
      "cell_type": "markdown",
      "metadata": {
        "id": "8NHQW3vhU0Ua",
        "colab_type": "text"
      },
      "source": [
        "#6) Find the mean of Sachin's Score based on India's Quartile Score"
      ]
    },
    {
      "cell_type": "code",
      "metadata": {
        "id": "mXekdxhPULdJ",
        "colab_type": "code",
        "colab": {
          "base_uri": "https://localhost:8080/",
          "height": 145
        },
        "outputId": "44c57d45-0a0d-4886-a2e7-5cef20435ea1"
      },
      "source": [
        "%%time\n",
        "quartiles_india = np.percentile(indias_score,[25,50,75,100])\n",
        "sachins_q1 = sachins_scores[indias_score < quartiles_india[0]]\n",
        "sachins_q2 = sachins_scores[indias_score < quartiles_india[1]]\n",
        "sachins_q3 = sachins_scores[indias_score < quartiles_india[2]]\n",
        "sachins_q4 = sachins_scores[indias_score < quartiles_india[3]]\n",
        "print(quartiles_india)\n",
        "print(\"Quater_1 mean Score\",np.mean(sachins_q1))\n",
        "print(\"Quater_2 mean Score\",np.mean(sachins_q2))\n",
        "print(\"Quater_3 mean Score\",np.mean(sachins_q3))\n",
        "print(\"Quater_4 mean Score\",np.mean(sachins_q4))"
      ],
      "execution_count": 43,
      "outputs": [
        {
          "output_type": "stream",
          "text": [
            "[175. 216. 273. 499.]\n",
            "Quater_1 mean Score 19.672727272727272\n",
            "Quater_2 mean Score 28.18018018018018\n",
            "Quater_3 mean Score 31.688622754491018\n",
            "Quater_4 mean Score 39.799107142857146\n",
            "CPU times: user 1.78 ms, sys: 1.99 ms, total: 3.77 ms\n",
            "Wall time: 2.9 ms\n"
          ],
          "name": "stdout"
        }
      ]
    },
    {
      "cell_type": "markdown",
      "metadata": {
        "id": "33FMI7qsWvv2",
        "colab_type": "text"
      },
      "source": [
        "#7) For every Match find who scored more Sachin or Rahul"
      ]
    },
    {
      "cell_type": "code",
      "metadata": {
        "id": "K30qxyN6VJoK",
        "colab_type": "code",
        "colab": {
          "base_uri": "https://localhost:8080/",
          "height": 90
        },
        "outputId": "2c480b1f-84fb-4fd7-deee-fa668cd7188b"
      },
      "source": [
        "%%time\n",
        "matches_sachin_more = indias_score[scores_data[:,0] > scores_data[:,1]]\n",
        "matches_rahul_more  = indias_score[scores_data[:,1] > scores_data[:,0]]\n",
        "print(\"Matches where Sachin Scored More, \" ,np.count_nonzero(matches_sachin_more))\n",
        "print(\"Matches where Rahul Scored More, \", np.count_nonzero(matches_rahul_more))"
      ],
      "execution_count": 51,
      "outputs": [
        {
          "output_type": "stream",
          "text": [
            "Matches where Sachin Scored More,  111\n",
            "Matches where Rahul Scored More,  106\n",
            "CPU times: user 818 µs, sys: 0 ns, total: 818 µs\n",
            "Wall time: 825 µs\n"
          ],
          "name": "stdout"
        }
      ]
    },
    {
      "cell_type": "markdown",
      "metadata": {
        "id": "o7r78SguZPcL",
        "colab_type": "text"
      },
      "source": [
        "#8) How many more runs does Sachin Score on an average after scoring x runs?"
      ]
    },
    {
      "cell_type": "code",
      "metadata": {
        "id": "-o4CtQAEYmxH",
        "colab_type": "code",
        "colab": {}
      },
      "source": [
        "def average_after_x(x_score):\n",
        "    scores = sachins_scores[sachins_scores >= x_score]\n",
        "    scores = scores - x_score\n",
        "    print(\"After Scoring \",x_score,\" runs on an average he scores, \",np.mean(scores),\" more runs.\")"
      ],
      "execution_count": 0,
      "outputs": []
    },
    {
      "cell_type": "code",
      "metadata": {
        "id": "RYUUCAJFZxxF",
        "colab_type": "code",
        "colab": {
          "base_uri": "https://localhost:8080/",
          "height": 126
        },
        "outputId": "634fad7e-d314-4ee4-b620-f782fcda0bac"
      },
      "source": [
        "%%time\n",
        "average_after_x(0)\n",
        "average_after_x(5)\n",
        "average_after_x(40)\n",
        "average_after_x(60)"
      ],
      "execution_count": 65,
      "outputs": [
        {
          "output_type": "stream",
          "text": [
            "After Scoring  0  runs on an average he scores,  39.87555555555556  more runs\n",
            "After Scoring  5  runs on an average he scores,  45.61363636363637  more runs\n",
            "After Scoring  40  runs on an average he scores,  44.05882352941177  more runs\n",
            "After Scoring  60  runs on an average he scores,  38.67213114754098  more runs\n",
            "CPU times: user 4.1 ms, sys: 0 ns, total: 4.1 ms\n",
            "Wall time: 4.79 ms\n"
          ],
          "name": "stdout"
        }
      ]
    },
    {
      "cell_type": "code",
      "metadata": {
        "id": "VJQaYlFzZ362",
        "colab_type": "code",
        "colab": {}
      },
      "source": [
        ""
      ],
      "execution_count": 0,
      "outputs": []
    }
  ]
}
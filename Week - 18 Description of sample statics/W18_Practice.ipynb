{
  "nbformat": 4,
  "nbformat_minor": 0,
  "metadata": {
    "colab": {
      "name": "W18-Practice.ipynb",
      "provenance": [],
      "collapsed_sections": [],
      "authorship_tag": "ABX9TyMdWt95gflvXnLBGwB6nt4+",
      "include_colab_link": true
    },
    "kernelspec": {
      "name": "python3",
      "display_name": "Python 3"
    }
  },
  "cells": [
    {
      "cell_type": "markdown",
      "metadata": {
        "id": "view-in-github",
        "colab_type": "text"
      },
      "source": [
        "<a href=\"https://colab.research.google.com/github/ShrayankM/Foundations-OF-DataScience-Assignments/blob/master/Week%20-%2018%20Description%20of%20sample%20statics/W18_Practice.ipynb\" target=\"_parent\"><img src=\"https://colab.research.google.com/assets/colab-badge.svg\" alt=\"Open In Colab\"/></a>"
      ]
    },
    {
      "cell_type": "code",
      "metadata": {
        "id": "h_R3tlGi2rWv",
        "colab_type": "code",
        "colab": {}
      },
      "source": [
        "import numpy as np\n",
        "import pandas as pd\n",
        "import math"
      ],
      "execution_count": 107,
      "outputs": []
    },
    {
      "cell_type": "markdown",
      "metadata": {
        "id": "-rmwnNIDCi6V",
        "colab_type": "text"
      },
      "source": [
        "#Computing $E(\\bar{X})$ given $\\mu$ and $\\sigma$\n",
        "### n - sample size, k - no. of samples\n",
        "### var - variance, std - standard deviation\n",
        "\n",
        "### $E(\\bar{X})$ = $\\mu$"
      ]
    },
    {
      "cell_type": "code",
      "metadata": {
        "id": "LXsmV3wr2znE",
        "colab_type": "code",
        "colab": {}
      },
      "source": [
        "p_MU = np.mean([x for x in range(1, 21)])"
      ],
      "execution_count": 76,
      "outputs": []
    },
    {
      "cell_type": "code",
      "metadata": {
        "id": "sv7NtRNx3EfJ",
        "colab_type": "code",
        "colab": {
          "base_uri": "https://localhost:8080/",
          "height": 35
        },
        "outputId": "defba90c-926a-42d3-dee1-3361cbd647a8"
      },
      "source": [
        "p_MU"
      ],
      "execution_count": 77,
      "outputs": [
        {
          "output_type": "execute_result",
          "data": {
            "text/plain": [
              "10.5"
            ]
          },
          "metadata": {
            "tags": []
          },
          "execution_count": 77
        }
      ]
    },
    {
      "cell_type": "code",
      "metadata": {
        "id": "w8DYp9d83dMo",
        "colab_type": "code",
        "colab": {}
      },
      "source": [
        "samples_MU = [[np.random.randint(1, 21) for x in range(0, 5)] for y in range(1, 1000)]"
      ],
      "execution_count": 78,
      "outputs": []
    },
    {
      "cell_type": "code",
      "metadata": {
        "id": "4cUu13sw4epC",
        "colab_type": "code",
        "colab": {
          "base_uri": "https://localhost:8080/",
          "height": 35
        },
        "outputId": "f2db2f17-e748-4822-debf-694b64b4bd63"
      },
      "source": [
        "len(samples_MU)"
      ],
      "execution_count": 79,
      "outputs": [
        {
          "output_type": "execute_result",
          "data": {
            "text/plain": [
              "999"
            ]
          },
          "metadata": {
            "tags": []
          },
          "execution_count": 79
        }
      ]
    },
    {
      "cell_type": "code",
      "metadata": {
        "id": "Js4EyAXl3yr-",
        "colab_type": "code",
        "colab": {}
      },
      "source": [
        "E_MU = np.mean([np.mean(samples_MU[i]) for i in range(len(samples_MU))])"
      ],
      "execution_count": 80,
      "outputs": []
    },
    {
      "cell_type": "code",
      "metadata": {
        "id": "apTdr5YM4AQP",
        "colab_type": "code",
        "colab": {
          "base_uri": "https://localhost:8080/",
          "height": 35
        },
        "outputId": "7dd543a6-69ce-4e52-9c2d-a98d8d23dcd8"
      },
      "source": [
        "E_MU"
      ],
      "execution_count": 81,
      "outputs": [
        {
          "output_type": "execute_result",
          "data": {
            "text/plain": [
              "10.5001001001001"
            ]
          },
          "metadata": {
            "tags": []
          },
          "execution_count": 81
        }
      ]
    },
    {
      "cell_type": "markdown",
      "metadata": {
        "id": "KFEBOMjm-7zK",
        "colab_type": "text"
      },
      "source": [
        "#Computing $var(\\bar{X})$ given $\\mu$ and $\\sigma$\n",
        "### n - sample size, k - no. of samples\n",
        "### var - variance, std - standard deviation\n",
        "\n",
        "### $var(\\bar{X}) = \\frac{\\sigma^2}{n}$\n",
        "### $std(\\bar{X}) = \\frac{\\sigma}{\\sqrt{n}}$"
      ]
    },
    {
      "cell_type": "code",
      "metadata": {
        "id": "acKqxMzl-kyZ",
        "colab_type": "code",
        "colab": {}
      },
      "source": [
        "p_VA = np.var([x for x in range(1, 21)])\n",
        "p_SD = np.std([x for x in range(1, 21)])"
      ],
      "execution_count": 111,
      "outputs": []
    },
    {
      "cell_type": "code",
      "metadata": {
        "id": "qScV1nC--tDJ",
        "colab_type": "code",
        "colab": {}
      },
      "source": [
        "n = 5 \n",
        "k = 1000"
      ],
      "execution_count": 112,
      "outputs": []
    },
    {
      "cell_type": "code",
      "metadata": {
        "id": "V00kMPRk-mwq",
        "colab_type": "code",
        "colab": {
          "base_uri": "https://localhost:8080/",
          "height": 35
        },
        "outputId": "15f140cd-8fca-40d2-931b-9602cf12fadf"
      },
      "source": [
        "p_VA/n"
      ],
      "execution_count": 113,
      "outputs": [
        {
          "output_type": "execute_result",
          "data": {
            "text/plain": [
              "6.65"
            ]
          },
          "metadata": {
            "tags": []
          },
          "execution_count": 113
        }
      ]
    },
    {
      "cell_type": "code",
      "metadata": {
        "id": "Ud6GhDBbCNso",
        "colab_type": "code",
        "colab": {
          "base_uri": "https://localhost:8080/",
          "height": 35
        },
        "outputId": "d6ea7461-47bf-4350-c766-03cb78417d3e"
      },
      "source": [
        "p_SD/math.sqrt(n)"
      ],
      "execution_count": 114,
      "outputs": [
        {
          "output_type": "execute_result",
          "data": {
            "text/plain": [
              "2.5787593916455256"
            ]
          },
          "metadata": {
            "tags": []
          },
          "execution_count": 114
        }
      ]
    },
    {
      "cell_type": "code",
      "metadata": {
        "id": "_jzc16AW-CCz",
        "colab_type": "code",
        "colab": {}
      },
      "source": [
        "samples_MU = [[np.random.randint(1, 21) for x in range(0, n)] for y in range(1, k + 1)]"
      ],
      "execution_count": 115,
      "outputs": []
    },
    {
      "cell_type": "code",
      "metadata": {
        "id": "0qjUS7M1-Ae3",
        "colab_type": "code",
        "colab": {}
      },
      "source": [
        "V_MU = np.var([np.mean(samples_MU[i]) for i in range(len(samples_MU))])\n",
        "S_MU = np.std([np.mean(samples_MU[i]) for i in range(len(samples_MU))])"
      ],
      "execution_count": 116,
      "outputs": []
    },
    {
      "cell_type": "code",
      "metadata": {
        "id": "IA2HRA4g4oWH",
        "colab_type": "code",
        "colab": {
          "base_uri": "https://localhost:8080/",
          "height": 35
        },
        "outputId": "fca9afa3-d6ad-42c4-8087-39f8c9180109"
      },
      "source": [
        "V_MU"
      ],
      "execution_count": 117,
      "outputs": [
        {
          "output_type": "execute_result",
          "data": {
            "text/plain": [
              "6.262519"
            ]
          },
          "metadata": {
            "tags": []
          },
          "execution_count": 117
        }
      ]
    },
    {
      "cell_type": "code",
      "metadata": {
        "id": "94YmnRVq6lBw",
        "colab_type": "code",
        "colab": {
          "base_uri": "https://localhost:8080/",
          "height": 35
        },
        "outputId": "1aa359ee-64da-4839-f55c-f997bf917c5a"
      },
      "source": [
        "S_MU"
      ],
      "execution_count": 118,
      "outputs": [
        {
          "output_type": "execute_result",
          "data": {
            "text/plain": [
              "2.502502547451251"
            ]
          },
          "metadata": {
            "tags": []
          },
          "execution_count": 118
        }
      ]
    },
    {
      "cell_type": "code",
      "metadata": {
        "id": "CAooS9ZBCYeD",
        "colab_type": "code",
        "colab": {}
      },
      "source": [
        ""
      ],
      "execution_count": null,
      "outputs": []
    }
  ]
}
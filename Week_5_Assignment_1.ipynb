{
  "nbformat": 4,
  "nbformat_minor": 0,
  "metadata": {
    "colab": {
      "name": "Week_5_Assignment_1.ipynb",
      "provenance": [],
      "collapsed_sections": [],
      "authorship_tag": "ABX9TyNbno9KsWXqVCzSpWyKKI2V",
      "include_colab_link": true
    },
    "kernelspec": {
      "name": "python3",
      "display_name": "Python 3"
    }
  },
  "cells": [
    {
      "cell_type": "markdown",
      "metadata": {
        "id": "view-in-github",
        "colab_type": "text"
      },
      "source": [
        "<a href=\"https://colab.research.google.com/github/ShrayankM/FoundationsOFDataScience/blob/master/Week_5_Assignment_1.ipynb\" target=\"_parent\"><img src=\"https://colab.research.google.com/assets/colab-badge.svg\" alt=\"Open In Colab\"/></a>"
      ]
    },
    {
      "cell_type": "code",
      "metadata": {
        "id": "xEzXB_-uuzIl",
        "colab_type": "code",
        "colab": {}
      },
      "source": [
        "A = [\n",
        "     [1,1],\n",
        "     [1,0]\n",
        "]"
      ],
      "execution_count": 0,
      "outputs": []
    },
    {
      "cell_type": "code",
      "metadata": {
        "id": "WjLU5GwQJuqU",
        "colab_type": "code",
        "colab": {}
      },
      "source": [
        "def square_matrix_func(A,n):\n",
        "    temp =[item[:] for item in A]\n",
        "    for x in range(n-1):\n",
        "        c = [[0,0],[0,0]]\n",
        "        for i in range(len(A[0])):\n",
        "            for j in range(len(A[0])):\n",
        "                for k in range(len(A[0])):\n",
        "                    c[i][j] = c[i][j] + A[i][k] * temp[k][j]\n",
        "        A = [item[:] for item in c]\n",
        "    return A\n"
      ],
      "execution_count": 0,
      "outputs": []
    },
    {
      "cell_type": "code",
      "metadata": {
        "id": "FJEfTR2zLEIG",
        "colab_type": "code",
        "outputId": "dd7ee5b4-90f9-4c79-ef9e-dcd69bc818cc",
        "colab": {
          "base_uri": "https://localhost:8080/",
          "height": 35
        }
      },
      "source": [
        "square_matrix_func(A,1)"
      ],
      "execution_count": 14,
      "outputs": [
        {
          "output_type": "execute_result",
          "data": {
            "text/plain": [
              "[[1, 1], [1, 0]]"
            ]
          },
          "metadata": {
            "tags": []
          },
          "execution_count": 14
        }
      ]
    },
    {
      "cell_type": "code",
      "metadata": {
        "id": "LSSJUoA_LRDK",
        "colab_type": "code",
        "colab": {
          "base_uri": "https://localhost:8080/",
          "height": 199
        },
        "outputId": "a48c3eb5-57fd-4f33-967d-238716a9530a"
      },
      "source": [
        "for i in range(10):\n",
        "    output = square_matrix_func(A,i)\n",
        "    print(i,output[0][0])"
      ],
      "execution_count": 16,
      "outputs": [
        {
          "output_type": "stream",
          "text": [
            "0 1\n",
            "1 1\n",
            "2 2\n",
            "3 3\n",
            "4 5\n",
            "5 8\n",
            "6 13\n",
            "7 21\n",
            "8 34\n",
            "9 55\n"
          ],
          "name": "stdout"
        }
      ]
    },
    {
      "cell_type": "code",
      "metadata": {
        "id": "oYx5imytvZxy",
        "colab_type": "code",
        "colab": {}
      },
      "source": [
        ""
      ],
      "execution_count": 0,
      "outputs": []
    }
  ]
}
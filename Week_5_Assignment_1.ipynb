{
  "nbformat": 4,
  "nbformat_minor": 0,
  "metadata": {
    "colab": {
      "name": "Week_5_Assignment_1.ipynb",
      "provenance": [],
      "collapsed_sections": [],
      "authorship_tag": "ABX9TyNSdFbrZa1rGwR/uA+CbpV+",
      "include_colab_link": true
    },
    "kernelspec": {
      "name": "python3",
      "display_name": "Python 3"
    }
  },
  "cells": [
    {
      "cell_type": "markdown",
      "metadata": {
        "id": "view-in-github",
        "colab_type": "text"
      },
      "source": [
        "<a href=\"https://colab.research.google.com/github/ShrayankM/FoundationsOFDataScience/blob/master/Week_5_Assignment_1.ipynb\" target=\"_parent\"><img src=\"https://colab.research.google.com/assets/colab-badge.svg\" alt=\"Open In Colab\"/></a>"
      ]
    },
    {
      "cell_type": "code",
      "metadata": {
        "id": "YlT6FiBXJrOf",
        "colab_type": "code",
        "colab": {}
      },
      "source": [
        "square_matrix = [\n",
        "                 [1,2],\n",
        "                 [3,4]\n",
        "]"
      ],
      "execution_count": 0,
      "outputs": []
    },
    {
      "cell_type": "code",
      "metadata": {
        "id": "XmG0fLuCKQXm",
        "colab_type": "code",
        "colab": {}
      },
      "source": [
        "zero_matrix = []\n",
        "for i in range(len(square_matrix[0])):\n",
        "    zero_matrix.append([])\n",
        "    for j in range(len(square_matrix[0])):\n",
        "        zero_matrix[i].append(0)"
      ],
      "execution_count": 0,
      "outputs": []
    },
    {
      "cell_type": "code",
      "metadata": {
        "id": "XPXp8h42KLol",
        "colab_type": "code",
        "colab": {
          "base_uri": "https://localhost:8080/",
          "height": 34
        },
        "outputId": "de78bfd0-75cc-47c0-bd90-8c141fba11f8"
      },
      "source": [
        "print(zero_matrix)"
      ],
      "execution_count": 109,
      "outputs": [
        {
          "output_type": "stream",
          "text": [
            "[[0, 0], [0, 0]]\n"
          ],
          "name": "stdout"
        }
      ]
    },
    {
      "cell_type": "code",
      "metadata": {
        "id": "WjLU5GwQJuqU",
        "colab_type": "code",
        "colab": {}
      },
      "source": [
        "def square_matrix_func(A,n):\n",
        "    for x in range(n):\n",
        "        zero_matrix = []\n",
        "        for i in range(len(A[0])):\n",
        "            zero_matrix.append([])\n",
        "            for j in range(len(A[0])):\n",
        "                zero_matrix[i].append(0)\n",
        "        \"\"\"Multiply\"\"\"\n",
        "        if x == 0:\n",
        "            output = [item[:] for item in A]\n",
        "        for i in range(len(A[0])):\n",
        "            for j in range(len(A[0])):\n",
        "                for k in range(len(A[0])):\n",
        "                    zero_matrix[i][j] = zero_matrix[i][j] + output[i][k] * A[k][j]\n",
        "        output = [item[:] for item in zero_matrix]\n",
        "    return output\n"
      ],
      "execution_count": 0,
      "outputs": []
    },
    {
      "cell_type": "code",
      "metadata": {
        "id": "FJEfTR2zLEIG",
        "colab_type": "code",
        "colab": {
          "base_uri": "https://localhost:8080/",
          "height": 34
        },
        "outputId": "e8e536a6-b36a-49ba-a391-e5af10f9f113"
      },
      "source": [
        "square_matrix_func(square_matrix,2)"
      ],
      "execution_count": 124,
      "outputs": [
        {
          "output_type": "execute_result",
          "data": {
            "text/plain": [
              "[[37, 54], [81, 118]]"
            ]
          },
          "metadata": {
            "tags": []
          },
          "execution_count": 124
        }
      ]
    },
    {
      "cell_type": "code",
      "metadata": {
        "id": "LSSJUoA_LRDK",
        "colab_type": "code",
        "colab": {}
      },
      "source": [
        ""
      ],
      "execution_count": 0,
      "outputs": []
    }
  ]
}
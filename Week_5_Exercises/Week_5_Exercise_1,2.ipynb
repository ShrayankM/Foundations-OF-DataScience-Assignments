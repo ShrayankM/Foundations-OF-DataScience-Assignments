{
  "nbformat": 4,
  "nbformat_minor": 0,
  "metadata": {
    "colab": {
      "name": "Week_5_Exercise_1,2.ipynb",
      "provenance": []
    },
    "kernelspec": {
      "name": "python3",
      "display_name": "Python 3"
    }
  },
  "cells": [
    {
      "cell_type": "markdown",
      "metadata": {
        "id": "ySMLXOHi8sRI",
        "colab_type": "text"
      },
      "source": [
        "#Exercise 1"
      ]
    },
    {
      "cell_type": "markdown",
      "metadata": {
        "id": "fxhML1C-sg0A",
        "colab_type": "text"
      },
      "source": [
        "**Statement 1**"
      ]
    },
    {
      "cell_type": "code",
      "metadata": {
        "id": "LjXkQVryrkvn",
        "colab_type": "code",
        "colab": {}
      },
      "source": [
        "new_list = list()\n",
        "for i in range(-6,7):\n",
        "    for j in range(-6,7):\n",
        "        new_t = (i,j)\n",
        "        new_list.append(new_t)"
      ],
      "execution_count": 0,
      "outputs": []
    },
    {
      "cell_type": "code",
      "metadata": {
        "id": "q4SK6GuPsaaA",
        "colab_type": "code",
        "outputId": "6405c3ca-9896-4bda-f33b-f2962a211f27",
        "colab": {
          "base_uri": "https://localhost:8080/",
          "height": 55
        }
      },
      "source": [
        "print(new_list)"
      ],
      "execution_count": 0,
      "outputs": [
        {
          "output_type": "stream",
          "text": [
            "[(-6, -6), (-6, -5), (-6, -4), (-6, -3), (-6, -2), (-6, -1), (-6, 0), (-6, 1), (-6, 2), (-6, 3), (-6, 4), (-6, 5), (-6, 6), (-5, -6), (-5, -5), (-5, -4), (-5, -3), (-5, -2), (-5, -1), (-5, 0), (-5, 1), (-5, 2), (-5, 3), (-5, 4), (-5, 5), (-5, 6), (-4, -6), (-4, -5), (-4, -4), (-4, -3), (-4, -2), (-4, -1), (-4, 0), (-4, 1), (-4, 2), (-4, 3), (-4, 4), (-4, 5), (-4, 6), (-3, -6), (-3, -5), (-3, -4), (-3, -3), (-3, -2), (-3, -1), (-3, 0), (-3, 1), (-3, 2), (-3, 3), (-3, 4), (-3, 5), (-3, 6), (-2, -6), (-2, -5), (-2, -4), (-2, -3), (-2, -2), (-2, -1), (-2, 0), (-2, 1), (-2, 2), (-2, 3), (-2, 4), (-2, 5), (-2, 6), (-1, -6), (-1, -5), (-1, -4), (-1, -3), (-1, -2), (-1, -1), (-1, 0), (-1, 1), (-1, 2), (-1, 3), (-1, 4), (-1, 5), (-1, 6), (0, -6), (0, -5), (0, -4), (0, -3), (0, -2), (0, -1), (0, 0), (0, 1), (0, 2), (0, 3), (0, 4), (0, 5), (0, 6), (1, -6), (1, -5), (1, -4), (1, -3), (1, -2), (1, -1), (1, 0), (1, 1), (1, 2), (1, 3), (1, 4), (1, 5), (1, 6), (2, -6), (2, -5), (2, -4), (2, -3), (2, -2), (2, -1), (2, 0), (2, 1), (2, 2), (2, 3), (2, 4), (2, 5), (2, 6), (3, -6), (3, -5), (3, -4), (3, -3), (3, -2), (3, -1), (3, 0), (3, 1), (3, 2), (3, 3), (3, 4), (3, 5), (3, 6), (4, -6), (4, -5), (4, -4), (4, -3), (4, -2), (4, -1), (4, 0), (4, 1), (4, 2), (4, 3), (4, 4), (4, 5), (4, 6), (5, -6), (5, -5), (5, -4), (5, -3), (5, -2), (5, -1), (5, 0), (5, 1), (5, 2), (5, 3), (5, 4), (5, 5), (5, 6), (6, -6), (6, -5), (6, -4), (6, -3), (6, -2), (6, -1), (6, 0), (6, 1), (6, 2), (6, 3), (6, 4), (6, 5), (6, 6)]\n"
          ],
          "name": "stdout"
        }
      ]
    },
    {
      "cell_type": "code",
      "metadata": {
        "id": "bEqczruws1pZ",
        "colab_type": "code",
        "colab": {}
      },
      "source": [
        "r = 6\n",
        "ordered_pairs = []\n",
        "for pair in new_list:\n",
        "    value = (pair[0] * pair[0]) + (pair[1] * pair[1])\n",
        "    if value == (r * r):\n",
        "        ordered_pairs.append(pair)"
      ],
      "execution_count": 0,
      "outputs": []
    },
    {
      "cell_type": "code",
      "metadata": {
        "id": "_ec6LMw5tbUk",
        "colab_type": "code",
        "outputId": "8c6a42c6-fc91-4d14-8cde-edb37cb0fe9a",
        "colab": {
          "base_uri": "https://localhost:8080/",
          "height": 35
        }
      },
      "source": [
        "print(ordered_pairs)"
      ],
      "execution_count": 0,
      "outputs": [
        {
          "output_type": "stream",
          "text": [
            "[(-6, 0), (0, -6), (0, 6), (6, 0)]\n"
          ],
          "name": "stdout"
        }
      ]
    },
    {
      "cell_type": "markdown",
      "metadata": {
        "id": "lGdWr0eJ4rny",
        "colab_type": "text"
      },
      "source": [
        "**Statement 2**"
      ]
    },
    {
      "cell_type": "code",
      "metadata": {
        "id": "KSaVEKsB36hW",
        "colab_type": "code",
        "colab": {}
      },
      "source": [
        "data = [('Sumit', 183), ('Rahul', 175), ('Kritika', 170), ('Harshit', 177), ('Deepak', 162)]"
      ],
      "execution_count": 0,
      "outputs": []
    },
    {
      "cell_type": "code",
      "metadata": {
        "id": "8sTnMBUC4wI2",
        "colab_type": "code",
        "colab": {}
      },
      "source": [
        "student_info = dict()\n",
        "for data_item in data:\n",
        "    student_info[data_item[0]] = data_item[1]"
      ],
      "execution_count": 0,
      "outputs": []
    },
    {
      "cell_type": "code",
      "metadata": {
        "id": "_pOHQ4VT4-Qg",
        "colab_type": "code",
        "outputId": "86efdfd4-63e3-462f-efac-85d2c9a30776",
        "colab": {
          "base_uri": "https://localhost:8080/",
          "height": 35
        }
      },
      "source": [
        "print(student_info)"
      ],
      "execution_count": 0,
      "outputs": [
        {
          "output_type": "stream",
          "text": [
            "{'Sumit': 183, 'Rahul': 175, 'Kritika': 170, 'Harshit': 177, 'Deepak': 162}\n"
          ],
          "name": "stdout"
        }
      ]
    },
    {
      "cell_type": "markdown",
      "metadata": {
        "id": "b_LNhM5Z5JMx",
        "colab_type": "text"
      },
      "source": [
        "**Statement 3**"
      ]
    },
    {
      "cell_type": "code",
      "metadata": {
        "id": "nPCi0J0k4_al",
        "colab_type": "code",
        "colab": {}
      },
      "source": [
        "random_data = [1, 2, 4, 4, 3, 2, 1, 1, 2, 4, 5, 3]\n",
        "unique_set = set(random_data)"
      ],
      "execution_count": 0,
      "outputs": []
    },
    {
      "cell_type": "code",
      "metadata": {
        "id": "DMxO8Tle5W4K",
        "colab_type": "code",
        "outputId": "7756cb1d-d4f6-4c83-fbda-d60946964710",
        "colab": {
          "base_uri": "https://localhost:8080/",
          "height": 35
        }
      },
      "source": [
        "unique_set"
      ],
      "execution_count": 0,
      "outputs": [
        {
          "output_type": "execute_result",
          "data": {
            "text/plain": [
              "{1, 2, 3, 4, 5}"
            ]
          },
          "metadata": {
            "tags": []
          },
          "execution_count": 25
        }
      ]
    },
    {
      "cell_type": "markdown",
      "metadata": {
        "id": "jSw3uz0L5b7o",
        "colab_type": "text"
      },
      "source": [
        "**Statement 4**"
      ]
    },
    {
      "cell_type": "code",
      "metadata": {
        "id": "WqbRRZ2P5YSe",
        "colab_type": "code",
        "colab": {}
      },
      "source": [
        "def generate_dict(n):\n",
        "    no_square = dict()\n",
        "    for i in range(n):\n",
        "        if (i * i) <= n:\n",
        "            no_square[i] = (i*i)\n",
        "    return no_square"
      ],
      "execution_count": 0,
      "outputs": []
    },
    {
      "cell_type": "code",
      "metadata": {
        "id": "V-p-Q9C-6e9z",
        "colab_type": "code",
        "outputId": "7d169cd6-74a9-4c17-a630-3c854e5b8b3c",
        "colab": {
          "base_uri": "https://localhost:8080/",
          "height": 35
        }
      },
      "source": [
        "print(generate_dict(20))"
      ],
      "execution_count": 0,
      "outputs": [
        {
          "output_type": "stream",
          "text": [
            "{0: 0, 1: 1, 2: 4, 3: 9, 4: 16}\n"
          ],
          "name": "stdout"
        }
      ]
    },
    {
      "cell_type": "markdown",
      "metadata": {
        "id": "soiHrUOj6sa1",
        "colab_type": "text"
      },
      "source": [
        "**Statement 5**"
      ]
    },
    {
      "cell_type": "code",
      "metadata": {
        "id": "IZlQfHKn6knI",
        "colab_type": "code",
        "colab": {}
      },
      "source": [
        "input_dict = {'a':1, 'b':2, 'c':1, 'd':1, 'e':2, 'f':3, 'g':4, 'h':3, 'i':4}\n",
        "output_set = set(input_dict.values())"
      ],
      "execution_count": 0,
      "outputs": []
    },
    {
      "cell_type": "code",
      "metadata": {
        "id": "deoRCGNa7Bmq",
        "colab_type": "code",
        "outputId": "dbe349ac-1d17-4f64-f8c0-292858e5b304",
        "colab": {
          "base_uri": "https://localhost:8080/",
          "height": 35
        }
      },
      "source": [
        "output_set"
      ],
      "execution_count": 0,
      "outputs": [
        {
          "output_type": "execute_result",
          "data": {
            "text/plain": [
              "{1, 2, 3, 4}"
            ]
          },
          "metadata": {
            "tags": []
          },
          "execution_count": 32
        }
      ]
    },
    {
      "cell_type": "markdown",
      "metadata": {
        "id": "FrOgDd0U7KTY",
        "colab_type": "text"
      },
      "source": [
        "**Statement 6**"
      ]
    },
    {
      "cell_type": "code",
      "metadata": {
        "id": "vGlzAmTD7D94",
        "colab_type": "code",
        "colab": {}
      },
      "source": [
        "with open(\"poem.txt\") as f:\n",
        "    lines = f.readlines()"
      ],
      "execution_count": 0,
      "outputs": []
    },
    {
      "cell_type": "code",
      "metadata": {
        "id": "Ai8ckZ-D7eqY",
        "colab_type": "code",
        "colab": {}
      },
      "source": [
        "for i in range(len(lines)):\n",
        "    lines[i] = lines[i].replace('\\n','')\n"
      ],
      "execution_count": 0,
      "outputs": []
    },
    {
      "cell_type": "code",
      "metadata": {
        "id": "nyCYr9Br7f4n",
        "colab_type": "code",
        "outputId": "8d21b10d-77dd-444b-9023-606d035609ab",
        "colab": {
          "base_uri": "https://localhost:8080/",
          "height": 55
        }
      },
      "source": [
        "print(lines)"
      ],
      "execution_count": 0,
      "outputs": [
        {
          "output_type": "stream",
          "text": [
            "['Unending Love by Rabindranath Tagore', '', 'I seem to have loved you in numberless forms, numberless times', 'In life after life, in age after age, forever.', 'My spellbound heart has made and remade the necklace of songs,', 'That you take as a gift, wear round your neck in your many forms,', 'In life after life, in age after age, forever.', '', 'Whenever I hear old chronicles of love, its age-old pain,', 'Its ancient tale of being apart or together.', 'As I stare on and on into the past, in the end you emerge,', 'Clad in the light of a pole-star piercing the darkness of time:', 'You become an image of what is remembered forever.', '', 'You and I have floated here on the stream that brings from the fount.', 'At the heart of time, love of one for another.', 'We have played along side millions of lovers, shared in the same', 'Shy sweetness of meeting, the same distressful tears of farewell-', 'Old love but in shapes that renew and renew forever.', '', 'Today it is heaped at your feet, it has found its end in you', 'The love of all man’s days both past and forever:', 'Universal joy, universal sorrow, universal life.', 'The memories of all loves merging with this one love of ours –', 'And the songs of every poet past and forever.']\n"
          ],
          "name": "stdout"
        }
      ]
    },
    {
      "cell_type": "code",
      "metadata": {
        "id": "8S358BBR7vlx",
        "colab_type": "code",
        "colab": {}
      },
      "source": [
        "char_sequence_replace = [',','.','-']\n",
        "for i in range(len(lines)):\n",
        "    for c in char_sequence_replace:\n",
        "        lines[i] = lines[i].replace(c,'')"
      ],
      "execution_count": 0,
      "outputs": []
    },
    {
      "cell_type": "code",
      "metadata": {
        "id": "xmU7UciI71sX",
        "colab_type": "code",
        "outputId": "ebebe892-f835-4830-dbf8-328f2d5c69ad",
        "colab": {
          "base_uri": "https://localhost:8080/",
          "height": 55
        }
      },
      "source": [
        "print(lines)"
      ],
      "execution_count": 0,
      "outputs": [
        {
          "output_type": "stream",
          "text": [
            "['Unending Love by Rabindranath Tagore', '', 'I seem to have loved you in numberless forms numberless times', 'In life after life in age after age forever', 'My spellbound heart has made and remade the necklace of songs', 'That you take as a gift wear round your neck in your many forms', 'In life after life in age after age forever', '', 'Whenever I hear old chronicles of love its ageold pain', 'Its ancient tale of being apart or together', 'As I stare on and on into the past in the end you emerge', 'Clad in the light of a polestar piercing the darkness of time:', 'You become an image of what is remembered forever', '', 'You and I have floated here on the stream that brings from the fount', 'At the heart of time love of one for another', 'We have played along side millions of lovers shared in the same', 'Shy sweetness of meeting the same distressful tears of farewell', 'Old love but in shapes that renew and renew forever', '', 'Today it is heaped at your feet it has found its end in you', 'The love of all man’s days both past and forever:', 'Universal joy universal sorrow universal life', 'The memories of all loves merging with this one love of ours –', 'And the songs of every poet past and forever']\n"
          ],
          "name": "stdout"
        }
      ]
    },
    {
      "cell_type": "code",
      "metadata": {
        "id": "6soUnTr48MdC",
        "colab_type": "code",
        "colab": {}
      },
      "source": [
        "text = \"\"\n",
        "for line in lines:\n",
        "    text += line + \" \""
      ],
      "execution_count": 0,
      "outputs": []
    },
    {
      "cell_type": "code",
      "metadata": {
        "id": "M-qZg5zT8Y_H",
        "colab_type": "code",
        "colab": {}
      },
      "source": [
        "words = text.split(\" \")"
      ],
      "execution_count": 0,
      "outputs": []
    },
    {
      "cell_type": "code",
      "metadata": {
        "id": "_jPYiScj8Z0l",
        "colab_type": "code",
        "outputId": "4b2b06d0-dae7-4fc8-9071-74ce7e24350d",
        "colab": {
          "base_uri": "https://localhost:8080/",
          "height": 35
        }
      },
      "source": [
        "type(words)"
      ],
      "execution_count": 0,
      "outputs": [
        {
          "output_type": "execute_result",
          "data": {
            "text/plain": [
              "list"
            ]
          },
          "metadata": {
            "tags": []
          },
          "execution_count": 47
        }
      ]
    },
    {
      "cell_type": "code",
      "metadata": {
        "id": "4GPira1C8i_1",
        "colab_type": "code",
        "outputId": "5443f7f5-a691-4700-dd92-e0213da3bf98",
        "colab": {
          "base_uri": "https://localhost:8080/",
          "height": 35
        }
      },
      "source": [
        "len(words)"
      ],
      "execution_count": 0,
      "outputs": [
        {
          "output_type": "execute_result",
          "data": {
            "text/plain": [
              "225"
            ]
          },
          "metadata": {
            "tags": []
          },
          "execution_count": 48
        }
      ]
    },
    {
      "cell_type": "markdown",
      "metadata": {
        "id": "k7ucKweA8y2-",
        "colab_type": "text"
      },
      "source": [
        "# Exercise 2"
      ]
    },
    {
      "cell_type": "markdown",
      "metadata": {
        "id": "iUn3mrkr83Mc",
        "colab_type": "text"
      },
      "source": [
        "**Statement 1**"
      ]
    },
    {
      "cell_type": "code",
      "metadata": {
        "id": "QWR1tUVH80_U",
        "colab_type": "code",
        "colab": {}
      },
      "source": [
        ""
      ],
      "execution_count": 0,
      "outputs": []
    },
    {
      "cell_type": "markdown",
      "metadata": {
        "id": "8tpynS1C9lxK",
        "colab_type": "text"
      },
      "source": [
        "**Statement 2**"
      ]
    },
    {
      "cell_type": "code",
      "metadata": {
        "id": "gEBsGnzE-l9S",
        "colab_type": "code",
        "colab": {}
      },
      "source": [
        "import math "
      ],
      "execution_count": 0,
      "outputs": []
    },
    {
      "cell_type": "code",
      "metadata": {
        "id": "tkQY95EK9ngS",
        "colab_type": "code",
        "colab": {}
      },
      "source": [
        "def return_series_values(n,a):\n",
        "    values_list = []\n",
        "    for i in range(0,n+1):\n",
        "        j = 0\n",
        "        data_point = 0\n",
        "        while j <= i:\n",
        "            data_point = data_point + (a ** j)/math.factorial(j)\n",
        "            j = j + 1\n",
        "        values_list.append(data_point)\n",
        "    return values_list"
      ],
      "execution_count": 0,
      "outputs": []
    },
    {
      "cell_type": "code",
      "metadata": {
        "id": "Ys03jY2O-wJn",
        "colab_type": "code",
        "outputId": "d6017be0-85d3-4ead-d1b4-7b46715069fd",
        "colab": {
          "base_uri": "https://localhost:8080/",
          "height": 55
        }
      },
      "source": [
        "print(return_series_values(20,2))"
      ],
      "execution_count": 0,
      "outputs": [
        {
          "output_type": "stream",
          "text": [
            "[1.0, 3.0, 5.0, 6.333333333333333, 7.0, 7.266666666666667, 7.355555555555555, 7.3809523809523805, 7.387301587301587, 7.3887125220458545, 7.388994708994708, 7.389046015712681, 7.3890545668323435, 7.389055882389215, 7.3890560703259105, 7.389056095384136, 7.389056098516415, 7.389056098884918, 7.389056098925863, 7.3890560989301735, 7.389056098930604]\n"
          ],
          "name": "stdout"
        }
      ]
    },
    {
      "cell_type": "markdown",
      "metadata": {
        "id": "K2YOgFiqAK15",
        "colab_type": "text"
      },
      "source": [
        "**Statement 3**"
      ]
    },
    {
      "cell_type": "code",
      "metadata": {
        "id": "Ur8T8DuHBevj",
        "colab_type": "code",
        "colab": {}
      },
      "source": [
        "import numpy as np"
      ],
      "execution_count": 0,
      "outputs": []
    },
    {
      "cell_type": "code",
      "metadata": {
        "id": "2v3kNITi-4Zm",
        "colab_type": "code",
        "colab": {}
      },
      "source": [
        "def create_dict(n):\n",
        "    students_info = list()\n",
        "    for i in range(n):\n",
        "        student_dict = dict()\n",
        "        s_name = 'Student' + str(i)\n",
        "        marks = np.random.randint(1,101,10)\n",
        "        student_dict['Name'] = s_name\n",
        "        student_dict['Marks'] = list(marks)\n",
        "        students_info.append(student_dict)\n",
        "    return students_info"
      ],
      "execution_count": 0,
      "outputs": []
    },
    {
      "cell_type": "code",
      "metadata": {
        "id": "Kd7W--mqBYbq",
        "colab_type": "code",
        "colab": {}
      },
      "source": [
        "student_info = create_dict(5)"
      ],
      "execution_count": 0,
      "outputs": []
    },
    {
      "cell_type": "code",
      "metadata": {
        "id": "o65XClzFB-A7",
        "colab_type": "code",
        "outputId": "2f1bf66f-6386-43be-c44c-6ad99fd4649e",
        "colab": {
          "base_uri": "https://localhost:8080/",
          "height": 55
        }
      },
      "source": [
        "print(student_info)"
      ],
      "execution_count": 75,
      "outputs": [
        {
          "output_type": "stream",
          "text": [
            "[{'Name': 'Student0', 'Marks': [39, 65, 71, 99, 83, 38, 29, 22, 59, 39]}, {'Name': 'Student1', 'Marks': [89, 53, 60, 6, 42, 56, 25, 25, 44, 7]}, {'Name': 'Student2', 'Marks': [2, 17, 65, 29, 6, 56, 84, 68, 40, 30]}, {'Name': 'Student3', 'Marks': [46, 80, 87, 39, 84, 96, 23, 67, 26, 86]}, {'Name': 'Student4', 'Marks': [1, 14, 89, 97, 79, 44, 89, 53, 24, 59]}]\n"
          ],
          "name": "stdout"
        }
      ]
    },
    {
      "cell_type": "code",
      "metadata": {
        "id": "l6cvVnESCBG-",
        "colab_type": "code",
        "colab": {}
      },
      "source": [
        "def operation_dict(student_info):\n",
        "    list_alphas = list()\n",
        "    for student in student_info:\n",
        "        student_marks = student['Marks']\n",
        "        beta = 0.99\n",
        "        alpha = 1\n",
        "        student_alphas = []\n",
        "        for mark in student_marks:\n",
        "            alpha_new = (beta * alpha) + (1 - beta) * mark\n",
        "            student_alphas.append(alpha_new)\n",
        "            alpha = alpha_new\n",
        "        list_alphas.append(student_alphas)\n",
        "    return list_alphas"
      ],
      "execution_count": 0,
      "outputs": []
    },
    {
      "cell_type": "code",
      "metadata": {
        "id": "lT2NqUzIE1oA",
        "colab_type": "code",
        "colab": {}
      },
      "source": [
        "output_alphas = operation_dict(student_info)"
      ],
      "execution_count": 0,
      "outputs": []
    },
    {
      "cell_type": "code",
      "metadata": {
        "id": "Wtfq3wqzE_Eg",
        "colab_type": "code",
        "colab": {
          "base_uri": "https://localhost:8080/",
          "height": 128
        },
        "outputId": "6350f069-566e-4975-defa-bd2f57495510"
      },
      "source": [
        "for item in output_alphas:\n",
        "    print(item)"
      ],
      "execution_count": 83,
      "outputs": [
        {
          "output_type": "stream",
          "text": [
            "[1.3800000000000003, 2.016200000000001, 2.7060380000000013, 3.6689776200000024, 4.462287843800003, 4.797664965362003, 5.039688315708383, 5.2092914325513, 5.747198518225788, 6.07972653304353]\n",
            "[1.8800000000000008, 2.3912000000000013, 2.9672880000000017, 2.9976151200000016, 3.387638968800002, 3.9137625791120025, 4.1246249533208825, 4.333378703787674, 4.730044916749797, 4.7527444675823]\n",
            "[1.01, 1.1699000000000002, 1.8082010000000008, 2.080118990000001, 2.1193178001000006, 2.658124622099001, 3.471543375878012, 4.116827942119232, 4.47565966269804, 4.730903066071059]\n",
            "[1.4500000000000004, 2.235500000000001, 3.083145000000002, 3.4423135500000024, 4.247890414500003, 5.165411510355004, 5.343757395251455, 5.960319821298941, 6.160716623085952, 6.959109456855092]\n",
            "[1.0, 1.1300000000000001, 2.008700000000001, 2.958613000000002, 3.719026870000002, 4.121836601300003, 4.970618235287003, 5.450912052934133, 5.636402932404792, 6.170038903080744]\n"
          ],
          "name": "stdout"
        }
      ]
    },
    {
      "cell_type": "markdown",
      "metadata": {
        "id": "tahRpC_SFxBM",
        "colab_type": "text"
      },
      "source": [
        "**Statement 4**"
      ]
    },
    {
      "cell_type": "code",
      "metadata": {
        "id": "XIj9XV7nGj8j",
        "colab_type": "code",
        "colab": {}
      },
      "source": [
        "import math\n",
        "import sympy"
      ],
      "execution_count": 0,
      "outputs": []
    },
    {
      "cell_type": "code",
      "metadata": {
        "id": "5RTct4bNHQFd",
        "colab_type": "code",
        "colab": {}
      },
      "source": [
        "fibonaaci_numbers = [0,1]\n",
        "n1 , n2 = 0 , 1\n",
        "n3 = 1\n",
        "while n3 <= 100:\n",
        "    n3 = n1 + n2\n",
        "    fibonaaci_numbers.append(n3)\n",
        "    n1 = n2\n",
        "    n2 = n3"
      ],
      "execution_count": 0,
      "outputs": []
    },
    {
      "cell_type": "code",
      "metadata": {
        "id": "3C1M0jxMJ6c_",
        "colab_type": "code",
        "colab": {
          "base_uri": "https://localhost:8080/",
          "height": 35
        },
        "outputId": "eeff3efe-166b-4048-85e1-1d70a576d614"
      },
      "source": [
        "fibonaaci_numbers"
      ],
      "execution_count": 87,
      "outputs": [
        {
          "output_type": "execute_result",
          "data": {
            "text/plain": [
              "[0, 1, 1, 2, 3, 5, 8, 13, 21, 34, 55, 89, 144]"
            ]
          },
          "metadata": {
            "tags": []
          },
          "execution_count": 87
        }
      ]
    },
    {
      "cell_type": "code",
      "metadata": {
        "id": "dwPSC96KFKr2",
        "colab_type": "code",
        "colab": {}
      },
      "source": [
        "def number_type_dict():\n",
        "    number_dict = dict()\n",
        "    for i in range(1,101):\n",
        "        value_list = list()\n",
        "        if sympy.isprime(i):\n",
        "            value_list.append('Prime')\n",
        "        if i in fibonaaci_numbers:\n",
        "            value_list.append('Fibonnaci')\n",
        "        if (math.sqrt(i) - math.floor(math.sqrt(i))) == 0:\n",
        "            value_list.append('Square')\n",
        "        number_dict[i] = value_list\n",
        "    return number_dict"
      ],
      "execution_count": 0,
      "outputs": []
    },
    {
      "cell_type": "code",
      "metadata": {
        "id": "W2WRbKO3KiSu",
        "colab_type": "code",
        "colab": {
          "base_uri": "https://localhost:8080/",
          "height": 54
        },
        "outputId": "68fc767b-a940-4899-9514-fa7a21b32a98"
      },
      "source": [
        "%%time\n",
        "number_dict = number_type_dict()"
      ],
      "execution_count": 106,
      "outputs": [
        {
          "output_type": "stream",
          "text": [
            "CPU times: user 1.81 ms, sys: 0 ns, total: 1.81 ms\n",
            "Wall time: 1.39 ms\n"
          ],
          "name": "stdout"
        }
      ]
    },
    {
      "cell_type": "code",
      "metadata": {
        "id": "hvGIynuYK7oM",
        "colab_type": "code",
        "colab": {
          "base_uri": "https://localhost:8080/",
          "height": 55
        },
        "outputId": "c08200a9-a24b-4fef-a444-13c5195cabc4"
      },
      "source": [
        "print(number_dict)"
      ],
      "execution_count": 107,
      "outputs": [
        {
          "output_type": "stream",
          "text": [
            "{1: ['Fibonnaci', 'Square'], 2: ['Prime', 'Fibonnaci'], 3: ['Prime', 'Fibonnaci'], 4: ['Square'], 5: ['Prime', 'Fibonnaci'], 6: [], 7: ['Prime'], 8: ['Fibonnaci'], 9: ['Square'], 10: [], 11: ['Prime'], 12: [], 13: ['Prime', 'Fibonnaci'], 14: [], 15: [], 16: ['Square'], 17: ['Prime'], 18: [], 19: ['Prime'], 20: [], 21: ['Fibonnaci'], 22: [], 23: ['Prime'], 24: [], 25: ['Square'], 26: [], 27: [], 28: [], 29: ['Prime'], 30: [], 31: ['Prime'], 32: [], 33: [], 34: ['Fibonnaci'], 35: [], 36: ['Square'], 37: ['Prime'], 38: [], 39: [], 40: [], 41: ['Prime'], 42: [], 43: ['Prime'], 44: [], 45: [], 46: [], 47: ['Prime'], 48: [], 49: ['Square'], 50: [], 51: [], 52: [], 53: ['Prime'], 54: [], 55: ['Fibonnaci'], 56: [], 57: [], 58: [], 59: ['Prime'], 60: [], 61: ['Prime'], 62: [], 63: [], 64: ['Square'], 65: [], 66: [], 67: ['Prime'], 68: [], 69: [], 70: [], 71: ['Prime'], 72: [], 73: ['Prime'], 74: [], 75: [], 76: [], 77: [], 78: [], 79: ['Prime'], 80: [], 81: ['Square'], 82: [], 83: ['Prime'], 84: [], 85: [], 86: [], 87: [], 88: [], 89: ['Prime', 'Fibonnaci'], 90: [], 91: [], 92: [], 93: [], 94: [], 95: [], 96: [], 97: ['Prime'], 98: [], 99: [], 100: ['Square']}\n"
          ],
          "name": "stdout"
        }
      ]
    },
    {
      "cell_type": "code",
      "metadata": {
        "id": "FWtxUALiK9X1",
        "colab_type": "code",
        "colab": {}
      },
      "source": [
        "def return_type_list(dictionary,t):\n",
        "    value_list = []\n",
        "    for key,value in dictionary.items():\n",
        "        if (t in value):\n",
        "            value_list.append(key)\n",
        "    return value_list"
      ],
      "execution_count": 0,
      "outputs": []
    },
    {
      "cell_type": "code",
      "metadata": {
        "id": "CsaTcXAnMWUj",
        "colab_type": "code",
        "colab": {
          "base_uri": "https://localhost:8080/",
          "height": 35
        },
        "outputId": "c532e0dc-3f4e-4866-c3a5-a6a2a0f76843"
      },
      "source": [
        "print(return_type_list(number_dict,'Fibonnaci'))"
      ],
      "execution_count": 115,
      "outputs": [
        {
          "output_type": "stream",
          "text": [
            "[1, 2, 3, 5, 8, 13, 21, 34, 55, 89]\n"
          ],
          "name": "stdout"
        }
      ]
    },
    {
      "cell_type": "code",
      "metadata": {
        "id": "FM-dQR8hMdRc",
        "colab_type": "code",
        "colab": {
          "base_uri": "https://localhost:8080/",
          "height": 35
        },
        "outputId": "6368fa9c-6779-4d90-8bb8-878686ce2b85"
      },
      "source": [
        "print(return_type_list(number_dict,'Prime'))"
      ],
      "execution_count": 116,
      "outputs": [
        {
          "output_type": "stream",
          "text": [
            "[2, 3, 5, 7, 11, 13, 17, 19, 23, 29, 31, 37, 41, 43, 47, 53, 59, 61, 67, 71, 73, 79, 83, 89, 97]\n"
          ],
          "name": "stdout"
        }
      ]
    },
    {
      "cell_type": "code",
      "metadata": {
        "id": "Lqafs24qMmr9",
        "colab_type": "code",
        "colab": {
          "base_uri": "https://localhost:8080/",
          "height": 35
        },
        "outputId": "8723d6f2-75ec-434b-a9a4-66cd44fbe7d0"
      },
      "source": [
        "print(return_type_list(number_dict,'Square'))"
      ],
      "execution_count": 117,
      "outputs": [
        {
          "output_type": "stream",
          "text": [
            "[1, 4, 9, 16, 25, 36, 49, 64, 81, 100]\n"
          ],
          "name": "stdout"
        }
      ]
    },
    {
      "cell_type": "markdown",
      "metadata": {
        "id": "4-zqdrtiN4ur",
        "colab_type": "text"
      },
      "source": [
        "**Statement 5**"
      ]
    },
    {
      "cell_type": "code",
      "metadata": {
        "id": "cFXPbRjPNDq9",
        "colab_type": "code",
        "colab": {}
      },
      "source": [
        "data_text = \"Data science is an inter-disciplinary field that uses scientific methods, processes, algorithms and systems to extract knowledge and insights from structured and unstructured data. Data science is related to data mining and big data. Data science is a \\\"concept to unify statistics, data analysis, machine learning and their related methods\\\" in order to \\\"understand and analyze actual phenomena\\\" with data. It employs techniques and theories drawn from many fields within the context of mathematics, statistics, computer science, and information science. Turing award winner Jim Gray imagined data science as a \\\"fourth paradigm\\\" of science (empirical, theoretical, computational and now data-driven) and asserted that \\\"everything about science is changing because of the impact of information technology\\\" and the data deluge. In 2015, the American Statistical Association identified database management, statistics and machine learning, and distributed and parallel systems as the three emerging foundational professional communities.\""
      ],
      "execution_count": 0,
      "outputs": []
    },
    {
      "cell_type": "code",
      "metadata": {
        "id": "AXc72Mm2Po4f",
        "colab_type": "code",
        "colab": {}
      },
      "source": [
        "def encoding_function(a):\n",
        "    return ((2*a) + 3)"
      ],
      "execution_count": 0,
      "outputs": []
    },
    {
      "cell_type": "code",
      "metadata": {
        "id": "pV-A7Z7xPN8z",
        "colab_type": "code",
        "colab": {}
      },
      "source": [
        "with open(\"encoded_file.txt\",\"w\") as f:\n",
        "    for c in data_text:\n",
        "        f.write(str(encoding_function(ord(c)))+\" \")"
      ],
      "execution_count": 0,
      "outputs": []
    },
    {
      "cell_type": "code",
      "metadata": {
        "id": "BCBNAz2lR2yL",
        "colab_type": "code",
        "colab": {
          "base_uri": "https://localhost:8080/",
          "height": 35
        },
        "outputId": "1d39ca6a-95b3-4bfe-ae8f-4e6e4904915b"
      },
      "source": [
        "i = 0 \n",
        "for c in data_text:\n",
        "    i = i + 1\n",
        "print(i)"
      ],
      "execution_count": 139,
      "outputs": [
        {
          "output_type": "stream",
          "text": [
            "1033\n"
          ],
          "name": "stdout"
        }
      ]
    },
    {
      "cell_type": "code",
      "metadata": {
        "id": "zIRIlxF3QCzC",
        "colab_type": "code",
        "colab": {}
      },
      "source": [
        "with open(\"encoded_file.txt\",\"r\") as f:\n",
        "    line = f.readline()"
      ],
      "execution_count": 0,
      "outputs": []
    },
    {
      "cell_type": "code",
      "metadata": {
        "id": "2Kr4gK62Rxnt",
        "colab_type": "code",
        "colab": {
          "base_uri": "https://localhost:8080/",
          "height": 35
        },
        "outputId": "1ebfa379-86fa-42ec-f0d8-09e7f9690743"
      },
      "source": [
        "len(line)"
      ],
      "execution_count": 138,
      "outputs": [
        {
          "output_type": "execute_result",
          "data": {
            "text/plain": [
              "3958"
            ]
          },
          "metadata": {
            "tags": []
          },
          "execution_count": 138
        }
      ]
    },
    {
      "cell_type": "code",
      "metadata": {
        "id": "avQTv_GmT6-m",
        "colab_type": "code",
        "colab": {
          "base_uri": "https://localhost:8080/",
          "height": 55
        },
        "outputId": "33b479a8-4711-422b-ca3b-2691928d2f2d"
      },
      "source": [
        "line.replace('.','')"
      ],
      "execution_count": 161,
      "outputs": [
        {
          "output_type": "execute_result",
          "data": {
            "text/plain": [
              "'139 197 235 197 67 233 201 213 205 223 201 205 67 213 233 67 197 223 67 213 223 235 205 231 93 203 213 233 201 213 227 219 213 223 197 231 245 67 207 213 205 219 203 67 235 211 197 235 67 237 233 205 233 67 233 201 213 205 223 235 213 207 213 201 67 221 205 235 211 225 203 233 91 67 227 231 225 201 205 233 233 205 233 91 67 197 219 209 225 231 213 235 211 221 233 67 197 223 203 67 233 245 233 235 205 221 233 67 235 225 67 205 243 235 231 197 201 235 67 217 223 225 241 219 205 203 209 205 67 197 223 203 67 213 223 233 213 209 211 235 233 67 207 231 225 221 67 233 235 231 237 201 235 237 231 205 203 67 197 223 203 67 237 223 233 235 231 237 201 235 237 231 205 203 67 203 197 235 197 95 67 139 197 235 197 67 233 201 213 205 223 201 205 67 213 233 67 231 205 219 197 235 205 203 67 235 225 67 203 197 235 197 67 221 213 223 213 223 209 67 197 223 203 67 199 213 209 67 203 197 235 197 95 67 139 197 235 197 67 233 201 213 205 223 201 205 67 213 233 67 197 67 71 201 225 223 201 205 227 235 67 235 225 67 237 223 213 207 245 67 233 235 197 235 213 233 235 213 201 233 91 67 203 197 235 197 67 197 223 197 219 245 233 213 233 91 67 221 197 201 211 213 223 205 67 219 205 197 231 223 213 223 209 67 197 223 203 67 235 211 205 213 231 67 231 205 219 197 235 205 203 67 221 205 235 211 225 203 233 71 67 213 223 67 225 231 203 205 231 67 235 225 67 71 237 223 203 205 231 233 235 197 223 203 67 197 223 203 67 197 223 197 219 245 247 205 67 197 201 235 237 197 219 67 227 211 205 223 225 221 205 223 197 71 67 241 213 235 211 67 203 197 235 197 95 67 149 235 67 205 221 227 219 225 245 233 67 235 205 201 211 223 213 229 237 205 233 67 197 223 203 67 235 211 205 225 231 213 205 233 67 203 231 197 241 223 67 207 231 225 221 67 221 197 223 245 67 207 213 205 219 203 233 67 241 213 235 211 213 223 67 235 211 205 67 201 225 223 235 205 243 235 67 225 207 67 221 197 235 211 205 221 197 235 213 201 233 91 67 233 235 197 235 213 233 235 213 201 233 91 67 201 225 221 227 237 235 205 231 67 233 201 213 205 223 201 205 91 67 197 223 203 67 213 223 207 225 231 221 197 235 213 225 223 67 233 201 213 205 223 201 205 95 67 171 237 231 213 223 209 67 197 241 197 231 203 67 241 213 223 223 205 231 67 151 213 221 67 145 231 197 245 67 213 221 197 209 213 223 205 203 67 203 197 235 197 67 233 201 213 205 223 201 205 67 197 233 67 197 67 71 207 225 237 231 235 211 67 227 197 231 197 203 213 209 221 71 67 225 207 67 233 201 213 205 223 201 205 67 83 205 221 227 213 231 213 201 197 219 91 67 235 211 205 225 231 205 235 213 201 197 219 91 67 201 225 221 227 237 235 197 235 213 225 223 197 219 67 197 223 203 67 223 225 241 67 203 197 235 197 93 203 231 213 239 205 223 85 67 197 223 203 67 197 233 233 205 231 235 205 203 67 235 211 197 235 67 71 205 239 205 231 245 235 211 213 223 209 67 197 199 225 237 235 67 233 201 213 205 223 201 205 67 213 233 67 201 211 197 223 209 213 223 209 67 199 205 201 197 237 233 205 67 225 207 67 235 211 205 67 213 221 227 197 201 235 67 225 207 67 213 223 207 225 231 221 197 235 213 225 223 67 235 205 201 211 223 225 219 225 209 245 71 67 197 223 203 67 235 211 205 67 203 197 235 197 67 203 205 219 237 209 205 95 67 149 223 67 103 99 101 109 91 67 235 211 205 67 133 221 205 231 213 201 197 223 67 169 235 197 235 213 233 235 213 201 197 219 67 133 233 233 225 201 213 197 235 213 225 223 67 213 203 205 223 235 213 207 213 205 203 67 203 197 235 197 199 197 233 205 67 221 197 223 197 209 205 221 205 223 235 91 67 233 235 197 235 213 233 235 213 201 233 67 197 223 203 67 221 197 201 211 213 223 205 67 219 205 197 231 223 213 223 209 91 67 197 223 203 67 203 213 233 235 231 213 199 237 235 205 203 67 197 223 203 67 227 197 231 197 219 219 205 219 67 233 245 233 235 205 221 233 67 197 233 67 235 211 205 67 235 211 231 205 205 67 205 221 205 231 209 213 223 209 67 207 225 237 223 203 197 235 213 225 223 197 219 67 227 231 225 207 205 233 233 213 225 223 197 219 67 201 225 221 221 237 223 213 235 213 205 233 95 '"
            ]
          },
          "metadata": {
            "tags": []
          },
          "execution_count": 161
        }
      ]
    },
    {
      "cell_type": "code",
      "metadata": {
        "id": "1QIIONpqSJuS",
        "colab_type": "code",
        "colab": {}
      },
      "source": [
        "line_words = line.split(\" \")"
      ],
      "execution_count": 0,
      "outputs": []
    },
    {
      "cell_type": "code",
      "metadata": {
        "id": "nawWuYchQ_LK",
        "colab_type": "code",
        "colab": {
          "base_uri": "https://localhost:8080/",
          "height": 35
        },
        "outputId": "17c60b77-51a5-4b11-a290-25b62411478d"
      },
      "source": [
        "line_words.pop()"
      ],
      "execution_count": 164,
      "outputs": [
        {
          "output_type": "execute_result",
          "data": {
            "text/plain": [
              "''"
            ]
          },
          "metadata": {
            "tags": []
          },
          "execution_count": 164
        }
      ]
    },
    {
      "cell_type": "code",
      "metadata": {
        "id": "72X7mUnhUaaD",
        "colab_type": "code",
        "colab": {}
      },
      "source": [
        "def decoding_function(a):\n",
        "    a = int(a)\n",
        "    return (a - 3)/2"
      ],
      "execution_count": 0,
      "outputs": []
    },
    {
      "cell_type": "code",
      "metadata": {
        "id": "H6mRm_CoUkqP",
        "colab_type": "code",
        "colab": {}
      },
      "source": [
        "result = \"\"\n",
        "for data in line_words:\n",
        "    value = int(decoding_function(data))\n",
        "    result += chr(value)"
      ],
      "execution_count": 0,
      "outputs": []
    },
    {
      "cell_type": "code",
      "metadata": {
        "id": "OkOfqT2ZUyqT",
        "colab_type": "code",
        "colab": {
          "base_uri": "https://localhost:8080/",
          "height": 55
        },
        "outputId": "3440a109-893d-48b5-a896-2d9ba397e364"
      },
      "source": [
        "print(result)"
      ],
      "execution_count": 170,
      "outputs": [
        {
          "output_type": "stream",
          "text": [
            "Data science is an inter-disciplinary field that uses scientific methods, processes, algorithms and systems to extract knowledge and insights from structured and unstructured data. Data science is related to data mining and big data. Data science is a \"concept to unify statistics, data analysis, machine learning and their related methods\" in order to \"understand and analyze actual phenomena\" with data. It employs techniques and theories drawn from many fields within the context of mathematics, statistics, computer science, and information science. Turing award winner Jim Gray imagined data science as a \"fourth paradigm\" of science (empirical, theoretical, computational and now data-driven) and asserted that \"everything about science is changing because of the impact of information technology\" and the data deluge. In 2015, the American Statistical Association identified database management, statistics and machine learning, and distributed and parallel systems as the three emerging foundational professional communities.\n"
          ],
          "name": "stdout"
        }
      ]
    },
    {
      "cell_type": "code",
      "metadata": {
        "id": "-Vs0sW4DU7kz",
        "colab_type": "code",
        "colab": {
          "base_uri": "https://localhost:8080/",
          "height": 35
        },
        "outputId": "82222888-da3c-4cc8-a058-3f7d785bbfe3"
      },
      "source": [
        "result == data_text"
      ],
      "execution_count": 171,
      "outputs": [
        {
          "output_type": "execute_result",
          "data": {
            "text/plain": [
              "True"
            ]
          },
          "metadata": {
            "tags": []
          },
          "execution_count": 171
        }
      ]
    },
    {
      "cell_type": "markdown",
      "metadata": {
        "id": "74e43KYEVe0I",
        "colab_type": "text"
      },
      "source": [
        "**Statement 6**"
      ]
    },
    {
      "cell_type": "code",
      "metadata": {
        "id": "WRFnbJQcVAU7",
        "colab_type": "code",
        "colab": {}
      },
      "source": [
        "new_data_text = \"Data science is an inter-disciplinary field that uses scientific methods processes algorithms and systems to extract knowledge and insights from structured and unstructured data Data science is related to data mining and big data. Data science is a concept to unify statistics data analysis machine learning and their related methods in order to understand and analyze actual phenomena with data It employs techniques and theories drawn from many fields within the context of mathematics statistics computer science and information science Turing award winner Jim Gray imagined data science as a fourth paradigm of science empirical theoretical computational and now data driven and asserted that everything about science is changing because of the impact of information technology and the data deluge In 2015 the American Statistical Association identified database management statistics and machine learning and distributed and parallel systems as the three emerging foundational professional communities\""
      ],
      "execution_count": 0,
      "outputs": []
    },
    {
      "cell_type": "code",
      "metadata": {
        "id": "7VITn0zvVsPM",
        "colab_type": "code",
        "colab": {}
      },
      "source": [
        "new_data_words = new_data_text.split(\" \")"
      ],
      "execution_count": 0,
      "outputs": []
    },
    {
      "cell_type": "code",
      "metadata": {
        "id": "Ez0A5nEFVxOE",
        "colab_type": "code",
        "colab": {}
      },
      "source": [
        "with open(\"File_1.txt\",\"w\") as f:\n",
        "    i = 0\n",
        "    while i < len(new_data_words):\n",
        "        string = \"\"\n",
        "        for item in new_data_words[i:i+10]:\n",
        "            string += item+\" \"\n",
        "        f.write(string)\n",
        "        f.write(\"\\n\")\n",
        "        i = i + 10"
      ],
      "execution_count": 0,
      "outputs": []
    },
    {
      "cell_type": "code",
      "metadata": {
        "id": "ha_W_KN1WZAM",
        "colab_type": "code",
        "colab": {}
      },
      "source": [
        ""
      ],
      "execution_count": 0,
      "outputs": []
    }
  ]
}
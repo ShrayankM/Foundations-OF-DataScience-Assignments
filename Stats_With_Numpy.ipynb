{
  "nbformat": 4,
  "nbformat_minor": 0,
  "metadata": {
    "colab": {
      "name": "Stats_With_Numpy.ipynb",
      "provenance": [],
      "authorship_tag": "ABX9TyN6TxcB4E3V10hSfHKGO6eG",
      "include_colab_link": true
    },
    "kernelspec": {
      "name": "python3",
      "display_name": "Python 3"
    }
  },
  "cells": [
    {
      "cell_type": "markdown",
      "metadata": {
        "id": "view-in-github",
        "colab_type": "text"
      },
      "source": [
        "<a href=\"https://colab.research.google.com/github/ShrayankM/FoundationsOFDataScience/blob/master/Stats_With_Numpy.ipynb\" target=\"_parent\"><img src=\"https://colab.research.google.com/assets/colab-badge.svg\" alt=\"Open In Colab\"/></a>"
      ]
    },
    {
      "cell_type": "markdown",
      "metadata": {
        "id": "X4Qhd3scOodX",
        "colab_type": "text"
      },
      "source": [
        "#Statistics"
      ]
    },
    {
      "cell_type": "code",
      "metadata": {
        "id": "bVmJDFZ-OaE3",
        "colab_type": "code",
        "colab": {}
      },
      "source": [
        "import numpy as np"
      ],
      "execution_count": 0,
      "outputs": []
    },
    {
      "cell_type": "code",
      "metadata": {
        "id": "sVSure2mOqU1",
        "colab_type": "code",
        "colab": {}
      },
      "source": [
        "arr = np.random.rand(100000)"
      ],
      "execution_count": 0,
      "outputs": []
    },
    {
      "cell_type": "code",
      "metadata": {
        "id": "RHusD-U-O383",
        "colab_type": "code",
        "outputId": "29262fb3-b3f1-4b3d-c6c9-643863f7899a",
        "colab": {
          "base_uri": "https://localhost:8080/",
          "height": 54
        }
      },
      "source": [
        "arr"
      ],
      "execution_count": 0,
      "outputs": [
        {
          "output_type": "execute_result",
          "data": {
            "text/plain": [
              "array([0.85858294, 0.94594466, 0.77792467, ..., 0.47175924, 0.11552997,\n",
              "       0.16489758])"
            ]
          },
          "metadata": {
            "tags": []
          },
          "execution_count": 23
        }
      ]
    },
    {
      "cell_type": "code",
      "metadata": {
        "id": "0o5WE8YVO45g",
        "colab_type": "code",
        "outputId": "eafae485-940f-4bca-da05-bf37ab259c2c",
        "colab": {
          "base_uri": "https://localhost:8080/",
          "height": 35
        }
      },
      "source": [
        "np.amin(arr)"
      ],
      "execution_count": 0,
      "outputs": [
        {
          "output_type": "execute_result",
          "data": {
            "text/plain": [
              "7.306564619558031e-06"
            ]
          },
          "metadata": {
            "tags": []
          },
          "execution_count": 24
        }
      ]
    },
    {
      "cell_type": "code",
      "metadata": {
        "id": "KucW9bTSPBfU",
        "colab_type": "code",
        "outputId": "6bfd5375-9a6d-4a11-8afc-b5fb85953650",
        "colab": {
          "base_uri": "https://localhost:8080/",
          "height": 35
        }
      },
      "source": [
        "np.amax(arr)"
      ],
      "execution_count": 0,
      "outputs": [
        {
          "output_type": "execute_result",
          "data": {
            "text/plain": [
              "0.999989835278102"
            ]
          },
          "metadata": {
            "tags": []
          },
          "execution_count": 25
        }
      ]
    },
    {
      "cell_type": "code",
      "metadata": {
        "id": "C3zBkOpSPIPu",
        "colab_type": "code",
        "outputId": "53043953-8d94-45e3-f5db-a3a494c2f56b",
        "colab": {
          "base_uri": "https://localhost:8080/",
          "height": 35
        }
      },
      "source": [
        "np.mean(arr)"
      ],
      "execution_count": 0,
      "outputs": [
        {
          "output_type": "execute_result",
          "data": {
            "text/plain": [
              "0.499657286419829"
            ]
          },
          "metadata": {
            "tags": []
          },
          "execution_count": 26
        }
      ]
    },
    {
      "cell_type": "code",
      "metadata": {
        "id": "TrtSCjj6PK2A",
        "colab_type": "code",
        "outputId": "15df7e4b-fc61-4951-ce33-8e6b4405e21a",
        "colab": {
          "base_uri": "https://localhost:8080/",
          "height": 35
        }
      },
      "source": [
        "np.var(arr)"
      ],
      "execution_count": 0,
      "outputs": [
        {
          "output_type": "execute_result",
          "data": {
            "text/plain": [
              "0.08341731899350112"
            ]
          },
          "metadata": {
            "tags": []
          },
          "execution_count": 27
        }
      ]
    },
    {
      "cell_type": "code",
      "metadata": {
        "id": "eKzsN39CPQH_",
        "colab_type": "code",
        "outputId": "57530668-2088-4863-91db-5f0bea047725",
        "colab": {
          "base_uri": "https://localhost:8080/",
          "height": 35
        }
      },
      "source": [
        "np.std(arr)"
      ],
      "execution_count": 0,
      "outputs": [
        {
          "output_type": "execute_result",
          "data": {
            "text/plain": [
              "0.28882056539225376"
            ]
          },
          "metadata": {
            "tags": []
          },
          "execution_count": 28
        }
      ]
    },
    {
      "cell_type": "code",
      "metadata": {
        "id": "OIIwFVthPRsy",
        "colab_type": "code",
        "outputId": "90db26d5-ee62-42bf-bfa8-09f3b4a677bc",
        "colab": {
          "base_uri": "https://localhost:8080/",
          "height": 35
        }
      },
      "source": [
        "np.median(arr)"
      ],
      "execution_count": 0,
      "outputs": [
        {
          "output_type": "execute_result",
          "data": {
            "text/plain": [
              "0.4991594735310446"
            ]
          },
          "metadata": {
            "tags": []
          },
          "execution_count": 29
        }
      ]
    },
    {
      "cell_type": "code",
      "metadata": {
        "id": "s1qJmK5APVdf",
        "colab_type": "code",
        "outputId": "a5ecd8ff-8aa4-4e63-ab34-6a8f327e52aa",
        "colab": {
          "base_uri": "https://localhost:8080/",
          "height": 35
        }
      },
      "source": [
        "np.percentile(arr,50)"
      ],
      "execution_count": 0,
      "outputs": [
        {
          "output_type": "execute_result",
          "data": {
            "text/plain": [
              "0.4991594735310446"
            ]
          },
          "metadata": {
            "tags": []
          },
          "execution_count": 30
        }
      ]
    },
    {
      "cell_type": "code",
      "metadata": {
        "id": "snfHLMyfPY1t",
        "colab_type": "code",
        "outputId": "79db6379-81f4-4f60-8c2a-3ecb3180fc12",
        "colab": {
          "base_uri": "https://localhost:8080/",
          "height": 35
        }
      },
      "source": [
        "np.percentile(arr,25)"
      ],
      "execution_count": 0,
      "outputs": [
        {
          "output_type": "execute_result",
          "data": {
            "text/plain": [
              "0.248890494387795"
            ]
          },
          "metadata": {
            "tags": []
          },
          "execution_count": 31
        }
      ]
    },
    {
      "cell_type": "code",
      "metadata": {
        "id": "AdFhm5gSPb1l",
        "colab_type": "code",
        "outputId": "24a17256-f1a5-45b4-b4f0-67ffc1f7c9c0",
        "colab": {
          "base_uri": "https://localhost:8080/",
          "height": 35
        }
      },
      "source": [
        "np.percentile(arr,75)"
      ],
      "execution_count": 0,
      "outputs": [
        {
          "output_type": "execute_result",
          "data": {
            "text/plain": [
              "0.7508810644152806"
            ]
          },
          "metadata": {
            "tags": []
          },
          "execution_count": 32
        }
      ]
    },
    {
      "cell_type": "code",
      "metadata": {
        "id": "iS_EqDTcPe07",
        "colab_type": "code",
        "outputId": "85edff65-874d-4971-cf60-00fc88d3b2b0",
        "colab": {
          "base_uri": "https://localhost:8080/",
          "height": 72
        }
      },
      "source": [
        "%%time\n",
        "iqr = np.percentile(arr,75) - np.percentile(arr,25)\n",
        "print(iqr)"
      ],
      "execution_count": 0,
      "outputs": [
        {
          "output_type": "stream",
          "text": [
            "0.5019905700274856\n",
            "CPU times: user 2.64 ms, sys: 2.89 ms, total: 5.53 ms\n",
            "Wall time: 8.59 ms\n"
          ],
          "name": "stdout"
        }
      ]
    },
    {
      "cell_type": "code",
      "metadata": {
        "id": "NZMriPgZPwJK",
        "colab_type": "code",
        "outputId": "0bc684bc-2bef-4386-b433-48ceda36f20c",
        "colab": {
          "base_uri": "https://localhost:8080/",
          "height": 72
        }
      },
      "source": [
        "%%time\n",
        "quartiles = np.percentile(arr,[25,75])\n",
        "iqr = quartiles[1] - quartiles[0]\n",
        "print(iqr)"
      ],
      "execution_count": 0,
      "outputs": [
        {
          "output_type": "stream",
          "text": [
            "0.5019905700274856\n",
            "CPU times: user 3.76 ms, sys: 0 ns, total: 3.76 ms\n",
            "Wall time: 4.69 ms\n"
          ],
          "name": "stdout"
        }
      ]
    },
    {
      "cell_type": "code",
      "metadata": {
        "id": "lArdOWcEQBbh",
        "colab_type": "code",
        "outputId": "017b3f15-47b2-4b97-9155-9ee6946e56f9",
        "colab": {
          "base_uri": "https://localhost:8080/",
          "height": 54
        }
      },
      "source": [
        "(arr - np.mean(arr))/np.std(arr)"
      ],
      "execution_count": 0,
      "outputs": [
        {
          "output_type": "execute_result",
          "data": {
            "text/plain": [
              "array([ 1.24272886,  1.54520636,  0.96346112, ..., -0.09659301,\n",
              "       -1.32998602, -1.15905772])"
            ]
          },
          "metadata": {
            "tags": []
          },
          "execution_count": 35
        }
      ]
    },
    {
      "cell_type": "code",
      "metadata": {
        "id": "Lwm12Sn2Uk2F",
        "colab_type": "code",
        "outputId": "403da5f4-738e-4bf2-8767-444826489db3",
        "colab": {
          "base_uri": "https://localhost:8080/",
          "height": 108
        }
      },
      "source": [
        "np.histogram(arr) #first array gives frequency of points and second the bins"
      ],
      "execution_count": 0,
      "outputs": [
        {
          "output_type": "execute_result",
          "data": {
            "text/plain": [
              "(array([10044, 10053,  9930, 10035, 10027,  9931,  9918, 10066, 10071,\n",
              "         9925]),\n",
              " array([7.30656462e-06, 1.00005559e-01, 2.00003812e-01, 3.00002065e-01,\n",
              "        4.00000318e-01, 4.99998571e-01, 5.99996824e-01, 6.99995077e-01,\n",
              "        7.99993330e-01, 8.99991582e-01, 9.99989835e-01]))"
            ]
          },
          "metadata": {
            "tags": []
          },
          "execution_count": 37
        }
      ]
    },
    {
      "cell_type": "code",
      "metadata": {
        "id": "hph0YaLkUttE",
        "colab_type": "code",
        "outputId": "ed4b6ebb-d2b8-4d38-a838-6969d31d1662",
        "colab": {
          "base_uri": "https://localhost:8080/",
          "height": 72
        }
      },
      "source": [
        "np.histogram(arr,bins=5)"
      ],
      "execution_count": 0,
      "outputs": [
        {
          "output_type": "execute_result",
          "data": {
            "text/plain": [
              "(array([20097, 19965, 19958, 19984, 19996]),\n",
              " array([7.30656462e-06, 2.00003812e-01, 4.00000318e-01, 5.99996824e-01,\n",
              "        7.99993330e-01, 9.99989835e-01]))"
            ]
          },
          "metadata": {
            "tags": []
          },
          "execution_count": 39
        }
      ]
    },
    {
      "cell_type": "code",
      "metadata": {
        "id": "-Tn-kT56U7pR",
        "colab_type": "code",
        "outputId": "f35d31d8-8c34-43c2-c63e-d8618344b49b",
        "colab": {
          "base_uri": "https://localhost:8080/",
          "height": 35
        }
      },
      "source": [
        "np.histogram(arr,bins=[0.0,0.25,0.5,0.75,1.0]) #custom bins(4)"
      ],
      "execution_count": 0,
      "outputs": [
        {
          "output_type": "execute_result",
          "data": {
            "text/plain": [
              "(array([25096, 24993, 24831, 25080]), array([0.  , 0.25, 0.5 , 0.75, 1.  ]))"
            ]
          },
          "metadata": {
            "tags": []
          },
          "execution_count": 40
        }
      ]
    },
    {
      "cell_type": "code",
      "metadata": {
        "id": "5rkITuEKVLd-",
        "colab_type": "code",
        "colab": {}
      },
      "source": [
        "bins=[0.0,0.25,0.5,0.75,1.0]"
      ],
      "execution_count": 0,
      "outputs": []
    },
    {
      "cell_type": "code",
      "metadata": {
        "id": "5eNSYQf7Vdap",
        "colab_type": "code",
        "outputId": "7827d081-bcff-4492-d6aa-69c68c973b63",
        "colab": {
          "base_uri": "https://localhost:8080/",
          "height": 35
        }
      },
      "source": [
        "np.digitize(arr,bins) #mapping of points to their specific bins"
      ],
      "execution_count": 0,
      "outputs": [
        {
          "output_type": "execute_result",
          "data": {
            "text/plain": [
              "array([4, 4, 4, ..., 2, 1, 1])"
            ]
          },
          "metadata": {
            "tags": []
          },
          "execution_count": 43
        }
      ]
    },
    {
      "cell_type": "code",
      "metadata": {
        "id": "q1YSWpiVVfwT",
        "colab_type": "code",
        "colab": {}
      },
      "source": [
        "arr1 = np.random.randint(0,10,(10))"
      ],
      "execution_count": 0,
      "outputs": []
    },
    {
      "cell_type": "code",
      "metadata": {
        "id": "lkK8TTy2VsTD",
        "colab_type": "code",
        "outputId": "ac9a5f0d-b4e4-4d11-c222-8516d0b2a42f",
        "colab": {
          "base_uri": "https://localhost:8080/",
          "height": 35
        }
      },
      "source": [
        "arr1"
      ],
      "execution_count": 0,
      "outputs": [
        {
          "output_type": "execute_result",
          "data": {
            "text/plain": [
              "array([5, 9, 7, 9, 2, 5, 7, 7, 3, 3])"
            ]
          },
          "metadata": {
            "tags": []
          },
          "execution_count": 45
        }
      ]
    },
    {
      "cell_type": "code",
      "metadata": {
        "id": "nQCaKTBRVs_v",
        "colab_type": "code",
        "colab": {}
      },
      "source": [
        "bins = [0,6,10]"
      ],
      "execution_count": 0,
      "outputs": []
    },
    {
      "cell_type": "code",
      "metadata": {
        "id": "CScy_M2PV1Su",
        "colab_type": "code",
        "outputId": "15af4f49-4e11-4d77-af3c-fb27d6f6734d",
        "colab": {
          "base_uri": "https://localhost:8080/",
          "height": 35
        }
      },
      "source": [
        "np.digitize(arr1,bins)"
      ],
      "execution_count": 0,
      "outputs": [
        {
          "output_type": "execute_result",
          "data": {
            "text/plain": [
              "array([1, 2, 2, 2, 1, 1, 2, 2, 1, 1])"
            ]
          },
          "metadata": {
            "tags": []
          },
          "execution_count": 47
        }
      ]
    },
    {
      "cell_type": "code",
      "metadata": {
        "id": "CiDJBGnjV3ce",
        "colab_type": "code",
        "colab": {}
      },
      "source": [
        "arr1 = np.random.randint(50,80,100) #weight in kgs\n",
        "arr2 = np.random.randint(150,185,100) #height in cms\n",
        "arr3 = np.random.randint(17,22,100) #age in years"
      ],
      "execution_count": 0,
      "outputs": []
    },
    {
      "cell_type": "code",
      "metadata": {
        "id": "fcR3UjjnWLT3",
        "colab_type": "code",
        "outputId": "8a05c93b-226b-490c-bcf6-bbdb4fe26836",
        "colab": {
          "base_uri": "https://localhost:8080/",
          "height": 454
        }
      },
      "source": [
        "np.concatenate((arr1,arr2,arr3))"
      ],
      "execution_count": 0,
      "outputs": [
        {
          "output_type": "execute_result",
          "data": {
            "text/plain": [
              "array([ 57,  78,  61,  79,  57,  60,  70,  71,  56,  70,  58,  62,  71,\n",
              "        56,  65,  79,  51,  68,  67,  66,  72,  69,  56,  67,  67,  70,\n",
              "        67,  77,  54,  69,  76,  69,  66,  57,  53,  79,  74,  74,  62,\n",
              "        64,  51,  64,  66,  79,  74,  57,  55,  58,  70,  65,  77,  51,\n",
              "        67,  52,  62,  78,  75,  74,  73,  52,  51,  66,  59,  75,  63,\n",
              "        51,  74,  64,  74,  64,  55,  71,  65,  72,  62,  62,  65,  59,\n",
              "        76,  53,  52,  70,  75,  55,  69,  78,  75,  57,  67,  55,  78,\n",
              "        57,  69,  55,  74,  66,  52,  57,  62,  52, 164, 168, 153, 178,\n",
              "       174, 173, 180, 182, 183, 163, 165, 176, 158, 152, 156, 157, 156,\n",
              "       182, 182, 162, 170, 177, 173, 184, 173, 171, 164, 162, 154, 156,\n",
              "       171, 176, 181, 170, 150, 153, 180, 161, 184, 178, 155, 170, 157,\n",
              "       165, 158, 156, 174, 176, 158, 157, 159, 180, 158, 179, 162, 184,\n",
              "       183, 179, 178, 180, 163, 162, 166, 152, 155, 171, 161, 167, 178,\n",
              "       161, 169, 173, 179, 173, 183, 179, 150, 162, 166, 151, 166, 165,\n",
              "       182, 179, 156, 180, 163, 153, 168, 165, 154, 184, 170, 176, 162,\n",
              "       154, 152, 178, 160, 182,  19,  19,  20,  19,  17,  17,  20,  18,\n",
              "        21,  19,  17,  21,  20,  17,  21,  17,  20,  18,  19,  20,  17,\n",
              "        19,  17,  17,  21,  19,  17,  17,  18,  21,  19,  19,  21,  17,\n",
              "        18,  17,  18,  20,  18,  18,  19,  19,  19,  19,  17,  20,  19,\n",
              "        18,  20,  17,  20,  20,  20,  20,  21,  21,  21,  20,  17,  19,\n",
              "        19,  18,  20,  21,  20,  20,  19,  17,  19,  17,  20,  21,  19,\n",
              "        17,  20,  20,  19,  17,  21,  21,  21,  20,  18,  17,  17,  17,\n",
              "        20,  20,  17,  20,  21,  20,  20,  18,  21,  20,  20,  17,  18,\n",
              "        21])"
            ]
          },
          "metadata": {
            "tags": []
          },
          "execution_count": 52
        }
      ]
    },
    {
      "cell_type": "code",
      "metadata": {
        "id": "NwNwA0SBWzgC",
        "colab_type": "code",
        "outputId": "a1668374-7c18-4c22-8176-e96289ca1747",
        "colab": {
          "base_uri": "https://localhost:8080/",
          "height": 35
        }
      },
      "source": [
        "np.concatenate((arr1,arr2,arr3)).shape"
      ],
      "execution_count": 0,
      "outputs": [
        {
          "output_type": "execute_result",
          "data": {
            "text/plain": [
              "(300,)"
            ]
          },
          "metadata": {
            "tags": []
          },
          "execution_count": 53
        }
      ]
    },
    {
      "cell_type": "code",
      "metadata": {
        "id": "fmyMAHoAW4aY",
        "colab_type": "code",
        "outputId": "2fbca236-a759-4cf3-abdd-6b8da86768d2",
        "colab": {
          "base_uri": "https://localhost:8080/",
          "height": 454
        }
      },
      "source": [
        "np.vstack((arr1,arr2,arr3))"
      ],
      "execution_count": 0,
      "outputs": [
        {
          "output_type": "execute_result",
          "data": {
            "text/plain": [
              "array([[ 57,  78,  61,  79,  57,  60,  70,  71,  56,  70,  58,  62,  71,\n",
              "         56,  65,  79,  51,  68,  67,  66,  72,  69,  56,  67,  67,  70,\n",
              "         67,  77,  54,  69,  76,  69,  66,  57,  53,  79,  74,  74,  62,\n",
              "         64,  51,  64,  66,  79,  74,  57,  55,  58,  70,  65,  77,  51,\n",
              "         67,  52,  62,  78,  75,  74,  73,  52,  51,  66,  59,  75,  63,\n",
              "         51,  74,  64,  74,  64,  55,  71,  65,  72,  62,  62,  65,  59,\n",
              "         76,  53,  52,  70,  75,  55,  69,  78,  75,  57,  67,  55,  78,\n",
              "         57,  69,  55,  74,  66,  52,  57,  62,  52],\n",
              "       [164, 168, 153, 178, 174, 173, 180, 182, 183, 163, 165, 176, 158,\n",
              "        152, 156, 157, 156, 182, 182, 162, 170, 177, 173, 184, 173, 171,\n",
              "        164, 162, 154, 156, 171, 176, 181, 170, 150, 153, 180, 161, 184,\n",
              "        178, 155, 170, 157, 165, 158, 156, 174, 176, 158, 157, 159, 180,\n",
              "        158, 179, 162, 184, 183, 179, 178, 180, 163, 162, 166, 152, 155,\n",
              "        171, 161, 167, 178, 161, 169, 173, 179, 173, 183, 179, 150, 162,\n",
              "        166, 151, 166, 165, 182, 179, 156, 180, 163, 153, 168, 165, 154,\n",
              "        184, 170, 176, 162, 154, 152, 178, 160, 182],\n",
              "       [ 19,  19,  20,  19,  17,  17,  20,  18,  21,  19,  17,  21,  20,\n",
              "         17,  21,  17,  20,  18,  19,  20,  17,  19,  17,  17,  21,  19,\n",
              "         17,  17,  18,  21,  19,  19,  21,  17,  18,  17,  18,  20,  18,\n",
              "         18,  19,  19,  19,  19,  17,  20,  19,  18,  20,  17,  20,  20,\n",
              "         20,  20,  21,  21,  21,  20,  17,  19,  19,  18,  20,  21,  20,\n",
              "         20,  19,  17,  19,  17,  20,  21,  19,  17,  20,  20,  19,  17,\n",
              "         21,  21,  21,  20,  18,  17,  17,  17,  20,  20,  17,  20,  21,\n",
              "         20,  20,  18,  21,  20,  20,  17,  18,  21]])"
            ]
          },
          "metadata": {
            "tags": []
          },
          "execution_count": 54
        }
      ]
    },
    {
      "cell_type": "code",
      "metadata": {
        "id": "8pfOYPHHW8Do",
        "colab_type": "code",
        "outputId": "74489b08-44da-49b8-f8ab-f43b6d5c5f90",
        "colab": {
          "base_uri": "https://localhost:8080/",
          "height": 35
        }
      },
      "source": [
        "np.vstack((arr1,arr2,arr3)).shape"
      ],
      "execution_count": 0,
      "outputs": [
        {
          "output_type": "execute_result",
          "data": {
            "text/plain": [
              "(3, 100)"
            ]
          },
          "metadata": {
            "tags": []
          },
          "execution_count": 55
        }
      ]
    },
    {
      "cell_type": "code",
      "metadata": {
        "id": "LDKhuBxvW_n2",
        "colab_type": "code",
        "colab": {}
      },
      "source": [
        "arr2d = np.vstack((arr1,arr2,arr3))"
      ],
      "execution_count": 0,
      "outputs": []
    },
    {
      "cell_type": "code",
      "metadata": {
        "id": "exuUIHTpXKzW",
        "colab_type": "code",
        "outputId": "9434b5c5-271b-45bc-aca3-ce757fad58b0",
        "colab": {
          "base_uri": "https://localhost:8080/",
          "height": 35
        }
      },
      "source": [
        "np.amin(arr2d,axis=1)"
      ],
      "execution_count": 0,
      "outputs": [
        {
          "output_type": "execute_result",
          "data": {
            "text/plain": [
              "array([ 51, 150,  17])"
            ]
          },
          "metadata": {
            "tags": []
          },
          "execution_count": 59
        }
      ]
    },
    {
      "cell_type": "markdown",
      "metadata": {
        "id": "ART_6hzlYAkH",
        "colab_type": "text"
      },
      "source": [
        "#Mean Subracted array ha zero mean"
      ]
    },
    {
      "cell_type": "code",
      "metadata": {
        "id": "DHSVj_bAYAT0",
        "colab_type": "code",
        "colab": {}
      },
      "source": [
        "arr = np.random.rand(1000)\n",
        "mean = np.mean(arr)"
      ],
      "execution_count": 0,
      "outputs": []
    },
    {
      "cell_type": "code",
      "metadata": {
        "id": "pei3d2k9XMf8",
        "colab_type": "code",
        "outputId": "e6aed4cf-5050-43a4-d687-f5e20b94a7be",
        "colab": {
          "base_uri": "https://localhost:8080/",
          "height": 35
        }
      },
      "source": [
        "arr1 = arr - mean\n",
        "np.mean(arr1)"
      ],
      "execution_count": 0,
      "outputs": [
        {
          "output_type": "execute_result",
          "data": {
            "text/plain": [
              "-1.6431300764452316e-17"
            ]
          },
          "metadata": {
            "tags": []
          },
          "execution_count": 78
        }
      ]
    },
    {
      "cell_type": "code",
      "metadata": {
        "id": "ms5CgVuEYJUM",
        "colab_type": "code",
        "outputId": "6a8518cf-14ff-45f3-8237-318b7e171deb",
        "colab": {
          "base_uri": "https://localhost:8080/",
          "height": 290
        }
      },
      "source": [
        "for i in range(1,16):\n",
        "    arr1 = arr[0:i]\n",
        "    print(i,np.mean(arr1))"
      ],
      "execution_count": 0,
      "outputs": [
        {
          "output_type": "stream",
          "text": [
            "1 0.7780586082717963\n",
            "2 0.6297736842859395\n",
            "3 0.6885144056534257\n",
            "4 0.577407272209282\n",
            "5 0.4719359683858877\n",
            "6 0.5237228078459174\n",
            "7 0.5629158617682414\n",
            "8 0.522080295796073\n",
            "9 0.5285347542274893\n",
            "10 0.5593337734957107\n",
            "11 0.5114138698654592\n",
            "12 0.5336559908220244\n",
            "13 0.4971438017072144\n",
            "14 0.5044168232157908\n",
            "15 0.5004436982954555\n"
          ],
          "name": "stdout"
        }
      ]
    },
    {
      "cell_type": "code",
      "metadata": {
        "id": "iOIo7dxvZMVd",
        "colab_type": "code",
        "colab": {}
      },
      "source": [
        "means = np.cumsum(arr)/np.arange(1,1001)"
      ],
      "execution_count": 0,
      "outputs": []
    },
    {
      "cell_type": "code",
      "metadata": {
        "id": "Sp7r_ZOyZgxt",
        "colab_type": "code",
        "outputId": "9d9aab2d-aa7c-4b82-adc3-6060145696ad",
        "colab": {
          "base_uri": "https://localhost:8080/",
          "height": 72
        }
      },
      "source": [
        "means[1:16]"
      ],
      "execution_count": 0,
      "outputs": [
        {
          "output_type": "execute_result",
          "data": {
            "text/plain": [
              "array([0.62977368, 0.68851441, 0.57740727, 0.47193597, 0.52372281,\n",
              "       0.56291586, 0.5220803 , 0.52853475, 0.55933377, 0.51141387,\n",
              "       0.53365599, 0.4971438 , 0.50441682, 0.5004437 , 0.48361872])"
            ]
          },
          "metadata": {
            "tags": []
          },
          "execution_count": 88
        }
      ]
    },
    {
      "cell_type": "markdown",
      "metadata": {
        "id": "bc4QErtYaR31",
        "colab_type": "text"
      },
      "source": [
        "#Effect of outliers on mean and median"
      ]
    },
    {
      "cell_type": "code",
      "metadata": {
        "id": "HeG7phViZ5cg",
        "colab_type": "code",
        "colab": {}
      },
      "source": [
        "arr = np.random.randint(1,100,100)"
      ],
      "execution_count": 0,
      "outputs": []
    },
    {
      "cell_type": "code",
      "metadata": {
        "id": "buMLw2eqadZy",
        "colab_type": "code",
        "outputId": "34799dd0-d9b1-4355-97ca-bc1365ec788c",
        "colab": {
          "base_uri": "https://localhost:8080/",
          "height": 35
        }
      },
      "source": [
        "np.mean(arr)"
      ],
      "execution_count": 0,
      "outputs": [
        {
          "output_type": "execute_result",
          "data": {
            "text/plain": [
              "50.18"
            ]
          },
          "metadata": {
            "tags": []
          },
          "execution_count": 91
        }
      ]
    },
    {
      "cell_type": "code",
      "metadata": {
        "id": "oK2ceqNSaeAV",
        "colab_type": "code",
        "outputId": "7324edf4-89d3-4cbc-9f5d-1f4047e481eb",
        "colab": {
          "base_uri": "https://localhost:8080/",
          "height": 35
        }
      },
      "source": [
        "np.median(arr)"
      ],
      "execution_count": 0,
      "outputs": [
        {
          "output_type": "execute_result",
          "data": {
            "text/plain": [
              "49.5"
            ]
          },
          "metadata": {
            "tags": []
          },
          "execution_count": 92
        }
      ]
    },
    {
      "cell_type": "code",
      "metadata": {
        "id": "_UWDFmLmakJD",
        "colab_type": "code",
        "colab": {}
      },
      "source": [
        "arr = np.append(arr,[1000,2000])"
      ],
      "execution_count": 0,
      "outputs": []
    },
    {
      "cell_type": "code",
      "metadata": {
        "id": "uYCraRUcauAX",
        "colab_type": "code",
        "outputId": "54a42bed-a17d-45b9-ef53-437e53993733",
        "colab": {
          "base_uri": "https://localhost:8080/",
          "height": 35
        }
      },
      "source": [
        "np.mean(arr)"
      ],
      "execution_count": 0,
      "outputs": [
        {
          "output_type": "execute_result",
          "data": {
            "text/plain": [
              "78.6078431372549"
            ]
          },
          "metadata": {
            "tags": []
          },
          "execution_count": 94
        }
      ]
    },
    {
      "cell_type": "code",
      "metadata": {
        "id": "5eBkF5enavnX",
        "colab_type": "code",
        "outputId": "65c6570d-3c67-4beb-87e0-cb6d04735b5d",
        "colab": {
          "base_uri": "https://localhost:8080/",
          "height": 35
        }
      },
      "source": [
        "np.median(arr)"
      ],
      "execution_count": 0,
      "outputs": [
        {
          "output_type": "execute_result",
          "data": {
            "text/plain": [
              "51.0"
            ]
          },
          "metadata": {
            "tags": []
          },
          "execution_count": 95
        }
      ]
    },
    {
      "cell_type": "markdown",
      "metadata": {
        "id": "1SeKgqtPa6gC",
        "colab_type": "text"
      },
      "source": [
        "#Effect of Scaling arrays on mean and median"
      ]
    },
    {
      "cell_type": "code",
      "metadata": {
        "id": "tep029ZvaxfY",
        "colab_type": "code",
        "colab": {}
      },
      "source": [
        "arr = np.random.rand(100)"
      ],
      "execution_count": 0,
      "outputs": []
    },
    {
      "cell_type": "code",
      "metadata": {
        "id": "cBodyZZ_bIfZ",
        "colab_type": "code",
        "outputId": "b954abf7-8c27-4e56-e701-f1ec0d92e29c",
        "colab": {
          "base_uri": "https://localhost:8080/",
          "height": 35
        }
      },
      "source": [
        "np.mean(arr)"
      ],
      "execution_count": 0,
      "outputs": [
        {
          "output_type": "execute_result",
          "data": {
            "text/plain": [
              "0.4781674018405614"
            ]
          },
          "metadata": {
            "tags": []
          },
          "execution_count": 97
        }
      ]
    },
    {
      "cell_type": "code",
      "metadata": {
        "id": "ibqx18vRbJs9",
        "colab_type": "code",
        "outputId": "69a6935c-8946-401a-f536-96b1671c2b59",
        "colab": {
          "base_uri": "https://localhost:8080/",
          "height": 35
        }
      },
      "source": [
        "np.median(arr)"
      ],
      "execution_count": 0,
      "outputs": [
        {
          "output_type": "execute_result",
          "data": {
            "text/plain": [
              "0.48962072087263714"
            ]
          },
          "metadata": {
            "tags": []
          },
          "execution_count": 98
        }
      ]
    },
    {
      "cell_type": "code",
      "metadata": {
        "id": "AraNZcj0bKrs",
        "colab_type": "code",
        "colab": {}
      },
      "source": [
        "arr1 = 2.5 * arr + 0.65 "
      ],
      "execution_count": 0,
      "outputs": []
    },
    {
      "cell_type": "code",
      "metadata": {
        "id": "iAeufHOibSyX",
        "colab_type": "code",
        "outputId": "5ef2870a-3d14-4d64-c003-ceed17803fde",
        "colab": {
          "base_uri": "https://localhost:8080/",
          "height": 35
        }
      },
      "source": [
        "np.mean(arr1)"
      ],
      "execution_count": 0,
      "outputs": [
        {
          "output_type": "execute_result",
          "data": {
            "text/plain": [
              "1.8454185046014036"
            ]
          },
          "metadata": {
            "tags": []
          },
          "execution_count": 100
        }
      ]
    },
    {
      "cell_type": "code",
      "metadata": {
        "id": "jd6C-0UnbUm5",
        "colab_type": "code",
        "outputId": "05cf023b-f2fb-475e-9824-b86f54a00d43",
        "colab": {
          "base_uri": "https://localhost:8080/",
          "height": 35
        }
      },
      "source": [
        "np.median(arr1)"
      ],
      "execution_count": 0,
      "outputs": [
        {
          "output_type": "execute_result",
          "data": {
            "text/plain": [
              "1.8740518021815928"
            ]
          },
          "metadata": {
            "tags": []
          },
          "execution_count": 101
        }
      ]
    },
    {
      "cell_type": "code",
      "metadata": {
        "id": "F12EsubHbWYM",
        "colab_type": "code",
        "outputId": "766d6dc3-a203-44ee-b469-484d6014e529",
        "colab": {
          "base_uri": "https://localhost:8080/",
          "height": 35
        }
      },
      "source": [
        "print(np.mean(arr1), 2.5 * np.mean(arr) + 0.65)"
      ],
      "execution_count": 0,
      "outputs": [
        {
          "output_type": "stream",
          "text": [
            "1.8454185046014036 1.8454185046014033\n"
          ],
          "name": "stdout"
        }
      ]
    },
    {
      "cell_type": "code",
      "metadata": {
        "id": "r_pLAlrWbc0b",
        "colab_type": "code",
        "outputId": "8a17d094-cd80-48f7-aeed-c571bde6d620",
        "colab": {
          "base_uri": "https://localhost:8080/",
          "height": 35
        }
      },
      "source": [
        "print(np.median(arr1), 2.5 * np.median(arr) + 0.65)"
      ],
      "execution_count": 0,
      "outputs": [
        {
          "output_type": "stream",
          "text": [
            "1.8740518021815928 1.8740518021815928\n"
          ],
          "name": "stdout"
        }
      ]
    },
    {
      "cell_type": "code",
      "metadata": {
        "id": "fbyD45Scb3oM",
        "colab_type": "code",
        "outputId": "427e25f7-9bba-413d-bbd8-4365b1c0595c",
        "colab": {
          "base_uri": "https://localhost:8080/",
          "height": 35
        }
      },
      "source": [
        "print(np.var(2.5 * arr + 0.65),2.5*2.5*np.var(arr))"
      ],
      "execution_count": 0,
      "outputs": [
        {
          "output_type": "stream",
          "text": [
            "0.483547941799492 0.4835479417994919\n"
          ],
          "name": "stdout"
        }
      ]
    },
    {
      "cell_type": "code",
      "metadata": {
        "id": "z6sIZfSscBCf",
        "colab_type": "code",
        "outputId": "504ca07f-63e3-41f5-a438-3362174f61ad",
        "colab": {
          "base_uri": "https://localhost:8080/",
          "height": 35
        }
      },
      "source": [
        "print(np.std(2.5 * arr + 0.65),2.5*np.std(arr))"
      ],
      "execution_count": 0,
      "outputs": [
        {
          "output_type": "stream",
          "text": [
            "0.6953761153501693 0.6953761153501693\n"
          ],
          "name": "stdout"
        }
      ]
    },
    {
      "cell_type": "code",
      "metadata": {
        "id": "U-j3p0dMcNl4",
        "colab_type": "code",
        "colab": {}
      },
      "source": [
        ""
      ],
      "execution_count": 0,
      "outputs": []
    }
  ]
}